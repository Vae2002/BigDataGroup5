{
 "cells": [
  {
   "cell_type": "markdown",
   "metadata": {},
   "source": [
    "# Erste Notizen\n",
    "- *Das Ziel ist es Heute eine ETL/ELT Pipeline aufzubauen, inklusive Data Wrangling und Data Cleaning.*\n",
    "## Mindestanforderung \n",
    "- Zu erst eine Fragestellung finden \n",
    "\t- Thema: Themen wie Recommendation system, sale forecasting model, customer segmentation - behavior analysis usw. Eine Beispielfrage könnte z.B.\n",
    "- Die daten sind zu groß zu entscheiden wie viele und welche und Warum wie die daten nehmen also (Umgehen mit daten ) -> Auswirkungen auf unser betriebswirtschaftliche um korrekt zu beantworten\n",
    "- EDA machen? Mit Spark, oder Pandas? Was sind die Auswirkungen dieser Entscheidung? Was genau wollt Ihr wie und warum genauer anschauen? paar pandas Befehle\n",
    "- Wie sieht es mit den Kategorien aus? Welche gibt es, wie sind sie angeordnet, sind sie für alle Daten (bzw Fragestellungen) vorhanden? *nicht verstanden*\n",
    "- Muss für irgendwelche Attribute Feature Engineering gemacht werden? (neue Spalten hinzugefügt, existierende gesplittet, berechnete Werte hinzugefügt etc)\n",
    "- gibt es Duplikate? Wenn ja, wie wollt Ihr damit umgehen?\n",
    "- gibt es Produkte ohne Preis, bzw mit einem \"illegalen\" Preis? Und wenn ja, \n",
    "\t- gibt es einen Zusammenhang zwischen den Preisen und den Events (den Aktionen, die die Kunden mit diesen Preisen gemacht haben)\n",
    "\t- wie entwickelt sich der Preis von Produkten mit \"illegalem\" Preis im Laufe der Zeit?\n",
    "- gibt es Zusammenhang zwischen Events und Wochentagen, oder bestimmten Tageszeiten?\n",
    "- Was ist die Verteilung der Brands (z.B. abhängig vom Preis)\n",
    "- Was ist die Verteilung der Events - potentiell verteilt über mehrere Sessions, aber für den gleichen User?\n",
    "- Was ist die total revenue (abhängig von z.B. Brand)\n",
    "*Wir können gerne Data-Wrangling und Data-Cleaning Links von der VOL nehemen das sind beispielhaften*\n",
    "\n",
    "- Nach dieser EDA solltet Ihr in der Lage sein die betriebswirtschaftlichen Fragestellungen zu verfeinern, und ein Datenkonzept, und die damit verbundene ETL oder ELT Architektur zu entwerfen.\n",
    "- Die keggel daten sind klein wie wäre es in jahr oder mehr\n",
    "## Teil 2: Data Observability\n",
    "- Unser Aufgabe ist es, den Ansatz der Data Observability auf die Daten oben anzuwenden.\n",
    "- Welche Aspekte der Data Observability relevant sind, hängt natürlich von Eurer betriebswirtschaftlichen Fragestellung ab.\n",
    "\t- Die Mindestanforderungen sind, dass Ihr:\n",
    "\t\t1. Schema Changes entdeckt, und\n",
    "\t\t2. auffällige NULL-rates entdecken und anzeigen könnt\n",
    "Das Ziel ist es, dies mit Hilfe von Pyspark auf Delta-Lake zu implementieren.\n",
    "\n",
    "## Das Endergebnis:\n",
    "Am Ende sollte herauskommen:\n",
    "1. eine oder mehrere klar definierte und formulierte betriebswirtschaftliche Fragestellungen\n",
    "2. eine Beschreibung der Ergebnisse der EDA und deren Auswirkungen auf die Fragestellungen\n",
    "3. Beschreibung der daraus entstehenden Architektur (ETL oder ELT, oder beides) inkl der dazu benötigten Technologien (min.IO, Spark, Delta-Lake, MongoDB, Redis, mySQL etc). Inkl einer KRITISCHEN Analyse der vorherigen Schritte\n",
    "4. Beschreibung der ETL/ELT Schritte um die Daten in das benötigte Format zu bringen\n",
    "5. Beschreibung der benötigten Datenstrukturen (welche Daten wie/wo abgelegt werden) inkl. Analyse der daraus entstehenden \"Kosten\" (Zeit, Speicherplatz, und $)\n",
    "6. gewählter Ansatz für Data-Observability\n",
    "7. Der für die vorherigen Schritte benötigte Code (das Anlegen und Verwalten der Strukturen soll natürlich programmatisch erledigt werden, nicht manuell)\n",
    "\n",
    "# Plan mit TV\n",
    "1. Frage Formulieren \n",
    "2. Daten Wahl (Menge)\n",
    "3. EDA (Spark & Pandas)\n",
    "4. Kategorien *?* \n",
    "5. Spalten\n",
    "6. Duplikaten (Lösung)\n",
    "7. Andere Fargen "
   ]
  }
 ],
 "metadata": {
  "language_info": {
   "name": "python"
  }
 },
 "nbformat": 4,
 "nbformat_minor": 2
}
