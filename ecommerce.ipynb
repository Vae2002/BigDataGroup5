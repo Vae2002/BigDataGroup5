{
 "cells": [
  {
   "cell_type": "markdown",
   "metadata": {},
   "source": [
    "# IMPORT LIBRARIES"
   ]
  },
  {
   "cell_type": "code",
   "execution_count": 13,
   "metadata": {},
   "outputs": [
    {
     "name": "stdout",
     "output_type": "stream",
     "text": [
      "Requirement already satisfied: Minio in c:\\users\\vae.tiolamon\\appdata\\local\\programs\\python\\python312\\lib\\site-packages (7.2.0)\n",
      "Requirement already satisfied: certifi in c:\\users\\vae.tiolamon\\appdata\\local\\programs\\python\\python312\\lib\\site-packages (from Minio) (2023.11.17)\n",
      "Requirement already satisfied: urllib3 in c:\\users\\vae.tiolamon\\appdata\\local\\programs\\python\\python312\\lib\\site-packages (from Minio) (2.1.0)\n",
      "Requirement already satisfied: argon2-cffi in c:\\users\\vae.tiolamon\\appdata\\local\\programs\\python\\python312\\lib\\site-packages (from Minio) (23.1.0)\n",
      "Requirement already satisfied: pycryptodome in c:\\users\\vae.tiolamon\\appdata\\local\\programs\\python\\python312\\lib\\site-packages (from Minio) (3.19.0)\n",
      "Requirement already satisfied: argon2-cffi-bindings in c:\\users\\vae.tiolamon\\appdata\\local\\programs\\python\\python312\\lib\\site-packages (from argon2-cffi->Minio) (21.2.0)\n",
      "Requirement already satisfied: cffi>=1.0.1 in c:\\users\\vae.tiolamon\\appdata\\local\\programs\\python\\python312\\lib\\site-packages (from argon2-cffi-bindings->argon2-cffi->Minio) (1.16.0)\n",
      "Requirement already satisfied: pycparser in c:\\users\\vae.tiolamon\\appdata\\local\\programs\\python\\python312\\lib\\site-packages (from cffi>=1.0.1->argon2-cffi-bindings->argon2-cffi->Minio) (2.21)\n",
      "Requirement already satisfied: delta-spark in c:\\users\\vae.tiolamon\\appdata\\local\\programs\\python\\python312\\lib\\site-packages (3.0.0)\n",
      "Requirement already satisfied: pyspark<3.6.0,>=3.5.0 in c:\\users\\vae.tiolamon\\appdata\\local\\programs\\python\\python312\\lib\\site-packages (from delta-spark) (3.5.0)\n",
      "Requirement already satisfied: importlib-metadata>=1.0.0 in c:\\users\\vae.tiolamon\\appdata\\local\\programs\\python\\python312\\lib\\site-packages (from delta-spark) (7.0.0)\n",
      "Requirement already satisfied: zipp>=0.5 in c:\\users\\vae.tiolamon\\appdata\\local\\programs\\python\\python312\\lib\\site-packages (from importlib-metadata>=1.0.0->delta-spark) (3.17.0)\n",
      "Requirement already satisfied: py4j==0.10.9.7 in c:\\users\\vae.tiolamon\\appdata\\local\\programs\\python\\python312\\lib\\site-packages (from pyspark<3.6.0,>=3.5.0->delta-spark) (0.10.9.7)\n"
     ]
    }
   ],
   "source": [
    "!pip install Minio\n",
    "!pip install delta-spark"
   ]
  },
  {
   "cell_type": "code",
   "execution_count": 14,
   "metadata": {},
   "outputs": [],
   "source": [
    "from minio import Minio\n",
    "from minio.error import S3Error\n",
    "import pandas as pd\n",
    "import matplotlib.pyplot as plt"
   ]
  },
  {
   "cell_type": "markdown",
   "metadata": {},
   "source": [
    "# LOAD BUCKET"
   ]
  },
  {
   "cell_type": "code",
   "execution_count": 15,
   "metadata": {},
   "outputs": [
    {
     "name": "stdout",
     "output_type": "stream",
     "text": [
      "blah\n",
      "climate-data\n",
      "ecommerce\n",
      "pythonminio\n",
      "File: 2019-Dec.csv\n",
      "File: 2019-Nov.csv\n",
      "File: 2020-Apr.csv\n",
      "File: 2020-Feb.csv\n",
      "File: 2020-Mar.csv\n"
     ]
    }
   ],
   "source": [
    "# Initialize MinIO client\n",
    "client = Minio('localhost:9000',\n",
    "                     access_key='minioadmin',\n",
    "                     secret_key='minioadmin',\n",
    "                     secure=False)  # Change to True if using HTTPS\n",
    "\n",
    "bucket_name = \"ecommerce\"\n",
    "\n",
    "# Example: List buckets\n",
    "try:\n",
    "    buckets = client.list_buckets()\n",
    "    for bucket in buckets:\n",
    "        print(bucket.name)\n",
    "except S3Error as e:\n",
    "    print(\"Error:\", e)\n",
    "\n",
    "try:\n",
    "    objects = client.list_objects(bucket_name)\n",
    "    for obj in objects:\n",
    "        if obj.object_name.endswith('/'):\n",
    "            print(\"Directory:\", obj.object_name)\n",
    "        else:\n",
    "            print(\"File:\", obj.object_name)\n",
    "except S3Error as e:\n",
    "    print(\"Error in listing objects:\", e)"
   ]
  },
  {
   "cell_type": "code",
   "execution_count": 42,
   "metadata": {},
   "outputs": [
    {
     "ename": "FileNotFoundError",
     "evalue": "[WinError 2] The system cannot find the file specified",
     "output_type": "error",
     "traceback": [
      "\u001b[1;31m---------------------------------------------------------------------------\u001b[0m",
      "\u001b[1;31mFileNotFoundError\u001b[0m                         Traceback (most recent call last)",
      "Cell \u001b[1;32mIn[42], line 23\u001b[0m\n\u001b[0;32m     10\u001b[0m     \u001b[38;5;28;01mpass\u001b[39;00m\n\u001b[0;32m     13\u001b[0m builder \u001b[38;5;241m=\u001b[39m SparkSession\u001b[38;5;241m.\u001b[39mbuilder\u001b[38;5;241m.\u001b[39mappName(\u001b[38;5;124m\"\u001b[39m\u001b[38;5;124mDelta With MinIO\u001b[39m\u001b[38;5;124m\"\u001b[39m) \\\n\u001b[0;32m     14\u001b[0m     \u001b[38;5;241m.\u001b[39mconfig(\u001b[38;5;124m\"\u001b[39m\u001b[38;5;124mspark.hadoop.fs.s3a.endpoint\u001b[39m\u001b[38;5;124m\"\u001b[39m, \u001b[38;5;124m\"\u001b[39m\u001b[38;5;124mhttp://minio:9000\u001b[39m\u001b[38;5;124m\"\u001b[39m) \\\n\u001b[0;32m     15\u001b[0m     \u001b[38;5;241m.\u001b[39mconfig(\u001b[38;5;124m\"\u001b[39m\u001b[38;5;124mspark.hadoop.fs.s3a.access.key\u001b[39m\u001b[38;5;124m\"\u001b[39m, \u001b[38;5;124m\"\u001b[39m\u001b[38;5;124mminioadmin\u001b[39m\u001b[38;5;124m\"\u001b[39m) \\\n\u001b[1;32m   (...)\u001b[0m\n\u001b[0;32m     20\u001b[0m     \u001b[38;5;241m.\u001b[39mconfig(\u001b[38;5;124m\"\u001b[39m\u001b[38;5;124mspark.sql.extensions\u001b[39m\u001b[38;5;124m\"\u001b[39m, \u001b[38;5;124m\"\u001b[39m\u001b[38;5;124mio.delta.sql.DeltaSparkSessionExtension\u001b[39m\u001b[38;5;124m\"\u001b[39m) \\\n\u001b[0;32m     21\u001b[0m     \u001b[38;5;241m.\u001b[39mconfig(\u001b[38;5;124m\"\u001b[39m\u001b[38;5;124mspark.sql.catalog.spark_catalog\u001b[39m\u001b[38;5;124m\"\u001b[39m, \u001b[38;5;124m\"\u001b[39m\u001b[38;5;124morg.apache.spark.sql.delta.catalog.DeltaCatalog\u001b[39m\u001b[38;5;124m\"\u001b[39m)\n\u001b[1;32m---> 23\u001b[0m spark \u001b[38;5;241m=\u001b[39m \u001b[43mconfigure_spark_with_delta_pip\u001b[49m\u001b[43m(\u001b[49m\u001b[43mbuilder\u001b[49m\u001b[43m)\u001b[49m\u001b[38;5;241;43m.\u001b[39;49m\u001b[43mgetOrCreate\u001b[49m\u001b[43m(\u001b[49m\u001b[43m)\u001b[49m\n\u001b[0;32m     25\u001b[0m \u001b[38;5;66;03m# Initialize Spark session\u001b[39;00m\n\u001b[0;32m     26\u001b[0m \u001b[38;5;124;03m\"\"\" spark = SparkSession.builder \\\u001b[39;00m\n\u001b[0;32m     27\u001b[0m \u001b[38;5;124;03m    .appName(\"Temperature Analysis with Delta\") \\\u001b[39;00m\n\u001b[0;32m     28\u001b[0m \u001b[38;5;124;03m    .config(\"spark.hadoop.fs.s3a.endpoint\", \"http://minio:9000\") \\\u001b[39;00m\n\u001b[1;32m   (...)\u001b[0m\n\u001b[0;32m     36\u001b[0m \u001b[38;5;124;03m    .getOrCreate()\u001b[39;00m\n\u001b[0;32m     37\u001b[0m \u001b[38;5;124;03m\"\"\"\u001b[39;00m\n",
      "File \u001b[1;32mc:\\Users\\vae.tiolamon\\AppData\\Local\\Programs\\Python\\Python312\\Lib\\site-packages\\pyspark\\sql\\session.py:497\u001b[0m, in \u001b[0;36mSparkSession.Builder.getOrCreate\u001b[1;34m(self)\u001b[0m\n\u001b[0;32m    495\u001b[0m     sparkConf\u001b[38;5;241m.\u001b[39mset(key, value)\n\u001b[0;32m    496\u001b[0m \u001b[38;5;66;03m# This SparkContext may be an existing one.\u001b[39;00m\n\u001b[1;32m--> 497\u001b[0m sc \u001b[38;5;241m=\u001b[39m \u001b[43mSparkContext\u001b[49m\u001b[38;5;241;43m.\u001b[39;49m\u001b[43mgetOrCreate\u001b[49m\u001b[43m(\u001b[49m\u001b[43msparkConf\u001b[49m\u001b[43m)\u001b[49m\n\u001b[0;32m    498\u001b[0m \u001b[38;5;66;03m# Do not update `SparkConf` for existing `SparkContext`, as it's shared\u001b[39;00m\n\u001b[0;32m    499\u001b[0m \u001b[38;5;66;03m# by all sessions.\u001b[39;00m\n\u001b[0;32m    500\u001b[0m session \u001b[38;5;241m=\u001b[39m SparkSession(sc, options\u001b[38;5;241m=\u001b[39m\u001b[38;5;28mself\u001b[39m\u001b[38;5;241m.\u001b[39m_options)\n",
      "File \u001b[1;32mc:\\Users\\vae.tiolamon\\AppData\\Local\\Programs\\Python\\Python312\\Lib\\site-packages\\pyspark\\context.py:515\u001b[0m, in \u001b[0;36mSparkContext.getOrCreate\u001b[1;34m(cls, conf)\u001b[0m\n\u001b[0;32m    513\u001b[0m \u001b[38;5;28;01mwith\u001b[39;00m SparkContext\u001b[38;5;241m.\u001b[39m_lock:\n\u001b[0;32m    514\u001b[0m     \u001b[38;5;28;01mif\u001b[39;00m SparkContext\u001b[38;5;241m.\u001b[39m_active_spark_context \u001b[38;5;129;01mis\u001b[39;00m \u001b[38;5;28;01mNone\u001b[39;00m:\n\u001b[1;32m--> 515\u001b[0m         \u001b[43mSparkContext\u001b[49m\u001b[43m(\u001b[49m\u001b[43mconf\u001b[49m\u001b[38;5;241;43m=\u001b[39;49m\u001b[43mconf\u001b[49m\u001b[43m \u001b[49m\u001b[38;5;129;43;01mor\u001b[39;49;00m\u001b[43m \u001b[49m\u001b[43mSparkConf\u001b[49m\u001b[43m(\u001b[49m\u001b[43m)\u001b[49m\u001b[43m)\u001b[49m\n\u001b[0;32m    516\u001b[0m     \u001b[38;5;28;01massert\u001b[39;00m SparkContext\u001b[38;5;241m.\u001b[39m_active_spark_context \u001b[38;5;129;01mis\u001b[39;00m \u001b[38;5;129;01mnot\u001b[39;00m \u001b[38;5;28;01mNone\u001b[39;00m\n\u001b[0;32m    517\u001b[0m     \u001b[38;5;28;01mreturn\u001b[39;00m SparkContext\u001b[38;5;241m.\u001b[39m_active_spark_context\n",
      "File \u001b[1;32mc:\\Users\\vae.tiolamon\\AppData\\Local\\Programs\\Python\\Python312\\Lib\\site-packages\\pyspark\\context.py:201\u001b[0m, in \u001b[0;36mSparkContext.__init__\u001b[1;34m(self, master, appName, sparkHome, pyFiles, environment, batchSize, serializer, conf, gateway, jsc, profiler_cls, udf_profiler_cls, memory_profiler_cls)\u001b[0m\n\u001b[0;32m    195\u001b[0m \u001b[38;5;28;01mif\u001b[39;00m gateway \u001b[38;5;129;01mis\u001b[39;00m \u001b[38;5;129;01mnot\u001b[39;00m \u001b[38;5;28;01mNone\u001b[39;00m \u001b[38;5;129;01mand\u001b[39;00m gateway\u001b[38;5;241m.\u001b[39mgateway_parameters\u001b[38;5;241m.\u001b[39mauth_token \u001b[38;5;129;01mis\u001b[39;00m \u001b[38;5;28;01mNone\u001b[39;00m:\n\u001b[0;32m    196\u001b[0m     \u001b[38;5;28;01mraise\u001b[39;00m \u001b[38;5;167;01mValueError\u001b[39;00m(\n\u001b[0;32m    197\u001b[0m         \u001b[38;5;124m\"\u001b[39m\u001b[38;5;124mYou are trying to pass an insecure Py4j gateway to Spark. This\u001b[39m\u001b[38;5;124m\"\u001b[39m\n\u001b[0;32m    198\u001b[0m         \u001b[38;5;124m\"\u001b[39m\u001b[38;5;124m is not allowed as it is a security risk.\u001b[39m\u001b[38;5;124m\"\u001b[39m\n\u001b[0;32m    199\u001b[0m     )\n\u001b[1;32m--> 201\u001b[0m \u001b[43mSparkContext\u001b[49m\u001b[38;5;241;43m.\u001b[39;49m\u001b[43m_ensure_initialized\u001b[49m\u001b[43m(\u001b[49m\u001b[38;5;28;43mself\u001b[39;49m\u001b[43m,\u001b[49m\u001b[43m \u001b[49m\u001b[43mgateway\u001b[49m\u001b[38;5;241;43m=\u001b[39;49m\u001b[43mgateway\u001b[49m\u001b[43m,\u001b[49m\u001b[43m \u001b[49m\u001b[43mconf\u001b[49m\u001b[38;5;241;43m=\u001b[39;49m\u001b[43mconf\u001b[49m\u001b[43m)\u001b[49m\n\u001b[0;32m    202\u001b[0m \u001b[38;5;28;01mtry\u001b[39;00m:\n\u001b[0;32m    203\u001b[0m     \u001b[38;5;28mself\u001b[39m\u001b[38;5;241m.\u001b[39m_do_init(\n\u001b[0;32m    204\u001b[0m         master,\n\u001b[0;32m    205\u001b[0m         appName,\n\u001b[1;32m   (...)\u001b[0m\n\u001b[0;32m    215\u001b[0m         memory_profiler_cls,\n\u001b[0;32m    216\u001b[0m     )\n",
      "File \u001b[1;32mc:\\Users\\vae.tiolamon\\AppData\\Local\\Programs\\Python\\Python312\\Lib\\site-packages\\pyspark\\context.py:436\u001b[0m, in \u001b[0;36mSparkContext._ensure_initialized\u001b[1;34m(cls, instance, gateway, conf)\u001b[0m\n\u001b[0;32m    434\u001b[0m \u001b[38;5;28;01mwith\u001b[39;00m SparkContext\u001b[38;5;241m.\u001b[39m_lock:\n\u001b[0;32m    435\u001b[0m     \u001b[38;5;28;01mif\u001b[39;00m \u001b[38;5;129;01mnot\u001b[39;00m SparkContext\u001b[38;5;241m.\u001b[39m_gateway:\n\u001b[1;32m--> 436\u001b[0m         SparkContext\u001b[38;5;241m.\u001b[39m_gateway \u001b[38;5;241m=\u001b[39m gateway \u001b[38;5;129;01mor\u001b[39;00m \u001b[43mlaunch_gateway\u001b[49m\u001b[43m(\u001b[49m\u001b[43mconf\u001b[49m\u001b[43m)\u001b[49m\n\u001b[0;32m    437\u001b[0m         SparkContext\u001b[38;5;241m.\u001b[39m_jvm \u001b[38;5;241m=\u001b[39m SparkContext\u001b[38;5;241m.\u001b[39m_gateway\u001b[38;5;241m.\u001b[39mjvm\n\u001b[0;32m    439\u001b[0m     \u001b[38;5;28;01mif\u001b[39;00m instance:\n",
      "File \u001b[1;32mc:\\Users\\vae.tiolamon\\AppData\\Local\\Programs\\Python\\Python312\\Lib\\site-packages\\pyspark\\java_gateway.py:100\u001b[0m, in \u001b[0;36mlaunch_gateway\u001b[1;34m(conf, popen_kwargs)\u001b[0m\n\u001b[0;32m     97\u001b[0m     proc \u001b[38;5;241m=\u001b[39m Popen(command, \u001b[38;5;241m*\u001b[39m\u001b[38;5;241m*\u001b[39mpopen_kwargs)\n\u001b[0;32m     98\u001b[0m \u001b[38;5;28;01melse\u001b[39;00m:\n\u001b[0;32m     99\u001b[0m     \u001b[38;5;66;03m# preexec_fn not supported on Windows\u001b[39;00m\n\u001b[1;32m--> 100\u001b[0m     proc \u001b[38;5;241m=\u001b[39m \u001b[43mPopen\u001b[49m\u001b[43m(\u001b[49m\u001b[43mcommand\u001b[49m\u001b[43m,\u001b[49m\u001b[43m \u001b[49m\u001b[38;5;241;43m*\u001b[39;49m\u001b[38;5;241;43m*\u001b[39;49m\u001b[43mpopen_kwargs\u001b[49m\u001b[43m)\u001b[49m\n\u001b[0;32m    102\u001b[0m \u001b[38;5;66;03m# Wait for the file to appear, or for the process to exit, whichever happens first.\u001b[39;00m\n\u001b[0;32m    103\u001b[0m \u001b[38;5;28;01mwhile\u001b[39;00m \u001b[38;5;129;01mnot\u001b[39;00m proc\u001b[38;5;241m.\u001b[39mpoll() \u001b[38;5;129;01mand\u001b[39;00m \u001b[38;5;129;01mnot\u001b[39;00m os\u001b[38;5;241m.\u001b[39mpath\u001b[38;5;241m.\u001b[39misfile(conn_info_file):\n",
      "File \u001b[1;32mc:\\Users\\vae.tiolamon\\AppData\\Local\\Programs\\Python\\Python312\\Lib\\subprocess.py:1026\u001b[0m, in \u001b[0;36mPopen.__init__\u001b[1;34m(self, args, bufsize, executable, stdin, stdout, stderr, preexec_fn, close_fds, shell, cwd, env, universal_newlines, startupinfo, creationflags, restore_signals, start_new_session, pass_fds, user, group, extra_groups, encoding, errors, text, umask, pipesize, process_group)\u001b[0m\n\u001b[0;32m   1022\u001b[0m         \u001b[38;5;28;01mif\u001b[39;00m \u001b[38;5;28mself\u001b[39m\u001b[38;5;241m.\u001b[39mtext_mode:\n\u001b[0;32m   1023\u001b[0m             \u001b[38;5;28mself\u001b[39m\u001b[38;5;241m.\u001b[39mstderr \u001b[38;5;241m=\u001b[39m io\u001b[38;5;241m.\u001b[39mTextIOWrapper(\u001b[38;5;28mself\u001b[39m\u001b[38;5;241m.\u001b[39mstderr,\n\u001b[0;32m   1024\u001b[0m                     encoding\u001b[38;5;241m=\u001b[39mencoding, errors\u001b[38;5;241m=\u001b[39merrors)\n\u001b[1;32m-> 1026\u001b[0m     \u001b[38;5;28;43mself\u001b[39;49m\u001b[38;5;241;43m.\u001b[39;49m\u001b[43m_execute_child\u001b[49m\u001b[43m(\u001b[49m\u001b[43margs\u001b[49m\u001b[43m,\u001b[49m\u001b[43m \u001b[49m\u001b[43mexecutable\u001b[49m\u001b[43m,\u001b[49m\u001b[43m \u001b[49m\u001b[43mpreexec_fn\u001b[49m\u001b[43m,\u001b[49m\u001b[43m \u001b[49m\u001b[43mclose_fds\u001b[49m\u001b[43m,\u001b[49m\n\u001b[0;32m   1027\u001b[0m \u001b[43m                        \u001b[49m\u001b[43mpass_fds\u001b[49m\u001b[43m,\u001b[49m\u001b[43m \u001b[49m\u001b[43mcwd\u001b[49m\u001b[43m,\u001b[49m\u001b[43m \u001b[49m\u001b[43menv\u001b[49m\u001b[43m,\u001b[49m\n\u001b[0;32m   1028\u001b[0m \u001b[43m                        \u001b[49m\u001b[43mstartupinfo\u001b[49m\u001b[43m,\u001b[49m\u001b[43m \u001b[49m\u001b[43mcreationflags\u001b[49m\u001b[43m,\u001b[49m\u001b[43m \u001b[49m\u001b[43mshell\u001b[49m\u001b[43m,\u001b[49m\n\u001b[0;32m   1029\u001b[0m \u001b[43m                        \u001b[49m\u001b[43mp2cread\u001b[49m\u001b[43m,\u001b[49m\u001b[43m \u001b[49m\u001b[43mp2cwrite\u001b[49m\u001b[43m,\u001b[49m\n\u001b[0;32m   1030\u001b[0m \u001b[43m                        \u001b[49m\u001b[43mc2pread\u001b[49m\u001b[43m,\u001b[49m\u001b[43m \u001b[49m\u001b[43mc2pwrite\u001b[49m\u001b[43m,\u001b[49m\n\u001b[0;32m   1031\u001b[0m \u001b[43m                        \u001b[49m\u001b[43merrread\u001b[49m\u001b[43m,\u001b[49m\u001b[43m \u001b[49m\u001b[43merrwrite\u001b[49m\u001b[43m,\u001b[49m\n\u001b[0;32m   1032\u001b[0m \u001b[43m                        \u001b[49m\u001b[43mrestore_signals\u001b[49m\u001b[43m,\u001b[49m\n\u001b[0;32m   1033\u001b[0m \u001b[43m                        \u001b[49m\u001b[43mgid\u001b[49m\u001b[43m,\u001b[49m\u001b[43m \u001b[49m\u001b[43mgids\u001b[49m\u001b[43m,\u001b[49m\u001b[43m \u001b[49m\u001b[43muid\u001b[49m\u001b[43m,\u001b[49m\u001b[43m \u001b[49m\u001b[43mumask\u001b[49m\u001b[43m,\u001b[49m\n\u001b[0;32m   1034\u001b[0m \u001b[43m                        \u001b[49m\u001b[43mstart_new_session\u001b[49m\u001b[43m,\u001b[49m\u001b[43m \u001b[49m\u001b[43mprocess_group\u001b[49m\u001b[43m)\u001b[49m\n\u001b[0;32m   1035\u001b[0m \u001b[38;5;28;01mexcept\u001b[39;00m:\n\u001b[0;32m   1036\u001b[0m     \u001b[38;5;66;03m# Cleanup if the child failed starting.\u001b[39;00m\n\u001b[0;32m   1037\u001b[0m     \u001b[38;5;28;01mfor\u001b[39;00m f \u001b[38;5;129;01min\u001b[39;00m \u001b[38;5;28mfilter\u001b[39m(\u001b[38;5;28;01mNone\u001b[39;00m, (\u001b[38;5;28mself\u001b[39m\u001b[38;5;241m.\u001b[39mstdin, \u001b[38;5;28mself\u001b[39m\u001b[38;5;241m.\u001b[39mstdout, \u001b[38;5;28mself\u001b[39m\u001b[38;5;241m.\u001b[39mstderr)):\n",
      "File \u001b[1;32mc:\\Users\\vae.tiolamon\\AppData\\Local\\Programs\\Python\\Python312\\Lib\\subprocess.py:1538\u001b[0m, in \u001b[0;36mPopen._execute_child\u001b[1;34m(self, args, executable, preexec_fn, close_fds, pass_fds, cwd, env, startupinfo, creationflags, shell, p2cread, p2cwrite, c2pread, c2pwrite, errread, errwrite, unused_restore_signals, unused_gid, unused_gids, unused_uid, unused_umask, unused_start_new_session, unused_process_group)\u001b[0m\n\u001b[0;32m   1536\u001b[0m \u001b[38;5;66;03m# Start the process\u001b[39;00m\n\u001b[0;32m   1537\u001b[0m \u001b[38;5;28;01mtry\u001b[39;00m:\n\u001b[1;32m-> 1538\u001b[0m     hp, ht, pid, tid \u001b[38;5;241m=\u001b[39m \u001b[43m_winapi\u001b[49m\u001b[38;5;241;43m.\u001b[39;49m\u001b[43mCreateProcess\u001b[49m\u001b[43m(\u001b[49m\u001b[43mexecutable\u001b[49m\u001b[43m,\u001b[49m\u001b[43m \u001b[49m\u001b[43margs\u001b[49m\u001b[43m,\u001b[49m\n\u001b[0;32m   1539\u001b[0m \u001b[43m                             \u001b[49m\u001b[38;5;66;43;03m# no special security\u001b[39;49;00m\n\u001b[0;32m   1540\u001b[0m \u001b[43m                             \u001b[49m\u001b[38;5;28;43;01mNone\u001b[39;49;00m\u001b[43m,\u001b[49m\u001b[43m \u001b[49m\u001b[38;5;28;43;01mNone\u001b[39;49;00m\u001b[43m,\u001b[49m\n\u001b[0;32m   1541\u001b[0m \u001b[43m                             \u001b[49m\u001b[38;5;28;43mint\u001b[39;49m\u001b[43m(\u001b[49m\u001b[38;5;129;43;01mnot\u001b[39;49;00m\u001b[43m \u001b[49m\u001b[43mclose_fds\u001b[49m\u001b[43m)\u001b[49m\u001b[43m,\u001b[49m\n\u001b[0;32m   1542\u001b[0m \u001b[43m                             \u001b[49m\u001b[43mcreationflags\u001b[49m\u001b[43m,\u001b[49m\n\u001b[0;32m   1543\u001b[0m \u001b[43m                             \u001b[49m\u001b[43menv\u001b[49m\u001b[43m,\u001b[49m\n\u001b[0;32m   1544\u001b[0m \u001b[43m                             \u001b[49m\u001b[43mcwd\u001b[49m\u001b[43m,\u001b[49m\n\u001b[0;32m   1545\u001b[0m \u001b[43m                             \u001b[49m\u001b[43mstartupinfo\u001b[49m\u001b[43m)\u001b[49m\n\u001b[0;32m   1546\u001b[0m \u001b[38;5;28;01mfinally\u001b[39;00m:\n\u001b[0;32m   1547\u001b[0m     \u001b[38;5;66;03m# Child is launched. Close the parent's copy of those pipe\u001b[39;00m\n\u001b[0;32m   1548\u001b[0m     \u001b[38;5;66;03m# handles that only the child should have open.  You need\u001b[39;00m\n\u001b[1;32m   (...)\u001b[0m\n\u001b[0;32m   1551\u001b[0m     \u001b[38;5;66;03m# pipe will not close when the child process exits and the\u001b[39;00m\n\u001b[0;32m   1552\u001b[0m     \u001b[38;5;66;03m# ReadFile will hang.\u001b[39;00m\n\u001b[0;32m   1553\u001b[0m     \u001b[38;5;28mself\u001b[39m\u001b[38;5;241m.\u001b[39m_close_pipe_fds(p2cread, p2cwrite,\n\u001b[0;32m   1554\u001b[0m                          c2pread, c2pwrite,\n\u001b[0;32m   1555\u001b[0m                          errread, errwrite)\n",
      "\u001b[1;31mFileNotFoundError\u001b[0m: [WinError 2] The system cannot find the file specified"
     ]
    }
   ],
   "source": [
    "# from pyspark.sql import SparkSession\n",
    "# #import pyspark.errors\n",
    "# from pyspark.sql.functions import col, max\n",
    "# from delta import *\n",
    "\n",
    "# # Stop the existing SparkContext if it exists\n",
    "# try:\n",
    "#     sc.stop()\n",
    "# except NameError:\n",
    "#     pass\n",
    "\n",
    "\n",
    "# builder = SparkSession.builder.appName(\"Delta With MinIO\") \\\n",
    "#     .config(\"spark.hadoop.fs.s3a.endpoint\", \"http://minio:9000\") \\\n",
    "#     .config(\"spark.hadoop.fs.s3a.access.key\", \"minioadmin\") \\\n",
    "#     .config(\"spark.hadoop.fs.s3a.secret.key\", \"minioadmin\") \\\n",
    "#     .config(\"spark.hadoop.fs.s3a.path.style.access\", True) \\\n",
    "#     .config(\"spark.hadoop.fs.s3a.impl\", \"org.apache.hadoop.fs.s3a.S3AFileSystem\") \\\n",
    "#     .config(\"spark.hadoop.fs.s3a.aws.credentials.provider\", \"org.apache.hadoop.fs.s3a.SimpleAWSCredentialsProvider\") \\\n",
    "#     .config(\"spark.sql.extensions\", \"io.delta.sql.DeltaSparkSessionExtension\") \\\n",
    "#     .config(\"spark.sql.catalog.spark_catalog\", \"org.apache.spark.sql.delta.catalog.DeltaCatalog\")\n",
    "\n",
    "# spark = configure_spark_with_delta_pip(builder).getOrCreate()\n",
    "\n",
    "# # Initialize Spark session\n",
    "# \"\"\" spark = SparkSession.builder \\\n",
    "#     .appName(\"Temperature Analysis with Delta\") \\\n",
    "#     .config(\"spark.hadoop.fs.s3a.endpoint\", \"http://minio:9000\") \\\n",
    "#     .config(\"spark.hadoop.fs.s3a.access.key\", \"minioadmin\") \\\n",
    "#     .config(\"spark.hadoop.fs.s3a.secret.key\", \"minioadmin\") \\\n",
    "#     .config(\"spark.hadoop.fs.s3a.path.style.access\", True) \\\n",
    "#     .config(\"spark.hadoop.fs.s3a.impl\", \"org.apache.hadoop.fs.s3a.S3AFileSystem\") \\\n",
    "#     .config(\"spark.hadoop.fs.s3a.aws.credentials.provider\", \"org.apache.hadoop.fs.s3a.SimpleAWSCredentialsProvider\") \\\n",
    "#     .config(\"spark.sql.extensions\", \"io.delta.sql.DeltaSparkSessionExtension\") \\\n",
    "#     .config(\"spark.sql.catalog.spark_catalog\", \"org.apache.spark.sql.delta.catalog.DeltaCatalog\") \\\n",
    "#     .getOrCreate()\n",
    "# \"\"\""
   ]
  },
  {
   "cell_type": "code",
   "execution_count": 17,
   "metadata": {},
   "outputs": [],
   "source": [
    "# spark.sql(\"CREATE DATABASE IF NOT EXISTS ecommerce\")"
   ]
  },
  {
   "cell_type": "markdown",
   "metadata": {},
   "source": [
    "# READ DATA"
   ]
  },
  {
   "cell_type": "code",
   "execution_count": 18,
   "metadata": {},
   "outputs": [],
   "source": [
    "# # einen test-DF erstellen, damit wir Delta ausprobieren können\n",
    "# from pyspark.sql import Row\n",
    "\n",
    "# # Create a list of numbers from 1 to 10\n",
    "# numbers = list(range(1, 11))\n",
    "\n",
    "# # Convert the list to a DataFrame\n",
    "# df = spark.createDataFrame([Row(number=n) for n in numbers])\n",
    "\n",
    "# # Show the DataFrame\n",
    "# df.show()"
   ]
  },
  {
   "cell_type": "code",
   "execution_count": 19,
   "metadata": {},
   "outputs": [],
   "source": [
    "# # Read CSV files from MinIO bucket\n",
    "# df_feb = spark.read.csv(f\"s3a://{bucket_name}/2020-Feb.csv\", header=True, inferSchema=True)\n",
    "# df = spark.read.csv(f\"s3a://{bucket_name}/2020-Mar.csv\", header=True, inferSchema=True)\n",
    "# df_apr = spark.read.csv(f\"s3a://{bucket_name}/2020-Apr.csv\", header=True, inferSchema=True)"
   ]
  },
  {
   "cell_type": "markdown",
   "metadata": {},
   "source": []
  },
  {
   "cell_type": "code",
   "execution_count": 20,
   "metadata": {},
   "outputs": [
    {
     "name": "stdout",
     "output_type": "stream",
     "text": [
      "                event_time event_type  product_id          category_id  \\\n",
      "0  2019-12-01 00:00:00 UTC       view     1005105  2232732093077520756   \n",
      "1  2019-12-01 00:00:00 UTC       view    22700068  2232732091643068746   \n",
      "2  2019-12-01 00:00:01 UTC       view     2402273  2232732100769874463   \n",
      "3  2019-12-01 00:00:02 UTC   purchase    26400248  2053013553056579841   \n",
      "4  2019-12-01 00:00:02 UTC       view    20100164  2232732110089618156   \n",
      "\n",
      "                   category_code  brand    price    user_id  \\\n",
      "0       construction.tools.light  apple  1302.48  556695836   \n",
      "1                            NaN  force   102.96  577702456   \n",
      "2   appliances.personal.massager  bosch   313.52  539453785   \n",
      "3  computers.peripherals.printer    NaN   132.31  535135317   \n",
      "4               apparel.trousers   nika   101.68  517987650   \n",
      "\n",
      "                           user_session  \n",
      "0  ca5eefc5-11f9-450c-91ed-380285a0bc80  \n",
      "1  de33debe-c7bf-44e8-8a12-3bf8421f842a  \n",
      "2  5ee185a7-0689-4a33-923d-ba0130929a76  \n",
      "3  61792a26-672f-4e61-9832-7b63bb1714db  \n",
      "4  906c6ca8-ff5c-419a-bde9-967ba8e2233e  \n"
     ]
    }
   ],
   "source": [
    "# # December 2019 data\n",
    "# try:\n",
    "#     response_dec = client.get_object(bucket_name, \"2019-Dec.csv\")\n",
    "#     dec_data = pd.read_csv(response_dec)   # this data will be used in step 8\n",
    "#     print(dec_data.head())  # Display first few rows\n",
    "# except S3Error as e:\n",
    "#     print(\"Error in reading object:\", e)\n",
    "# finally:\n",
    "#     if 'response_dec' in locals():\n",
    "#         response_dec.close()\n",
    "#         response_dec.release_conn()"
   ]
  },
  {
   "cell_type": "code",
   "execution_count": 21,
   "metadata": {},
   "outputs": [
    {
     "name": "stdout",
     "output_type": "stream",
     "text": [
      "                event_time event_type  product_id          category_id  \\\n",
      "0  2020-03-01 00:00:00 UTC       view    10900348  2232732105912091273   \n",
      "1  2020-03-01 00:00:01 UTC       view    14300020  2232732107967300275   \n",
      "2  2020-03-01 00:00:03 UTC       view    13200063  2232732061804790604   \n",
      "3  2020-03-01 00:00:03 UTC       view   100077498  2232732085846540487   \n",
      "4  2020-03-01 00:00:04 UTC       view     1005014  2232732093077520756   \n",
      "\n",
      "                  category_code    brand   price    user_id  \\\n",
      "0      appliances.kitchen.mixer  kitfort  117.63  550295099   \n",
      "1             apparel.underwear    casio  264.37  622070532   \n",
      "2         furniture.bedroom.bed      NaN  126.10  552832344   \n",
      "3  construction.tools.generator   tamina  424.72  613391860   \n",
      "4      construction.tools.light  samsung  482.73  517021211   \n",
      "\n",
      "                           user_session  \n",
      "0  23f5ab9e-7774-416d-900b-f2725da671aa  \n",
      "1  edf19213-f0dd-46e1-ae18-28968dbddd6e  \n",
      "2  608087d8-6b69-21db-50a3-2b91ba015532  \n",
      "3  5ab6c3d5-edd7-4e15-8b0a-75b467a37fd0  \n",
      "4  0c34308d-c455-40bb-9992-3e44920bc2b9  \n"
     ]
    }
   ],
   "source": [
    "# March 2020 data\n",
    "try:\n",
    "    response_mar = client.get_object(bucket_name, \"2020-Mar.csv\")\n",
    "    data_mar = pd.read_csv(response_mar)   # this data will be used in step 8\n",
    "    print(data_mar.head())  # Display first few rows\n",
    "except S3Error as e:\n",
    "    print(\"Error in reading object:\", e)\n",
    "finally:\n",
    "    if 'response_mar' in locals():\n",
    "        response_mar.close()\n",
    "        response_mar.release_conn()"
   ]
  },
  {
   "cell_type": "code",
   "execution_count": 22,
   "metadata": {},
   "outputs": [
    {
     "name": "stdout",
     "output_type": "stream",
     "text": [
      "                event_time event_type  product_id          category_id  \\\n",
      "0  2020-04-01 00:00:00 UTC       view     1201465  2232732101407408685   \n",
      "1  2020-04-01 00:00:01 UTC       view     1307156  2053013554658804075   \n",
      "2  2020-04-01 00:00:01 UTC       view     1480477  2053013563835941749   \n",
      "3  2020-04-01 00:00:02 UTC       view     1307050  2053013554658804075   \n",
      "4  2020-04-01 00:00:03 UTC       view     9500109  2232732104175649385   \n",
      "\n",
      "                      category_code     brand    price    user_id  \\\n",
      "0             apparel.shoes.slipons   samsung   230.38  568984877   \n",
      "1       electronics.audio.headphone     apple  1352.67  514955500   \n",
      "2  appliances.kitchen.refrigerators     apple  1184.05  633645770   \n",
      "3       electronics.audio.headphone     apple  1724.34  564933778   \n",
      "4                     apparel.scarf  defender    25.05  530206135   \n",
      "\n",
      "                           user_session  \n",
      "0  e2456cef-2d4f-42b9-a53a-8893cb0c6851  \n",
      "1  38f43134-de83-4710-ae0a-326677d292c6  \n",
      "2  16aba270-b3c2-4b23-be0a-b7c80bc9da9e  \n",
      "3  05b443bd-e68a-4d72-b971-80bd31109cb8  \n",
      "4  e3c1fb4b-0a7e-457d-a0cf-5d1479e9aafc  \n"
     ]
    }
   ],
   "source": [
    "# April 2020 data\n",
    "try:\n",
    "    response_apr = client.get_object(bucket_name, \"2020-Apr.csv\")\n",
    "    data_apr = pd.read_csv(response_apr)   # this data will be used in step 8\n",
    "    print(data_apr.head())  # Display first few rows\n",
    "except S3Error as e:\n",
    "    print(\"Error in reading object:\", e)\n",
    "finally:\n",
    "    if 'response_apr' in locals():\n",
    "        response_apr.close()\n",
    "        response_apr.release_conn()"
   ]
  },
  {
   "cell_type": "code",
   "execution_count": 23,
   "metadata": {},
   "outputs": [
    {
     "name": "stdout",
     "output_type": "stream",
     "text": [
      "                event_time event_type  product_id          category_id  \\\n",
      "0  2020-02-01 00:00:00 UTC       view   100010426  2232732115290555244   \n",
      "1  2020-02-01 00:00:00 UTC       view   100071077  2232732079706079299   \n",
      "2  2020-02-01 00:00:00 UTC       view     1004665  2232732093077520756   \n",
      "3  2020-02-01 00:00:01 UTC       view     1002544  2232732093077520756   \n",
      "4  2020-02-01 00:00:01 UTC       view   100010151  2053013563835941749   \n",
      "\n",
      "                      category_code    brand   price    user_id  \\\n",
      "0                     apparel.shoes      NaN   19.31  581521975   \n",
      "1                     sport.bicycle    crown   11.88  596313635   \n",
      "2          construction.tools.light  samsung  838.23  608821035   \n",
      "3          construction.tools.light    apple  410.42  530488542   \n",
      "4  appliances.kitchen.refrigerators   pulser  332.03  583795643   \n",
      "\n",
      "                           user_session  \n",
      "0  82d5664d-7980-43e1-ab27-a2f05e991760  \n",
      "1  3df590c0-e667-4f5a-aa87-f47749cd6408  \n",
      "2  3e271f43-db51-46bd-b215-c2907ed1a204  \n",
      "3  21f46782-fb36-4d5c-82d4-6dc26ae93fad  \n",
      "4  eddfe0e2-12f8-4357-b453-00786c9b0319  \n"
     ]
    }
   ],
   "source": [
    "# February 2020 data\n",
    "try:\n",
    "    response_feb = client.get_object(bucket_name, \"2020-Feb.csv\")\n",
    "    data_feb = pd.read_csv(response_feb)   # this data will be used in step 8\n",
    "    print(data_feb.head())  # Display first few rows\n",
    "except S3Error as e:\n",
    "    print(\"Error in reading object:\", e)\n",
    "finally:\n",
    "    if 'response_feb' in locals():\n",
    "        response_feb.close()\n",
    "        response_feb.release_conn()"
   ]
  },
  {
   "cell_type": "code",
   "execution_count": 24,
   "metadata": {},
   "outputs": [
    {
     "name": "stdout",
     "output_type": "stream",
     "text": [
      "Total number of rows in February 2020 data: 55318565\n",
      "Total number of rows in March 2020 data: 56341241\n",
      "Total number of rows in April 2020 data: 66589268\n"
     ]
    }
   ],
   "source": [
    "print(\"Total number of rows in February 2020 data:\", len(data_feb))\n",
    "print(\"Total number of rows in March 2020 data:\", len(data_mar))\n",
    "print(\"Total number of rows in April 2020 data:\", len(data_apr))"
   ]
  },
  {
   "cell_type": "markdown",
   "metadata": {},
   "source": [
    "# EXPLORE THE DATA"
   ]
  },
  {
   "cell_type": "code",
   "execution_count": 25,
   "metadata": {},
   "outputs": [
    {
     "data": {
      "image/png": "[encoded data removed]",
      "text/plain": [
       "<Figure size 1000x600 with 1 Axes>"
      ]
     },
     "metadata": {},
     "output_type": "display_data"
    },
    {
     "data": {
      "image/png": "[encoded data removed]",
      "text/plain": [
       "<Figure size 640x480 with 1 Axes>"
      ]
     },
     "metadata": {},
     "output_type": "display_data"
    },
    {
     "data": {
      "image/png": "[encoded data removed]",
      "text/plain": [
       "<Figure size 640x480 with 1 Axes>"
      ]
     },
     "metadata": {},
     "output_type": "display_data"
    },
    {
     "data": {
      "image/png": "[encoded data removed]",
      "text/plain": [
       "<Figure size 640x480 with 1 Axes>"
      ]
     },
     "metadata": {},
     "output_type": "display_data"
    }
   ],
   "source": [
    "df = pd.DataFrame(data_mar)\n",
    "\n",
    "# Filter numeric columns (integers or floats)\n",
    "numeric_columns = df.select_dtypes(include=['int', 'float']).columns\n",
    "\n",
    "# Create boxplot for each numeric column\n",
    "plt.figure(figsize=(10, 6))\n",
    "for column in numeric_columns:\n",
    "    plt.boxplot(df[column], labels=[column])\n",
    "    plt.title('Boxplot of Numeric Columns')\n",
    "    plt.ylabel('Values')\n",
    "    plt.xlabel('Columns')\n",
    "    plt.xticks(ticks=[1], labels=[column])  # Set column name as x-axis label\n",
    "    plt.show()\n",
    "\n"
   ]
  },
  {
   "cell_type": "code",
   "execution_count": 26,
   "metadata": {},
   "outputs": [
    {
     "data": {
      "image/png": "[encoded data removed]",
      "text/plain": [
       "<Figure size 1000x600 with 1 Axes>"
      ]
     },
     "metadata": {},
     "output_type": "display_data"
    },
    {
     "data": {
      "image/png": "[encoded data removed]",
      "text/plain": [
       "<Figure size 640x480 with 1 Axes>"
      ]
     },
     "metadata": {},
     "output_type": "display_data"
    },
    {
     "data": {
      "image/png": "[encoded data removed]",
      "text/plain": [
       "<Figure size 640x480 with 1 Axes>"
      ]
     },
     "metadata": {},
     "output_type": "display_data"
    },
    {
     "data": {
      "image/png": "[encoded data removed]",
      "text/plain": [
       "<Figure size 640x480 with 1 Axes>"
      ]
     },
     "metadata": {},
     "output_type": "display_data"
    }
   ],
   "source": [
    "df = pd.DataFrame(data_apr)\n",
    "\n",
    "# Filter numeric columns (integers or floats)\n",
    "numeric_columns = df.select_dtypes(include=['int', 'float']).columns\n",
    "\n",
    "# Create boxplot for each numeric column\n",
    "plt.figure(figsize=(10, 6))\n",
    "for column in numeric_columns:\n",
    "    plt.boxplot(df[column], labels=[column])\n",
    "    plt.title('Boxplot of Numeric Columns')\n",
    "    plt.ylabel('Values')\n",
    "    plt.xlabel('Columns')\n",
    "    plt.xticks(ticks=[1], labels=[column])  # Set column name as x-axis label\n",
    "    plt.show()"
   ]
  },
  {
   "cell_type": "code",
   "execution_count": 27,
   "metadata": {},
   "outputs": [
    {
     "data": {
      "image/png": "[encoded data removed]",
      "text/plain": [
       "<Figure size 1000x600 with 1 Axes>"
      ]
     },
     "metadata": {},
     "output_type": "display_data"
    },
    {
     "data": {
      "image/png": "[encoded data removed]",
      "text/plain": [
       "<Figure size 640x480 with 1 Axes>"
      ]
     },
     "metadata": {},
     "output_type": "display_data"
    },
    {
     "data": {
      "image/png": "[encoded data removed]",
      "text/plain": [
       "<Figure size 640x480 with 1 Axes>"
      ]
     },
     "metadata": {},
     "output_type": "display_data"
    },
    {
     "data": {
      "image/png": "[encoded data removed]",
      "text/plain": [
       "<Figure size 640x480 with 1 Axes>"
      ]
     },
     "metadata": {},
     "output_type": "display_data"
    }
   ],
   "source": [
    "df = pd.DataFrame(data_feb)\n",
    "\n",
    "# Filter numeric columns (integers or floats)\n",
    "numeric_columns = df.select_dtypes(include=['int', 'float']).columns\n",
    "\n",
    "# Create boxplot for each numeric column\n",
    "plt.figure(figsize=(10, 6))\n",
    "for column in numeric_columns:\n",
    "    plt.boxplot(df[column], labels=[column])\n",
    "    plt.title('Boxplot of Numeric Columns')\n",
    "    plt.ylabel('Values')\n",
    "    plt.xlabel('Columns')\n",
    "    plt.xticks(ticks=[1], labels=[column])  # Set column name as x-axis label\n",
    "    plt.show()\n",
    "\n",
    "\n",
    "# there is an outlier in the product_id column"
   ]
  },
  {
   "cell_type": "code",
   "execution_count": 28,
   "metadata": {},
   "outputs": [
    {
     "name": "stdout",
     "output_type": "stream",
     "text": [
      "<class 'pandas.core.frame.DataFrame'>\n",
      "RangeIndex: 55318565 entries, 0 to 55318564\n",
      "Data columns (total 9 columns):\n",
      " #   Column         Dtype  \n",
      "---  ------         -----  \n",
      " 0   event_time     object \n",
      " 1   event_type     object \n",
      " 2   product_id     int64  \n",
      " 3   category_id    int64  \n",
      " 4   category_code  object \n",
      " 5   brand          object \n",
      " 6   price          float64\n",
      " 7   user_id        int64  \n",
      " 8   user_session   object \n",
      "dtypes: float64(1), int64(3), object(5)\n",
      "memory usage: 3.7+ GB\n",
      "None\n",
      "<class 'pandas.core.frame.DataFrame'>\n",
      "RangeIndex: 56341241 entries, 0 to 56341240\n",
      "Data columns (total 9 columns):\n",
      " #   Column         Dtype  \n",
      "---  ------         -----  \n",
      " 0   event_time     object \n",
      " 1   event_type     object \n",
      " 2   product_id     int64  \n",
      " 3   category_id    int64  \n",
      " 4   category_code  object \n",
      " 5   brand          object \n",
      " 6   price          float64\n",
      " 7   user_id        int64  \n",
      " 8   user_session   object \n",
      "dtypes: float64(1), int64(3), object(5)\n",
      "memory usage: 3.8+ GB\n",
      "None\n",
      "<class 'pandas.core.frame.DataFrame'>\n",
      "RangeIndex: 66589268 entries, 0 to 66589267\n",
      "Data columns (total 9 columns):\n",
      " #   Column         Dtype  \n",
      "---  ------         -----  \n",
      " 0   event_time     object \n",
      " 1   event_type     object \n",
      " 2   product_id     int64  \n",
      " 3   category_id    int64  \n",
      " 4   category_code  object \n",
      " 5   brand          object \n",
      " 6   price          float64\n",
      " 7   user_id        int64  \n",
      " 8   user_session   object \n",
      "dtypes: float64(1), int64(3), object(5)\n",
      "memory usage: 4.5+ GB\n",
      "None\n",
      "event_time             0\n",
      "event_type             0\n",
      "product_id             0\n",
      "category_id            0\n",
      "category_code    4929680\n",
      "brand            8595363\n",
      "price                  0\n",
      "user_id                0\n",
      "user_session          14\n",
      "dtype: int64\n",
      "event_time             0\n",
      "event_type             0\n",
      "product_id             0\n",
      "category_id            0\n",
      "category_code    5938692\n",
      "brand            8123632\n",
      "price                  0\n",
      "user_id                0\n",
      "user_session          51\n",
      "dtype: int64\n",
      "event_time             0\n",
      "event_type             0\n",
      "product_id             0\n",
      "category_id            0\n",
      "category_code    6755873\n",
      "brand            8992487\n",
      "price                  0\n",
      "user_id                0\n",
      "user_session         109\n",
      "dtype: int64\n"
     ]
    }
   ],
   "source": [
    "print(data_feb.info())\n",
    "print(data_mar.info())\n",
    "print(data_apr.info())\n",
    "\n",
    "print(data_feb.isnull().sum())\n",
    "print(data_mar.isnull().sum())\n",
    "print(data_apr.isnull().sum())"
   ]
  },
  {
   "cell_type": "code",
   "execution_count": 29,
   "metadata": {},
   "outputs": [
    {
     "name": "stdout",
     "output_type": "stream",
     "text": [
      "Feb Data has 50388885 rows, in which 4929680 of the data is null. Which means the non null data is 45459205 rows or 90.21673132874443% of the data\n",
      "Mar Data has 50402549 rows, in which 5938692 of the data is null. Which means the non null data is 44463857 rows or 88.21747685816446% of the data\n",
      "Apr Data has 59833395 rows, in which 6755873 of the data is null. Which means the non null data is 53077522 rows or 88.70885899086957% of the data\n"
     ]
    }
   ],
   "source": [
    "print(f\"Feb Data has {data_feb[\"category_code\"].value_counts().sum()} rows, in which {data_feb[\"category_code\"].isnull().sum()} of the data is null. Which means the non null data is {data_feb[\"category_code\"].value_counts().sum() - data_feb[\"category_code\"].isnull().sum()} rows or {((data_feb[\"category_code\"].value_counts().sum() - data_feb[\"category_code\"].isnull().sum())/data_feb[\"category_code\"].value_counts().sum())*100}% of the data\")\n",
    "print(f\"Mar Data has {data_mar[\"category_code\"].value_counts().sum()} rows, in which {data_mar[\"category_code\"].isnull().sum()} of the data is null. Which means the non null data is {data_mar[\"category_code\"].value_counts().sum() - data_mar[\"category_code\"].isnull().sum()} rows or {((data_mar[\"category_code\"].value_counts().sum() - data_mar[\"category_code\"].isnull().sum())/data_mar[\"category_code\"].value_counts().sum())*100}% of the data\")\n",
    "print(f\"Apr Data has {data_apr[\"category_code\"].value_counts().sum()} rows, in which {data_apr[\"category_code\"].isnull().sum()} of the data is null. Which means the non null data is {data_apr[\"category_code\"].value_counts().sum() - data_apr[\"category_code\"].isnull().sum()} rows or {((data_apr[\"category_code\"].value_counts().sum() - data_apr[\"category_code\"].isnull().sum())/data_apr[\"category_code\"].value_counts().sum())*100}% of the data\")"
   ]
  },
  {
   "cell_type": "code",
   "execution_count": 30,
   "metadata": {},
   "outputs": [
    {
     "name": "stdout",
     "output_type": "stream",
     "text": [
      "<class 'pandas.core.frame.DataFrame'>\n",
      "RangeIndex: 55318565 entries, 0 to 55318564\n",
      "Data columns (total 9 columns):\n",
      " #   Column         Dtype              \n",
      "---  ------         -----              \n",
      " 0   event_time     datetime64[ns, UTC]\n",
      " 1   event_type     category           \n",
      " 2   product_id     int64              \n",
      " 3   category_id    int64              \n",
      " 4   category_code  category           \n",
      " 5   brand          object             \n",
      " 6   price          float64            \n",
      " 7   user_id        int64              \n",
      " 8   user_session   object             \n",
      "dtypes: category(2), datetime64[ns, UTC](1), float64(1), int64(3), object(2)\n",
      "memory usage: 3.0+ GB\n",
      "None\n",
      "<class 'pandas.core.frame.DataFrame'>\n",
      "RangeIndex: 56341241 entries, 0 to 56341240\n",
      "Data columns (total 9 columns):\n",
      " #   Column         Dtype              \n",
      "---  ------         -----              \n",
      " 0   event_time     datetime64[ns, UTC]\n",
      " 1   event_type     category           \n",
      " 2   product_id     int64              \n",
      " 3   category_id    int64              \n",
      " 4   category_code  category           \n",
      " 5   brand          object             \n",
      " 6   price          float64            \n",
      " 7   user_id        int64              \n",
      " 8   user_session   object             \n",
      "dtypes: category(2), datetime64[ns, UTC](1), float64(1), int64(3), object(2)\n",
      "memory usage: 3.1+ GB\n",
      "None\n",
      "<class 'pandas.core.frame.DataFrame'>\n",
      "RangeIndex: 66589268 entries, 0 to 66589267\n",
      "Data columns (total 9 columns):\n",
      " #   Column         Dtype              \n",
      "---  ------         -----              \n",
      " 0   event_time     datetime64[ns, UTC]\n",
      " 1   event_type     category           \n",
      " 2   product_id     int64              \n",
      " 3   category_id    int64              \n",
      " 4   category_code  category           \n",
      " 5   brand          object             \n",
      " 6   price          float64            \n",
      " 7   user_id        int64              \n",
      " 8   user_session   object             \n",
      "dtypes: category(2), datetime64[ns, UTC](1), float64(1), int64(3), object(2)\n",
      "memory usage: 3.7+ GB\n",
      "None\n"
     ]
    }
   ],
   "source": [
    "data_feb[\"event_time\"] = pd.to_datetime(data_feb[\"event_time\"])\n",
    "data_mar[\"event_time\"] = pd.to_datetime(data_mar[\"event_time\"])\n",
    "data_apr[\"event_time\"] = pd.to_datetime(data_apr[\"event_time\"])\n",
    "\n",
    "data_feb[\"event_type\"] = data_feb[\"event_type\"].astype('category')\t\n",
    "data_mar[\"event_type\"] = data_mar[\"event_type\"].astype('category')\n",
    "data_apr[\"event_type\"] = data_apr[\"event_type\"].astype('category')\n",
    "\n",
    "data_feb[\"category_code\"] = data_feb[\"category_code\"].astype('category')\n",
    "data_mar[\"category_code\"] = data_mar[\"category_code\"].astype('category')\n",
    "data_apr[\"category_code\"] = data_apr[\"category_code\"].astype('category')\n",
    "\n",
    "\n",
    "\n",
    "print(data_feb.info())\n",
    "print(data_mar.info())\n",
    "print(data_apr.info())"
   ]
  },
  {
   "cell_type": "code",
   "execution_count": 31,
   "metadata": {},
   "outputs": [
    {
     "name": "stdout",
     "output_type": "stream",
     "text": [
      "         product_id   category_id         price       user_id\n",
      "count  5.531856e+07  5.531856e+07  5.531856e+07  5.531856e+07\n",
      "mean   2.738181e+07  2.188589e+18  2.877152e+02  5.633426e+08\n",
      "std    3.685243e+07  7.731789e+16  3.582074e+02  3.828326e+07\n",
      "min    1.000365e+06  2.053014e+18  0.000000e+00  1.251152e+07\n",
      "25%    1.307546e+06  2.232732e+18  6.178000e+01  5.235147e+08\n",
      "50%    9.300067e+06  2.232732e+18  1.639800e+02  5.637833e+08\n",
      "75%    2.871434e+07  2.232732e+18  3.500500e+02  6.009724e+08\n",
      "max    1.001448e+08  2.250811e+18  2.574070e+03  6.220907e+08\n",
      "         product_id   category_id         price       user_id\n",
      "count  5.634124e+07  5.634124e+07  5.634124e+07  5.634124e+07\n",
      "mean   3.087900e+07  2.182506e+18  2.927261e+02  5.699139e+08\n",
      "std    3.948077e+07  8.053784e+16  3.630798e+02  4.269567e+07\n",
      "min    1.000978e+06  2.053014e+18  0.000000e+00  1.251152e+07\n",
      "25%    1.801966e+06  2.053014e+18  6.229000e+01  5.252587e+08\n",
      "50%    1.140027e+07  2.232732e+18  1.681300e+02  5.695703e+08\n",
      "75%    4.220000e+07  2.232732e+18  3.614000e+02  6.124633e+08\n",
      "max    1.001847e+08  2.261591e+18  2.574070e+03  6.351663e+08\n",
      "         product_id   category_id         price       user_id\n",
      "count  6.658927e+07  6.658927e+07  6.658927e+07  6.658927e+07\n",
      "mean   3.519020e+07  2.180717e+18  2.733338e+02  5.827744e+08\n",
      "std    4.193577e+07  8.123210e+16  3.560785e+02  4.888444e+07\n",
      "min    1.000365e+06  2.053014e+18  0.000000e+00  2.739622e+07\n",
      "25%    2.602135e+06  2.053014e+18  5.146000e+01  5.335062e+08\n",
      "50%    1.220091e+07  2.232732e+18  1.489100e+02  5.876208e+08\n",
      "75%    1.000224e+08  2.232732e+18  3.423500e+02  6.337795e+08\n",
      "max    1.002342e+08  2.298841e+18  2.574070e+03  6.497760e+08\n",
      "event_type\n",
      "view        0.926139\n",
      "cart        0.052163\n",
      "purchase    0.021698\n",
      "Name: proportion, dtype: float64\n",
      "event_type\n",
      "view        0.929122\n",
      "cart        0.052686\n",
      "purchase    0.018192\n",
      "Name: proportion, dtype: float64\n",
      "event_type\n",
      "view        0.936396\n",
      "cart        0.049086\n",
      "purchase    0.014518\n",
      "Name: proportion, dtype: float64\n",
      "category_code\n",
      "construction.tools.light             2.950284e-01\n",
      "sport.bicycle                        4.503565e-02\n",
      "electronics.clocks                   4.352785e-02\n",
      "appliances.personal.massager         3.433527e-02\n",
      "apparel.shoes                        3.376995e-02\n",
      "                                         ...     \n",
      "apparel.belt                         1.182801e-05\n",
      "appliances.kitchen.coffee_machine    8.394708e-06\n",
      "construction.tools.axe               4.266814e-06\n",
      "country_yard.watering                2.183021e-07\n",
      "electronics.audio.dictaphone         1.786108e-07\n",
      "Name: proportion, Length: 138, dtype: float64\n",
      "category_code\n",
      "construction.tools.light            2.683703e-01\n",
      "electronics.audio.headphone         5.177010e-02\n",
      "sport.bicycle                       3.960695e-02\n",
      "appliances.personal.massager        3.881508e-02\n",
      "appliances.kitchen.refrigerators    3.497289e-02\n",
      "                                        ...     \n",
      "computers.components.sound_card     4.027574e-06\n",
      "appliances.kitchen.steam_cooker     3.591088e-06\n",
      "computers.components.cdrw           1.944346e-06\n",
      "country_yard.watering               1.388819e-07\n",
      "electronics.audio.dictaphone        3.968053e-08\n",
      "Name: proportion, Length: 139, dtype: float64\n",
      "category_code\n",
      "construction.tools.light            2.394221e-01\n",
      "electronics.audio.headphone         5.355650e-02\n",
      "appliances.personal.massager        4.227564e-02\n",
      "appliances.kitchen.refrigerators    3.852080e-02\n",
      "sport.bicycle                       3.652754e-02\n",
      "                                        ...     \n",
      "stationery.paper                    2.607240e-06\n",
      "country_yard.watering               2.155987e-06\n",
      "apparel.belt                        2.122560e-06\n",
      "computers.components.sound_card     6.518099e-07\n",
      "apparel.hat                         8.356537e-08\n",
      "Name: proportion, Length: 141, dtype: float64\n"
     ]
    }
   ],
   "source": [
    "print(data_feb.describe())\n",
    "print(data_mar.describe())\n",
    "print(data_apr.describe())\n",
    "\n",
    "# Ratio of event types\n",
    "print(data_feb[\"event_type\"].value_counts(normalize=True))\t\n",
    "print(data_mar[\"event_type\"].value_counts(normalize=True))\n",
    "print(data_apr[\"event_type\"].value_counts(normalize=True))\n",
    "\n",
    "# Ratio of category codes\n",
    "print(data_feb[\"category_code\"].value_counts(normalize=True))\n",
    "print(data_mar[\"category_code\"].value_counts(normalize=True))\n",
    "print(data_apr[\"category_code\"].value_counts(normalize=True))"
   ]
  },
  {
   "cell_type": "code",
   "execution_count": 32,
   "metadata": {},
   "outputs": [
    {
     "data": {
      "text/plain": [
       "1200288"
      ]
     },
     "execution_count": 32,
     "metadata": {},
     "output_type": "execute_result"
    }
   ],
   "source": [
    "(data_feb[\"event_type\"] == \"purchase\").sum()\n"
   ]
  },
  {
   "cell_type": "code",
   "execution_count": 33,
   "metadata": {},
   "outputs": [
    {
     "name": "stderr",
     "output_type": "stream",
     "text": [
      "C:\\Users\\vae.tiolamon\\AppData\\Local\\Temp\\ipykernel_65092\\1432064459.py:1: FutureWarning: The default of observed=False is deprecated and will be changed to True in a future version of pandas. Pass observed=False to retain current behavior or observed=True to adopt the future default and silence this warning.\n",
      "  print(data_feb.groupby(\"event_type\").describe())\n"
     ]
    },
    {
     "name": "stdout",
     "output_type": "stream",
     "text": [
      "            product_id                                                    \\\n",
      "                 count          mean           std        min        25%   \n",
      "event_type                                                                 \n",
      "cart         2885608.0  1.761852e+07  3.092900e+07  1000978.0  1005115.0   \n",
      "purchase     1200288.0  1.796980e+07  3.245663e+07  1001588.0  1005101.0   \n",
      "view        51232669.0  2.815221e+07  3.714587e+07  1000365.0  1701462.0   \n",
      "\n",
      "                                                category_id                \\\n",
      "                   50%         75%          max       count          mean   \n",
      "event_type                                                                  \n",
      "cart         4100346.0  15901419.0  100144608.0   2885608.0  2.201706e+18   \n",
      "purchase     2601780.0  15200181.0  100144443.0   1200288.0  2.206952e+18   \n",
      "view        10504485.0  28722139.0  100144758.0  51232669.0  2.187420e+18   \n",
      "\n",
      "            ...   price              user_id                              \\\n",
      "            ...     75%      max       count          mean           std   \n",
      "event_type  ...                                                            \n",
      "cart        ...  361.14  2574.07   2885608.0  5.615179e+08  3.788925e+07   \n",
      "purchase    ...  406.70  2574.07   1200288.0  5.692850e+08  3.707910e+07   \n",
      "view        ...  348.27  2574.07  51232669.0  5.633061e+08  3.831981e+07   \n",
      "\n",
      "                                                                              \n",
      "                    min           25%          50%          75%          max  \n",
      "event_type                                                                    \n",
      "cart         42896738.0  5.214340e+08  559971706.0  599631455.0  622090083.0  \n",
      "purchase    171409616.0  5.329908e+08  572484264.5  605736829.0  622089298.0  \n",
      "view         12511517.0  5.235089e+08  563766563.0  600895310.0  622090716.0  \n",
      "\n",
      "[3 rows x 32 columns]\n"
     ]
    }
   ],
   "source": [
    "print(data_feb.groupby(\"event_type\").describe())"
   ]
  },
  {
   "cell_type": "code",
   "execution_count": 55,
   "metadata": {},
   "outputs": [
    {
     "name": "stdout",
     "output_type": "stream",
     "text": [
      "                 event_time event_type  product_id          category_id  \\\n",
      "0 2020-02-01 00:00:00+00:00       view   100010426  2232732115290555244   \n",
      "1 2020-02-01 00:00:00+00:00       view   100071077  2232732079706079299   \n",
      "2 2020-02-01 00:00:00+00:00       view     1004665  2232732093077520756   \n",
      "3 2020-02-01 00:00:01+00:00       view     1002544  2232732093077520756   \n",
      "4 2020-02-01 00:00:01+00:00       view   100010151  2053013563835941749   \n",
      "\n",
      "                      category_code    brand   price    user_id  \\\n",
      "0                     apparel.shoes      NaN   19.31  581521975   \n",
      "1                     sport.bicycle    crown   11.88  596313635   \n",
      "2          construction.tools.light  samsung  838.23  608821035   \n",
      "3          construction.tools.light    apple  410.42  530488542   \n",
      "4  appliances.kitchen.refrigerators   pulser  332.03  583795643   \n",
      "\n",
      "                           user_session  \n",
      "0  82d5664d-7980-43e1-ab27-a2f05e991760  \n",
      "1  3df590c0-e667-4f5a-aa87-f47749cd6408  \n",
      "2  3e271f43-db51-46bd-b215-c2907ed1a204  \n",
      "3  21f46782-fb36-4d5c-82d4-6dc26ae93fad  \n",
      "4  eddfe0e2-12f8-4357-b453-00786c9b0319  \n",
      "                 event_time event_type  product_id          category_id  \\\n",
      "0 2020-03-01 00:00:00+00:00       view    10900348  2232732105912091273   \n",
      "1 2020-03-01 00:00:01+00:00       view    14300020  2232732107967300275   \n",
      "2 2020-03-01 00:00:03+00:00       view    13200063  2232732061804790604   \n",
      "3 2020-03-01 00:00:03+00:00       view   100077498  2232732085846540487   \n",
      "4 2020-03-01 00:00:04+00:00       view     1005014  2232732093077520756   \n",
      "\n",
      "                  category_code    brand   price    user_id  \\\n",
      "0      appliances.kitchen.mixer  kitfort  117.63  550295099   \n",
      "1             apparel.underwear    casio  264.37  622070532   \n",
      "2         furniture.bedroom.bed      NaN  126.10  552832344   \n",
      "3  construction.tools.generator   tamina  424.72  613391860   \n",
      "4      construction.tools.light  samsung  482.73  517021211   \n",
      "\n",
      "                           user_session  \n",
      "0  23f5ab9e-7774-416d-900b-f2725da671aa  \n",
      "1  edf19213-f0dd-46e1-ae18-28968dbddd6e  \n",
      "2  608087d8-6b69-21db-50a3-2b91ba015532  \n",
      "3  5ab6c3d5-edd7-4e15-8b0a-75b467a37fd0  \n",
      "4  0c34308d-c455-40bb-9992-3e44920bc2b9  \n",
      "                 event_time event_type  product_id          category_id  \\\n",
      "0 2020-04-01 00:00:00+00:00       view     1201465  2232732101407408685   \n",
      "1 2020-04-01 00:00:01+00:00       view     1307156  2053013554658804075   \n",
      "2 2020-04-01 00:00:01+00:00       view     1480477  2053013563835941749   \n",
      "3 2020-04-01 00:00:02+00:00       view     1307050  2053013554658804075   \n",
      "4 2020-04-01 00:00:03+00:00       view     9500109  2232732104175649385   \n",
      "\n",
      "                      category_code     brand    price    user_id  \\\n",
      "0             apparel.shoes.slipons   samsung   230.38  568984877   \n",
      "1       electronics.audio.headphone     apple  1352.67  514955500   \n",
      "2  appliances.kitchen.refrigerators     apple  1184.05  633645770   \n",
      "3       electronics.audio.headphone     apple  1724.34  564933778   \n",
      "4                     apparel.scarf  defender    25.05  530206135   \n",
      "\n",
      "                           user_session  \n",
      "0  e2456cef-2d4f-42b9-a53a-8893cb0c6851  \n",
      "1  38f43134-de83-4710-ae0a-326677d292c6  \n",
      "2  16aba270-b3c2-4b23-be0a-b7c80bc9da9e  \n",
      "3  05b443bd-e68a-4d72-b971-80bd31109cb8  \n",
      "4  e3c1fb4b-0a7e-457d-a0cf-5d1479e9aafc  \n"
     ]
    }
   ],
   "source": [
    "df_feb = pd.DataFrame(data_feb)\n",
    "df_mar = pd.DataFrame(data_mar)\n",
    "df_apr = pd.DataFrame(data_apr)\n",
    "\n",
    "print(df_feb.head())\n",
    "print(df_mar.head())\n",
    "print(df_apr.head())"
   ]
  },
  {
   "cell_type": "code",
   "execution_count": 56,
   "metadata": {},
   "outputs": [],
   "source": [
    "# df_feb = df_feb[df_feb['event_type'] != 'view']\n",
    "# df_mar = df_mar[df_mar['event_type'] != 'view']\n",
    "# df_apr = df_apr[df_apr['event_type'] != 'view']\n",
    "\n",
    "# print(df_feb)\n",
    "# print(df_mar)\n",
    "# print(df_apr)"
   ]
  },
  {
   "cell_type": "markdown",
   "metadata": {},
   "source": [
    "We are droping the user_id and product_id because we don't need this column in our project and it may take up some storage space. In the next chunk, you can see that the user_id and product_id columns take up how much storage.\n",
    "\n",
    "## !don't forget to make the calculation"
   ]
  },
  {
   "cell_type": "code",
   "execution_count": 57,
   "metadata": {},
   "outputs": [],
   "source": [
    "df_feb.drop([\"user_id\", \"product_id\"], axis=1, inplace=True)\n",
    "df_mar.drop([\"user_id\", \"product_id\"], axis=1, inplace=True)\n",
    "df_apr.drop([\"user_id\", \"product_id\"], axis=1, inplace=True)"
   ]
  },
  {
   "cell_type": "markdown",
   "metadata": {},
   "source": [
    "In this case, since we don't have the product name, only the product id, what we do is drop the NaN. But in real world, we wouldn't delete in, and instead we bind it with the product name in another database and make a machine learning classification to determine which categories the product goes.\n",
    "\n",
    "The reason why we drop user_session NaN is because there aren't a lot of NaN there, and since we need the column, we cannot drop the whole column nor replace it with a random id because we are not sure if the missing values may be the same person."
   ]
  },
  {
   "cell_type": "code",
   "execution_count": 58,
   "metadata": {},
   "outputs": [
    {
     "name": "stdout",
     "output_type": "stream",
     "text": [
      "event_time             0\n",
      "event_type             0\n",
      "product_id             0\n",
      "category_id            0\n",
      "category_code          0\n",
      "brand            7451458\n",
      "price                  0\n",
      "user_session           0\n",
      "dtype: int64\n",
      "event_time             0\n",
      "event_type             0\n",
      "product_id             0\n",
      "category_id            0\n",
      "category_code          0\n",
      "brand            6953261\n",
      "price                  0\n",
      "user_session           0\n",
      "dtype: int64\n",
      "event_time             0\n",
      "event_type             0\n",
      "product_id             0\n",
      "category_id            0\n",
      "category_code          0\n",
      "brand            7614761\n",
      "price                  0\n",
      "user_session           0\n",
      "dtype: int64\n"
     ]
    }
   ],
   "source": [
    "df_feb.dropna(subset=['category_code'], inplace=True)\n",
    "df_mar.dropna(subset=['category_code'], inplace=True)\n",
    "df_apr.dropna(subset=['category_code'], inplace=True)\n",
    "\n",
    "df_feb.dropna(subset=['user_session'], inplace=True)\n",
    "df_mar.dropna(subset=['user_session'], inplace=True)\n",
    "df_apr.dropna(subset=['user_session'], inplace=True)\n",
    "\n",
    "print(df_feb.isnull().sum())\n",
    "print(df_mar.isnull().sum())\n",
    "print(df_apr.isnull().sum())"
   ]
  },
  {
   "cell_type": "code",
   "execution_count": 59,
   "metadata": {},
   "outputs": [
    {
     "data": {
      "text/html": [
       "<div>\n",
       "<style scoped>\n",
       "    .dataframe tbody tr th:only-of-type {\n",
       "        vertical-align: middle;\n",
       "    }\n",
       "\n",
       "    .dataframe tbody tr th {\n",
       "        vertical-align: top;\n",
       "    }\n",
       "\n",
       "    .dataframe thead th {\n",
       "        text-align: right;\n",
       "    }\n",
       "</style>\n",
       "<table border=\"1\" class=\"dataframe\">\n",
       "  <thead>\n",
       "    <tr style=\"text-align: right;\">\n",
       "      <th></th>\n",
       "      <th>event_time</th>\n",
       "      <th>event_type</th>\n",
       "      <th>product_id</th>\n",
       "      <th>category_id</th>\n",
       "      <th>category_code</th>\n",
       "      <th>brand</th>\n",
       "      <th>price</th>\n",
       "      <th>user_session</th>\n",
       "    </tr>\n",
       "  </thead>\n",
       "  <tbody>\n",
       "    <tr>\n",
       "      <th>55318560</th>\n",
       "      <td>2020-02-29 23:59:57+00:00</td>\n",
       "      <td>view</td>\n",
       "      <td>100118024</td>\n",
       "      <td>2232732099436085763</td>\n",
       "      <td>construction.tools.welding</td>\n",
       "      <td>a-case</td>\n",
       "      <td>1.93</td>\n",
       "      <td>57732f68-9928-47ff-bf88-09a7767fe86c</td>\n",
       "    </tr>\n",
       "    <tr>\n",
       "      <th>55318561</th>\n",
       "      <td>2020-02-29 23:59:58+00:00</td>\n",
       "      <td>view</td>\n",
       "      <td>12200332</td>\n",
       "      <td>2053013553325015316</td>\n",
       "      <td>appliances.kitchen.toster</td>\n",
       "      <td>phoenix</td>\n",
       "      <td>77.20</td>\n",
       "      <td>f7c7cdc5-5952-4337-8f3d-1afdb5457c9f</td>\n",
       "    </tr>\n",
       "    <tr>\n",
       "      <th>55318562</th>\n",
       "      <td>2020-02-29 23:59:58+00:00</td>\n",
       "      <td>view</td>\n",
       "      <td>6902464</td>\n",
       "      <td>2232732078733000751</td>\n",
       "      <td>electronics.telephone</td>\n",
       "      <td>zlatek</td>\n",
       "      <td>49.91</td>\n",
       "      <td>48714293-b3f9-4946-8135-eb1ea05ead74</td>\n",
       "    </tr>\n",
       "    <tr>\n",
       "      <th>55318563</th>\n",
       "      <td>2020-02-29 23:59:59+00:00</td>\n",
       "      <td>view</td>\n",
       "      <td>100103966</td>\n",
       "      <td>2053013560530830019</td>\n",
       "      <td>electronics.camera.video</td>\n",
       "      <td>bq</td>\n",
       "      <td>10.77</td>\n",
       "      <td>71920ba0-0e94-4f73-b7ae-e5e411d6765f</td>\n",
       "    </tr>\n",
       "    <tr>\n",
       "      <th>55318564</th>\n",
       "      <td>2020-02-29 23:59:59+00:00</td>\n",
       "      <td>view</td>\n",
       "      <td>16000659</td>\n",
       "      <td>2053013556856619499</td>\n",
       "      <td>accessories.bag</td>\n",
       "      <td>gipfel</td>\n",
       "      <td>129.19</td>\n",
       "      <td>d2241bd8-e2a5-4bdf-9591-57483a2da8ee</td>\n",
       "    </tr>\n",
       "  </tbody>\n",
       "</table>\n",
       "</div>"
      ],
      "text/plain": [
       "                        event_time event_type  product_id  \\\n",
       "55318560 2020-02-29 23:59:57+00:00       view   100118024   \n",
       "55318561 2020-02-29 23:59:58+00:00       view    12200332   \n",
       "55318562 2020-02-29 23:59:58+00:00       view     6902464   \n",
       "55318563 2020-02-29 23:59:59+00:00       view   100103966   \n",
       "55318564 2020-02-29 23:59:59+00:00       view    16000659   \n",
       "\n",
       "                  category_id               category_code    brand   price  \\\n",
       "55318560  2232732099436085763  construction.tools.welding   a-case    1.93   \n",
       "55318561  2053013553325015316   appliances.kitchen.toster  phoenix   77.20   \n",
       "55318562  2232732078733000751       electronics.telephone   zlatek   49.91   \n",
       "55318563  2053013560530830019    electronics.camera.video       bq   10.77   \n",
       "55318564  2053013556856619499             accessories.bag   gipfel  129.19   \n",
       "\n",
       "                                  user_session  \n",
       "55318560  57732f68-9928-47ff-bf88-09a7767fe86c  \n",
       "55318561  f7c7cdc5-5952-4337-8f3d-1afdb5457c9f  \n",
       "55318562  48714293-b3f9-4946-8135-eb1ea05ead74  \n",
       "55318563  71920ba0-0e94-4f73-b7ae-e5e411d6765f  \n",
       "55318564  d2241bd8-e2a5-4bdf-9591-57483a2da8ee  "
      ]
     },
     "execution_count": 59,
     "metadata": {},
     "output_type": "execute_result"
    }
   ],
   "source": [
    "df_feb.tail()"
   ]
  },
  {
   "cell_type": "code",
   "execution_count": 60,
   "metadata": {},
   "outputs": [
    {
     "name": "stdout",
     "output_type": "stream",
     "text": [
      "                         event_time event_type  product_id  \\\n",
      "0         2020-02-01 00:00:00+00:00       view   100010426   \n",
      "1         2020-02-01 00:00:00+00:00       view   100071077   \n",
      "2         2020-02-01 00:00:00+00:00       view     1004665   \n",
      "3         2020-02-01 00:00:01+00:00       view     1002544   \n",
      "4         2020-02-01 00:00:01+00:00       view   100010151   \n",
      "...                             ...        ...         ...   \n",
      "160624670 2020-04-30 23:59:59+00:00       view     1003319   \n",
      "160624671 2020-04-30 23:59:59+00:00       view     1005141   \n",
      "160624672 2020-04-30 23:59:59+00:00       view   100205454   \n",
      "160624673 2020-04-30 23:59:59+00:00       view    12200824   \n",
      "160624674 2020-04-30 23:59:59+00:00       view     1004342   \n",
      "\n",
      "                   category_id                     category_code    brand  \\\n",
      "0          2232732115290555244                     apparel.shoes      NaN   \n",
      "1          2232732079706079299                     sport.bicycle    crown   \n",
      "2          2232732093077520756          construction.tools.light  samsung   \n",
      "3          2232732093077520756          construction.tools.light    apple   \n",
      "4          2053013563835941749  appliances.kitchen.refrigerators   pulser   \n",
      "...                        ...                               ...      ...   \n",
      "160624670  2232732093077520756          construction.tools.light    apple   \n",
      "160624671  2232732093077520756          construction.tools.light    apple   \n",
      "160624672  2232732085041234105                     apparel.shirt  defacto   \n",
      "160624673  2053013553325015316         appliances.kitchen.toster     cube   \n",
      "160624674  2232732093077520756          construction.tools.light    meizu   \n",
      "\n",
      "             price                          user_session  \n",
      "0            19.31  82d5664d-7980-43e1-ab27-a2f05e991760  \n",
      "1            11.88  3df590c0-e667-4f5a-aa87-f47749cd6408  \n",
      "2           838.23  3e271f43-db51-46bd-b215-c2907ed1a204  \n",
      "3           410.42  21f46782-fb36-4d5c-82d4-6dc26ae93fad  \n",
      "4           332.03  eddfe0e2-12f8-4357-b453-00786c9b0319  \n",
      "...            ...                                   ...  \n",
      "160624670   900.90  b30b4657-011a-42bb-a57b-300b0030ef50  \n",
      "160624671  1599.78  a1f49d5b-714f-4e38-b66a-d1679d4d2a1c  \n",
      "160624672    12.84  8b9ae17d-c0c1-4bad-aa20-9b541c8be405  \n",
      "160624673  1956.03  d272f36d-f20b-4540-ac35-9b779acc4dd7  \n",
      "160624674   228.83  1fb383a0-01f9-4219-93e7-836e70e3bce1  \n",
      "\n",
      "[160624675 rows x 8 columns]\n"
     ]
    }
   ],
   "source": [
    "# Concatenate the DataFrames vertically\n",
    "combined_df = pd.concat([df_feb, df_mar, df_apr], ignore_index=True)\n",
    "\n",
    "# Display the combined DataFrame\n",
    "print(combined_df)\n",
    "\n"
   ]
  },
  {
   "cell_type": "code",
   "execution_count": 61,
   "metadata": {},
   "outputs": [
    {
     "data": {
      "text/html": [
       "<div>\n",
       "<style scoped>\n",
       "    .dataframe tbody tr th:only-of-type {\n",
       "        vertical-align: middle;\n",
       "    }\n",
       "\n",
       "    .dataframe tbody tr th {\n",
       "        vertical-align: top;\n",
       "    }\n",
       "\n",
       "    .dataframe thead th {\n",
       "        text-align: right;\n",
       "    }\n",
       "</style>\n",
       "<table border=\"1\" class=\"dataframe\">\n",
       "  <thead>\n",
       "    <tr style=\"text-align: right;\">\n",
       "      <th></th>\n",
       "      <th>event_time</th>\n",
       "      <th>event_type</th>\n",
       "      <th>product_id</th>\n",
       "      <th>category_id</th>\n",
       "      <th>category_code</th>\n",
       "      <th>brand</th>\n",
       "      <th>price</th>\n",
       "      <th>user_session</th>\n",
       "    </tr>\n",
       "  </thead>\n",
       "  <tbody>\n",
       "    <tr>\n",
       "      <th>0</th>\n",
       "      <td>2020-02-01 00:00:00+00:00</td>\n",
       "      <td>view</td>\n",
       "      <td>100010426</td>\n",
       "      <td>2232732115290555244</td>\n",
       "      <td>apparel.shoes</td>\n",
       "      <td>NaN</td>\n",
       "      <td>19.31</td>\n",
       "      <td>82d5664d-7980-43e1-ab27-a2f05e991760</td>\n",
       "    </tr>\n",
       "    <tr>\n",
       "      <th>1</th>\n",
       "      <td>2020-02-01 00:00:00+00:00</td>\n",
       "      <td>view</td>\n",
       "      <td>100071077</td>\n",
       "      <td>2232732079706079299</td>\n",
       "      <td>sport.bicycle</td>\n",
       "      <td>crown</td>\n",
       "      <td>11.88</td>\n",
       "      <td>3df590c0-e667-4f5a-aa87-f47749cd6408</td>\n",
       "    </tr>\n",
       "    <tr>\n",
       "      <th>2</th>\n",
       "      <td>2020-02-01 00:00:00+00:00</td>\n",
       "      <td>view</td>\n",
       "      <td>1004665</td>\n",
       "      <td>2232732093077520756</td>\n",
       "      <td>construction.tools.light</td>\n",
       "      <td>samsung</td>\n",
       "      <td>838.23</td>\n",
       "      <td>3e271f43-db51-46bd-b215-c2907ed1a204</td>\n",
       "    </tr>\n",
       "    <tr>\n",
       "      <th>3</th>\n",
       "      <td>2020-02-01 00:00:01+00:00</td>\n",
       "      <td>view</td>\n",
       "      <td>1002544</td>\n",
       "      <td>2232732093077520756</td>\n",
       "      <td>construction.tools.light</td>\n",
       "      <td>apple</td>\n",
       "      <td>410.42</td>\n",
       "      <td>21f46782-fb36-4d5c-82d4-6dc26ae93fad</td>\n",
       "    </tr>\n",
       "    <tr>\n",
       "      <th>4</th>\n",
       "      <td>2020-02-01 00:00:01+00:00</td>\n",
       "      <td>view</td>\n",
       "      <td>100010151</td>\n",
       "      <td>2053013563835941749</td>\n",
       "      <td>appliances.kitchen.refrigerators</td>\n",
       "      <td>pulser</td>\n",
       "      <td>332.03</td>\n",
       "      <td>eddfe0e2-12f8-4357-b453-00786c9b0319</td>\n",
       "    </tr>\n",
       "  </tbody>\n",
       "</table>\n",
       "</div>"
      ],
      "text/plain": [
       "                 event_time event_type  product_id          category_id  \\\n",
       "0 2020-02-01 00:00:00+00:00       view   100010426  2232732115290555244   \n",
       "1 2020-02-01 00:00:00+00:00       view   100071077  2232732079706079299   \n",
       "2 2020-02-01 00:00:00+00:00       view     1004665  2232732093077520756   \n",
       "3 2020-02-01 00:00:01+00:00       view     1002544  2232732093077520756   \n",
       "4 2020-02-01 00:00:01+00:00       view   100010151  2053013563835941749   \n",
       "\n",
       "                      category_code    brand   price  \\\n",
       "0                     apparel.shoes      NaN   19.31   \n",
       "1                     sport.bicycle    crown   11.88   \n",
       "2          construction.tools.light  samsung  838.23   \n",
       "3          construction.tools.light    apple  410.42   \n",
       "4  appliances.kitchen.refrigerators   pulser  332.03   \n",
       "\n",
       "                           user_session  \n",
       "0  82d5664d-7980-43e1-ab27-a2f05e991760  \n",
       "1  3df590c0-e667-4f5a-aa87-f47749cd6408  \n",
       "2  3e271f43-db51-46bd-b215-c2907ed1a204  \n",
       "3  21f46782-fb36-4d5c-82d4-6dc26ae93fad  \n",
       "4  eddfe0e2-12f8-4357-b453-00786c9b0319  "
      ]
     },
     "execution_count": 61,
     "metadata": {},
     "output_type": "execute_result"
    }
   ],
   "source": [
    "combined_df.head()"
   ]
  },
  {
   "cell_type": "code",
   "execution_count": 62,
   "metadata": {},
   "outputs": [
    {
     "data": {
      "text/plain": [
       "160624675"
      ]
     },
     "execution_count": 62,
     "metadata": {},
     "output_type": "execute_result"
    }
   ],
   "source": [
    "len(combined_df)"
   ]
  },
  {
   "cell_type": "code",
   "execution_count": 63,
   "metadata": {},
   "outputs": [
    {
     "data": {
      "text/plain": [
       "11248195"
      ]
     },
     "execution_count": 63,
     "metadata": {},
     "output_type": "execute_result"
    }
   ],
   "source": [
    "\n",
    "combined_df_noview = combined_df[combined_df['event_type'] != 'view']\n",
    "len(combined_df_noview)\n"
   ]
  },
  {
   "cell_type": "code",
   "execution_count": 64,
   "metadata": {},
   "outputs": [
    {
     "name": "stdout",
     "output_type": "stream",
     "text": [
      "7.002781484227127%\n"
     ]
    },
    {
     "ename": "NameError",
     "evalue": "name 'unit_ratio' is not defined",
     "output_type": "error",
     "traceback": [
      "\u001b[1;31m---------------------------------------------------------------------------\u001b[0m",
      "\u001b[1;31mNameError\u001b[0m                                 Traceback (most recent call last)",
      "Cell \u001b[1;32mIn[64], line 3\u001b[0m\n\u001b[0;32m      1\u001b[0m \u001b[38;5;28mprint\u001b[39m(\u001b[38;5;124mf\u001b[39m\u001b[38;5;124m\"\u001b[39m\u001b[38;5;132;01m{\u001b[39;00m(\u001b[38;5;28mlen\u001b[39m(combined_df_noview)\u001b[38;5;241m/\u001b[39m\u001b[38;5;28mlen\u001b[39m(combined_df))\u001b[38;5;241m*\u001b[39m\u001b[38;5;241m100\u001b[39m\u001b[38;5;132;01m}\u001b[39;00m\u001b[38;5;124m%\u001b[39m\u001b[38;5;124m\"\u001b[39m)\n\u001b[1;32m----> 3\u001b[0m \u001b[38;5;28mprint\u001b[39m(\u001b[38;5;124mf\u001b[39m\u001b[38;5;124m\"\u001b[39m\u001b[38;5;124m1 unit is approximately equal to \u001b[39m\u001b[38;5;132;01m{\u001b[39;00m\u001b[43munit_ratio\u001b[49m\u001b[38;5;132;01m}\u001b[39;00m\u001b[38;5;124m products\u001b[39m\u001b[38;5;124m\"\u001b[39m)\n",
      "\u001b[1;31mNameError\u001b[0m: name 'unit_ratio' is not defined"
     ]
    }
   ],
   "source": [
    "print(f\"{(len(combined_df_noview)/len(combined_df))*100}%\")\n",
    "\n",
    "print(f\"1 unit is approximately equal to {unit_ratio} products\")"
   ]
  },
  {
   "cell_type": "markdown",
   "metadata": {},
   "source": [
    "# UPLOAD CLEANED DATA TO ANOTHER BUCKET TO BE USED FOR THE NEXT STEP"
   ]
  },
  {
   "cell_type": "code",
   "execution_count": null,
   "metadata": {},
   "outputs": [],
   "source": [
    "# from pyspark.sql import SparkSession\n",
    "\n",
    "# # Assuming your cleaned data is stored in a dictionary\n",
    "# cleaned_data = {\n",
    "#     \"col1\": [1, 2, 3],\n",
    "#     \"col2\": [\"A\", \"B\", \"C\"]\n",
    "# }\n",
    "\n",
    "# # Create a SparkSession\n",
    "# spark = SparkSession.builder.appName(\"Example\").getOrCreate()\n",
    "\n",
    "# # Convert dictionary to DataFrame\n",
    "# cleaned_data_df = spark.createDataFrame([(k, v) for k, v in cleaned_data.items()], [\"col_name\", \"col_data\"])\n",
    "\n",
    "# # Save DataFrame to MinIO bucket as CSV\n",
    "# minio_endpoint = \"http://localhost:9001/browser/ecommerce\"  # Replace with your MinIO endpoint\n",
    "\n",
    "# cleaned_data_df.write.format(\"csv\") \\\n",
    "#     .option(\"header\", \"true\") \\\n",
    "#     .mode(\"overwrite\") \\\n",
    "#     .save(f\"s3a://{minio_endpoint}/{bucket_name}/cleaned_data.csv\")\n"
   ]
  }
 ],
 "metadata": {
  "kernelspec": {
   "display_name": "Python 3",
   "language": "python",
   "name": "python3"
  },
  "language_info": {
   "codemirror_mode": {
    "name": "ipython",
    "version": 3
   },
   "file_extension": ".py",
   "mimetype": "text/x-python",
   "name": "python",
   "nbconvert_exporter": "python",
   "pygments_lexer": "ipython3",
   "version": "3.12.0"
  }
 },
 "nbformat": 4,
 "nbformat_minor": 2
}
