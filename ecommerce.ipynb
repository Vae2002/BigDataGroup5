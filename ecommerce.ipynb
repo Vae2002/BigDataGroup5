{
 "cells": [
  {
   "cell_type": "code",
   "execution_count": 3,
   "metadata": {},
   "outputs": [],
   "source": [
    "from minio import Minio\n",
    "from minio.error import S3Error\n",
    "import pandas as pd"
   ]
  },
  {
   "cell_type": "code",
   "execution_count": 4,
   "metadata": {},
   "outputs": [
    {
     "name": "stdout",
     "output_type": "stream",
     "text": [
      "ecommerce\n",
      "homework\n",
      "File: 2020-Apr.csv\n",
      "File: 2020-Feb.csv\n",
      "File: 2020-Mar.csv\n"
     ]
    }
   ],
   "source": [
    "# Initialize MinIO client\n",
    "client = Minio('localhost:9000',\n",
    "                     access_key='minioadmin',\n",
    "                     secret_key='minioadmin',\n",
    "                     secure=False)  # Change to True if using HTTPS\n",
    "\n",
    "# Example: List buckets\n",
    "try:\n",
    "    buckets = client.list_buckets()\n",
    "    for bucket in buckets:\n",
    "        print(bucket.name)\n",
    "except S3Error as e:\n",
    "    print(\"Error:\", e)\n",
    "\n",
    "try:\n",
    "    bucket_name = \"ecommerce\"\n",
    "    objects = client.list_objects(bucket_name)\n",
    "    for obj in objects:\n",
    "        if obj.object_name.endswith('/'):\n",
    "            print(\"Directory:\", obj.object_name)\n",
    "        else:\n",
    "            print(\"File:\", obj.object_name)\n",
    "except S3Error as e:\n",
    "    print(\"Error in listing objects:\", e)"
   ]
  },
  {
   "cell_type": "code",
   "execution_count": 5,
   "metadata": {},
   "outputs": [
    {
     "name": "stdout",
     "output_type": "stream",
     "text": [
      "Error in reading object: S3 operation failed; code: NoSuchKey, message: The specified key does not exist., resource: /ecommerce/2019-Dec.csv, request_id: 179F3E1E136AC807, host_id: dd9025bab4ad464b049177c95eb6ebf374d3b3fd1af9251148b658df7ac2e3e8, bucket_name: ecommerce, object_name: 2019-Dec.csv\n"
     ]
    }
   ],
   "source": [
    "bucket_name = \"ecommerce\"  # Corrected bucket name\n",
    "dec_data = \"2019-Dec.csv\"  # Corrected object name\n",
    "\n",
    "try:\n",
    "    response = client.get_object(bucket_name, dec_data)\n",
    "    data = pd.read_csv(response)   # this data will be used in step 8\n",
    "    print(data.head())  # Display first few rows\n",
    "except S3Error as e:\n",
    "    print(\"Error in reading object:\", e)\n",
    "finally:\n",
    "    if 'response' in locals():\n",
    "        response.close()\n",
    "        response.release_conn()"
   ]
  },
  {
   "cell_type": "code",
   "execution_count": 6,
   "metadata": {},
   "outputs": [],
   "source": [
    "mar_data = \"2020-Mar.csv\"  # Corrected object name\n",
    "\n",
    "try:\n",
    "    response = client.get_object(bucket_name, mar_data)\n",
    "    data = pd.read_csv(response)   # this data will be used in step 8\n",
    "    print(data.head())  # Display first few rows\n",
    "except S3Error as e:\n",
    "    print(\"Error in reading object:\", e)\n",
    "finally:\n",
    "    if 'response' in locals():\n",
    "        response.close()\n",
    "        response.release_conn()"
   ]
  },
  {
   "cell_type": "code",
   "execution_count": null,
   "metadata": {},
   "outputs": [
    {
     "name": "stdout",
     "output_type": "stream",
     "text": [
      "                event_time event_type  product_id          category_id  \\\n",
      "0  2020-04-01 00:00:00 UTC       view     1201465  2232732101407408685   \n",
      "1  2020-04-01 00:00:01 UTC       view     1307156  2053013554658804075   \n",
      "2  2020-04-01 00:00:01 UTC       view     1480477  2053013563835941749   \n",
      "3  2020-04-01 00:00:02 UTC       view     1307050  2053013554658804075   \n",
      "4  2020-04-01 00:00:03 UTC       view     9500109  2232732104175649385   \n",
      "\n",
      "                      category_code     brand    price    user_id  \\\n",
      "0             apparel.shoes.slipons   samsung   230.38  568984877   \n",
      "1       electronics.audio.headphone     apple  1352.67  514955500   \n",
      "2  appliances.kitchen.refrigerators     apple  1184.05  633645770   \n",
      "3       electronics.audio.headphone     apple  1724.34  564933778   \n",
      "4                     apparel.scarf  defender    25.05  530206135   \n",
      "\n",
      "                           user_session  \n",
      "0  e2456cef-2d4f-42b9-a53a-8893cb0c6851  \n",
      "1  38f43134-de83-4710-ae0a-326677d292c6  \n",
      "2  16aba270-b3c2-4b23-be0a-b7c80bc9da9e  \n",
      "3  05b443bd-e68a-4d72-b971-80bd31109cb8  \n",
      "4  e3c1fb4b-0a7e-457d-a0cf-5d1479e9aafc  \n"
     ]
    }
   ],
   "source": [
    "apr_data = \"2020-Apr.csv\"  # Corrected object name\n",
    "\n",
    "try:\n",
    "    response = client.get_object(bucket_name, apr_data)\n",
    "    data = pd.read_csv(response)   # this data will be used in step 8\n",
    "    print(data.head())  # Display first few rows\n",
    "except S3Error as e:\n",
    "    print(\"Error in reading object:\", e)\n",
    "finally:\n",
    "    if 'response' in locals():\n",
    "        response.close()\n",
    "        response.release_conn()"
   ]
  },
  {
   "cell_type": "code",
   "execution_count": null,
   "metadata": {},
   "outputs": [
    {
     "name": "stdout",
     "output_type": "stream",
     "text": [
      "                event_time event_type  product_id          category_id  \\\n",
      "0  2020-02-01 00:00:00 UTC       view   100010426  2232732115290555244   \n",
      "1  2020-02-01 00:00:00 UTC       view   100071077  2232732079706079299   \n",
      "2  2020-02-01 00:00:00 UTC       view     1004665  2232732093077520756   \n",
      "3  2020-02-01 00:00:01 UTC       view     1002544  2232732093077520756   \n",
      "4  2020-02-01 00:00:01 UTC       view   100010151  2053013563835941749   \n",
      "\n",
      "                      category_code    brand   price    user_id  \\\n",
      "0                     apparel.shoes      NaN   19.31  581521975   \n",
      "1                     sport.bicycle    crown   11.88  596313635   \n",
      "2          construction.tools.light  samsung  838.23  608821035   \n",
      "3          construction.tools.light    apple  410.42  530488542   \n",
      "4  appliances.kitchen.refrigerators   pulser  332.03  583795643   \n",
      "\n",
      "                           user_session  \n",
      "0  82d5664d-7980-43e1-ab27-a2f05e991760  \n",
      "1  3df590c0-e667-4f5a-aa87-f47749cd6408  \n",
      "2  3e271f43-db51-46bd-b215-c2907ed1a204  \n",
      "3  21f46782-fb36-4d5c-82d4-6dc26ae93fad  \n",
      "4  eddfe0e2-12f8-4357-b453-00786c9b0319  \n"
     ]
    }
   ],
   "source": [
    "feb_data = \"2020-Feb.csv\"  # Corrected object name\n",
    "\n",
    "try:\n",
    "    response = client.get_object(bucket_name, feb_data)\n",
    "    data = pd.read_csv(response)   # this data will be used in step 8\n",
    "    print(data.head())  # Display first few rows\n",
    "except S3Error as e:\n",
    "    print(\"Error in reading object:\", e)\n",
    "finally:\n",
    "    if 'response' in locals():\n",
    "        response.close()\n",
    "        response.release_conn()"
   ]
  }
 ],
 "metadata": {
  "kernelspec": {
   "display_name": "Python 3",
   "language": "python",
   "name": "python3"
  },
  "language_info": {
   "codemirror_mode": {
    "name": "ipython",
    "version": 3
   },
   "file_extension": ".py",
   "mimetype": "text/x-python",
   "name": "python",
   "nbconvert_exporter": "python",
   "pygments_lexer": "ipython3",
   "version": "3.10.11"
  }
 },
 "nbformat": 4,
 "nbformat_minor": 2
}
