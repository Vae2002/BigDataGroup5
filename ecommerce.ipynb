{
 "cells": [
  {
   "cell_type": "markdown",
   "metadata": {},
   "source": [
    "# IMPORT LIBRARIES"
   ]
  },
  {
   "cell_type": "code",
   "execution_count": 51,
   "metadata": {},
   "outputs": [],
   "source": [
    "# !pip install Minio\n",
    "# !pip install delta-spark"
   ]
  },
  {
   "cell_type": "code",
   "execution_count": 52,
   "metadata": {},
   "outputs": [],
   "source": [
    "from minio import Minio\n",
    "from minio.error import S3Error\n",
    "import pandas as pd\n",
    "import matplotlib.pyplot as plt"
   ]
  },
  {
   "cell_type": "markdown",
   "metadata": {},
   "source": [
    "# LOAD BUCKET"
   ]
  },
  {
   "cell_type": "code",
   "execution_count": 53,
   "metadata": {},
   "outputs": [
    {
     "name": "stdout",
     "output_type": "stream",
     "text": [
      "ecommerce\n",
      "homework\n",
      "File: 2020-Apr.csv\n",
      "File: 2020-Feb.csv\n",
      "File: 2020-Jan.csv\n",
      "File: 2020-Mar.csv\n"
     ]
    }
   ],
   "source": [
    "# Initialize MinIO client\n",
    "client = Minio('localhost:9000',\n",
    "                     access_key='minioadmin',\n",
    "                     secret_key='minioadmin',\n",
    "                     secure=False)  # Change to True if using HTTPS\n",
    "\n",
    "bucket_name = \"ecommerce\"\n",
    "\n",
    "# Example: List buckets\n",
    "try:\n",
    "    buckets = client.list_buckets()\n",
    "    for bucket in buckets:\n",
    "        print(bucket.name)\n",
    "except S3Error as e:\n",
    "    print(\"Error:\", e)\n",
    "\n",
    "try:\n",
    "    objects = client.list_objects(bucket_name)\n",
    "    for obj in objects:\n",
    "        if obj.object_name.endswith('/'):\n",
    "            print(\"Directory:\", obj.object_name)\n",
    "        else:\n",
    "            print(\"File:\", obj.object_name)\n",
    "except S3Error as e:\n",
    "    print(\"Error in listing objects:\", e)"
   ]
  },
  {
   "cell_type": "code",
   "execution_count": 54,
   "metadata": {},
   "outputs": [],
   "source": [
    "# from pyspark.sql import SparkSession\n",
    "# #import pyspark.errors\n",
    "# from pyspark.sql.functions import col, max\n",
    "# from delta import *\n",
    "\n",
    "# # Stop the existing SparkContext if it exists\n",
    "# try:\n",
    "#     sc.stop()\n",
    "# except NameError:\n",
    "#     pass\n",
    "\n",
    "\n",
    "# builder = SparkSession.builder.appName(\"Delta With MinIO\") \\\n",
    "#     .config(\"spark.hadoop.fs.s3a.endpoint\", \"http://minio:9000\") \\\n",
    "#     .config(\"spark.hadoop.fs.s3a.access.key\", \"minioadmin\") \\\n",
    "#     .config(\"spark.hadoop.fs.s3a.secret.key\", \"minioadmin\") \\\n",
    "#     .config(\"spark.hadoop.fs.s3a.path.style.access\", True) \\\n",
    "#     .config(\"spark.hadoop.fs.s3a.impl\", \"org.apache.hadoop.fs.s3a.S3AFileSystem\") \\\n",
    "#     .config(\"spark.hadoop.fs.s3a.aws.credentials.provider\", \"org.apache.hadoop.fs.s3a.SimpleAWSCredentialsProvider\") \\\n",
    "#     .config(\"spark.sql.extensions\", \"io.delta.sql.DeltaSparkSessionExtension\") \\\n",
    "#     .config(\"spark.sql.catalog.spark_catalog\", \"org.apache.spark.sql.delta.catalog.DeltaCatalog\")\n",
    "\n",
    "# spark = configure_spark_with_delta_pip(builder).getOrCreate()\n",
    "\n",
    "# # Initialize Spark session\n",
    "# \"\"\" spark = SparkSession.builder \\\n",
    "#     .appName(\"Temperature Analysis with Delta\") \\\n",
    "#     .config(\"spark.hadoop.fs.s3a.endpoint\", \"http://minio:9000\") \\\n",
    "#     .config(\"spark.hadoop.fs.s3a.access.key\", \"minioadmin\") \\\n",
    "#     .config(\"spark.hadoop.fs.s3a.secret.key\", \"minioadmin\") \\\n",
    "#     .config(\"spark.hadoop.fs.s3a.path.style.access\", True) \\\n",
    "#     .config(\"spark.hadoop.fs.s3a.impl\", \"org.apache.hadoop.fs.s3a.S3AFileSystem\") \\\n",
    "#     .config(\"spark.hadoop.fs.s3a.aws.credentials.provider\", \"org.apache.hadoop.fs.s3a.SimpleAWSCredentialsProvider\") \\\n",
    "#     .config(\"spark.sql.extensions\", \"io.delta.sql.DeltaSparkSessionExtension\") \\\n",
    "#     .config(\"spark.sql.catalog.spark_catalog\", \"org.apache.spark.sql.delta.catalog.DeltaCatalog\") \\\n",
    "#     .getOrCreate()\n",
    "# \"\"\""
   ]
  },
  {
   "cell_type": "code",
   "execution_count": 55,
   "metadata": {},
   "outputs": [],
   "source": [
    "# spark.sql(\"CREATE DATABASE IF NOT EXISTS ecommerce\")"
   ]
  },
  {
   "cell_type": "markdown",
   "metadata": {},
   "source": [
    "# READ DATA"
   ]
  },
  {
   "cell_type": "code",
   "execution_count": 56,
   "metadata": {},
   "outputs": [],
   "source": [
    "# # einen test-DF erstellen, damit wir Delta ausprobieren können\n",
    "# from pyspark.sql import Row\n",
    "\n",
    "# # Create a list of numbers from 1 to 10\n",
    "# numbers = list(range(1, 11))\n",
    "\n",
    "# # Convert the list to a DataFrame\n",
    "# df = spark.createDataFrame([Row(number=n) for n in numbers])\n",
    "\n",
    "# # Show the DataFrame\n",
    "# df.show()"
   ]
  },
  {
   "cell_type": "code",
   "execution_count": 57,
   "metadata": {},
   "outputs": [],
   "source": [
    "# # Read CSV files from MinIO bucket\n",
    "# combined_df = spark.read.csv(f\"s3a://{bucket_name}/2020-Feb.csv\", header=True, inferSchema=True)\n",
    "# df = spark.read.csv(f\"s3a://{bucket_name}/2020-Mar.csv\", header=True, inferSchema=True)\n",
    "# df_apr = spark.read.csv(f\"s3a://{bucket_name}/2020-Apr.csv\", header=True, inferSchema=True)"
   ]
  },
  {
   "cell_type": "markdown",
   "metadata": {},
   "source": []
  },
  {
   "cell_type": "code",
   "execution_count": 58,
   "metadata": {},
   "outputs": [],
   "source": [
    "# # December 2019 data\n",
    "# try:\n",
    "#     response_dec = client.get_object(bucket_name, \"2019-Dec.csv\")\n",
    "#     dec_data = pd.read_csv(response_dec)   # this data will be used in step 8\n",
    "#     print(dec_data.head())  # Display first few rows\n",
    "# except S3Error as e:\n",
    "#     print(\"Error in reading object:\", e)\n",
    "# finally:\n",
    "#     if 'response_dec' in locals():\n",
    "#         response_dec.close()\n",
    "#         response_dec.release_conn()"
   ]
  },
  {
   "cell_type": "code",
   "execution_count": 59,
   "metadata": {},
   "outputs": [
    {
     "name": "stdout",
     "output_type": "stream",
     "text": [
      "                event_time event_type  product_id          category_id  \\\n",
      "0  2020-01-01 00:00:00 UTC       view     1005073  2232732093077520756   \n",
      "1  2020-01-01 00:00:01 UTC       view     1005192  2232732093077520756   \n",
      "2  2020-01-01 00:00:01 UTC       view   100063693  2053013552427434207   \n",
      "3  2020-01-01 00:00:01 UTC       view     5100816  2232732103831716449   \n",
      "4  2020-01-01 00:00:02 UTC       view   100014325  2232732103294845523   \n",
      "\n",
      "              category_code    brand    price    user_id  \\\n",
      "0  construction.tools.light  samsung  1130.02  519698804   \n",
      "1  construction.tools.light    meizu   205.67  527767423   \n",
      "2             apparel.shirt   turtle   136.43  519046195   \n",
      "3             apparel.shoes   xiaomi    29.95  518269232   \n",
      "4    apparel.shoes.step_ins    intel   167.20  587748686   \n",
      "\n",
      "                           user_session  \n",
      "0  69b5d72f-fd6e-4fed-aa23-1286b2ca89a0  \n",
      "1  7f596032-ccbf-4643-9bad-e36a209512b4  \n",
      "2  d1e2f343-84bb-49bd-b13d-ca0f1ed9910e  \n",
      "3  0444841c-38ef-410c-b11f-7b35ea4e5991  \n",
      "4  31b7d4cf-dfac-4895-9927-90fa3254f860  \n"
     ]
    }
   ],
   "source": [
    "# January 2020 data\n",
    "try:\n",
    "    response_jan = client.get_object(bucket_name, \"2020-Jan.csv\")\n",
    "    data_jan = pd.read_csv(response_jan)   # this data will be used in step 8\n",
    "    print(data_jan.head())  # Display first few rows\n",
    "except S3Error as e:\n",
    "    print(\"Error in reading object:\", e)\n",
    "finally:\n",
    "    if 'response_jan' in locals():\n",
    "        response_jan.close()\n",
    "        response_jan.release_conn()"
   ]
  },
  {
   "cell_type": "code",
   "execution_count": 60,
   "metadata": {},
   "outputs": [
    {
     "name": "stdout",
     "output_type": "stream",
     "text": [
      "                event_time event_type  product_id          category_id  \\\n",
      "0  2020-02-01 00:00:00 UTC       view   100010426  2232732115290555244   \n",
      "1  2020-02-01 00:00:00 UTC       view   100071077  2232732079706079299   \n",
      "2  2020-02-01 00:00:00 UTC       view     1004665  2232732093077520756   \n",
      "3  2020-02-01 00:00:01 UTC       view     1002544  2232732093077520756   \n",
      "4  2020-02-01 00:00:01 UTC       view   100010151  2053013563835941749   \n",
      "\n",
      "                      category_code    brand   price    user_id  \\\n",
      "0                     apparel.shoes      NaN   19.31  581521975   \n",
      "1                     sport.bicycle    crown   11.88  596313635   \n",
      "2          construction.tools.light  samsung  838.23  608821035   \n",
      "3          construction.tools.light    apple  410.42  530488542   \n",
      "4  appliances.kitchen.refrigerators   pulser  332.03  583795643   \n",
      "\n",
      "                           user_session  \n",
      "0  82d5664d-7980-43e1-ab27-a2f05e991760  \n",
      "1  3df590c0-e667-4f5a-aa87-f47749cd6408  \n",
      "2  3e271f43-db51-46bd-b215-c2907ed1a204  \n",
      "3  21f46782-fb36-4d5c-82d4-6dc26ae93fad  \n",
      "4  eddfe0e2-12f8-4357-b453-00786c9b0319  \n"
     ]
    }
   ],
   "source": [
    "# February 2020 data\n",
    "try:\n",
    "    response_feb = client.get_object(bucket_name, \"2020-Feb.csv\")\n",
    "    data_feb = pd.read_csv(response_feb)   # this data will be used in step 8\n",
    "    print(data_feb.head())  # Display first few rows\n",
    "except S3Error as e:\n",
    "    print(\"Error in reading object:\", e)\n",
    "finally:\n",
    "    if 'response_feb' in locals():\n",
    "        response_feb.close()\n",
    "        response_feb.release_conn()"
   ]
  },
  {
   "cell_type": "code",
   "execution_count": 61,
   "metadata": {},
   "outputs": [
    {
     "name": "stdout",
     "output_type": "stream",
     "text": [
      "                event_time event_type  product_id          category_id  \\\n",
      "0  2020-03-01 00:00:00 UTC       view    10900348  2232732105912091273   \n",
      "1  2020-03-01 00:00:01 UTC       view    14300020  2232732107967300275   \n",
      "2  2020-03-01 00:00:03 UTC       view    13200063  2232732061804790604   \n",
      "3  2020-03-01 00:00:03 UTC       view   100077498  2232732085846540487   \n",
      "4  2020-03-01 00:00:04 UTC       view     1005014  2232732093077520756   \n",
      "\n",
      "                  category_code    brand   price    user_id  \\\n",
      "0      appliances.kitchen.mixer  kitfort  117.63  550295099   \n",
      "1             apparel.underwear    casio  264.37  622070532   \n",
      "2         furniture.bedroom.bed      NaN  126.10  552832344   \n",
      "3  construction.tools.generator   tamina  424.72  613391860   \n",
      "4      construction.tools.light  samsung  482.73  517021211   \n",
      "\n",
      "                           user_session  \n",
      "0  23f5ab9e-7774-416d-900b-f2725da671aa  \n",
      "1  edf19213-f0dd-46e1-ae18-28968dbddd6e  \n",
      "2  608087d8-6b69-21db-50a3-2b91ba015532  \n",
      "3  5ab6c3d5-edd7-4e15-8b0a-75b467a37fd0  \n",
      "4  0c34308d-c455-40bb-9992-3e44920bc2b9  \n"
     ]
    }
   ],
   "source": [
    "# March 2020 data\n",
    "try:\n",
    "    response_mar = client.get_object(bucket_name, \"2020-Mar.csv\")\n",
    "    data_mar = pd.read_csv(response_mar)   # this data will be used in step 8\n",
    "    print(data_mar.head())  # Display first few rows\n",
    "except S3Error as e:\n",
    "    print(\"Error in reading object:\", e)\n",
    "finally:\n",
    "    if 'response_mar' in locals():\n",
    "        response_mar.close()\n",
    "        response_mar.release_conn()"
   ]
  },
  {
   "cell_type": "code",
   "execution_count": 62,
   "metadata": {},
   "outputs": [
    {
     "name": "stdout",
     "output_type": "stream",
     "text": [
      "                event_time event_type  product_id          category_id  \\\n",
      "0  2020-04-01 00:00:00 UTC       view     1201465  2232732101407408685   \n",
      "1  2020-04-01 00:00:01 UTC       view     1307156  2053013554658804075   \n",
      "2  2020-04-01 00:00:01 UTC       view     1480477  2053013563835941749   \n",
      "3  2020-04-01 00:00:02 UTC       view     1307050  2053013554658804075   \n",
      "4  2020-04-01 00:00:03 UTC       view     9500109  2232732104175649385   \n",
      "\n",
      "                      category_code     brand    price    user_id  \\\n",
      "0             apparel.shoes.slipons   samsung   230.38  568984877   \n",
      "1       electronics.audio.headphone     apple  1352.67  514955500   \n",
      "2  appliances.kitchen.refrigerators     apple  1184.05  633645770   \n",
      "3       electronics.audio.headphone     apple  1724.34  564933778   \n",
      "4                     apparel.scarf  defender    25.05  530206135   \n",
      "\n",
      "                           user_session  \n",
      "0  e2456cef-2d4f-42b9-a53a-8893cb0c6851  \n",
      "1  38f43134-de83-4710-ae0a-326677d292c6  \n",
      "2  16aba270-b3c2-4b23-be0a-b7c80bc9da9e  \n",
      "3  05b443bd-e68a-4d72-b971-80bd31109cb8  \n",
      "4  e3c1fb4b-0a7e-457d-a0cf-5d1479e9aafc  \n"
     ]
    }
   ],
   "source": [
    "# April 2020 data\n",
    "try:\n",
    "    response_apr = client.get_object(bucket_name, \"2020-Apr.csv\")\n",
    "    data_apr = pd.read_csv(response_apr)   # this data will be used in step 8\n",
    "    print(data_apr.head())  # Display first few rows\n",
    "except S3Error as e:\n",
    "    print(\"Error in reading object:\", e)\n",
    "finally:\n",
    "    if 'response_apr' in locals():\n",
    "        response_apr.close()\n",
    "        response_apr.release_conn()"
   ]
  },
  {
   "cell_type": "code",
   "execution_count": 63,
   "metadata": {},
   "outputs": [
    {
     "name": "stdout",
     "output_type": "stream",
     "text": [
      "Total number of rows in January 2020 data: 55967041\n",
      "Total number of rows in February 2020 data: 55318565\n",
      "Total number of rows in March 2020 data: 56341241\n",
      "Total number of rows in April 2020 data: 66589268\n"
     ]
    }
   ],
   "source": [
    "print(\"Total number of rows in January 2020 data:\", len(data_jan))\n",
    "print(\"Total number of rows in February 2020 data:\", len(data_feb))\n",
    "print(\"Total number of rows in March 2020 data:\", len(data_mar))\n",
    "print(\"Total number of rows in April 2020 data:\", len(data_apr))"
   ]
  },
  {
   "cell_type": "code",
   "execution_count": 64,
   "metadata": {},
   "outputs": [
    {
     "name": "stdout",
     "output_type": "stream",
     "text": [
      "event_time       55967041\n",
      "event_type       55967041\n",
      "product_id       55967041\n",
      "category_id      55967041\n",
      "category_code    50922151\n",
      "brand            49426786\n",
      "price            55967041\n",
      "user_id          55967041\n",
      "user_session     55967022\n",
      "dtype: int64\n",
      "event_time       55318565\n",
      "event_type       55318565\n",
      "product_id       55318565\n",
      "category_id      55318565\n",
      "category_code    50388885\n",
      "brand            46723202\n",
      "price            55318565\n",
      "user_id          55318565\n",
      "user_session     55318551\n",
      "dtype: int64\n",
      "event_time       56341241\n",
      "event_type       56341241\n",
      "product_id       56341241\n",
      "category_id      56341241\n",
      "category_code    50402549\n",
      "brand            48217609\n",
      "price            56341241\n",
      "user_id          56341241\n",
      "user_session     56341190\n",
      "dtype: int64\n",
      "event_time       66589268\n",
      "event_type       66589268\n",
      "product_id       66589268\n",
      "category_id      66589268\n",
      "category_code    59833395\n",
      "brand            57596781\n",
      "price            66589268\n",
      "user_id          66589268\n",
      "user_session     66589159\n",
      "dtype: int64\n"
     ]
    }
   ],
   "source": [
    "print(data_jan.count())\n",
    "print(data_feb.count())\n",
    "print(data_mar.count())\n",
    "print(data_apr.count())"
   ]
  },
  {
   "cell_type": "markdown",
   "metadata": {},
   "source": [
    "# EXPLORE THE DATA"
   ]
  },
  {
   "cell_type": "code",
   "execution_count": 65,
   "metadata": {},
   "outputs": [
    {
     "data": {
      "image/png": "[encoded data removed]",
      "text/plain": [
       "<Figure size 1000x600 with 1 Axes>"
      ]
     },
     "metadata": {},
     "output_type": "display_data"
    },
    {
     "data": {
      "image/png": "[encoded data removed]",
      "text/plain": [
       "<Figure size 640x480 with 1 Axes>"
      ]
     },
     "metadata": {},
     "output_type": "display_data"
    },
    {
     "data": {
      "image/png": "[encoded data removed]",
      "text/plain": [
       "<Figure size 640x480 with 1 Axes>"
      ]
     },
     "metadata": {},
     "output_type": "display_data"
    },
    {
     "data": {
      "image/png": "[encoded data removed]",
      "text/plain": [
       "<Figure size 640x480 with 1 Axes>"
      ]
     },
     "metadata": {},
     "output_type": "display_data"
    }
   ],
   "source": [
    "df = pd.DataFrame(data_jan)\n",
    "\n",
    "# Filter numeric columns (integers or floats)\n",
    "numeric_columns = df.select_dtypes(include=['int', 'float']).columns\n",
    "\n",
    "# Create boxplot for each numeric column\n",
    "plt.figure(figsize=(10, 6))\n",
    "for column in numeric_columns:\n",
    "    plt.boxplot(df[column], labels=[column])\n",
    "    plt.title('Boxplot of Numeric Columns')\n",
    "    plt.ylabel('Values')\n",
    "    plt.xlabel('Columns')\n",
    "    plt.xticks(ticks=[1], labels=[column])  # Set column name as x-axis label\n",
    "    plt.show()"
   ]
  },
  {
   "cell_type": "code",
   "execution_count": 66,
   "metadata": {},
   "outputs": [
    {
     "data": {
      "image/png": "[encoded data removed]",
      "text/plain": [
       "<Figure size 1000x600 with 1 Axes>"
      ]
     },
     "metadata": {},
     "output_type": "display_data"
    },
    {
     "data": {
      "image/png": "[encoded data removed]",
      "text/plain": [
       "<Figure size 640x480 with 1 Axes>"
      ]
     },
     "metadata": {},
     "output_type": "display_data"
    },
    {
     "data": {
      "image/png": "[encoded data removed]",
      "text/plain": [
       "<Figure size 640x480 with 1 Axes>"
      ]
     },
     "metadata": {},
     "output_type": "display_data"
    },
    {
     "data": {
      "image/png": "[encoded data removed]",
      "text/plain": [
       "<Figure size 640x480 with 1 Axes>"
      ]
     },
     "metadata": {},
     "output_type": "display_data"
    }
   ],
   "source": [
    "df = pd.DataFrame(data_feb)\n",
    "\n",
    "# Filter numeric columns (integers or floats)\n",
    "numeric_columns = df.select_dtypes(include=['int', 'float']).columns\n",
    "\n",
    "# Create boxplot for each numeric column\n",
    "plt.figure(figsize=(10, 6))\n",
    "for column in numeric_columns:\n",
    "    plt.boxplot(df[column], labels=[column])\n",
    "    plt.title('Boxplot of Numeric Columns')\n",
    "    plt.ylabel('Values')\n",
    "    plt.xlabel('Columns')\n",
    "    plt.xticks(ticks=[1], labels=[column])  # Set column name as x-axis label\n",
    "    plt.show()\n",
    "\n",
    "\n",
    "# there is an outlier in the product_id column"
   ]
  },
  {
   "cell_type": "code",
   "execution_count": 67,
   "metadata": {},
   "outputs": [
    {
     "data": {
      "image/png": "[encoded data removed]",
      "text/plain": [
       "<Figure size 1000x600 with 1 Axes>"
      ]
     },
     "metadata": {},
     "output_type": "display_data"
    },
    {
     "data": {
      "image/png": "[encoded data removed]",
      "text/plain": [
       "<Figure size 640x480 with 1 Axes>"
      ]
     },
     "metadata": {},
     "output_type": "display_data"
    },
    {
     "data": {
      "image/png": "[encoded data removed]",
      "text/plain": [
       "<Figure size 640x480 with 1 Axes>"
      ]
     },
     "metadata": {},
     "output_type": "display_data"
    },
    {
     "data": {
      "image/png": "[encoded data removed]",
      "text/plain": [
       "<Figure size 640x480 with 1 Axes>"
      ]
     },
     "metadata": {},
     "output_type": "display_data"
    }
   ],
   "source": [
    "df = pd.DataFrame(data_mar)\n",
    "\n",
    "# Filter numeric columns (integers or floats)\n",
    "numeric_columns = df.select_dtypes(include=['int', 'float']).columns\n",
    "\n",
    "# Create boxplot for each numeric column\n",
    "plt.figure(figsize=(10, 6))\n",
    "for column in numeric_columns:\n",
    "    plt.boxplot(df[column], labels=[column])\n",
    "    plt.title('Boxplot of Numeric Columns')\n",
    "    plt.ylabel('Values')\n",
    "    plt.xlabel('Columns')\n",
    "    plt.xticks(ticks=[1], labels=[column])  # Set column name as x-axis label\n",
    "    plt.show()\n",
    "\n"
   ]
  },
  {
   "cell_type": "code",
   "execution_count": 68,
   "metadata": {},
   "outputs": [
    {
     "data": {
      "image/png": "[encoded data removed]",
      "text/plain": [
       "<Figure size 1000x600 with 1 Axes>"
      ]
     },
     "metadata": {},
     "output_type": "display_data"
    },
    {
     "data": {
      "image/png": "[encoded data removed]",
      "text/plain": [
       "<Figure size 640x480 with 1 Axes>"
      ]
     },
     "metadata": {},
     "output_type": "display_data"
    },
    {
     "data": {
      "image/png": "[encoded data removed]",
      "text/plain": [
       "<Figure size 640x480 with 1 Axes>"
      ]
     },
     "metadata": {},
     "output_type": "display_data"
    },
    {
     "data": {
      "image/png": "[encoded data removed]",
      "text/plain": [
       "<Figure size 640x480 with 1 Axes>"
      ]
     },
     "metadata": {},
     "output_type": "display_data"
    }
   ],
   "source": [
    "df = pd.DataFrame(data_apr)\n",
    "\n",
    "# Filter numeric columns (integers or floats)\n",
    "numeric_columns = df.select_dtypes(include=['int', 'float']).columns\n",
    "\n",
    "# Create boxplot for each numeric column\n",
    "plt.figure(figsize=(10, 6))\n",
    "for column in numeric_columns:\n",
    "    plt.boxplot(df[column], labels=[column])\n",
    "    plt.title('Boxplot of Numeric Columns')\n",
    "    plt.ylabel('Values')\n",
    "    plt.xlabel('Columns')\n",
    "    plt.xticks(ticks=[1], labels=[column])  # Set column name as x-axis label\n",
    "    plt.show()"
   ]
  },
  {
   "cell_type": "code",
   "execution_count": 69,
   "metadata": {},
   "outputs": [
    {
     "name": "stdout",
     "output_type": "stream",
     "text": [
      "<class 'pandas.core.frame.DataFrame'>\n",
      "RangeIndex: 55967041 entries, 0 to 55967040\n",
      "Data columns (total 9 columns):\n",
      " #   Column         Dtype  \n",
      "---  ------         -----  \n",
      " 0   event_time     object \n",
      " 1   event_type     object \n",
      " 2   product_id     int64  \n",
      " 3   category_id    int64  \n",
      " 4   category_code  object \n",
      " 5   brand          object \n",
      " 6   price          float64\n",
      " 7   user_id        int64  \n",
      " 8   user_session   object \n",
      "dtypes: float64(1), int64(3), object(5)\n",
      "memory usage: 3.8+ GB\n",
      "None\n",
      "<class 'pandas.core.frame.DataFrame'>\n",
      "RangeIndex: 55318565 entries, 0 to 55318564\n",
      "Data columns (total 9 columns):\n",
      " #   Column         Dtype  \n",
      "---  ------         -----  \n",
      " 0   event_time     object \n",
      " 1   event_type     object \n",
      " 2   product_id     int64  \n",
      " 3   category_id    int64  \n",
      " 4   category_code  object \n",
      " 5   brand          object \n",
      " 6   price          float64\n",
      " 7   user_id        int64  \n",
      " 8   user_session   object \n",
      "dtypes: float64(1), int64(3), object(5)\n",
      "memory usage: 3.7+ GB\n",
      "None\n",
      "<class 'pandas.core.frame.DataFrame'>\n",
      "RangeIndex: 56341241 entries, 0 to 56341240\n",
      "Data columns (total 9 columns):\n",
      " #   Column         Dtype  \n",
      "---  ------         -----  \n",
      " 0   event_time     object \n",
      " 1   event_type     object \n",
      " 2   product_id     int64  \n",
      " 3   category_id    int64  \n",
      " 4   category_code  object \n",
      " 5   brand          object \n",
      " 6   price          float64\n",
      " 7   user_id        int64  \n",
      " 8   user_session   object \n",
      "dtypes: float64(1), int64(3), object(5)\n",
      "memory usage: 3.8+ GB\n",
      "None\n",
      "<class 'pandas.core.frame.DataFrame'>\n",
      "RangeIndex: 66589268 entries, 0 to 66589267\n",
      "Data columns (total 9 columns):\n",
      " #   Column         Dtype  \n",
      "---  ------         -----  \n",
      " 0   event_time     object \n",
      " 1   event_type     object \n",
      " 2   product_id     int64  \n",
      " 3   category_id    int64  \n",
      " 4   category_code  object \n",
      " 5   brand          object \n",
      " 6   price          float64\n",
      " 7   user_id        int64  \n",
      " 8   user_session   object \n",
      "dtypes: float64(1), int64(3), object(5)\n",
      "memory usage: 4.5+ GB\n",
      "None\n",
      "event_time             0\n",
      "event_type             0\n",
      "product_id             0\n",
      "category_id            0\n",
      "category_code    5044890\n",
      "brand            6540255\n",
      "price                  0\n",
      "user_id                0\n",
      "user_session          19\n",
      "dtype: int64\n",
      "event_time             0\n",
      "event_type             0\n",
      "product_id             0\n",
      "category_id            0\n",
      "category_code    4929680\n",
      "brand            8595363\n",
      "price                  0\n",
      "user_id                0\n",
      "user_session          14\n",
      "dtype: int64\n",
      "event_time             0\n",
      "event_type             0\n",
      "product_id             0\n",
      "category_id            0\n",
      "category_code    5938692\n",
      "brand            8123632\n",
      "price                  0\n",
      "user_id                0\n",
      "user_session          51\n",
      "dtype: int64\n",
      "event_time             0\n",
      "event_type             0\n",
      "product_id             0\n",
      "category_id            0\n",
      "category_code    6755873\n",
      "brand            8992487\n",
      "price                  0\n",
      "user_id                0\n",
      "user_session         109\n",
      "dtype: int64\n"
     ]
    }
   ],
   "source": [
    "print(data_jan.info())\n",
    "print(data_feb.info())\n",
    "print(data_mar.info())\n",
    "print(data_apr.info())\n",
    "\n",
    "print(data_jan.isnull().sum())\n",
    "print(data_feb.isnull().sum())\n",
    "print(data_mar.isnull().sum())\n",
    "print(data_apr.isnull().sum())"
   ]
  },
  {
   "cell_type": "code",
   "execution_count": 70,
   "metadata": {},
   "outputs": [
    {
     "name": "stdout",
     "output_type": "stream",
     "text": [
      "Jan Data has 50922151 rows, in which 5044890 of the data is null. Which means the non null data is 45877261 rows or 90.09293617624283% of the data\n",
      "Feb Data has 50388885 rows, in which 4929680 of the data is null. Which means the non null data is 45459205 rows or 90.21673132874443% of the data\n",
      "Mar Data has 50402549 rows, in which 5938692 of the data is null. Which means the non null data is 44463857 rows or 88.21747685816446% of the data\n",
      "Apr Data has 59833395 rows, in which 6755873 of the data is null. Which means the non null data is 53077522 rows or 88.70885899086957% of the data\n"
     ]
    }
   ],
   "source": [
    "print(f\"Jan Data has {data_jan[\"category_code\"].value_counts().sum()} rows, in which {data_jan[\"category_code\"].isnull().sum()} of the data is null. Which means the non null data is {data_jan[\"category_code\"].value_counts().sum() - data_jan[\"category_code\"].isnull().sum()} rows or {((data_jan[\"category_code\"].value_counts().sum() - data_jan[\"category_code\"].isnull().sum())/data_jan[\"category_code\"].value_counts().sum())*100}% of the data\")\n",
    "print(f\"Feb Data has {data_feb[\"category_code\"].value_counts().sum()} rows, in which {data_feb[\"category_code\"].isnull().sum()} of the data is null. Which means the non null data is {data_feb[\"category_code\"].value_counts().sum() - data_feb[\"category_code\"].isnull().sum()} rows or {((data_feb[\"category_code\"].value_counts().sum() - data_feb[\"category_code\"].isnull().sum())/data_feb[\"category_code\"].value_counts().sum())*100}% of the data\")\n",
    "print(f\"Mar Data has {data_mar[\"category_code\"].value_counts().sum()} rows, in which {data_mar[\"category_code\"].isnull().sum()} of the data is null. Which means the non null data is {data_mar[\"category_code\"].value_counts().sum() - data_mar[\"category_code\"].isnull().sum()} rows or {((data_mar[\"category_code\"].value_counts().sum() - data_mar[\"category_code\"].isnull().sum())/data_mar[\"category_code\"].value_counts().sum())*100}% of the data\")\n",
    "print(f\"Apr Data has {data_apr[\"category_code\"].value_counts().sum()} rows, in which {data_apr[\"category_code\"].isnull().sum()} of the data is null. Which means the non null data is {data_apr[\"category_code\"].value_counts().sum() - data_apr[\"category_code\"].isnull().sum()} rows or {((data_apr[\"category_code\"].value_counts().sum() - data_apr[\"category_code\"].isnull().sum())/data_apr[\"category_code\"].value_counts().sum())*100}% of the data\")"
   ]
  },
  {
   "cell_type": "code",
   "execution_count": 71,
   "metadata": {},
   "outputs": [
    {
     "name": "stdout",
     "output_type": "stream",
     "text": [
      "<class 'pandas.core.frame.DataFrame'>\n",
      "RangeIndex: 55318565 entries, 0 to 55318564\n",
      "Data columns (total 9 columns):\n",
      " #   Column         Dtype              \n",
      "---  ------         -----              \n",
      " 0   event_time     datetime64[ns, UTC]\n",
      " 1   event_type     category           \n",
      " 2   product_id     int64              \n",
      " 3   category_id    int64              \n",
      " 4   category_code  category           \n",
      " 5   brand          object             \n",
      " 6   price          float64            \n",
      " 7   user_id        int64              \n",
      " 8   user_session   object             \n",
      "dtypes: category(2), datetime64[ns, UTC](1), float64(1), int64(3), object(2)\n",
      "memory usage: 3.0+ GB\n",
      "None\n",
      "<class 'pandas.core.frame.DataFrame'>\n",
      "RangeIndex: 56341241 entries, 0 to 56341240\n",
      "Data columns (total 9 columns):\n",
      " #   Column         Dtype              \n",
      "---  ------         -----              \n",
      " 0   event_time     datetime64[ns, UTC]\n",
      " 1   event_type     category           \n",
      " 2   product_id     int64              \n",
      " 3   category_id    int64              \n",
      " 4   category_code  category           \n",
      " 5   brand          object             \n",
      " 6   price          float64            \n",
      " 7   user_id        int64              \n",
      " 8   user_session   object             \n",
      "dtypes: category(2), datetime64[ns, UTC](1), float64(1), int64(3), object(2)\n",
      "memory usage: 3.1+ GB\n",
      "None\n",
      "<class 'pandas.core.frame.DataFrame'>\n",
      "RangeIndex: 66589268 entries, 0 to 66589267\n",
      "Data columns (total 9 columns):\n",
      " #   Column         Dtype              \n",
      "---  ------         -----              \n",
      " 0   event_time     datetime64[ns, UTC]\n",
      " 1   event_type     category           \n",
      " 2   product_id     int64              \n",
      " 3   category_id    int64              \n",
      " 4   category_code  category           \n",
      " 5   brand          object             \n",
      " 6   price          float64            \n",
      " 7   user_id        int64              \n",
      " 8   user_session   object             \n",
      "dtypes: category(2), datetime64[ns, UTC](1), float64(1), int64(3), object(2)\n",
      "memory usage: 3.7+ GB\n",
      "None\n"
     ]
    }
   ],
   "source": [
    "data_jan[\"event_time\"] = pd.to_datetime(data_jan[\"event_time\"])\n",
    "data_feb[\"event_time\"] = pd.to_datetime(data_feb[\"event_time\"])\n",
    "data_mar[\"event_time\"] = pd.to_datetime(data_mar[\"event_time\"])\n",
    "data_apr[\"event_time\"] = pd.to_datetime(data_apr[\"event_time\"])\n",
    "\n",
    "data_jan[\"event_type\"] = data_jan[\"event_type\"].astype('category')\n",
    "data_feb[\"event_type\"] = data_feb[\"event_type\"].astype('category')\t\n",
    "data_mar[\"event_type\"] = data_mar[\"event_type\"].astype('category')\n",
    "data_apr[\"event_type\"] = data_apr[\"event_type\"].astype('category')\n",
    "\n",
    "data_jan[\"category_code\"] = data_jan[\"category_code\"].astype('category')\n",
    "data_feb[\"category_code\"] = data_feb[\"category_code\"].astype('category')\n",
    "data_mar[\"category_code\"] = data_mar[\"category_code\"].astype('category')\n",
    "data_apr[\"category_code\"] = data_apr[\"category_code\"].astype('category')\n",
    "\n",
    "\n",
    "\n",
    "print(data_feb.info())\n",
    "print(data_mar.info())\n",
    "print(data_apr.info())"
   ]
  },
  {
   "cell_type": "code",
   "execution_count": 72,
   "metadata": {},
   "outputs": [
    {
     "name": "stdout",
     "output_type": "stream",
     "text": [
      "         product_id   category_id         price       user_id\n",
      "count  5.596704e+07  5.596704e+07  5.596704e+07  5.596704e+07\n",
      "mean   2.151198e+07  2.184718e+18  2.910910e+02  5.574821e+08\n",
      "std    3.220376e+07  7.928687e+16  3.602194e+02  3.375474e+07\n",
      "min    1.000544e+06  2.053014e+18  0.000000e+00  2.216536e+07\n",
      "25%    1.005239e+06  2.053014e+18  6.433000e+01  5.220846e+08\n",
      "50%    5.800192e+06  2.232732e+18  1.667300e+02  5.582599e+08\n",
      "75%    2.580000e+07  2.232732e+18  3.575400e+02  5.915309e+08\n",
      "max    1.000996e+08  2.236178e+18  2.574070e+03  6.088222e+08\n",
      "         product_id   category_id         price       user_id\n",
      "count  5.531856e+07  5.531856e+07  5.531856e+07  5.531856e+07\n",
      "mean   2.738181e+07  2.188589e+18  2.877152e+02  5.633426e+08\n",
      "std    3.685243e+07  7.731789e+16  3.582074e+02  3.828326e+07\n",
      "min    1.000365e+06  2.053014e+18  0.000000e+00  1.251152e+07\n",
      "25%    1.307546e+06  2.232732e+18  6.178000e+01  5.235147e+08\n",
      "50%    9.300067e+06  2.232732e+18  1.639800e+02  5.637833e+08\n",
      "75%    2.871434e+07  2.232732e+18  3.500500e+02  6.009724e+08\n",
      "max    1.001448e+08  2.250811e+18  2.574070e+03  6.220907e+08\n",
      "         product_id   category_id         price       user_id\n",
      "count  5.634124e+07  5.634124e+07  5.634124e+07  5.634124e+07\n",
      "mean   3.087900e+07  2.182506e+18  2.927261e+02  5.699139e+08\n",
      "std    3.948077e+07  8.053784e+16  3.630798e+02  4.269567e+07\n",
      "min    1.000978e+06  2.053014e+18  0.000000e+00  1.251152e+07\n",
      "25%    1.801966e+06  2.053014e+18  6.229000e+01  5.252587e+08\n",
      "50%    1.140027e+07  2.232732e+18  1.681300e+02  5.695703e+08\n",
      "75%    4.220000e+07  2.232732e+18  3.614000e+02  6.124633e+08\n",
      "max    1.001847e+08  2.261591e+18  2.574070e+03  6.351663e+08\n",
      "         product_id   category_id         price       user_id\n",
      "count  6.658927e+07  6.658927e+07  6.658927e+07  6.658927e+07\n",
      "mean   3.519020e+07  2.180717e+18  2.733338e+02  5.827744e+08\n",
      "std    4.193577e+07  8.123210e+16  3.560785e+02  4.888444e+07\n",
      "min    1.000365e+06  2.053014e+18  0.000000e+00  2.739622e+07\n",
      "25%    2.602135e+06  2.053014e+18  5.146000e+01  5.335062e+08\n",
      "50%    1.220091e+07  2.232732e+18  1.489100e+02  5.876208e+08\n",
      "75%    1.000224e+08  2.232732e+18  3.423500e+02  6.337795e+08\n",
      "max    1.002342e+08  2.298841e+18  2.574070e+03  6.497760e+08\n",
      "event_type\n",
      "view        0.937887\n",
      "cart        0.047193\n",
      "purchase    0.014920\n",
      "Name: proportion, dtype: float64\n",
      "event_type\n",
      "view        0.926139\n",
      "cart        0.052163\n",
      "purchase    0.021698\n",
      "Name: proportion, dtype: float64\n",
      "event_type\n",
      "view        0.929122\n",
      "cart        0.052686\n",
      "purchase    0.018192\n",
      "Name: proportion, dtype: float64\n",
      "event_type\n",
      "view        0.936396\n",
      "cart        0.049086\n",
      "purchase    0.014518\n",
      "Name: proportion, dtype: float64\n",
      "category_code\n",
      "construction.tools.light            0.296353\n",
      "sport.bicycle                       0.039972\n",
      "electronics.clocks                  0.039116\n",
      "appliances.kitchen.refrigerators    0.037888\n",
      "apparel.shoes                       0.037080\n",
      "                                      ...   \n",
      "apparel.belt                        0.000037\n",
      "computers.components.sound_card     0.000033\n",
      "appliances.kitchen.microwave        0.000024\n",
      "country_yard.furniture.bench        0.000015\n",
      "auto.accessories.light              0.000003\n",
      "Name: proportion, Length: 135, dtype: float64\n",
      "category_code\n",
      "construction.tools.light             2.950284e-01\n",
      "sport.bicycle                        4.503565e-02\n",
      "electronics.clocks                   4.352785e-02\n",
      "appliances.personal.massager         3.433527e-02\n",
      "apparel.shoes                        3.376995e-02\n",
      "                                         ...     \n",
      "apparel.belt                         1.182801e-05\n",
      "appliances.kitchen.coffee_machine    8.394708e-06\n",
      "construction.tools.axe               4.266814e-06\n",
      "country_yard.watering                2.183021e-07\n",
      "electronics.audio.dictaphone         1.786108e-07\n",
      "Name: proportion, Length: 138, dtype: float64\n",
      "category_code\n",
      "construction.tools.light            2.683703e-01\n",
      "electronics.audio.headphone         5.177010e-02\n",
      "sport.bicycle                       3.960695e-02\n",
      "appliances.personal.massager        3.881508e-02\n",
      "appliances.kitchen.refrigerators    3.497289e-02\n",
      "                                        ...     \n",
      "computers.components.sound_card     4.027574e-06\n",
      "appliances.kitchen.steam_cooker     3.591088e-06\n",
      "computers.components.cdrw           1.944346e-06\n",
      "country_yard.watering               1.388819e-07\n",
      "electronics.audio.dictaphone        3.968053e-08\n",
      "Name: proportion, Length: 139, dtype: float64\n",
      "category_code\n",
      "construction.tools.light            2.394221e-01\n",
      "electronics.audio.headphone         5.355650e-02\n",
      "appliances.personal.massager        4.227564e-02\n",
      "appliances.kitchen.refrigerators    3.852080e-02\n",
      "sport.bicycle                       3.652754e-02\n",
      "                                        ...     \n",
      "stationery.paper                    2.607240e-06\n",
      "country_yard.watering               2.155987e-06\n",
      "apparel.belt                        2.122560e-06\n",
      "computers.components.sound_card     6.518099e-07\n",
      "apparel.hat                         8.356537e-08\n",
      "Name: proportion, Length: 141, dtype: float64\n"
     ]
    }
   ],
   "source": [
    "print(data_jan.describe())\n",
    "print(data_feb.describe())\n",
    "print(data_mar.describe())\n",
    "print(data_apr.describe())\n",
    "\n",
    "# Ratio of event types\n",
    "print(data_jan[\"event_type\"].value_counts(normalize=True))\n",
    "print(data_feb[\"event_type\"].value_counts(normalize=True))\t\n",
    "print(data_mar[\"event_type\"].value_counts(normalize=True))\n",
    "print(data_apr[\"event_type\"].value_counts(normalize=True))\n",
    "\n",
    "# Ratio of category codes\n",
    "print(data_jan[\"category_code\"].value_counts(normalize=True))\n",
    "print(data_feb[\"category_code\"].value_counts(normalize=True))\n",
    "print(data_mar[\"category_code\"].value_counts(normalize=True))\n",
    "print(data_apr[\"category_code\"].value_counts(normalize=True))"
   ]
  },
  {
   "cell_type": "code",
   "execution_count": 73,
   "metadata": {},
   "outputs": [
    {
     "data": {
      "text/plain": [
       "1200288"
      ]
     },
     "execution_count": 73,
     "metadata": {},
     "output_type": "execute_result"
    }
   ],
   "source": [
    "(data_feb[\"event_type\"] == \"purchase\").sum()\n"
   ]
  },
  {
   "cell_type": "code",
   "execution_count": 74,
   "metadata": {},
   "outputs": [
    {
     "name": "stderr",
     "output_type": "stream",
     "text": [
      "C:\\Users\\vae.tiolamon\\AppData\\Local\\Temp\\ipykernel_23816\\1432064459.py:1: FutureWarning: The default of observed=False is deprecated and will be changed to True in a future version of pandas. Pass observed=False to retain current behavior or observed=True to adopt the future default and silence this warning.\n",
      "  print(data_feb.groupby(\"event_type\").describe())\n"
     ]
    },
    {
     "name": "stdout",
     "output_type": "stream",
     "text": [
      "            product_id                                                    \\\n",
      "                 count          mean           std        min        25%   \n",
      "event_type                                                                 \n",
      "cart         2885608.0  1.761852e+07  3.092900e+07  1000978.0  1005115.0   \n",
      "purchase     1200288.0  1.796980e+07  3.245663e+07  1001588.0  1005101.0   \n",
      "view        51232669.0  2.815221e+07  3.714587e+07  1000365.0  1701462.0   \n",
      "\n",
      "                                                category_id                \\\n",
      "                   50%         75%          max       count          mean   \n",
      "event_type                                                                  \n",
      "cart         4100346.0  15901419.0  100144608.0   2885608.0  2.201706e+18   \n",
      "purchase     2601780.0  15200181.0  100144443.0   1200288.0  2.206952e+18   \n",
      "view        10504485.0  28722139.0  100144758.0  51232669.0  2.187420e+18   \n",
      "\n",
      "            ...   price              user_id                              \\\n",
      "            ...     75%      max       count          mean           std   \n",
      "event_type  ...                                                            \n",
      "cart        ...  361.14  2574.07   2885608.0  5.615179e+08  3.788925e+07   \n",
      "purchase    ...  406.70  2574.07   1200288.0  5.692850e+08  3.707910e+07   \n",
      "view        ...  348.27  2574.07  51232669.0  5.633061e+08  3.831981e+07   \n",
      "\n",
      "                                                                              \n",
      "                    min           25%          50%          75%          max  \n",
      "event_type                                                                    \n",
      "cart         42896738.0  5.214340e+08  559971706.0  599631455.0  622090083.0  \n",
      "purchase    171409616.0  5.329908e+08  572484264.5  605736829.0  622089298.0  \n",
      "view         12511517.0  5.235089e+08  563766563.0  600895310.0  622090716.0  \n",
      "\n",
      "[3 rows x 32 columns]\n"
     ]
    }
   ],
   "source": [
    "print(data_feb.groupby(\"event_type\").describe())"
   ]
  },
  {
   "cell_type": "markdown",
   "metadata": {},
   "source": [
    "# CLEAN THE DATA"
   ]
  },
  {
   "cell_type": "code",
   "execution_count": 75,
   "metadata": {},
   "outputs": [
    {
     "name": "stdout",
     "output_type": "stream",
     "text": [
      "                 event_time event_type  product_id          category_id  \\\n",
      "0 2020-01-01 00:00:00+00:00       view     1005073  2232732093077520756   \n",
      "1 2020-01-01 00:00:01+00:00       view     1005192  2232732093077520756   \n",
      "2 2020-01-01 00:00:01+00:00       view   100063693  2053013552427434207   \n",
      "3 2020-01-01 00:00:01+00:00       view     5100816  2232732103831716449   \n",
      "4 2020-01-01 00:00:02+00:00       view   100014325  2232732103294845523   \n",
      "\n",
      "              category_code    brand    price    user_id  \\\n",
      "0  construction.tools.light  samsung  1130.02  519698804   \n",
      "1  construction.tools.light    meizu   205.67  527767423   \n",
      "2             apparel.shirt   turtle   136.43  519046195   \n",
      "3             apparel.shoes   xiaomi    29.95  518269232   \n",
      "4    apparel.shoes.step_ins    intel   167.20  587748686   \n",
      "\n",
      "                           user_session  \n",
      "0  69b5d72f-fd6e-4fed-aa23-1286b2ca89a0  \n",
      "1  7f596032-ccbf-4643-9bad-e36a209512b4  \n",
      "2  d1e2f343-84bb-49bd-b13d-ca0f1ed9910e  \n",
      "3  0444841c-38ef-410c-b11f-7b35ea4e5991  \n",
      "4  31b7d4cf-dfac-4895-9927-90fa3254f860  \n",
      "                 event_time event_type  product_id          category_id  \\\n",
      "0 2020-02-01 00:00:00+00:00       view   100010426  2232732115290555244   \n",
      "1 2020-02-01 00:00:00+00:00       view   100071077  2232732079706079299   \n",
      "2 2020-02-01 00:00:00+00:00       view     1004665  2232732093077520756   \n",
      "3 2020-02-01 00:00:01+00:00       view     1002544  2232732093077520756   \n",
      "4 2020-02-01 00:00:01+00:00       view   100010151  2053013563835941749   \n",
      "\n",
      "                      category_code    brand   price    user_id  \\\n",
      "0                     apparel.shoes      NaN   19.31  581521975   \n",
      "1                     sport.bicycle    crown   11.88  596313635   \n",
      "2          construction.tools.light  samsung  838.23  608821035   \n",
      "3          construction.tools.light    apple  410.42  530488542   \n",
      "4  appliances.kitchen.refrigerators   pulser  332.03  583795643   \n",
      "\n",
      "                           user_session  \n",
      "0  82d5664d-7980-43e1-ab27-a2f05e991760  \n",
      "1  3df590c0-e667-4f5a-aa87-f47749cd6408  \n",
      "2  3e271f43-db51-46bd-b215-c2907ed1a204  \n",
      "3  21f46782-fb36-4d5c-82d4-6dc26ae93fad  \n",
      "4  eddfe0e2-12f8-4357-b453-00786c9b0319  \n",
      "                 event_time event_type  product_id          category_id  \\\n",
      "0 2020-03-01 00:00:00+00:00       view    10900348  2232732105912091273   \n",
      "1 2020-03-01 00:00:01+00:00       view    14300020  2232732107967300275   \n",
      "2 2020-03-01 00:00:03+00:00       view    13200063  2232732061804790604   \n",
      "3 2020-03-01 00:00:03+00:00       view   100077498  2232732085846540487   \n",
      "4 2020-03-01 00:00:04+00:00       view     1005014  2232732093077520756   \n",
      "\n",
      "                  category_code    brand   price    user_id  \\\n",
      "0      appliances.kitchen.mixer  kitfort  117.63  550295099   \n",
      "1             apparel.underwear    casio  264.37  622070532   \n",
      "2         furniture.bedroom.bed      NaN  126.10  552832344   \n",
      "3  construction.tools.generator   tamina  424.72  613391860   \n",
      "4      construction.tools.light  samsung  482.73  517021211   \n",
      "\n",
      "                           user_session  \n",
      "0  23f5ab9e-7774-416d-900b-f2725da671aa  \n",
      "1  edf19213-f0dd-46e1-ae18-28968dbddd6e  \n",
      "2  608087d8-6b69-21db-50a3-2b91ba015532  \n",
      "3  5ab6c3d5-edd7-4e15-8b0a-75b467a37fd0  \n",
      "4  0c34308d-c455-40bb-9992-3e44920bc2b9  \n",
      "                 event_time event_type  product_id          category_id  \\\n",
      "0 2020-04-01 00:00:00+00:00       view     1201465  2232732101407408685   \n",
      "1 2020-04-01 00:00:01+00:00       view     1307156  2053013554658804075   \n",
      "2 2020-04-01 00:00:01+00:00       view     1480477  2053013563835941749   \n",
      "3 2020-04-01 00:00:02+00:00       view     1307050  2053013554658804075   \n",
      "4 2020-04-01 00:00:03+00:00       view     9500109  2232732104175649385   \n",
      "\n",
      "                      category_code     brand    price    user_id  \\\n",
      "0             apparel.shoes.slipons   samsung   230.38  568984877   \n",
      "1       electronics.audio.headphone     apple  1352.67  514955500   \n",
      "2  appliances.kitchen.refrigerators     apple  1184.05  633645770   \n",
      "3       electronics.audio.headphone     apple  1724.34  564933778   \n",
      "4                     apparel.scarf  defender    25.05  530206135   \n",
      "\n",
      "                           user_session  \n",
      "0  e2456cef-2d4f-42b9-a53a-8893cb0c6851  \n",
      "1  38f43134-de83-4710-ae0a-326677d292c6  \n",
      "2  16aba270-b3c2-4b23-be0a-b7c80bc9da9e  \n",
      "3  05b443bd-e68a-4d72-b971-80bd31109cb8  \n",
      "4  e3c1fb4b-0a7e-457d-a0cf-5d1479e9aafc  \n"
     ]
    }
   ],
   "source": [
    "df_jan = pd.DataFrame(data_jan)\n",
    "df_feb = pd.DataFrame(data_feb)\n",
    "df_mar = pd.DataFrame(data_mar)\n",
    "df_apr = pd.DataFrame(data_apr)\n",
    "\n",
    "print(df_jan.head())\n",
    "print(df_feb.head())\n",
    "print(df_mar.head())\n",
    "print(df_apr.head())"
   ]
  },
  {
   "cell_type": "markdown",
   "metadata": {},
   "source": [
    "## remove unwanted data"
   ]
  },
  {
   "cell_type": "markdown",
   "metadata": {},
   "source": [
    "we decided to remove the view from the column event_type because the data is very large and we don't need them for answering our business questions"
   ]
  },
  {
   "cell_type": "code",
   "execution_count": 76,
   "metadata": {},
   "outputs": [],
   "source": [
    "df_jan = df_jan[df_jan['event_type'] != 'view']\n",
    "df_feb = df_feb[df_feb['event_type'] != 'view']\n",
    "df_mar = df_mar[df_mar['event_type'] != 'view']\n",
    "df_apr = df_apr[df_apr['event_type'] != 'view']"
   ]
  },
  {
   "cell_type": "markdown",
   "metadata": {},
   "source": [
    "splitting the category_code to 2 columns; main_category and secondary_category so that we could group by more specific things, like whether we need to focus on the bigger or smaller product category."
   ]
  },
  {
   "cell_type": "code",
   "execution_count": 77,
   "metadata": {},
   "outputs": [
    {
     "name": "stdout",
     "output_type": "stream",
     "text": [
      "                   event_time event_type  product_id          category_id  \\\n",
      "36  2020-01-01 00:00:10+00:00       cart     1005124  2232732093077520756   \n",
      "41  2020-01-01 00:00:11+00:00       cart     1201565  2232732101407408685   \n",
      "75  2020-01-01 00:00:22+00:00       cart    13101067  2232732106860003995   \n",
      "91  2020-01-01 00:00:26+00:00       cart     4801028  2232732079706079299   \n",
      "123 2020-01-01 00:00:36+00:00       cart     1004226  2232732093077520756   \n",
      "\n",
      "                category_code   brand    price    user_id  \\\n",
      "36   construction.tools.light   apple  1453.18  532239316   \n",
      "41      apparel.shoes.slipons   apple   385.34  581430108   \n",
      "75                        NaN    skad   266.67  519373619   \n",
      "91              sport.bicycle  xiaomi    14.95  574723072   \n",
      "123  construction.tools.light   apple   890.11  518285678   \n",
      "\n",
      "                             user_session main_category secondary_category  \n",
      "36   253616df-2b1e-4bdf-8a0a-2d1aeef79734  construction              tools  \n",
      "41   7d7687c4-b613-4467-8a81-54c7600e0ca9       apparel              shoes  \n",
      "75   e97a30d7-2873-4018-9577-8cbf39b1c2c7           NaN                N/A  \n",
      "91   2f967c6e-b6c4-4971-8599-d34f86570e29         sport            bicycle  \n",
      "123  7dad15db-dd6d-4e59-a6c7-674612f40837  construction              tools  \n"
     ]
    }
   ],
   "source": [
    "# Assuming df is your DataFrame\n",
    "df_jan['main_category'] = df_jan['category_code'].str.split('.').str[0]\n",
    "df_jan['secondary_category'] = df_jan['category_code'].str.split('.').str[1]\n",
    "\n",
    "# If there are cases where the column doesn't contain '.', you can handle that by adding default values\n",
    "df_jan['secondary_category'].fillna('N/A', inplace=True)\n",
    "\n",
    "# Print the modified DataFrame\n",
    "print(df_jan.head())"
   ]
  },
  {
   "cell_type": "code",
   "execution_count": 78,
   "metadata": {},
   "outputs": [
    {
     "name": "stdout",
     "output_type": "stream",
     "text": [
      "                  event_time event_type  product_id          category_id  \\\n",
      "16 2020-02-01 00:00:06+00:00       cart     1005100  2232732093077520756   \n",
      "21 2020-02-01 00:00:07+00:00       cart   100001549  2053013558978937451   \n",
      "60 2020-02-01 00:00:18+00:00       cart   100065078  2232732093077520756   \n",
      "62 2020-02-01 00:00:18+00:00       cart     5701246  2053013554415534427   \n",
      "97 2020-02-01 00:00:31+00:00       cart    14701533  2053013552570040549   \n",
      "\n",
      "                  category_code    brand   price    user_id  \\\n",
      "16     construction.tools.light  samsung  140.28  608822162   \n",
      "21                sport.bicycle     puma   38.15  608821784   \n",
      "60     construction.tools.light   xiaomi  568.61  526615078   \n",
      "62         electronics.video.tv      NaN   24.43  563902689   \n",
      "97  electronics.video.projector      NaN  154.42  520953435   \n",
      "\n",
      "                            user_session main_category secondary_category  \n",
      "16  8062ce43-662e-4b68-a37f-dabee5a8b7f0  construction              tools  \n",
      "21  600f4508-f562-4b26-9750-49ae69938222         sport            bicycle  \n",
      "60  5f0aab9f-f92e-4eff-b0d2-fcec5f553f01  construction              tools  \n",
      "62  76cc9152-8a9f-43e9-b98a-ee484510f379   electronics              video  \n",
      "97  5f1c7752-cf92-41fc-9a16-e8897a90eee8   electronics              video  \n"
     ]
    }
   ],
   "source": [
    "# Assuming df is your DataFrame\n",
    "df_feb['main_category'] = df_feb['category_code'].str.split('.').str[0]\n",
    "df_feb['secondary_category'] = df_feb['category_code'].str.split('.').str[1]\n",
    "\n",
    "# If there are cases where the column doesn't contain '.', you can handle that by adding default values\n",
    "df_feb['secondary_category'].fillna('N/A', inplace=True)\n",
    "\n",
    "# Print the modified DataFrame\n",
    "print(df_feb.head())"
   ]
  },
  {
   "cell_type": "code",
   "execution_count": 79,
   "metadata": {},
   "outputs": [
    {
     "name": "stdout",
     "output_type": "stream",
     "text": [
      "                   event_time event_type  product_id          category_id  \\\n",
      "7   2020-03-01 00:00:07+00:00   purchase     5100722  2232732103101907535   \n",
      "71  2020-03-01 00:00:42+00:00   purchase   100082062  2232732102103663163   \n",
      "117 2020-03-01 00:00:59+00:00       cart     6902464  2232732078733000751   \n",
      "155 2020-03-01 00:01:11+00:00   purchase     5100610  2232732103101907535   \n",
      "168 2020-03-01 00:01:20+00:00       cart     1002544  2232732093077520756   \n",
      "\n",
      "                 category_code   brand   price    user_id  \\\n",
      "7           electronics.clocks  huawei  128.68  604860058   \n",
      "71   furniture.bedroom.blanket     arg   48.88  601908129   \n",
      "117      electronics.telephone  zlatek   49.91  531574188   \n",
      "155         electronics.clocks   apple  295.73  613253847   \n",
      "168   construction.tools.light   apple  397.10  622090790   \n",
      "\n",
      "                             user_session main_category secondary_category  \n",
      "7    f558a7d7-f1e4-4b81-8799-9131a81e551b   electronics             clocks  \n",
      "71   37473d3f-b68b-4a23-8140-c6a7dece087c     furniture            bedroom  \n",
      "117  48714293-b3f9-4946-8135-eb1ea05ead74   electronics          telephone  \n",
      "155  45aa30e5-2e05-4d56-ab56-07b0ecd2a0a4   electronics             clocks  \n",
      "168  fb5b918c-f1f6-48d9-bcf4-7eb46e83fc6b  construction              tools  \n"
     ]
    }
   ],
   "source": [
    "# Assuming df is your DataFrame\n",
    "df_mar['main_category'] = df_mar['category_code'].str.split('.').str[0]\n",
    "df_mar['secondary_category'] = df_mar['category_code'].str.split('.').str[1]\n",
    "\n",
    "# If there are cases where the column doesn't contain '.', you can handle that by adding default values\n",
    "df_mar['secondary_category'].fillna('N/A', inplace=True)\n",
    "\n",
    "# Print the modified DataFrame\n",
    "print(df_mar.head())"
   ]
  },
  {
   "cell_type": "code",
   "execution_count": 80,
   "metadata": {},
   "outputs": [
    {
     "name": "stdout",
     "output_type": "stream",
     "text": [
      "                  event_time event_type  product_id          category_id  \\\n",
      "40 2020-04-01 00:00:19+00:00       cart     5100328  2232732103101907535   \n",
      "52 2020-04-01 00:00:23+00:00       cart   100177859  2053013551932506308   \n",
      "53 2020-04-01 00:00:23+00:00       cart    22700202  2232732091643068746   \n",
      "59 2020-04-01 00:00:25+00:00       cart     5100328  2232732103101907535   \n",
      "70 2020-04-01 00:00:30+00:00       cart     5100328  2232732103101907535   \n",
      "\n",
      "               category_code     brand   price    user_id  \\\n",
      "40        electronics.clocks    xiaomi  117.12  635164513   \n",
      "52  construction.tools.drill  s.oliver   60.49  633281427   \n",
      "53                       NaN     stels  171.18  515979190   \n",
      "59        electronics.clocks    xiaomi  117.12  635164513   \n",
      "70        electronics.clocks    xiaomi  117.12  635164513   \n",
      "\n",
      "                            user_session main_category secondary_category  \n",
      "40  c40d1b96-90aa-4cee-b9aa-9475d9c4f17f   electronics             clocks  \n",
      "52  667a8535-221c-4169-aab4-a1972610f102  construction              tools  \n",
      "53  5526811f-230a-4762-aaf2-ba97cb742a9b           NaN                N/A  \n",
      "59  c40d1b96-90aa-4cee-b9aa-9475d9c4f17f   electronics             clocks  \n",
      "70  c40d1b96-90aa-4cee-b9aa-9475d9c4f17f   electronics             clocks  \n"
     ]
    }
   ],
   "source": [
    "# Assuming df is your DataFrame\n",
    "df_apr['main_category'] = df_apr['category_code'].str.split('.').str[0]\n",
    "df_apr['secondary_category'] = df_apr['category_code'].str.split('.').str[1]\n",
    "\n",
    "# If there are cases where the column doesn't contain '.', you can handle that by adding default values\n",
    "df_apr['secondary_category'].fillna('N/A', inplace=True)\n",
    "\n",
    "# Print the modified DataFrame\n",
    "print(df_apr.head())"
   ]
  },
  {
   "cell_type": "code",
   "execution_count": 81,
   "metadata": {},
   "outputs": [],
   "source": [
    "df_jan.drop('category_code', axis=1, inplace=True)\n",
    "df_feb.drop('category_code', axis=1, inplace=True)\n",
    "df_mar.drop('category_code', axis=1, inplace=True)\n",
    "df_apr.drop('category_code', axis=1, inplace=True)\n"
   ]
  },
  {
   "cell_type": "code",
   "execution_count": 82,
   "metadata": {},
   "outputs": [
    {
     "name": "stdout",
     "output_type": "stream",
     "text": [
      "                   event_time event_type  product_id          category_id  \\\n",
      "36  2020-01-01 00:00:10+00:00       cart     1005124  2232732093077520756   \n",
      "41  2020-01-01 00:00:11+00:00       cart     1201565  2232732101407408685   \n",
      "75  2020-01-01 00:00:22+00:00       cart    13101067  2232732106860003995   \n",
      "91  2020-01-01 00:00:26+00:00       cart     4801028  2232732079706079299   \n",
      "123 2020-01-01 00:00:36+00:00       cart     1004226  2232732093077520756   \n",
      "\n",
      "      brand    price    user_id                          user_session  \\\n",
      "36    apple  1453.18  532239316  253616df-2b1e-4bdf-8a0a-2d1aeef79734   \n",
      "41    apple   385.34  581430108  7d7687c4-b613-4467-8a81-54c7600e0ca9   \n",
      "75     skad   266.67  519373619  e97a30d7-2873-4018-9577-8cbf39b1c2c7   \n",
      "91   xiaomi    14.95  574723072  2f967c6e-b6c4-4971-8599-d34f86570e29   \n",
      "123   apple   890.11  518285678  7dad15db-dd6d-4e59-a6c7-674612f40837   \n",
      "\n",
      "    main_category secondary_category  \n",
      "36   construction              tools  \n",
      "41        apparel              shoes  \n",
      "75            NaN                N/A  \n",
      "91          sport            bicycle  \n",
      "123  construction              tools  \n",
      "                  event_time event_type  product_id          category_id  \\\n",
      "16 2020-02-01 00:00:06+00:00       cart     1005100  2232732093077520756   \n",
      "21 2020-02-01 00:00:07+00:00       cart   100001549  2053013558978937451   \n",
      "60 2020-02-01 00:00:18+00:00       cart   100065078  2232732093077520756   \n",
      "62 2020-02-01 00:00:18+00:00       cart     5701246  2053013554415534427   \n",
      "97 2020-02-01 00:00:31+00:00       cart    14701533  2053013552570040549   \n",
      "\n",
      "      brand   price    user_id                          user_session  \\\n",
      "16  samsung  140.28  608822162  8062ce43-662e-4b68-a37f-dabee5a8b7f0   \n",
      "21     puma   38.15  608821784  600f4508-f562-4b26-9750-49ae69938222   \n",
      "60   xiaomi  568.61  526615078  5f0aab9f-f92e-4eff-b0d2-fcec5f553f01   \n",
      "62      NaN   24.43  563902689  76cc9152-8a9f-43e9-b98a-ee484510f379   \n",
      "97      NaN  154.42  520953435  5f1c7752-cf92-41fc-9a16-e8897a90eee8   \n",
      "\n",
      "   main_category secondary_category  \n",
      "16  construction              tools  \n",
      "21         sport            bicycle  \n",
      "60  construction              tools  \n",
      "62   electronics              video  \n",
      "97   electronics              video  \n",
      "                   event_time event_type  product_id          category_id  \\\n",
      "7   2020-03-01 00:00:07+00:00   purchase     5100722  2232732103101907535   \n",
      "71  2020-03-01 00:00:42+00:00   purchase   100082062  2232732102103663163   \n",
      "117 2020-03-01 00:00:59+00:00       cart     6902464  2232732078733000751   \n",
      "155 2020-03-01 00:01:11+00:00   purchase     5100610  2232732103101907535   \n",
      "168 2020-03-01 00:01:20+00:00       cart     1002544  2232732093077520756   \n",
      "\n",
      "      brand   price    user_id                          user_session  \\\n",
      "7    huawei  128.68  604860058  f558a7d7-f1e4-4b81-8799-9131a81e551b   \n",
      "71      arg   48.88  601908129  37473d3f-b68b-4a23-8140-c6a7dece087c   \n",
      "117  zlatek   49.91  531574188  48714293-b3f9-4946-8135-eb1ea05ead74   \n",
      "155   apple  295.73  613253847  45aa30e5-2e05-4d56-ab56-07b0ecd2a0a4   \n",
      "168   apple  397.10  622090790  fb5b918c-f1f6-48d9-bcf4-7eb46e83fc6b   \n",
      "\n",
      "    main_category secondary_category  \n",
      "7     electronics             clocks  \n",
      "71      furniture            bedroom  \n",
      "117   electronics          telephone  \n",
      "155   electronics             clocks  \n",
      "168  construction              tools  \n",
      "                  event_time event_type  product_id          category_id  \\\n",
      "40 2020-04-01 00:00:19+00:00       cart     5100328  2232732103101907535   \n",
      "52 2020-04-01 00:00:23+00:00       cart   100177859  2053013551932506308   \n",
      "53 2020-04-01 00:00:23+00:00       cart    22700202  2232732091643068746   \n",
      "59 2020-04-01 00:00:25+00:00       cart     5100328  2232732103101907535   \n",
      "70 2020-04-01 00:00:30+00:00       cart     5100328  2232732103101907535   \n",
      "\n",
      "       brand   price    user_id                          user_session  \\\n",
      "40    xiaomi  117.12  635164513  c40d1b96-90aa-4cee-b9aa-9475d9c4f17f   \n",
      "52  s.oliver   60.49  633281427  667a8535-221c-4169-aab4-a1972610f102   \n",
      "53     stels  171.18  515979190  5526811f-230a-4762-aaf2-ba97cb742a9b   \n",
      "59    xiaomi  117.12  635164513  c40d1b96-90aa-4cee-b9aa-9475d9c4f17f   \n",
      "70    xiaomi  117.12  635164513  c40d1b96-90aa-4cee-b9aa-9475d9c4f17f   \n",
      "\n",
      "   main_category secondary_category  \n",
      "40   electronics             clocks  \n",
      "52  construction              tools  \n",
      "53           NaN                N/A  \n",
      "59   electronics             clocks  \n",
      "70   electronics             clocks  \n"
     ]
    }
   ],
   "source": [
    "print(df_jan.head())\n",
    "print(df_feb.head())\n",
    "print(df_mar.head())\n",
    "print(df_apr.head())"
   ]
  },
  {
   "cell_type": "code",
   "execution_count": 83,
   "metadata": {},
   "outputs": [
    {
     "name": "stdout",
     "output_type": "stream",
     "text": [
      "                        event_time event_type  product_id  \\\n",
      "0        2020-01-01 00:00:10+00:00       cart     1005124   \n",
      "1        2020-01-01 00:00:11+00:00       cart     1201565   \n",
      "2        2020-01-01 00:00:22+00:00       cart    13101067   \n",
      "3        2020-01-01 00:00:26+00:00       cart     4801028   \n",
      "4        2020-01-01 00:00:36+00:00       cart     1004226   \n",
      "...                            ...        ...         ...   \n",
      "15790837 2020-04-30 23:59:32+00:00   purchase     4802161   \n",
      "15790838 2020-04-30 23:59:36+00:00   purchase   100143638   \n",
      "15790839 2020-04-30 23:59:43+00:00       cart   100068441   \n",
      "15790840 2020-04-30 23:59:49+00:00       cart     3700621   \n",
      "15790841 2020-04-30 23:59:55+00:00       cart     2700800   \n",
      "\n",
      "                  category_id    brand    price    user_id  \\\n",
      "0         2232732093077520756    apple  1453.18  532239316   \n",
      "1         2232732101407408685    apple   385.34  581430108   \n",
      "2         2232732106860003995     skad   266.67  519373619   \n",
      "3         2232732079706079299   xiaomi    14.95  574723072   \n",
      "4         2232732093077520756    apple   890.11  518285678   \n",
      "...                       ...      ...      ...        ...   \n",
      "15790837  2232732079706079299      jbl    10.53  621887055   \n",
      "15790838  2232732093077520756  samsung   353.77  644385719   \n",
      "15790839  2232732093077520756  samsung   276.00  524246778   \n",
      "15790840  2232732101063475749    vitek   115.81  560443299   \n",
      "15790841  2232732091718566220      NaN   268.49  529841644   \n",
      "\n",
      "                                  user_session main_category  \\\n",
      "0         253616df-2b1e-4bdf-8a0a-2d1aeef79734  construction   \n",
      "1         7d7687c4-b613-4467-8a81-54c7600e0ca9       apparel   \n",
      "2         e97a30d7-2873-4018-9577-8cbf39b1c2c7           NaN   \n",
      "3         2f967c6e-b6c4-4971-8599-d34f86570e29         sport   \n",
      "4         7dad15db-dd6d-4e59-a6c7-674612f40837  construction   \n",
      "...                                        ...           ...   \n",
      "15790837  a48325b5-a58c-4016-a876-8fe6c9b7dfec         sport   \n",
      "15790838  9b370ac6-6655-40c4-90f0-e5d6917b8959  construction   \n",
      "15790839  b756712f-b37b-4502-8c0b-ea4f1bbe335d  construction   \n",
      "15790840  9a495abd-8b2f-4c1d-9e38-88ae5612068b    appliances   \n",
      "15790841  fde0f6de-116c-4674-92c2-7c579dff3167    appliances   \n",
      "\n",
      "         secondary_category  \n",
      "0                     tools  \n",
      "1                     shoes  \n",
      "2                       N/A  \n",
      "3                   bicycle  \n",
      "4                     tools  \n",
      "...                     ...  \n",
      "15790837            bicycle  \n",
      "15790838              tools  \n",
      "15790839              tools  \n",
      "15790840        environment  \n",
      "15790841            kitchen  \n",
      "\n",
      "[15790842 rows x 10 columns]\n"
     ]
    }
   ],
   "source": [
    "# Concatenate the DataFrames vertically\n",
    "combined_df = pd.concat([df_jan, df_feb, df_mar, df_apr], ignore_index=True)\n",
    "\n",
    "# Display the combined DataFrame\n",
    "print(combined_df)"
   ]
  },
  {
   "cell_type": "markdown",
   "metadata": {},
   "source": [
    "We are droping the user_id, product_id, and category_id because we don't need this column in our project and it may take up some storage space. In the next chunk, you can see that the user_id, product_id, and category_id columns take up how much storage.\n"
   ]
  },
  {
   "cell_type": "code",
   "execution_count": 84,
   "metadata": {},
   "outputs": [
    {
     "name": "stdout",
     "output_type": "stream",
     "text": [
      "Size before dropping: 4,589,786,167\n",
      "Size after dropping: 4,014,240,200\n",
      "Percentage of memory saved: 12.54%\n"
     ]
    }
   ],
   "source": [
    "# Assuming your DataFrame is named 'df'\n",
    "size_before = combined_df.memory_usage(deep=True).sum()\n",
    "df_dropped = combined_df.drop(columns=['user_id', \"product_id\", \"category_id\"])\n",
    "df_dropped = df_dropped.dropna(subset=[\"user_session\", \"main_category\", \"secondary_category\"])\n",
    "size_after = df_dropped.memory_usage(deep=True).sum()\n",
    "print(\"Size before dropping: {:,}\".format(size_before))\n",
    "print(\"Size after dropping: {:,}\".format(size_after))\n",
    "percentage_savings = ((size_before - size_after) / size_before) * 100\n",
    "print(\"Percentage of memory saved: {:.2f}%\".format(percentage_savings))"
   ]
  },
  {
   "cell_type": "code",
   "execution_count": 85,
   "metadata": {},
   "outputs": [
    {
     "data": {
      "text/html": [
       "<div>\n",
       "<style scoped>\n",
       "    .dataframe tbody tr th:only-of-type {\n",
       "        vertical-align: middle;\n",
       "    }\n",
       "\n",
       "    .dataframe tbody tr th {\n",
       "        vertical-align: top;\n",
       "    }\n",
       "\n",
       "    .dataframe thead th {\n",
       "        text-align: right;\n",
       "    }\n",
       "</style>\n",
       "<table border=\"1\" class=\"dataframe\">\n",
       "  <thead>\n",
       "    <tr style=\"text-align: right;\">\n",
       "      <th></th>\n",
       "      <th>event_time</th>\n",
       "      <th>event_type</th>\n",
       "      <th>brand</th>\n",
       "      <th>price</th>\n",
       "      <th>user_session</th>\n",
       "      <th>main_category</th>\n",
       "      <th>secondary_category</th>\n",
       "    </tr>\n",
       "  </thead>\n",
       "  <tbody>\n",
       "    <tr>\n",
       "      <th>0</th>\n",
       "      <td>2020-01-01 00:00:10+00:00</td>\n",
       "      <td>cart</td>\n",
       "      <td>apple</td>\n",
       "      <td>1453.18</td>\n",
       "      <td>253616df-2b1e-4bdf-8a0a-2d1aeef79734</td>\n",
       "      <td>construction</td>\n",
       "      <td>tools</td>\n",
       "    </tr>\n",
       "    <tr>\n",
       "      <th>1</th>\n",
       "      <td>2020-01-01 00:00:11+00:00</td>\n",
       "      <td>cart</td>\n",
       "      <td>apple</td>\n",
       "      <td>385.34</td>\n",
       "      <td>7d7687c4-b613-4467-8a81-54c7600e0ca9</td>\n",
       "      <td>apparel</td>\n",
       "      <td>shoes</td>\n",
       "    </tr>\n",
       "    <tr>\n",
       "      <th>3</th>\n",
       "      <td>2020-01-01 00:00:26+00:00</td>\n",
       "      <td>cart</td>\n",
       "      <td>xiaomi</td>\n",
       "      <td>14.95</td>\n",
       "      <td>2f967c6e-b6c4-4971-8599-d34f86570e29</td>\n",
       "      <td>sport</td>\n",
       "      <td>bicycle</td>\n",
       "    </tr>\n",
       "    <tr>\n",
       "      <th>4</th>\n",
       "      <td>2020-01-01 00:00:36+00:00</td>\n",
       "      <td>cart</td>\n",
       "      <td>apple</td>\n",
       "      <td>890.11</td>\n",
       "      <td>7dad15db-dd6d-4e59-a6c7-674612f40837</td>\n",
       "      <td>construction</td>\n",
       "      <td>tools</td>\n",
       "    </tr>\n",
       "    <tr>\n",
       "      <th>5</th>\n",
       "      <td>2020-01-01 00:00:44+00:00</td>\n",
       "      <td>cart</td>\n",
       "      <td>apple</td>\n",
       "      <td>869.46</td>\n",
       "      <td>2a5143e3-2de9-4dc0-8bbd-8f431fa8fc19</td>\n",
       "      <td>construction</td>\n",
       "      <td>tools</td>\n",
       "    </tr>\n",
       "  </tbody>\n",
       "</table>\n",
       "</div>"
      ],
      "text/plain": [
       "                 event_time event_type   brand    price  \\\n",
       "0 2020-01-01 00:00:10+00:00       cart   apple  1453.18   \n",
       "1 2020-01-01 00:00:11+00:00       cart   apple   385.34   \n",
       "3 2020-01-01 00:00:26+00:00       cart  xiaomi    14.95   \n",
       "4 2020-01-01 00:00:36+00:00       cart   apple   890.11   \n",
       "5 2020-01-01 00:00:44+00:00       cart   apple   869.46   \n",
       "\n",
       "                           user_session main_category secondary_category  \n",
       "0  253616df-2b1e-4bdf-8a0a-2d1aeef79734  construction              tools  \n",
       "1  7d7687c4-b613-4467-8a81-54c7600e0ca9       apparel              shoes  \n",
       "3  2f967c6e-b6c4-4971-8599-d34f86570e29         sport            bicycle  \n",
       "4  7dad15db-dd6d-4e59-a6c7-674612f40837  construction              tools  \n",
       "5  2a5143e3-2de9-4dc0-8bbd-8f431fa8fc19  construction              tools  "
      ]
     },
     "execution_count": 85,
     "metadata": {},
     "output_type": "execute_result"
    }
   ],
   "source": [
    "combined_df = df_dropped\n",
    "\n",
    "combined_df.head()"
   ]
  },
  {
   "cell_type": "markdown",
   "metadata": {},
   "source": [
    "In this case, since we don't have the product name, only the product id, what we do is drop the NaN. But in real world, we wouldn't delete in, and instead we bind it with the product name in another database and make a machine learning classification to determine which categories the product goes.\n",
    "\n",
    "The reason why we drop user_session NaN is because there aren't a lot of NaN there, and since we need the column, we cannot drop the whole column nor replace it with a random id because we are not sure if the missing values may be the same person."
   ]
  },
  {
   "cell_type": "code",
   "execution_count": 91,
   "metadata": {},
   "outputs": [
    {
     "data": {
      "text/html": [
       "<div>\n",
       "<style scoped>\n",
       "    .dataframe tbody tr th:only-of-type {\n",
       "        vertical-align: middle;\n",
       "    }\n",
       "\n",
       "    .dataframe tbody tr th {\n",
       "        vertical-align: top;\n",
       "    }\n",
       "\n",
       "    .dataframe thead th {\n",
       "        text-align: right;\n",
       "    }\n",
       "</style>\n",
       "<table border=\"1\" class=\"dataframe\">\n",
       "  <thead>\n",
       "    <tr style=\"text-align: right;\">\n",
       "      <th></th>\n",
       "      <th>event_time</th>\n",
       "      <th>event_type</th>\n",
       "      <th>brand</th>\n",
       "      <th>price</th>\n",
       "      <th>user_session</th>\n",
       "      <th>main_category</th>\n",
       "      <th>secondary_category</th>\n",
       "    </tr>\n",
       "  </thead>\n",
       "  <tbody>\n",
       "    <tr>\n",
       "      <th>15790837</th>\n",
       "      <td>2020-04-30 23:59:32+00:00</td>\n",
       "      <td>purchase</td>\n",
       "      <td>jbl</td>\n",
       "      <td>10.53</td>\n",
       "      <td>a48325b5-a58c-4016-a876-8fe6c9b7dfec</td>\n",
       "      <td>sport</td>\n",
       "      <td>bicycle</td>\n",
       "    </tr>\n",
       "    <tr>\n",
       "      <th>15790838</th>\n",
       "      <td>2020-04-30 23:59:36+00:00</td>\n",
       "      <td>purchase</td>\n",
       "      <td>samsung</td>\n",
       "      <td>353.77</td>\n",
       "      <td>9b370ac6-6655-40c4-90f0-e5d6917b8959</td>\n",
       "      <td>construction</td>\n",
       "      <td>tools</td>\n",
       "    </tr>\n",
       "    <tr>\n",
       "      <th>15790839</th>\n",
       "      <td>2020-04-30 23:59:43+00:00</td>\n",
       "      <td>cart</td>\n",
       "      <td>samsung</td>\n",
       "      <td>276.00</td>\n",
       "      <td>b756712f-b37b-4502-8c0b-ea4f1bbe335d</td>\n",
       "      <td>construction</td>\n",
       "      <td>tools</td>\n",
       "    </tr>\n",
       "    <tr>\n",
       "      <th>15790840</th>\n",
       "      <td>2020-04-30 23:59:49+00:00</td>\n",
       "      <td>cart</td>\n",
       "      <td>vitek</td>\n",
       "      <td>115.81</td>\n",
       "      <td>9a495abd-8b2f-4c1d-9e38-88ae5612068b</td>\n",
       "      <td>appliances</td>\n",
       "      <td>environment</td>\n",
       "    </tr>\n",
       "    <tr>\n",
       "      <th>15790841</th>\n",
       "      <td>2020-04-30 23:59:55+00:00</td>\n",
       "      <td>cart</td>\n",
       "      <td>NaN</td>\n",
       "      <td>268.49</td>\n",
       "      <td>fde0f6de-116c-4674-92c2-7c579dff3167</td>\n",
       "      <td>appliances</td>\n",
       "      <td>kitchen</td>\n",
       "    </tr>\n",
       "  </tbody>\n",
       "</table>\n",
       "</div>"
      ],
      "text/plain": [
       "                        event_time event_type    brand   price  \\\n",
       "15790837 2020-04-30 23:59:32+00:00   purchase      jbl   10.53   \n",
       "15790838 2020-04-30 23:59:36+00:00   purchase  samsung  353.77   \n",
       "15790839 2020-04-30 23:59:43+00:00       cart  samsung  276.00   \n",
       "15790840 2020-04-30 23:59:49+00:00       cart    vitek  115.81   \n",
       "15790841 2020-04-30 23:59:55+00:00       cart      NaN  268.49   \n",
       "\n",
       "                                  user_session main_category  \\\n",
       "15790837  a48325b5-a58c-4016-a876-8fe6c9b7dfec         sport   \n",
       "15790838  9b370ac6-6655-40c4-90f0-e5d6917b8959  construction   \n",
       "15790839  b756712f-b37b-4502-8c0b-ea4f1bbe335d  construction   \n",
       "15790840  9a495abd-8b2f-4c1d-9e38-88ae5612068b    appliances   \n",
       "15790841  fde0f6de-116c-4674-92c2-7c579dff3167    appliances   \n",
       "\n",
       "         secondary_category  \n",
       "15790837            bicycle  \n",
       "15790838              tools  \n",
       "15790839              tools  \n",
       "15790840        environment  \n",
       "15790841            kitchen  "
      ]
     },
     "execution_count": 91,
     "metadata": {},
     "output_type": "execute_result"
    }
   ],
   "source": [
    "combined_df.tail()"
   ]
  },
  {
   "cell_type": "code",
   "execution_count": 87,
   "metadata": {},
   "outputs": [
    {
     "data": {
      "text/plain": [
       "14473670"
      ]
     },
     "execution_count": 87,
     "metadata": {},
     "output_type": "execute_result"
    }
   ],
   "source": [
    "len(combined_df)"
   ]
  },
  {
   "cell_type": "code",
   "execution_count": 96,
   "metadata": {},
   "outputs": [
    {
     "name": "stdout",
     "output_type": "stream",
     "text": [
      "['cart', 'purchase']\n",
      "Categories (3, object): ['cart', 'purchase', 'view']\n"
     ]
    }
   ],
   "source": [
    "unique_categories = combined_df[\"event_type\"].unique()\n",
    "\n",
    "print(unique_categories)"
   ]
  },
  {
   "cell_type": "markdown",
   "metadata": {},
   "source": [
    "# ANALYZE THE DATA"
   ]
  },
  {
   "cell_type": "code",
   "execution_count": 102,
   "metadata": {},
   "outputs": [
    {
     "name": "stdout",
     "output_type": "stream",
     "text": [
      "Average number of purchases per user_session: 1.3098156705499184\n"
     ]
    }
   ],
   "source": [
    "# Group by user_session and count the number of purchases\n",
    "purchase_counts_per_session = combined_df[combined_df['event_type'] == 'purchase'].groupby('user_session').size()\n",
    "\n",
    "# Calculate the average number of purchases per user_session\n",
    "average_purchase_per_session = purchase_counts_per_session.mean()\n",
    "\n",
    "# Print the average number of purchases per user_session\n",
    "print(\"Average number of purchases per user_session:\", average_purchase_per_session)"
   ]
  },
  {
   "cell_type": "code",
   "execution_count": 107,
   "metadata": {},
   "outputs": [
    {
     "name": "stdout",
     "output_type": "stream",
     "text": [
      "Average number of unique sub-categories added to cart per user_session: 1.0402838928728153\n"
     ]
    }
   ],
   "source": [
    "# Filter for 'cart' actions and count unique sub-categories per user_session\n",
    "cart_data = combined_df[combined_df['event_type'] == 'cart']\n",
    "unique_subcategories_per_session = cart_data.groupby('user_session')['secondary_category'].nunique()\n",
    "\n",
    "# Calculate the average number of unique sub-categories per user_session\n",
    "average_unique_subcategories_per_session = unique_subcategories_per_session.mean()\n",
    "\n",
    "# Display the average number of unique sub-categories per user_session\n",
    "print(\"Average number of unique sub-categories added to cart per user_session:\", average_unique_subcategories_per_session)"
   ]
  },
  {
   "cell_type": "code",
   "execution_count": 109,
   "metadata": {},
   "outputs": [
    {
     "name": "stdout",
     "output_type": "stream",
     "text": [
      "One person per User Session would add 1.35620 products to the cart before purchasing them.\n"
     ]
    }
   ],
   "source": [
    "# Calculate the number of cart additions and purchases per user_session & secondary_category columns\n",
    "cart_counts = combined_df[combined_df['event_type'] == 'cart'].groupby(['user_session']).size()\n",
    "purchase_counts = combined_df[combined_df['event_type'] == 'purchase'].groupby(['user_session']).size()\n",
    "\n",
    "# Calculate the average number of cart additions and purchases per user_session & secondary_category columns\n",
    "avg_cart_per_session = cart_counts.mean()\n",
    "avg_purchase_per_session = purchase_counts.mean()\n",
    "\n",
    "# Calculate the ratio between average cart additions and purchases\n",
    "ratio = avg_cart_per_session / avg_purchase_per_session\n",
    "\n",
    "# Print the conclusion\n",
    "print(\"One person per User Session would add {:.5f} products to the cart before purchasing them.\"\n",
    "      .format(ratio.mean()))"
   ]
  },
  {
   "cell_type": "code",
   "execution_count": 108,
   "metadata": {},
   "outputs": [
    {
     "name": "stdout",
     "output_type": "stream",
     "text": [
      "One person per User Session with one Secondary Category would add 1.36161 products to the cart before purchasing them.\n"
     ]
    }
   ],
   "source": [
    "# Calculate the number of cart additions and purchases per user_session & secondary_category columns\n",
    "cart_counts = combined_df[combined_df['event_type'] == 'cart'].groupby(['user_session', 'secondary_category']).size()\n",
    "purchase_counts = combined_df[combined_df['event_type'] == 'purchase'].groupby(['user_session', 'secondary_category']).size()\n",
    "\n",
    "# Calculate the average number of cart additions and purchases per user_session & secondary_category columns\n",
    "avg_cart_per_session = cart_counts.mean()\n",
    "avg_purchase_per_session = purchase_counts.mean()\n",
    "\n",
    "# Calculate the ratio between average cart additions and purchases\n",
    "ratio = avg_cart_per_session / avg_purchase_per_session\n",
    "\n",
    "# Print the conclusion\n",
    "print(\"One person per User Session with the same product category would add {:.5f} products to the cart before purchasing them.\"\n",
    "      .format(ratio.mean()))"
   ]
  },
  {
   "cell_type": "markdown",
   "metadata": {},
   "source": [
    "From the chunks above, we could conclude that:\n",
    "1. One person would purchase an average of 1.310 products per User Session\n",
    "2. One person would purchase an average of 1.040 different product category per User Session\n",
    "3. One person would add an average of 1.356 product with the same product category per User Session\n",
    "4. One person would add an average of 1.362 product with the same product category per User Session\n",
    "\n",
    "The data can be used for businesses strategies, for example how many ads they would need to purchase in the ecommerce. "
   ]
  },
  {
   "cell_type": "markdown",
   "metadata": {},
   "source": [
    "# SAVE THE DATA TO CSV TO BE LOADED IN THE BUCKET FOR THE NEXT STEP"
   ]
  },
  {
   "cell_type": "code",
   "execution_count": 89,
   "metadata": {},
   "outputs": [],
   "source": [
    "#combined_df.to_csv(\"cleaned_ecommerce.csv\", index=False)"
   ]
  },
  {
   "cell_type": "code",
   "execution_count": 90,
   "metadata": {},
   "outputs": [],
   "source": [
    "# from pyspark.sql import SparkSession\n",
    "\n",
    "# # Assuming your cleaned data is stored in a dictionary\n",
    "# cleaned_data = {\n",
    "#     \"col1\": [1, 2, 3],\n",
    "#     \"col2\": [\"A\", \"B\", \"C\"]\n",
    "# }\n",
    "\n",
    "# # Create a SparkSession\n",
    "# spark = SparkSession.builder.appName(\"Example\").getOrCreate()\n",
    "\n",
    "# # Convert dictionary to DataFrame\n",
    "# cleaned_data_df = spark.createDataFrame([(k, v) for k, v in cleaned_data.items()], [\"col_name\", \"col_data\"])\n",
    "\n",
    "# # Save DataFrame to MinIO bucket as CSV\n",
    "# minio_endpoint = \"http://localhost:9001/browser/ecommerce\"  # Replace with your MinIO endpoint\n",
    "\n",
    "# cleaned_data_df.write.format(\"csv\") \\\n",
    "#     .option(\"header\", \"true\") \\\n",
    "#     .mode(\"overwrite\") \\\n",
    "#     .save(f\"s3a://{minio_endpoint}/{bucket_name}/cleaned_data.csv\")\n"
   ]
  }
 ],
 "metadata": {
  "kernelspec": {
   "display_name": "Python 3",
   "language": "python",
   "name": "python3"
  },
  "language_info": {
   "codemirror_mode": {
    "name": "ipython",
    "version": 3
   },
   "file_extension": ".py",
   "mimetype": "text/x-python",
   "name": "python",
   "nbconvert_exporter": "python",
   "pygments_lexer": "ipython3",
   "version": "3.12.0"
  }
 },
 "nbformat": 4,
 "nbformat_minor": 2
}
