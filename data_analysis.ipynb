{
 "cells": [
  {
   "cell_type": "markdown",
   "metadata": {},
   "source": [
    "# IMPORT LIBRARIES"
   ]
  },
  {
   "cell_type": "code",
   "execution_count": 1,
   "metadata": {},
   "outputs": [],
   "source": [
    "from minio import Minio\n",
    "from minio.error import S3Error\n",
    "import pandas as pd\n",
    "import matplotlib.pyplot as plt\n",
    "from pyspark.sql import SparkSession\n",
    "from pyspark.sql.functions import *\n",
    "from delta import *\n",
    "from functools import reduce\n",
    "from pyspark.sql import functions as F\n",
    "from delta.tables import DeltaTable\n",
    "from pyspark.sql.window import Window\n",
    "import matplotlib.dates as mdates\n",
    "import datetime"
   ]
  },
  {
   "cell_type": "markdown",
   "metadata": {},
   "source": [
    "# CONNECT TO MINIO (LOAD BUCKET)"
   ]
  },
  {
   "cell_type": "code",
   "execution_count": 2,
   "metadata": {},
   "outputs": [],
   "source": [
    "# Stop the existing SparkContext if it exists\n",
    "try:\n",
    "    sc.stop()\n",
    "except NameError:\n",
    "    pass\n",
    "\n",
    "\n",
    "builder = SparkSession.builder.appName(\"Delta With MinIO\") \\\n",
    "    .config(\"spark.hadoop.fs.s3a.endpoint\", \"http://minio:9000\") \\\n",
    "    .config(\"spark.hadoop.fs.s3a.access.key\", \"minioadmin\") \\\n",
    "    .config(\"spark.hadoop.fs.s3a.secret.key\", \"minioadmin\") \\\n",
    "    .config(\"spark.hadoop.fs.s3a.path.style.access\", True) \\\n",
    "    .config(\"spark.hadoop.fs.s3a.impl\", \"org.apache.hadoop.fs.s3a.S3AFileSystem\") \\\n",
    "    .config(\"spark.hadoop.fs.s3a.aws.credentials.provider\", \"org.apache.hadoop.fs.s3a.SimpleAWSCredentialsProvider\") \\\n",
    "    .config(\"spark.sql.extensions\", \"io.delta.sql.DeltaSparkSessionExtension\") \\\n",
    "    .config(\"spark.sql.catalog.spark_catalog\", \"org.apache.spark.sql.delta.catalog.DeltaCatalog\")\n",
    "\n",
    "spark = configure_spark_with_delta_pip(builder).getOrCreate()"
   ]
  },
  {
   "cell_type": "code",
   "execution_count": 3,
   "metadata": {},
   "outputs": [],
   "source": [
    "# Set your MinIO configurations\n",
    "minio_access_key = 'minioadmin'\n",
    "minio_secret_key = 'minioadmin'\n",
    "minio_endpoint = 'http://minio:9000'  # Example: 'play.min.io'\n",
    "minio_bucket = 'ecommerce'\n",
    "\n",
    "# Set the configurations for accessing MinIO\n",
    "spark._jsc.hadoopConfiguration().set(\"fs.s3a.access.key\", minio_access_key)\n",
    "spark._jsc.hadoopConfiguration().set(\"fs.s3a.secret.key\", minio_secret_key)\n",
    "spark._jsc.hadoopConfiguration().set(\"fs.s3a.endpoint\", minio_endpoint)\n",
    "spark._jsc.hadoopConfiguration().set(\"fs.s3a.path.style.access\", \"true\")\n"
   ]
  },
  {
   "cell_type": "markdown",
   "metadata": {},
   "source": [
    "# LOAD DATA FROM MINIO"
   ]
  },
  {
   "cell_type": "code",
   "execution_count": 4,
   "metadata": {},
   "outputs": [
    {
     "name": "stdout",
     "output_type": "stream",
     "text": [
      "+-----------------------+----------+----------+-------------------+-------------------------------+-------+-------+---------+------------------------------------+\n",
      "|             event_time|event_type|product_id|        category_id|                  category_code|  brand|  price|  user_id|                        user_session|\n",
      "+-----------------------+----------+----------+-------------------+-------------------------------+-------+-------+---------+------------------------------------+\n",
      "|2020-01-01 00:00:00 UTC|      view|   1005073|2232732093077520756|       construction.tools.light|samsung|1130.02|519698804|69b5d72f-fd6e-4fed-aa23-1286b2ca89a0|\n",
      "|2020-01-01 00:00:01 UTC|      view|   1005192|2232732093077520756|       construction.tools.light|  meizu| 205.67|527767423|7f596032-ccbf-4643-9bad-e36a209512b4|\n",
      "|2020-01-01 00:00:01 UTC|      view| 100063693|2053013552427434207|                  apparel.shirt| turtle| 136.43|519046195|d1e2f343-84bb-49bd-b13d-ca0f1ed9910e|\n",
      "|2020-01-01 00:00:01 UTC|      view|   5100816|2232732103831716449|                  apparel.shoes| xiaomi|  29.95|518269232|0444841c-38ef-410c-b11f-7b35ea4e5991|\n",
      "|2020-01-01 00:00:02 UTC|      view| 100014325|2232732103294845523|         apparel.shoes.step_ins|  intel| 167.20|587748686|31b7d4cf-dfac-4895-9927-90fa3254f860|\n",
      "|2020-01-01 00:00:02 UTC|      view|  16500026|2232732108713886406|                apparel.costume|  gamma|  37.35|581037554|c161400e-630b-4b59-8797-d9b9714444bf|\n",
      "|2020-01-01 00:00:02 UTC|      view|   1802026|2232732099754852875|   appliances.personal.massager|samsung| 576.33|581274910|44ca9bc7-3ba8-4546-bdf5-10b2172ed883|\n",
      "|2020-01-01 00:00:02 UTC|      view|  11600004|2053013554834964853|      appliances.kitchen.kettle|   sven|  43.48|595265136|32c08a07-f2d0-4da5-83fd-40ce97c651e6|\n",
      "|2020-01-01 00:00:02 UTC|      view|   4802273|2232732079706079299|                  sport.bicycle|samsung|   6.64|595414563|176fd102-7b61-4452-a0e5-f1f8cc9b4b95|\n",
      "|2020-01-01 00:00:03 UTC|      view|   1005115|2232732093077520756|       construction.tools.light|  apple| 869.46|531140669|84c838d4-6e10-4b7d-8d29-90749e577a6b|\n",
      "|2020-01-01 00:00:03 UTC|      view|   3100055|2232732091391410500|     appliances.kitchen.blender|  braun| 117.09|558295901|e7934107-4212-4b1b-a8e1-6dbec9b4daf5|\n",
      "|2020-01-01 00:00:03 UTC|      view|  26000317|2232732082474320004|                           null|   null|  11.84|592648495|7294aca4-58be-4fbe-9a4c-7f2b528b3fad|\n",
      "|2020-01-01 00:00:04 UTC|      view|  16500038|2232732108713886406|                apparel.costume|  bwell|  56.63|526238299|7f47e97f-3833-47b0-95a6-b8b61ff73fef|\n",
      "|2020-01-01 00:00:04 UTC|      view|  21407348|2232732082063278200|             electronics.clocks|  casio| 122.01|578858757|bdf051a8-1594-4630-b93d-2ba62b92d039|\n",
      "|2020-01-01 00:00:04 UTC|      view|   3600666|2232732092297380188|      appliances.kitchen.washer|samsung| 321.73|556820148|8748d326-2623-42b7-b422-df03db98fa58|\n",
      "|2020-01-01 00:00:04 UTC|      view|   8700154|2232732089587859740|appliances.personal.hair_cutter|polaris|  11.53|515160926|00963bdd-83c0-4c95-871b-dc9e5a6687b7|\n",
      "|2020-01-01 00:00:04 UTC|      view|   1801883|2232732099754852875|   appliances.personal.massager|philips| 231.64|595405799|5d5a33b5-ac89-4827-94af-d3d358a9b955|\n",
      "|2020-01-01 00:00:05 UTC|      view|   7203232|2232732084546306225|    furniture.living_room.chair|   lego|  84.94|523020108|2f160b97-6d02-4ce5-8eea-23524dfcbf1d|\n",
      "|2020-01-01 00:00:05 UTC|      view|   1005124|2232732093077520756|       construction.tools.light|  apple|1453.18|532239316|253616df-2b1e-4bdf-8a0a-2d1aeef79734|\n",
      "|2020-01-01 00:00:05 UTC|      view| 100002825|2232732091559182664|                           null|ski-doo| 377.95|561502419|f916da2a-eee7-4179-bedc-3b5df9432cc2|\n",
      "+-----------------------+----------+----------+-------------------+-------------------------------+-------+-------+---------+------------------------------------+\n",
      "only showing top 20 rows\n",
      "\n"
     ]
    }
   ],
   "source": [
    "# Load file from MinIO bucket\n",
    "minio_file_path_jan = '2020-Jan.csv'\n",
    "minio_file_url_jan = f\"s3a://{minio_bucket}/{minio_file_path_jan}\"\n",
    "df_jan = spark.read.csv(minio_file_url_jan, header=True)\n",
    "\n",
    "# Show the loaded DataFrame\n",
    "df_jan.show(truncate = 50)"
   ]
  },
  {
   "cell_type": "code",
   "execution_count": 5,
   "metadata": {},
   "outputs": [
    {
     "name": "stdout",
     "output_type": "stream",
     "text": [
      "+-----------------------+----------+----------+-------------------+--------------------------------+-------+-------+---------+------------------------------------+\n",
      "|             event_time|event_type|product_id|        category_id|                   category_code|  brand|  price|  user_id|                        user_session|\n",
      "+-----------------------+----------+----------+-------------------+--------------------------------+-------+-------+---------+------------------------------------+\n",
      "|2020-02-01 00:00:00 UTC|      view| 100010426|2232732115290555244|                   apparel.shoes|   null|  19.31|581521975|82d5664d-7980-43e1-ab27-a2f05e991760|\n",
      "|2020-02-01 00:00:00 UTC|      view| 100071077|2232732079706079299|                   sport.bicycle|  crown|  11.88|596313635|3df590c0-e667-4f5a-aa87-f47749cd6408|\n",
      "|2020-02-01 00:00:00 UTC|      view|   1004665|2232732093077520756|        construction.tools.light|samsung| 838.23|608821035|3e271f43-db51-46bd-b215-c2907ed1a204|\n",
      "|2020-02-01 00:00:01 UTC|      view|   1002544|2232732093077520756|        construction.tools.light|  apple| 410.42|530488542|21f46782-fb36-4d5c-82d4-6dc26ae93fad|\n",
      "|2020-02-01 00:00:01 UTC|      view| 100010151|2053013563835941749|appliances.kitchen.refrigerators| pulser| 332.03|583795643|eddfe0e2-12f8-4357-b453-00786c9b0319|\n",
      "|2020-02-01 00:00:02 UTC|      view|   5000108|2232732102950912587|       appliances.sewing_machine| janome| 127.56|513854134|d2e0ec81-b785-48f8-9d7c-29214c5015ad|\n",
      "|2020-02-01 00:00:02 UTC|      view|   6501012|2232732103462617687|           apparel.shoes.slipons| asrock|  46.02|514092189|fcf181e8-56b3-4749-8406-4e9cb4375e2d|\n",
      "|2020-02-01 00:00:02 UTC|      view|  15100003|2232732107413652135|                  apparel.shorts|     sv| 874.93|588332465|7f5c4c88-4a05-4c62-954b-c9a0e1068301|\n",
      "|2020-02-01 00:00:02 UTC|      view|  15100229|2232732107413652135|                  apparel.shorts|   null| 887.02|594768603|4db2a707-8548-4f60-a6c0-14ea038ffef0|\n",
      "|2020-02-01 00:00:02 UTC|      view|   1005115|2232732093077520756|        construction.tools.light|  apple| 806.61|608822150|50d1339f-561e-41f9-944b-f3571af57b05|\n",
      "|2020-02-01 00:00:03 UTC|      view|  15901490|2053013566142809077|    construction.tools.generator|   null|  46.33|518459407|c2a1a5e4-7bf2-4985-a726-11e135c9a533|\n",
      "|2020-02-01 00:00:03 UTC|      view|   1004648|2232732093077520756|        construction.tools.light|samsung| 563.70|608821035|3e271f43-db51-46bd-b215-c2907ed1a204|\n",
      "|2020-02-01 00:00:04 UTC|      view|  28717124|2232732097842250207|              apparel.shoes.keds|respect|  31.92|512437914|b9244c98-22a1-4c76-9f9f-dfcd11da592a|\n",
      "|2020-02-01 00:00:04 UTC|      view|   1005284|2232732093077520756|        construction.tools.light|samsung|2187.68|513239057|83c6453a-6415-4426-b587-cd94947bfeed|\n",
      "|2020-02-01 00:00:05 UTC|      view|  17200720|2232732090980368698|      furniture.living_room.sofa|   rals| 532.91|519398356|e2d8e72b-afee-41bf-94e4-8804364e4f94|\n",
      "|2020-02-01 00:00:05 UTC|      view|  10900224|2232732105912091273|        appliances.kitchen.mixer|redmond|  48.63|519194270|96326c64-d2c2-4a82-96b2-6abe799cb94b|\n",
      "|2020-02-01 00:00:06 UTC|      cart|   1005100|2232732093077520756|        construction.tools.light|samsung| 140.28|608822162|8062ce43-662e-4b68-a37f-dabee5a8b7f0|\n",
      "|2020-02-01 00:00:06 UTC|      view|   5701024|2053013554415534427|            electronics.video.tv|kenwood| 120.98|531481119|162a856a-f800-4ca6-a889-cde46fe78972|\n",
      "|2020-02-01 00:00:06 UTC|      view|   1004767|2232732093077520756|        construction.tools.light|samsung| 226.18|561966169|0a014c51-f0f3-4042-93dc-85d6819c69db|\n",
      "|2020-02-01 00:00:06 UTC|      view|   5100337|2232732103101907535|              electronics.clocks|  apple| 308.85|559727899|9e1fe23c-2d1a-4cfd-b295-344b6736188f|\n",
      "+-----------------------+----------+----------+-------------------+--------------------------------+-------+-------+---------+------------------------------------+\n",
      "only showing top 20 rows\n",
      "\n"
     ]
    }
   ],
   "source": [
    "# Load file from MinIO bucket\n",
    "minio_file_path_feb = '2020-Feb.csv'\n",
    "minio_file_url_feb = f\"s3a://{minio_bucket}/{minio_file_path_feb}\"\n",
    "df_feb = spark.read.csv(minio_file_url_feb, header=True)\n",
    "\n",
    "# Show the loaded DataFrame\n",
    "df_feb.show(truncate = 50)"
   ]
  },
  {
   "cell_type": "code",
   "execution_count": 6,
   "metadata": {},
   "outputs": [
    {
     "name": "stdout",
     "output_type": "stream",
     "text": [
      "+-----------------------+----------+----------+-------------------+---------------------------------+--------+-------+---------+------------------------------------+\n",
      "|             event_time|event_type|product_id|        category_id|                    category_code|   brand|  price|  user_id|                        user_session|\n",
      "+-----------------------+----------+----------+-------------------+---------------------------------+--------+-------+---------+------------------------------------+\n",
      "|2020-03-01 00:00:00 UTC|      view|  10900348|2232732105912091273|         appliances.kitchen.mixer| kitfort| 117.63|550295099|23f5ab9e-7774-416d-900b-f2725da671aa|\n",
      "|2020-03-01 00:00:01 UTC|      view|  14300020|2232732107967300275|                apparel.underwear|   casio| 264.37|622070532|edf19213-f0dd-46e1-ae18-28968dbddd6e|\n",
      "|2020-03-01 00:00:03 UTC|      view|  13200063|2232732061804790604|            furniture.bedroom.bed|    null| 126.10|552832344|608087d8-6b69-21db-50a3-2b91ba015532|\n",
      "|2020-03-01 00:00:03 UTC|      view| 100077498|2232732085846540487|     construction.tools.generator|  tamina| 424.72|613391860|5ab6c3d5-edd7-4e15-8b0a-75b467a37fd0|\n",
      "|2020-03-01 00:00:04 UTC|      view|   1005014|2232732093077520756|         construction.tools.light| samsung| 482.73|517021211|0c34308d-c455-40bb-9992-3e44920bc2b9|\n",
      "|2020-03-01 00:00:05 UTC|      view|   1004757|2232732093077520756|         construction.tools.light|   meizu|  76.96|611868169|80871749-38db-4bac-b077-5a1530287004|\n",
      "|2020-03-01 00:00:06 UTC|      view|   3700715|2232732101063475749|    appliances.environment.vacuum|   artel|  51.20|538268573|5ad92d46-bc38-4feb-86bf-56d6f7897365|\n",
      "|2020-03-01 00:00:07 UTC|  purchase|   5100722|2232732103101907535|               electronics.clocks|  huawei| 128.68|604860058|f558a7d7-f1e4-4b81-8799-9131a81e551b|\n",
      "|2020-03-01 00:00:08 UTC|      view|  26205155|2232732081585127530|   construction.components.faucet|    null| 103.48|622090375|cc8fb9ef-9ae7-41bc-bf39-709065ee44f7|\n",
      "|2020-03-01 00:00:09 UTC|      view|   4804295|2232732079706079299|                    sport.bicycle|  xiaomi|  22.20|530720671|76bcc6c7-9bfc-43a0-8cc2-47c90be2f3b5|\n",
      "|2020-03-01 00:00:10 UTC|      view|  15100119|2232732107413652135|                   apparel.shorts|    null|1010.50|560360095|eca0d1af-cef8-426d-beef-b8b4f33485a9|\n",
      "|2020-03-01 00:00:11 UTC|      view|  28721048|2053013556521075159|                    apparel.shoes|   cover| 119.69|520028803|c7327cfb-b6a3-481f-8a6b-57253d85bc57|\n",
      "|2020-03-01 00:00:11 UTC|      view| 100036058|2053013554658804075|      electronics.audio.headphone|      hp| 360.11|622086728|3fbb7dff-c6bc-466b-b4ca-f99aea6e5413|\n",
      "|2020-03-01 00:00:13 UTC|      view|  30000004|2232732095074009504|       construction.tools.welding|    null| 134.34|517308267|5effd779-5eeb-48c4-a8d5-b49f887874e2|\n",
      "|2020-03-01 00:00:13 UTC|      view|   2401253|2232732100769874463|     appliances.personal.massager|    null|  89.84|595972218|bde65786-cc67-4523-97f7-577a5836ebb6|\n",
      "|2020-03-01 00:00:13 UTC|      view|   6701259|2053013552293216471|appliances.environment.air_heater|gigabyte| 478.16|599757342|1141a7a0-d4b7-4c08-aa74-ec8b2cf129ab|\n",
      "|2020-03-01 00:00:15 UTC|      view| 100036175|2053013553056579841|    computers.peripherals.printer| sokolov|  38.61|587790209|07fc5203-a0d5-47b8-934c-909c9e9108cf|\n",
      "|2020-03-01 00:00:16 UTC|      view|   4804719|2232732079706079299|                    sport.bicycle|  xiaomi|  75.93|547190131|bb74efee-77a2-44c0-9274-81d5f5e5c048|\n",
      "|2020-03-01 00:00:16 UTC|      view|  10301847|2232732104888681081|                    apparel.scarf|  mattel|   6.92|592023505|1967ad00-d3c8-417f-a377-100c21a2bbc4|\n",
      "|2020-03-01 00:00:16 UTC|      view|  16000004|2053013556856619499|                  accessories.bag| rondell|  43.73|622090611|d2241bd8-e2a5-4bdf-9591-57483a2da8ee|\n",
      "+-----------------------+----------+----------+-------------------+---------------------------------+--------+-------+---------+------------------------------------+\n",
      "only showing top 20 rows\n",
      "\n"
     ]
    }
   ],
   "source": [
    "# Load file from MinIO bucket\n",
    "minio_file_path_mar = '2020-Mar.csv'\n",
    "minio_file_url_mar = f\"s3a://{minio_bucket}/{minio_file_path_mar}\"\n",
    "df_mar = spark.read.csv(minio_file_url_mar, header=True)\n",
    "\n",
    "# Show the loaded DataFrame\n",
    "df_mar.show(truncate = 50)"
   ]
  },
  {
   "cell_type": "code",
   "execution_count": 7,
   "metadata": {},
   "outputs": [
    {
     "name": "stdout",
     "output_type": "stream",
     "text": [
      "+-----------------------+----------+----------+-------------------+--------------------------------+---------+-------+---------+------------------------------------+\n",
      "|             event_time|event_type|product_id|        category_id|                   category_code|    brand|  price|  user_id|                        user_session|\n",
      "+-----------------------+----------+----------+-------------------+--------------------------------+---------+-------+---------+------------------------------------+\n",
      "|2020-04-01 00:00:00 UTC|      view|   1201465|2232732101407408685|           apparel.shoes.slipons|  samsung| 230.38|568984877|e2456cef-2d4f-42b9-a53a-8893cb0c6851|\n",
      "|2020-04-01 00:00:01 UTC|      view|   1307156|2053013554658804075|     electronics.audio.headphone|    apple|1352.67|514955500|38f43134-de83-4710-ae0a-326677d292c6|\n",
      "|2020-04-01 00:00:01 UTC|      view|   1480477|2053013563835941749|appliances.kitchen.refrigerators|    apple|1184.05|633645770|16aba270-b3c2-4b23-be0a-b7c80bc9da9e|\n",
      "|2020-04-01 00:00:02 UTC|      view|   1307050|2053013554658804075|     electronics.audio.headphone|    apple|1724.34|564933778|05b443bd-e68a-4d72-b971-80bd31109cb8|\n",
      "|2020-04-01 00:00:03 UTC|      view|   9500109|2232732104175649385|                   apparel.scarf| defender|  25.05|530206135|e3c1fb4b-0a7e-457d-a0cf-5d1479e9aafc|\n",
      "|2020-04-01 00:00:03 UTC|      view| 100068493|2232732093077520756|        construction.tools.light|  samsung| 319.41|635165435|861f2378-076f-4ddd-85e3-9844923d03a9|\n",
      "|2020-04-01 00:00:04 UTC|      view|   8901579|2232732085150286011|               computers.desktop|     null|  25.46|527795927|2956848d-5695-4169-ab6d-e2d8ed057295|\n",
      "|2020-04-01 00:00:05 UTC|      view|   1201295|2232732101407408685|           apparel.shoes.slipons|    apple| 489.05|635165586|48d05455-e287-4c44-84f9-76621e02b612|\n",
      "|2020-04-01 00:00:06 UTC|      view|   3601036|2232732092297380188|       appliances.kitchen.washer|whirlpool| 434.99|610738477|6b42dbd6-279e-4a2d-bc7c-00e43454cdd8|\n",
      "|2020-04-01 00:00:07 UTC|      view| 100158887|2053013561587794682|              electronics.clocks|     null| 122.29|601154152|0f46540a-834f-4433-aacc-180768395c3b|\n",
      "|2020-04-01 00:00:07 UTC|      view| 100077607|2232732101063475749|   appliances.environment.vacuum|    vitek| 100.36|633281427|667a8535-221c-4169-aab4-a1972610f102|\n",
      "|2020-04-01 00:00:08 UTC|      view|   1004409|2232732093077520756|        construction.tools.light|   doogee|  64.09|513835455|c1ea0216-94d5-4504-b2d2-694f6799a4be|\n",
      "|2020-04-01 00:00:08 UTC|      view|   4300443|2232732091483685190|                            null|   scoole|  29.58|575438879|a53fe992-c9f6-413d-ab84-2bafc8ae054c|\n",
      "|2020-04-01 00:00:09 UTC|      view|   9200640|2232732104343421549|                   apparel.scarf| defender|  20.19|533896443|6a220235-f4d6-4987-a51e-8f315b3027fc|\n",
      "|2020-04-01 00:00:09 UTC|      view|   1005105|2232732093077520756|        construction.tools.light|    apple|1358.72|548207294|b8d76fd4-7b71-4334-b92c-f30e1ba3171c|\n",
      "|2020-04-01 00:00:09 UTC|      view|   1004727|2232732093077520756|        construction.tools.light|     sony| 205.90|633455198|be0025af-4d14-4ca0-b509-5f19a0182237|\n",
      "|2020-04-01 00:00:11 UTC|      view|   1307284|2053013554658804075|     electronics.audio.headphone|       hp|1376.87|567908086|b2ea0c25-1f3c-4293-bf7e-102e781e4626|\n",
      "|2020-04-01 00:00:11 UTC|      view|  17301057|2232732098446229999|           apparel.shoes.sandals|     null|  31.18|543165860|7eaf3210-1d5e-4abc-8437-ae54960c3570|\n",
      "|2020-04-01 00:00:11 UTC|      view|  15400066|2232732107774362287|                            null|    intex|  84.43|533038120|79f54d4c-e75b-46c8-b753-1f213867bca6|\n",
      "|2020-04-01 00:00:11 UTC|      view|   6000094|2232732103546503769|                   apparel.shoes| starline| 127.42|514487953|cea7a5e7-af98-45b0-af3d-47d4ed3bd342|\n",
      "|2020-04-01 00:00:12 UTC|      view|  12201517|2053013553325015316|       appliances.kitchen.toster|    giant| 530.00|562284795|be63ff16-40e2-400f-a99b-f133e2b96805|\n",
      "|2020-04-01 00:00:12 UTC|      view|   8700440|2232732089587859740| appliances.personal.hair_cutter| scarlett|  15.42|596624959|d451b577-d553-4cba-aa42-572755c5e374|\n",
      "|2020-04-01 00:00:12 UTC|      view| 100082935|2232732093077520756|        construction.tools.light|      htc| 123.30|583042373|abf988da-c9c1-40fb-915d-5d2ef7e724a8|\n",
      "|2020-04-01 00:00:12 UTC|      view|   1004653|2232732093077520756|        construction.tools.light|  samsung| 579.17|568900107|49128641-7788-40b2-8013-fe8905197f4b|\n",
      "|2020-04-01 00:00:13 UTC|      view| 100086235|2232732093077520756|        construction.tools.light|  samsung| 103.73|628285813|58a8b0ab-51fa-4ea6-ba85-4e6efb807bea|\n",
      "|2020-04-01 00:00:13 UTC|      view| 100015165|2053013558752445019|     auto.accessories.compressor|     null| 604.39|588922605|9c16c45d-b1ee-4fc4-8a40-b6433d4d5724|\n",
      "|2020-04-01 00:00:14 UTC|      view|  30500022|2232732114929845090|                   apparel.shoes|  hyundai| 525.37|512576112|1d573a8f-7250-4f16-b2ad-342ca4440391|\n",
      "|2020-04-01 00:00:14 UTC|      view|   4804056|2232732079706079299|                   sport.bicycle|    apple| 170.50|616593255|f774c12a-5cad-4fb2-b26b-a42d780ec66d|\n",
      "|2020-04-01 00:00:14 UTC|      view|   1801503|2232732099754852875|    appliances.personal.massager|   xiaomi| 203.09|629229484|c00a1636-dfc2-4e96-a6a3-7fd979e93789|\n",
      "|2020-04-01 00:00:14 UTC|      view|   1005212|2232732093077520756|        construction.tools.light|  samsung| 178.12|516506125|cdd4bce1-ff8c-49c3-92b3-0c7a209c8b24|\n",
      "|2020-04-01 00:00:14 UTC|      view|   5100375|2232732103101907535|              electronics.clocks|   xiaomi|  84.94|635164513|c40d1b96-90aa-4cee-b9aa-9475d9c4f17f|\n",
      "|2020-04-01 00:00:15 UTC|      view|  22700202|2232732091643068746|                            null|    stels| 171.18|515979190|5526811f-230a-4762-aaf2-ba97cb742a9b|\n",
      "|2020-04-01 00:00:15 UTC|      view| 100079198|2232732106860003995|                            null|      dws| 347.50|620580925|c33fde42-a5de-4a1f-9e1c-2ac7518a7d41|\n",
      "|2020-04-01 00:00:15 UTC|      view| 100169361|2053013551932506308|        construction.tools.drill|     puma| 133.59|519273186|8506d4f7-d1ad-4f3a-a07d-5df51f3c10e2|\n",
      "|2020-04-01 00:00:15 UTC|      view|   4100184|2232732098228126185|                   apparel.shoes|     sony| 800.54|635165471|c6ce1b9b-19d1-429b-a7f4-3f72395c95b4|\n",
      "|2020-04-01 00:00:17 UTC|      view|   8700440|2232732089587859740| appliances.personal.hair_cutter| scarlett|  15.42|596624959|d451b577-d553-4cba-aa42-572755c5e374|\n",
      "|2020-04-01 00:00:17 UTC|      view|   1005098|2232732093077520756|        construction.tools.light|  samsung| 145.36|632871118|f5bfd32b-8fb0-45eb-a3d8-5f43d54bb4c2|\n",
      "|2020-04-01 00:00:18 UTC|      view| 100178535|2232732101575180847|     computers.components.cooler|      now|  37.45|578951037|c69b6fdc-17c7-4c1b-96c0-0fc24ae92a28|\n",
      "|2020-04-01 00:00:18 UTC|      view| 100177859|2053013551932506308|        construction.tools.drill| s.oliver|  60.49|633281427|667a8535-221c-4169-aab4-a1972610f102|\n",
      "|2020-04-01 00:00:18 UTC|      view|  18000639|2232732099436085763|      construction.tools.welding|    apple|  56.60|635038438|db1d2ad7-b49c-49a1-83f7-c939b3091144|\n",
      "|2020-04-01 00:00:19 UTC|      cart|   5100328|2232732103101907535|              electronics.clocks|   xiaomi| 117.12|635164513|c40d1b96-90aa-4cee-b9aa-9475d9c4f17f|\n",
      "|2020-04-01 00:00:19 UTC|      view|   4500301|2232732102749585991|          appliances.kitchen.hob|   gefest| 119.95|515185960|3c715011-744a-4031-9266-1a4a37994ec9|\n",
      "|2020-04-01 00:00:19 UTC|      view|  17302960|2232732098446229999|           apparel.shoes.sandals|     dior| 145.15|518083481|38c08bc4-399c-4389-bf15-f81b09417ced|\n",
      "|2020-04-01 00:00:19 UTC|      view| 100110417|2053013562292437791|        medicine.tools.tonometer|     null|  64.35|515385851|ebe47ccd-6bdb-4208-b38a-b66917098023|\n",
      "|2020-04-01 00:00:19 UTC|      view|   5100328|2232732103101907535|              electronics.clocks|   xiaomi| 117.12|635164513|c40d1b96-90aa-4cee-b9aa-9475d9c4f17f|\n",
      "|2020-04-01 00:00:19 UTC|      view|  13200853|2232732061804790604|           furniture.bedroom.bed|     null| 354.96|635166340|f94c2c0d-abee-4a9b-ad1b-47b85b57c036|\n",
      "|2020-04-01 00:00:20 UTC|      view|   1801882|2232732099754852875|    appliances.personal.massager|  samsung| 447.86|513771278|ac4ce2d9-efb6-4054-91fd-2eed393f0b14|\n",
      "|2020-04-01 00:00:20 UTC|      view|   1480474|2053013563835941749|appliances.kitchen.refrigerators|    apple|2058.97|633645770|16aba270-b3c2-4b23-be0a-b7c80bc9da9e|\n",
      "|2020-04-01 00:00:21 UTC|      view|   1004757|2232732093077520756|        construction.tools.light|    meizu|  76.71|533881977|d231d5f7-b760-4682-b425-7e33d844ec07|\n",
      "|2020-04-01 00:00:21 UTC|      view|   1004977|2232732093077520756|        construction.tools.light|  samsung| 643.23|632499821|58865914-82de-43ce-8cd8-0250bdf2ec26|\n",
      "+-----------------------+----------+----------+-------------------+--------------------------------+---------+-------+---------+------------------------------------+\n",
      "only showing top 50 rows\n",
      "\n"
     ]
    }
   ],
   "source": [
    "# Load file from MinIO bucket\n",
    "minio_file_path_apr = '2020-Apr.csv'\n",
    "minio_file_url_apr = f\"s3a://{minio_bucket}/{minio_file_path_apr}\"\n",
    "df_apr = spark.read.csv(minio_file_url_apr, header=True)\n",
    "\n",
    "# Show the loaded DataFrame\n",
    "df_apr.show(50, truncate = 50)"
   ]
  },
  {
   "cell_type": "code",
   "execution_count": 8,
   "metadata": {
    "tags": []
   },
   "outputs": [
    {
     "name": "stdout",
     "output_type": "stream",
     "text": [
      "Sum of product_id instances with different category_code: 220658\n"
     ]
    }
   ],
   "source": [
    "# Group by 'product_id', count distinct 'category_code' values, and sum the count\n",
    "sum_different_categories = df_apr.groupBy('product_id') \\\n",
    "    .agg(countDistinct('category_code').alias('distinct_categories')) \\\n",
    "    .groupBy().sum('distinct_categories') \\\n",
    "    .collect()\n",
    "\n",
    "# Extracting the sum of different category codes\n",
    "total_sum_different_categories = sum_different_categories[0][0] if sum_different_categories else 0\n",
    "\n",
    "print(\"Sum of product_id instances with different category_code:\", total_sum_different_categories)\n"
   ]
  },
  {
   "cell_type": "markdown",
   "metadata": {},
   "source": [
    "# CLEAN THE DATA"
   ]
  },
  {
   "cell_type": "markdown",
   "metadata": {},
   "source": [
    "## REMOVE UNWANTED DATA\n",
    "\n",
    "- Given the extensive volume of data and our primary focus on specific business inquiries, we opted to exclude 'view' events from the 'event_type' column. This decision streamlines our dataset, allowing us to prioritize and concentrate on pertinent information crucial to addressing our business queries. By removing 'view' events, we streamline the dataset's size without compromising the integrity of our analyses, enabling us to efficiently direct our attention towards the core events that significantly impact our business objectives.\n",
    "\n",
    "- We decided to split the category_code into main_category and secondary_category to be able to categorize the product categorization better. By splitting the 'category_code' column into 'main_category' and 'secondary_category,' we aim to enhance our analysis and insights into the product classifications. This separation allows for a more granular examination of products, aiding in improved categorization, and providing a deeper understanding of our inventory or dataset.\n",
    "\n",
    "- We decided to remove view from event_type and split the category_code before merging the data to make it faster and more efficient."
   ]
  },
  {
   "cell_type": "code",
   "execution_count": 9,
   "metadata": {},
   "outputs": [],
   "source": [
    "# Filtering rows where 'event_type' column is not equal to 'view' for each DataFrame\n",
    "df_jan = df_jan.filter(col('event_type') != 'view')\n",
    "df_feb = df_feb.filter(col('event_type') != 'view')\n",
    "df_mar = df_mar.filter(col('event_type') != 'view')\n",
    "df_apr = df_apr.filter(col('event_type') != 'view')\n"
   ]
  },
  {
   "cell_type": "code",
   "execution_count": 10,
   "metadata": {},
   "outputs": [
    {
     "name": "stdout",
     "output_type": "stream",
     "text": [
      "+--------------------+----------+----------+-------------------+--------------------+---------+-------+---------+--------------------+-------------+------------------+\n",
      "|          event_time|event_type|product_id|        category_id|       category_code|    brand|  price|  user_id|        user_session|main_category|secondary_category|\n",
      "+--------------------+----------+----------+-------------------+--------------------+---------+-------+---------+--------------------+-------------+------------------+\n",
      "|2020-01-01 00:00:...|      cart|   1005124|2232732093077520756|construction.tool...|    apple|1453.18|532239316|253616df-2b1e-4bd...| construction|             tools|\n",
      "|2020-01-01 00:00:...|      cart|   1201565|2232732101407408685|apparel.shoes.sli...|    apple| 385.34|581430108|7d7687c4-b613-446...|      apparel|             shoes|\n",
      "|2020-01-01 00:00:...|      cart|  13101067|2232732106860003995|                null|     skad| 266.67|519373619|e97a30d7-2873-401...|         null|               N/A|\n",
      "|2020-01-01 00:00:...|      cart|   4801028|2232732079706079299|       sport.bicycle|   xiaomi|  14.95|574723072|2f967c6e-b6c4-497...|        sport|           bicycle|\n",
      "|2020-01-01 00:00:...|      cart|   1004226|2232732093077520756|construction.tool...|    apple| 890.11|518285678|7dad15db-dd6d-4e5...| construction|             tools|\n",
      "|2020-01-01 00:00:...|      cart|   1005115|2232732093077520756|construction.tool...|    apple| 869.46|514730269|2a5143e3-2de9-4dc...| construction|             tools|\n",
      "|2020-01-01 00:00:...|      cart|   1005116|2232732093077520756|construction.tool...|    apple| 967.85|531140669|84c838d4-6e10-4b7...| construction|             tools|\n",
      "|2020-01-01 00:00:...|      cart|   1005115|2232732093077520756|construction.tool...|    apple| 869.46|514730269|2a5143e3-2de9-4dc...| construction|             tools|\n",
      "|2020-01-01 00:01:...|      cart|   5100854|2232732103101907535|  electronics.clocks|    apple| 553.30|580128882|09a50203-a753-46c...|  electronics|            clocks|\n",
      "|2020-01-01 00:01:...|      cart|  17301397|2232732098446229999|apparel.shoes.san...|montblanc|  32.87|546383255|c0f02fdc-76f2-45a...|      apparel|             shoes|\n",
      "|2020-01-01 00:01:...|      cart|  12703498|2053013553199186187|                null| cordiant|  40.93|563209914|657edcb2-767d-458...|         null|               N/A|\n",
      "|2020-01-01 00:01:...|      cart|   1002544|2232732093077520756|construction.tool...|    apple| 445.95|565310369|7a140d1b-b90f-434...| construction|             tools|\n",
      "|2020-01-01 00:01:...|      cart|  17301397|2232732098446229999|apparel.shoes.san...|montblanc|  32.87|546383255|c0f02fdc-76f2-45a...|      apparel|             shoes|\n",
      "|2020-01-01 00:01:...|      cart|   1002525|2232732093077520756|construction.tool...|    apple| 563.72|580474456|d9b5e960-bca2-4eb...| construction|             tools|\n",
      "|2020-01-01 00:02:...|      cart|   4804718|2232732079706079299|       sport.bicycle|    apple| 341.06|595414732|dcbd99b2-efab-46f...|        sport|           bicycle|\n",
      "|2020-01-01 00:02:...|      cart|   1005264|2232732093077520756|construction.tool...|   xiaomi| 163.39|588816763|5241e291-33ff-48f...| construction|             tools|\n",
      "|2020-01-01 00:03:...|      cart|   1004767|2232732093077520756|construction.tool...|  samsung| 238.55|543679531|32ca6f22-5ee8-4da...| construction|             tools|\n",
      "|2020-01-01 00:03:...|      cart|  17301037|2232732098446229999|apparel.shoes.san...|     null|  37.19|595414503|b9864239-109c-4d4...|      apparel|             shoes|\n",
      "|2020-01-01 00:03:...|      cart|   4803976|2232732079706079299|       sport.bicycle|  samsung| 102.68|552423070|c8064466-ddab-487...|        sport|           bicycle|\n",
      "|2020-01-01 00:03:...|      cart|   1004767|2232732093077520756|construction.tool...|  samsung| 238.55|527642597|d133def5-d31c-475...| construction|             tools|\n",
      "+--------------------+----------+----------+-------------------+--------------------+---------+-------+---------+--------------------+-------------+------------------+\n",
      "only showing top 20 rows\n",
      "\n"
     ]
    }
   ],
   "source": [
    "# Splitting 'category_code' column into 'main_category' and 'secondary_category'\n",
    "df_jan = df_jan.withColumn('main_category', split(col('category_code'), '\\.')[0]) \\\n",
    "               .withColumn('secondary_category', when(split(col('category_code'), '\\.').getItem(1).isNull(), 'N/A')\n",
    "                                                .otherwise(split(col('category_code'), '\\.')[1]))\n",
    "\n",
    "# Print the modified DataFrame\n",
    "df_jan.show()  # Displaying the modified DataFrame\n"
   ]
  },
  {
   "cell_type": "code",
   "execution_count": 11,
   "metadata": {},
   "outputs": [
    {
     "name": "stdout",
     "output_type": "stream",
     "text": [
      "+--------------------+----------+----------+-------------------+--------------------+---------+-------+---------+--------------------+-------------+------------------+\n",
      "|          event_time|event_type|product_id|        category_id|       category_code|    brand|  price|  user_id|        user_session|main_category|secondary_category|\n",
      "+--------------------+----------+----------+-------------------+--------------------+---------+-------+---------+--------------------+-------------+------------------+\n",
      "|2020-02-01 00:00:...|      cart|   1005100|2232732093077520756|construction.tool...|  samsung| 140.28|608822162|8062ce43-662e-4b6...| construction|             tools|\n",
      "|2020-02-01 00:00:...|      cart| 100001549|2053013558978937451|       sport.bicycle|     puma|  38.15|608821784|600f4508-f562-4b2...|        sport|           bicycle|\n",
      "|2020-02-01 00:00:...|      cart| 100065078|2232732093077520756|construction.tool...|   xiaomi| 568.61|526615078|5f0aab9f-f92e-4ef...| construction|             tools|\n",
      "|2020-02-01 00:00:...|      cart|   5701246|2053013554415534427|electronics.video.tv|     null|  24.43|563902689|76cc9152-8a9f-43e...|  electronics|             video|\n",
      "|2020-02-01 00:00:...|      cart|  14701533|2053013552570040549|electronics.video...|     null| 154.42|520953435|5f1c7752-cf92-41f...|  electronics|             video|\n",
      "|2020-02-01 00:00:...|      cart|   1004855|2232732093077520756|construction.tool...|   xiaomi| 123.30|519236281|e512f514-dc7f-4fc...| construction|             tools|\n",
      "|2020-02-01 00:00:...|      cart|   1005100|2232732093077520756|construction.tool...|  samsung| 140.28|550305600|bd7a37b6-420d-457...| construction|             tools|\n",
      "|2020-02-01 00:00:...|      cart|   1005143|2232732093077520756|construction.tool...|    apple|1311.49|530488542|21f46782-fb36-4d5...| construction|             tools|\n",
      "|2020-02-01 00:00:...|      cart|   9101354|2232732104066597479|furniture.kitchen...|   x-game|   6.17|593914457|065318cd-84d7-4b9...|    furniture|           kitchen|\n",
      "|2020-02-01 00:00:...|      cart|   1005105|2232732093077520756|construction.tool...|    apple|1208.00|515054403|a3dfe681-0132-45b...| construction|             tools|\n",
      "|2020-02-01 00:00:...|      cart|   1005105|2232732093077520756|construction.tool...|    apple|1208.00|515054403|b10c9a4f-e726-43a...| construction|             tools|\n",
      "|2020-02-01 00:00:...|      cart|   1005105|2232732093077520756|construction.tool...|    apple|1208.00|515054403|a3dfe681-0132-45b...| construction|             tools|\n",
      "|2020-02-01 00:00:...|      cart|  12702637|2053013553559896355|                null| goodyear| 234.76|515054403|c578c94e-9589-476...|         null|               N/A|\n",
      "|2020-02-01 00:00:...|      cart|  21800263|2232732110861370114|furniture.living_...|    razer|  61.26|515054403|785280ff-f4e7-473...|    furniture|       living_room|\n",
      "|2020-02-01 00:00:...|      cart|   2900512|2232732102103663163|furniture.bedroom...|  samsung| 146.70|515054403|74c80509-a13e-4ce...|    furniture|           bedroom|\n",
      "|2020-02-01 00:00:...|      cart|   2900512|2232732102103663163|furniture.bedroom...|  samsung| 146.70|515054403|74c80509-a13e-4ce...|    furniture|           bedroom|\n",
      "|2020-02-01 00:00:...|      cart|   2900844|2232732102103663163|furniture.bedroom...|panasonic|  97.79|515054403|73fe321b-7f87-420...|    furniture|           bedroom|\n",
      "|2020-02-01 00:00:...|      cart|   3800859|2053013557477376525|furniture.bathroo...|    tefal|  41.16|515054403|141a95e9-e78c-485...|    furniture|          bathroom|\n",
      "|2020-02-01 00:00:...|      cart|   4201160|2053013557695480347|appliances.enviro...|     gree| 436.68|515054403|2081c9ae-95ea-4ad...|   appliances|       environment|\n",
      "|2020-02-01 00:00:...|      cart|   6301925|2232732086928670945|electronics.camer...|    bosch|  82.34|515054403|85ffc1e9-9b25-4ed...|  electronics|            camera|\n",
      "+--------------------+----------+----------+-------------------+--------------------+---------+-------+---------+--------------------+-------------+------------------+\n",
      "only showing top 20 rows\n",
      "\n"
     ]
    }
   ],
   "source": [
    "# Splitting 'category_code' column into 'main_category' and 'secondary_category'\n",
    "df_feb = df_feb.withColumn('main_category', split(col('category_code'), '\\.')[0]) \\\n",
    "               .withColumn('secondary_category', when(split(col('category_code'), '\\.').getItem(1).isNull(), 'N/A')\n",
    "                                                .otherwise(split(col('category_code'), '\\.')[1]))\n",
    "\n",
    "# Print the modified DataFrame\n",
    "df_feb.show()  # Displaying the modified DataFrame\n"
   ]
  },
  {
   "cell_type": "code",
   "execution_count": 12,
   "metadata": {},
   "outputs": [
    {
     "name": "stdout",
     "output_type": "stream",
     "text": [
      "+--------------------+----------+----------+-------------------+--------------------+---------+------+---------+--------------------+-------------+------------------+\n",
      "|          event_time|event_type|product_id|        category_id|       category_code|    brand| price|  user_id|        user_session|main_category|secondary_category|\n",
      "+--------------------+----------+----------+-------------------+--------------------+---------+------+---------+--------------------+-------------+------------------+\n",
      "|2020-03-01 00:00:...|  purchase|   5100722|2232732103101907535|  electronics.clocks|   huawei|128.68|604860058|f558a7d7-f1e4-4b8...|  electronics|            clocks|\n",
      "|2020-03-01 00:00:...|  purchase| 100082062|2232732102103663163|furniture.bedroom...|      arg| 48.88|601908129|37473d3f-b68b-4a2...|    furniture|           bedroom|\n",
      "|2020-03-01 00:00:...|      cart|   6902464|2232732078733000751|electronics.telep...|   zlatek| 49.91|531574188|48714293-b3f9-494...|  electronics|         telephone|\n",
      "|2020-03-01 00:01:...|  purchase|   5100610|2232732103101907535|  electronics.clocks|    apple|295.73|613253847|45aa30e5-2e05-4d5...|  electronics|            clocks|\n",
      "|2020-03-01 00:01:...|      cart|   1002544|2232732093077520756|construction.tool...|    apple|397.10|622090790|fb5b918c-f1f6-48d...| construction|             tools|\n",
      "|2020-03-01 00:01:...|      cart|   1004838|2232732093077520756|construction.tool...|     oppo|166.03|604474484|c28b52d6-5a19-400...| construction|             tools|\n",
      "|2020-03-01 00:01:...|  purchase|   1002544|2232732093077520756|construction.tool...|    apple|397.10|622090486|a91bed93-c586-453...| construction|             tools|\n",
      "|2020-03-01 00:01:...|      cart|  21400643|2232732082063278200|  electronics.clocks|   orient| 93.44|608549125|56ae2d30-4a21-475...|  electronics|            clocks|\n",
      "|2020-03-01 00:01:...|      cart|   4803794|2232732079706079299|       sport.bicycle|     acme| 23.14|548101693|e18561f7-742e-45b...|        sport|           bicycle|\n",
      "|2020-03-01 00:01:...|      cart|   1003316|2232732093077520756|construction.tool...|    apple|823.70|622090543|b821ee79-96fe-497...| construction|             tools|\n",
      "|2020-03-01 00:01:...|      cart| 100102090|2053013556521075159|       apparel.shoes|  respect| 82.11|513976290|003762ff-cce1-448...|      apparel|             shoes|\n",
      "|2020-03-01 00:02:...|  purchase|   1004767|2232732093077520756|construction.tool...|  samsung|241.83|621784978|50d5fceb-0eee-473...| construction|             tools|\n",
      "|2020-03-01 00:02:...|      cart| 100102090|2053013556521075159|       apparel.shoes|  respect| 82.11|513976290|003762ff-cce1-448...|      apparel|             shoes|\n",
      "|2020-03-01 00:02:...|      cart| 100102090|2053013556521075159|       apparel.shoes|  respect| 82.11|513976290|003762ff-cce1-448...|      apparel|             shoes|\n",
      "|2020-03-01 00:02:...|      cart|  16600067|2232732108780995272|       sport.trainer|rivertoys|422.15|616437533|aad023bc-c858-47a...|        sport|           trainer|\n",
      "|2020-03-01 00:02:...|      cart|   3701428|2232732101063475749|appliances.enviro...|   arnica| 69.24|516454226|ee22b80c-ed3e-3c8...|   appliances|       environment|\n",
      "|2020-03-01 00:02:...|      cart| 100041324|2232732093077520756|construction.tool...|   xiaomi|496.74|591054018|274db27d-16da-4a3...| construction|             tools|\n",
      "|2020-03-01 00:02:...|      cart|  12719307|2053013553199186187|                null|    tunga| 28.06|585155850|9ccc3b07-88d7-427...|         null|               N/A|\n",
      "|2020-03-01 00:02:...|      cart|   4803794|2232732079706079299|       sport.bicycle|     acme| 23.14|548101693|e18561f7-742e-45b...|        sport|           bicycle|\n",
      "|2020-03-01 00:02:...|      cart|  11200512|2232732105635267203|          kids.swing|   xiaomi| 51.22|547190131|bb74efee-77a2-44c...|         kids|             swing|\n",
      "+--------------------+----------+----------+-------------------+--------------------+---------+------+---------+--------------------+-------------+------------------+\n",
      "only showing top 20 rows\n",
      "\n"
     ]
    }
   ],
   "source": [
    "# Splitting 'category_code' column into 'main_category' and 'secondary_category'\n",
    "df_mar = df_mar.withColumn('main_category', split(col('category_code'), '\\.')[0]) \\\n",
    "               .withColumn('secondary_category', when(split(col('category_code'), '\\.').getItem(1).isNull(), 'N/A')\n",
    "                                                .otherwise(split(col('category_code'), '\\.')[1]))\n",
    "\n",
    "# Print the modified DataFrame\n",
    "df_mar.show()  # Displaying the modified DataFrame\n"
   ]
  },
  {
   "cell_type": "code",
   "execution_count": 13,
   "metadata": {},
   "outputs": [
    {
     "name": "stdout",
     "output_type": "stream",
     "text": [
      "+--------------------+----------+----------+-------------------+--------------------+----------+-------+---------+--------------------+-------------+------------------+\n",
      "|          event_time|event_type|product_id|        category_id|       category_code|     brand|  price|  user_id|        user_session|main_category|secondary_category|\n",
      "+--------------------+----------+----------+-------------------+--------------------+----------+-------+---------+--------------------+-------------+------------------+\n",
      "|2020-04-01 00:00:...|      cart|   5100328|2232732103101907535|  electronics.clocks|    xiaomi| 117.12|635164513|c40d1b96-90aa-4ce...|  electronics|            clocks|\n",
      "|2020-04-01 00:00:...|      cart| 100177859|2053013551932506308|construction.tool...|  s.oliver|  60.49|633281427|667a8535-221c-416...| construction|             tools|\n",
      "|2020-04-01 00:00:...|      cart|  22700202|2232732091643068746|                null|     stels| 171.18|515979190|5526811f-230a-476...|         null|               N/A|\n",
      "|2020-04-01 00:00:...|      cart|   5100328|2232732103101907535|  electronics.clocks|    xiaomi| 117.12|635164513|c40d1b96-90aa-4ce...|  electronics|            clocks|\n",
      "|2020-04-01 00:00:...|      cart|   5100328|2232732103101907535|  electronics.clocks|    xiaomi| 117.12|635164513|c40d1b96-90aa-4ce...|  electronics|            clocks|\n",
      "|2020-04-01 00:00:...|      cart|   5100328|2232732103101907535|  electronics.clocks|    xiaomi| 117.12|635164513|c40d1b96-90aa-4ce...|  electronics|            clocks|\n",
      "|2020-04-01 00:00:...|      cart|   1801503|2232732099754852875|appliances.person...|    xiaomi| 203.09|629229484|c00a1636-dfc2-4e9...|   appliances|          personal|\n",
      "|2020-04-01 00:00:...|      cart|   5100328|2232732103101907535|  electronics.clocks|    xiaomi| 117.12|635164513|c40d1b96-90aa-4ce...|  electronics|            clocks|\n",
      "|2020-04-01 00:00:...|      cart| 100011103|2053013554658804075|electronics.audio...|      acer| 385.57|522177285|902aa3e5-957a-49e...|  electronics|             audio|\n",
      "|2020-04-01 00:00:...|      cart|   5100328|2232732103101907535|  electronics.clocks|    xiaomi| 117.12|635164513|c40d1b96-90aa-4ce...|  electronics|            clocks|\n",
      "|2020-04-01 00:00:...|  purchase| 100177859|2053013551932506308|construction.tool...|  s.oliver|  60.49|633281427|667a8535-221c-416...| construction|             tools|\n",
      "|2020-04-01 00:00:...|      cart|   7600480|2232732103982711397|furniture.kitchen...|   tp-link|  52.77|512411694|7685a5aa-42ce-4bd...|    furniture|           kitchen|\n",
      "|2020-04-01 00:00:...|      cart|   1801503|2232732099754852875|appliances.person...|    xiaomi| 203.09|629229484|c00a1636-dfc2-4e9...|   appliances|          personal|\n",
      "|2020-04-01 00:01:...|      cart|   4100369|2232732098228126185|       apparel.shoes|      sony| 540.30|635165471|c6ce1b9b-19d1-429...|      apparel|             shoes|\n",
      "|2020-04-01 00:01:...|      cart| 100022253|2053013554658804075|electronics.audio...|      asus| 257.38|566023743|833d7b44-6cdf-440...|  electronics|             audio|\n",
      "|2020-04-01 00:01:...|      cart|   1005129|2232732093077520756|construction.tool...|     apple|1338.13|619309567|9cdc3daa-ca74-4ed...| construction|             tools|\n",
      "|2020-04-01 00:01:...|      cart|   1005129|2232732093077520756|construction.tool...|     apple|1338.13|619309567|9cdc3daa-ca74-4ed...| construction|             tools|\n",
      "|2020-04-01 00:01:...|      cart|  21400996|2232732082063278200|  electronics.clocks|     casio|  80.42|633281427|667a8535-221c-416...|  electronics|            clocks|\n",
      "|2020-04-01 00:02:...|      cart| 100125468|2232732103210959441|    computers.ebooks|pocketbook| 319.16|514584035|ad1cc6c5-b018-44c...|    computers|            ebooks|\n",
      "|2020-04-01 00:02:...|  purchase|   1801503|2232732099754852875|appliances.person...|    xiaomi| 203.09|629229484|c00a1636-dfc2-4e9...|   appliances|          personal|\n",
      "+--------------------+----------+----------+-------------------+--------------------+----------+-------+---------+--------------------+-------------+------------------+\n",
      "only showing top 20 rows\n",
      "\n"
     ]
    }
   ],
   "source": [
    "# Splitting 'category_code' column into 'main_category' and 'secondary_category'\n",
    "df_apr = df_apr.withColumn('main_category', split(col('category_code'), '\\.')[0]) \\\n",
    "               .withColumn('secondary_category', when(split(col('category_code'), '\\.').getItem(1).isNull(), 'N/A')\n",
    "                                                .otherwise(split(col('category_code'), '\\.')[1]))\n",
    "\n",
    "# Print the modified DataFrame\n",
    "df_apr.show()  # Displaying the modified DataFrame\n"
   ]
  },
  {
   "cell_type": "markdown",
   "metadata": {},
   "source": [
    "merging all dataframes from January until April"
   ]
  },
  {
   "cell_type": "code",
   "execution_count": 14,
   "metadata": {},
   "outputs": [
    {
     "name": "stdout",
     "output_type": "stream",
     "text": [
      "+--------------------+----------+----------+-------------------+--------------------+---------+-------+---------+--------------------+-------------+------------------+\n",
      "|          event_time|event_type|product_id|        category_id|       category_code|    brand|  price|  user_id|        user_session|main_category|secondary_category|\n",
      "+--------------------+----------+----------+-------------------+--------------------+---------+-------+---------+--------------------+-------------+------------------+\n",
      "|2020-01-01 00:00:...|      cart|   1005124|2232732093077520756|construction.tool...|    apple|1453.18|532239316|253616df-2b1e-4bd...| construction|             tools|\n",
      "|2020-01-01 00:00:...|      cart|   1201565|2232732101407408685|apparel.shoes.sli...|    apple| 385.34|581430108|7d7687c4-b613-446...|      apparel|             shoes|\n",
      "|2020-01-01 00:00:...|      cart|  13101067|2232732106860003995|                null|     skad| 266.67|519373619|e97a30d7-2873-401...|         null|               N/A|\n",
      "|2020-01-01 00:00:...|      cart|   4801028|2232732079706079299|       sport.bicycle|   xiaomi|  14.95|574723072|2f967c6e-b6c4-497...|        sport|           bicycle|\n",
      "|2020-01-01 00:00:...|      cart|   1004226|2232732093077520756|construction.tool...|    apple| 890.11|518285678|7dad15db-dd6d-4e5...| construction|             tools|\n",
      "|2020-01-01 00:00:...|      cart|   1005115|2232732093077520756|construction.tool...|    apple| 869.46|514730269|2a5143e3-2de9-4dc...| construction|             tools|\n",
      "|2020-01-01 00:00:...|      cart|   1005116|2232732093077520756|construction.tool...|    apple| 967.85|531140669|84c838d4-6e10-4b7...| construction|             tools|\n",
      "|2020-01-01 00:00:...|      cart|   1005115|2232732093077520756|construction.tool...|    apple| 869.46|514730269|2a5143e3-2de9-4dc...| construction|             tools|\n",
      "|2020-01-01 00:01:...|      cart|   5100854|2232732103101907535|  electronics.clocks|    apple| 553.30|580128882|09a50203-a753-46c...|  electronics|            clocks|\n",
      "|2020-01-01 00:01:...|      cart|  17301397|2232732098446229999|apparel.shoes.san...|montblanc|  32.87|546383255|c0f02fdc-76f2-45a...|      apparel|             shoes|\n",
      "|2020-01-01 00:01:...|      cart|  12703498|2053013553199186187|                null| cordiant|  40.93|563209914|657edcb2-767d-458...|         null|               N/A|\n",
      "|2020-01-01 00:01:...|      cart|   1002544|2232732093077520756|construction.tool...|    apple| 445.95|565310369|7a140d1b-b90f-434...| construction|             tools|\n",
      "|2020-01-01 00:01:...|      cart|  17301397|2232732098446229999|apparel.shoes.san...|montblanc|  32.87|546383255|c0f02fdc-76f2-45a...|      apparel|             shoes|\n",
      "|2020-01-01 00:01:...|      cart|   1002525|2232732093077520756|construction.tool...|    apple| 563.72|580474456|d9b5e960-bca2-4eb...| construction|             tools|\n",
      "|2020-01-01 00:02:...|      cart|   4804718|2232732079706079299|       sport.bicycle|    apple| 341.06|595414732|dcbd99b2-efab-46f...|        sport|           bicycle|\n",
      "|2020-01-01 00:02:...|      cart|   1005264|2232732093077520756|construction.tool...|   xiaomi| 163.39|588816763|5241e291-33ff-48f...| construction|             tools|\n",
      "|2020-01-01 00:03:...|      cart|   1004767|2232732093077520756|construction.tool...|  samsung| 238.55|543679531|32ca6f22-5ee8-4da...| construction|             tools|\n",
      "|2020-01-01 00:03:...|      cart|  17301037|2232732098446229999|apparel.shoes.san...|     null|  37.19|595414503|b9864239-109c-4d4...|      apparel|             shoes|\n",
      "|2020-01-01 00:03:...|      cart|   4803976|2232732079706079299|       sport.bicycle|  samsung| 102.68|552423070|c8064466-ddab-487...|        sport|           bicycle|\n",
      "|2020-01-01 00:03:...|      cart|   1004767|2232732093077520756|construction.tool...|  samsung| 238.55|527642597|d133def5-d31c-475...| construction|             tools|\n",
      "+--------------------+----------+----------+-------------------+--------------------+---------+-------+---------+--------------------+-------------+------------------+\n",
      "only showing top 20 rows\n",
      "\n"
     ]
    }
   ],
   "source": [
    "# Create a list of DataFrames to concatenate\n",
    "dfs_to_concat = [df_jan, df_feb, df_mar, df_apr]\n",
    "\n",
    "# Use reduce to perform vertical concatenation (union) of DataFrames\n",
    "combined_df = reduce(lambda x, y: x.union(y), dfs_to_concat)\n",
    "\n",
    "# Show the combined DataFrame\n",
    "combined_df.show()\n"
   ]
  },
  {
   "cell_type": "markdown",
   "metadata": {},
   "source": [
    "We are droping the user_id, product_id, category_id and category_code because we don't need this column in our project and it may take up some storage space. Further explanation is available in data obsevatory.\n"
   ]
  },
  {
   "cell_type": "markdown",
   "metadata": {},
   "source": [
    "In this project, since we don't have the product name, only the product id, what we do is drop the NaN in category_code. But in real world, we wouldn't delete it, and instead we bind it with the product name in another database and make a machine learning classification to determine which categories the product goes.\n",
    "\n",
    "The reason why we drop user_session NaN is because there aren't a lot of NaN there, and since we need the column, we cannot drop the whole column nor replace it with a random id because we are not sure if the missing values may be the same person."
   ]
  },
  {
   "cell_type": "code",
   "execution_count": 15,
   "metadata": {},
   "outputs": [
    {
     "name": "stdout",
     "output_type": "stream",
     "text": [
      "+--------------------+----------+---------+-------+--------------------+-------------+------------------+\n",
      "|          event_time|event_type|    brand|  price|        user_session|main_category|secondary_category|\n",
      "+--------------------+----------+---------+-------+--------------------+-------------+------------------+\n",
      "|2020-01-01 00:00:...|      cart|    apple|1453.18|253616df-2b1e-4bd...| construction|             tools|\n",
      "|2020-01-01 00:00:...|      cart|    apple| 385.34|7d7687c4-b613-446...|      apparel|             shoes|\n",
      "|2020-01-01 00:00:...|      cart|   xiaomi|  14.95|2f967c6e-b6c4-497...|        sport|           bicycle|\n",
      "|2020-01-01 00:00:...|      cart|    apple| 890.11|7dad15db-dd6d-4e5...| construction|             tools|\n",
      "|2020-01-01 00:00:...|      cart|    apple| 869.46|2a5143e3-2de9-4dc...| construction|             tools|\n",
      "|2020-01-01 00:00:...|      cart|    apple| 967.85|84c838d4-6e10-4b7...| construction|             tools|\n",
      "|2020-01-01 00:00:...|      cart|    apple| 869.46|2a5143e3-2de9-4dc...| construction|             tools|\n",
      "|2020-01-01 00:01:...|      cart|    apple| 553.30|09a50203-a753-46c...|  electronics|            clocks|\n",
      "|2020-01-01 00:01:...|      cart|montblanc|  32.87|c0f02fdc-76f2-45a...|      apparel|             shoes|\n",
      "|2020-01-01 00:01:...|      cart|    apple| 445.95|7a140d1b-b90f-434...| construction|             tools|\n",
      "|2020-01-01 00:01:...|      cart|montblanc|  32.87|c0f02fdc-76f2-45a...|      apparel|             shoes|\n",
      "|2020-01-01 00:01:...|      cart|    apple| 563.72|d9b5e960-bca2-4eb...| construction|             tools|\n",
      "|2020-01-01 00:02:...|      cart|    apple| 341.06|dcbd99b2-efab-46f...|        sport|           bicycle|\n",
      "|2020-01-01 00:02:...|      cart|   xiaomi| 163.39|5241e291-33ff-48f...| construction|             tools|\n",
      "|2020-01-01 00:03:...|      cart|  samsung| 238.55|32ca6f22-5ee8-4da...| construction|             tools|\n",
      "|2020-01-01 00:03:...|      cart|     null|  37.19|b9864239-109c-4d4...|      apparel|             shoes|\n",
      "|2020-01-01 00:03:...|      cart|  samsung| 102.68|c8064466-ddab-487...|        sport|           bicycle|\n",
      "|2020-01-01 00:03:...|      cart|  samsung| 238.55|d133def5-d31c-475...| construction|             tools|\n",
      "|2020-01-01 00:03:...|      cart|    apple| 869.46|0c498362-feaf-4cd...| construction|             tools|\n",
      "|2020-01-01 00:03:...|      cart|    apple| 385.34|b28d6555-5b3f-437...|      apparel|             shoes|\n",
      "+--------------------+----------+---------+-------+--------------------+-------------+------------------+\n",
      "only showing top 20 rows\n",
      "\n"
     ]
    }
   ],
   "source": [
    "columns_to_drop = ['user_id', 'product_id', 'category_id', 'category_code']\n",
    "df_dropped = combined_df.drop(*columns_to_drop)\n",
    "\n",
    "columns_to_check_null = ['user_session', 'main_category', 'secondary_category']\n",
    "for column in columns_to_check_null:\n",
    "    df_dropped = df_dropped.filter(F.col(column).isNotNull())\n",
    "\n",
    "combined_df_clean = df_dropped\n",
    "\n",
    "combined_df_clean.show()"
   ]
  },
  {
   "cell_type": "code",
   "execution_count": 16,
   "metadata": {
    "tags": []
   },
   "outputs": [
    {
     "name": "stdout",
     "output_type": "stream",
     "text": [
      "+------------------+\n",
      "|secondary_category|\n",
      "+------------------+\n",
      "|            clocks|\n",
      "|           desktop|\n",
      "|       peripherals|\n",
      "|             shoes|\n",
      "|        smartphone|\n",
      "|             shirt|\n",
      "|           pajamas|\n",
      "|            jumper|\n",
      "|           bedroom|\n",
      "|              fmcg|\n",
      "|           trainer|\n",
      "|            wallet|\n",
      "|            shorts|\n",
      "|          cartrige|\n",
      "|               ski|\n",
      "|          umbrella|\n",
      "|            tablet|\n",
      "|            skates|\n",
      "|        lawn_mower|\n",
      "|           kitchen|\n",
      "|             jeans|\n",
      "|              iron|\n",
      "|              belt|\n",
      "|       living_room|\n",
      "|             glove|\n",
      "|             audio|\n",
      "|          bathroom|\n",
      "|            ebooks|\n",
      "|         underwear|\n",
      "|         furniture|\n",
      "|       accessories|\n",
      "|        cultivator|\n",
      "|             video|\n",
      "|             skirt|\n",
      "|        components|\n",
      "|          personal|\n",
      "|               bag|\n",
      "|    sewing_machine|\n",
      "|             dolls|\n",
      "|              toys|\n",
      "|            tshirt|\n",
      "|             tools|\n",
      "|         snowboard|\n",
      "|         universal|\n",
      "|            jacket|\n",
      "|           costume|\n",
      "|              sock|\n",
      "|          trousers|\n",
      "|       environment|\n",
      "|            tennis|\n",
      "|             scarf|\n",
      "|          notebook|\n",
      "|            camera|\n",
      "|          carriage|\n",
      "|         telephone|\n",
      "|     ironing_board|\n",
      "|             swing|\n",
      "|           bicycle|\n",
      "|             dress|\n",
      "|            diving|\n",
      "|          watering|\n",
      "|             paper|\n",
      "+------------------+\n",
      "\n"
     ]
    }
   ],
   "source": [
    "unique_secondary_categories = combined_df_clean.select(\"secondary_category\").distinct()\n",
    "\n",
    "# Displaying unique values\n",
    "unique_secondary_categories.show(200)"
   ]
  },
  {
   "cell_type": "code",
   "execution_count": null,
   "metadata": {
    "tags": []
   },
   "outputs": [],
   "source": [
    "unique_secondary_categories = combined_df_clean.select(\"brand\").distinct()\n",
    "\n",
    "# Displaying unique values\n",
    "unique_secondary_categories.show(200)"
   ]
  },
  {
   "cell_type": "code",
   "execution_count": null,
   "metadata": {},
   "outputs": [],
   "source": [
    "# Filter the DataFrame for rows where secondary_category is 'smartphones'\n",
    "smartphones_df = combined_df_clean.filter(combined_df_clean.secondary_category == 'smartphone')\n",
    "\n",
    "# Selecting distinct values of 'brand' column for smartphones\n",
    "unique_brands_smartphones = smartphones_df.select(\"brand\").distinct()\n",
    "\n",
    "# Displaying unique brands for smartphones\n",
    "unique_brands_smartphones.show(200, truncate=False)"
   ]
  },
  {
   "cell_type": "code",
   "execution_count": null,
   "metadata": {},
   "outputs": [],
   "source": [
    "# Filter the DataFrame for rows where secondary_category is 'smartphones'\n",
    "smartphones_df = combined_df_clean.filter(combined_df_clean.secondary_category == 'tools')\n",
    "\n",
    "# Selecting distinct values of 'brand' column for smartphones\n",
    "unique_brands_smartphones = smartphones_df.select(\"brand\").distinct()\n",
    "\n",
    "# Displaying unique brands for smartphones\n",
    "unique_brands_smartphones.show(50, truncate=False)"
   ]
  },
  {
   "cell_type": "code",
   "execution_count": null,
   "metadata": {},
   "outputs": [],
   "source": [
    "# Assuming 'event_time' is your datetime column\n",
    "combined_df_clean = combined_df_clean.withColumn(\"month\", month(col(\"event_time\")))\n",
    "combined_df_clean.createOrReplaceTempView(\"temp_combined_df\")\n",
    "combined_df_clean.show()"
   ]
  },
  {
   "cell_type": "markdown",
   "metadata": {},
   "source": [
    "# Data Cleaning Results"
   ]
  },
  {
   "cell_type": "code",
   "execution_count": null,
   "metadata": {},
   "outputs": [],
   "source": [
    "# Register the DataFrame as a temporary view\n",
    "combined_df_clean.createOrReplaceTempView(\"temp_combined_df\")\n",
    "# Define the MinIO bucket path\n",
    "minio_bucket_new = 'newdatalake'\n",
    "\n",
    "# SQL command to create a Delta table and save it to MinIO\n",
    "sql_command = f\"\"\"\n",
    "CREATE TABLE delta_table\n",
    "USING delta\n",
    "LOCATION 's3a://{minio_bucket_new}/combined_df'\n",
    "PARTITIONED BY (month)\n",
    "AS SELECT * FROM temp_combined_df\n",
    "\"\"\"\n",
    "\n",
    "# Execute the SQL command\n",
    "spark.sql(sql_command)"
   ]
  },
  {
   "cell_type": "code",
   "execution_count": null,
   "metadata": {},
   "outputs": [],
   "source": [
    "# SQL query to select all data from the Delta table\n",
    "sql_query = \"SELECT * FROM delta_table\"\n",
    "\n",
    "# Execute the SQL query and load the data into a DataFrame\n",
    "combined_df_clean = spark.sql(sql_query)\n",
    "\n",
    "# Show the first few rows of the DataFrame\n",
    "combined_df_clean.show()"
   ]
  },
  {
   "cell_type": "code",
   "execution_count": null,
   "metadata": {},
   "outputs": [],
   "source": [
    "deltaTable = DeltaTable.forPath(spark, \"s3a://newdatalake/combined_df\")\n",
    "history = deltaTable.history()  # This returns a DataFrame containing the history\n",
    "history.show()"
   ]
  },
  {
   "cell_type": "markdown",
   "metadata": {},
   "source": [
    "### Loading new files from Minio to compare"
   ]
  },
  {
   "cell_type": "code",
   "execution_count": null,
   "metadata": {},
   "outputs": [],
   "source": [
    "# Load file from MinIO bucket\n",
    "minio_file_path_jan = '2020-Jan.csv'\n",
    "minio_file_url_jan = f\"s3a://{minio_bucket}/{minio_file_path_jan}\"\n",
    "df_jan = spark.read.csv(minio_file_url_jan, header=True)\n",
    "\n",
    "# Show the loaded DataFrame\n",
    "df_jan.show()"
   ]
  },
  {
   "cell_type": "code",
   "execution_count": null,
   "metadata": {},
   "outputs": [],
   "source": [
    "# Load file from MinIO bucket\n",
    "minio_file_path_feb = '2020-Feb.csv'\n",
    "minio_file_url_feb = f\"s3a://{minio_bucket}/{minio_file_path_feb}\"\n",
    "df_feb = spark.read.csv(minio_file_url_feb, header=True)\n",
    "\n",
    "# Show the loaded DataFrame\n",
    "df_feb.show()"
   ]
  },
  {
   "cell_type": "code",
   "execution_count": null,
   "metadata": {},
   "outputs": [],
   "source": [
    "# Load file from MinIO bucket\n",
    "minio_file_path_mar = '2020-Mar.csv'\n",
    "minio_file_url_mar = f\"s3a://{minio_bucket}/{minio_file_path_mar}\"\n",
    "df_mar = spark.read.csv(minio_file_url_mar, header=True)\n",
    "\n",
    "# Show the loaded DataFrame\n",
    "df_mar.show()"
   ]
  },
  {
   "cell_type": "code",
   "execution_count": null,
   "metadata": {},
   "outputs": [],
   "source": [
    "# Load file from MinIO bucket\n",
    "minio_file_path_apr = '2020-Apr.csv'\n",
    "minio_file_url_apr = f\"s3a://{minio_bucket}/{minio_file_path_apr}\"\n",
    "df_apr = spark.read.csv(minio_file_url_apr, header=True)\n",
    "\n",
    "# Show the loaded DataFrame\n",
    "df_apr.show()"
   ]
  },
  {
   "cell_type": "markdown",
   "metadata": {},
   "source": [
    "merging all dataframes from January until April"
   ]
  },
  {
   "cell_type": "code",
   "execution_count": null,
   "metadata": {},
   "outputs": [],
   "source": [
    "# Assuming df_jan, df_feb, df_mar, and df_apr are your PySpark DataFrames\n",
    "\n",
    "# Create a list of DataFrames to concatenate\n",
    "dfs_to_concat = [df_jan, df_feb, df_mar, df_apr]\n",
    "\n",
    "# Use reduce to perform vertical concatenation (union) of DataFrames\n",
    "old_df = reduce(lambda x, y: x.union(y), dfs_to_concat)\n",
    "\n",
    "# Show the combined DataFrame\n",
    "old_df.show()"
   ]
  },
  {
   "cell_type": "code",
   "execution_count": null,
   "metadata": {},
   "outputs": [],
   "source": [
    "# Number of columns and rows in old_df\n",
    "num_columns_old = len(old_df.columns)\n",
    "num_rows_old = old_df.count()\n",
    "\n",
    "# Number of columns and rows in combined_df\n",
    "num_columns_combined = len(combined_df_clean.columns)\n",
    "num_rows_combined = combined_df_clean.count()\n",
    "\n",
    "print(f\"Old DataFrame: {num_columns_old} columns, {num_rows_old} rows\")\n",
    "print(f\"Combined DataFrame: {num_columns_combined} columns, {num_rows_combined} rows\")\n"
   ]
  },
  {
   "cell_type": "code",
   "execution_count": null,
   "metadata": {},
   "outputs": [],
   "source": [
    "def nan_percentile(df):\n",
    "    # Calculate the total number of rows for percentage calculation\n",
    "    total_rows = df.count()\n",
    "    # Calculate the percentage of NaN values per column\n",
    "    nan_percentages = df.select(\n",
    "        [(count(when(isnan(c) | col(c).isNull(), c)) / total_rows).alias(c) for c in df.columns]\n",
    "    ).collect()[0].asDict()\n",
    "    return nan_percentages\n",
    "\n",
    "nan_percentile_old = nan_percentile(old_df)\n",
    "nan_percentile_combined = nan_percentile(combined_df_clean)\n",
    "\n",
    "print(\"NaN Percentages in Old DataFrame:\")\n",
    "print(nan_percentile_old)\n",
    "\n",
    "print(\"\\nNaN Percentages in Combined DataFrame:\")\n",
    "print(nan_percentile_combined)\n"
   ]
  },
  {
   "cell_type": "markdown",
   "metadata": {},
   "source": [
    "# ANALYZE THE DATA"
   ]
  },
  {
   "cell_type": "markdown",
   "metadata": {},
   "source": [
    "## 1. Wann werden die meisten Produkte verkauft?\n",
    "- Analysieren Sie die zeitliche Verteilung der Verkäufe.\n",
    "- Ermitteln Sie den durchschnittlichen Zeitpunkt für den Verkauf von Produkten.\n",
    "- Untersuchen Sie, ob es bestimmte Zeiträume gibt, in denen bestimmte Produkte oder Marken besonders häufig verkauft werden\n"
   ]
  },
  {
   "cell_type": "code",
   "execution_count": null,
   "metadata": {},
   "outputs": [],
   "source": [
    "# Aggregate data by day of the week and main_category, and count purchases\n",
    "daily_purchases = combined_df_clean \\\n",
    "    .filter(combined_df_clean['event_type'] == 'purchase') \\\n",
    "    .groupBy(dayofweek('event_time').alias('weekday'), 'main_category') \\\n",
    "    .count() \\\n",
    "    .orderBy('weekday')\n",
    "\n",
    "# Collect data for plotting\n",
    "plot_data = daily_purchases.collect()\n",
    "\n",
    "# Plotting with Matplotlib\n",
    "plt.figure(figsize=(10, 6))\n",
    "\n",
    "# Mapping weekdays to their names\n",
    "weekday_names = {\n",
    "    1: 'Sunday',\n",
    "    2: 'Monday',\n",
    "    3: 'Tuesday',\n",
    "    4: 'Wednesday',\n",
    "    5: 'Thursday',\n",
    "    6: 'Friday',\n",
    "    7: 'Saturday'\n",
    "}\n",
    "\n",
    "for category in set([row['main_category'] for row in plot_data]):\n",
    "    category_data = [row for row in plot_data if row['main_category'] == category]\n",
    "    plt.plot([weekday_names[row['weekday']] for row in category_data], [row['count'] for row in category_data], label=category)\n",
    "\n",
    "plt.xlabel('Day of the Week')\n",
    "plt.ylabel('Number of Purchases')\n",
    "plt.title('Number of Purchases Over Time by Main Category (Daily)')\n",
    "plt.legend()\n",
    "plt.grid(True)\n",
    "plt.xticks(rotation=45)\n",
    "plt.tight_layout()\n",
    "plt.show()"
   ]
  },
  {
   "cell_type": "markdown",
   "metadata": {},
   "source": [
    "Was man aus den verkaufszahlen der einzelnen kategorien rauslesen kann von jedem tag ist das der wechsel von Dienstag auf Mittwoch generell auf jede kategorie ein positiven einfluss von verkaufszahlen hat. Die construction kategorie ist am heufigsten vorkommende dies liegt warscheinlich daran das covid masken darunter fallen können."
   ]
  },
  {
   "cell_type": "markdown",
   "metadata": {},
   "source": [
    "## 2. Nutzerkäufe pro Sitzung\n",
    "- Wie viele Produkte kauft ein durchschnittlicher Nutzer pro Sitzung?\n",
    "- Wie viele verschiedene Produktkategorien kauft ein Nutzer im Durchschnitt während einer Sitzung, und wie kann diese Erkenntnis unsere Marketingstrategie beeinflussen? \n",
    "- Wie viele Produkte legt ein Nutzer durchschnittlich in den Warenkorb, bevor er einen Kauf tätigt, und wie wirkt sich diese Information auf die Werbestrategie aus?\n",
    "- Wie viele Produkte aus derselben Kategorie legt ein Nutzer in den Warenkorb, bevor er einen Kauf tätigt, und wie kann dieses Detail unsere Werbestrategie beeinflussen?"
   ]
  },
  {
   "cell_type": "markdown",
   "metadata": {},
   "source": [
    "### Wie viele Produkte kauft ein durchschnittlicher Nutzer pro Sitzung?"
   ]
  },
  {
   "cell_type": "code",
   "execution_count": null,
   "metadata": {},
   "outputs": [],
   "source": [
    "# Assuming combined_df_clean is your PySpark DataFrame\n",
    "\n",
    "# Filter rows where the 'event_type' is 'purchase'\n",
    "purchase_events = combined_df_clean.filter(combined_df_clean['event_type'] == 'purchase')\n",
    "\n",
    "# Group by 'user_session' and count the number of purchases per session\n",
    "purchase_counts_per_session = purchase_events.groupBy('user_session').count()\n",
    "\n",
    "# Calculate the average number of purchases per user_session\n",
    "average_purchase_per_session = purchase_counts_per_session.agg({'count': 'avg'}).collect()[0][0]\n",
    "\n",
    "# Print the average number of purchases per user_session\n",
    "print(\"Average number of purchases per user_session:\", average_purchase_per_session)"
   ]
  },
  {
   "cell_type": "markdown",
   "metadata": {},
   "source": [
    "### Wie viele verschiedene Produktkategorien kauft ein Nutzer im Durchschnitt während einer Sitzung, und wie kann diese Erkenntnis unsere Marketingstrategie beeinflussen? "
   ]
  },
  {
   "cell_type": "code",
   "execution_count": null,
   "metadata": {},
   "outputs": [],
   "source": [
    "# Assuming combined_df_clean is your PySpark DataFrame\n",
    "\n",
    "# Filter rows where the 'event_type' is 'purchase'\n",
    "purchase_events = combined_df_clean.filter(combined_df_clean['event_type'] == 'purchase')\n",
    "\n",
    "# Group by 'user_session' and count the number of purchases per session\n",
    "purchase_counts_per_session = purchase_events.groupBy('user_session').count()\n",
    "\n",
    "# Calculate the average number of purchases per user_session\n",
    "average_purchase_per_session = purchase_counts_per_session.agg(F.avg('count').alias('avg_purchases')).first()['avg_purchases']\n",
    "\n",
    "# Print the average number of purchases per user_session\n",
    "print(\"Average number of purchases per user_session:\", average_purchase_per_session)"
   ]
  },
  {
   "cell_type": "markdown",
   "metadata": {},
   "source": [
    "### Wie viele Produkte legt ein Nutzer durchschnittlich in den Warenkorb, bevor er einen Kauf tätigt, und wie wirkt sich diese Information auf die Werbestrategie aus?"
   ]
  },
  {
   "cell_type": "code",
   "execution_count": null,
   "metadata": {},
   "outputs": [],
   "source": [
    "# Filter rows for 'cart' and 'purchase' events\n",
    "cart_events = combined_df_clean.filter(combined_df_clean['event_type'] == 'cart')\n",
    "purchase_events = combined_df_clean.filter(combined_df_clean['event_type'] == 'purchase')\n",
    "\n",
    "# Group by 'user_session' and count cart additions and purchases\n",
    "cart_counts_per_session = cart_events.groupBy('user_session').count()\n",
    "purchase_counts_per_session = purchase_events.groupBy('user_session').count()\n",
    "\n",
    "# Calculate the average number of cart additions and purchases per session\n",
    "avg_cart_per_session = cart_counts_per_session.agg(F.avg('count').alias('avg_cart_per_session')).collect()[0]['avg_cart_per_session']\n",
    "avg_purchase_per_session = purchase_counts_per_session.agg(F.avg('count').alias('avg_purchase_per_session')).collect()[0]['avg_purchase_per_session']\n",
    "\n",
    "# Calculate the ratio between average cart additions and purchases\n",
    "ratio = avg_cart_per_session / avg_purchase_per_session\n",
    "\n",
    "# Print the conclusion\n",
    "print(\"One person per User Session would add {:.5f} products to the cart before purchasing them.\".format(ratio))"
   ]
  },
  {
   "cell_type": "markdown",
   "metadata": {},
   "source": [
    "### Wie viele Produkte aus derselben Kategorie legt ein Nutzer in den Warenkorb, bevor er einen Kauf tätigt, und wie kann dieses Detail unsere Werbestrategie beeinflussen?"
   ]
  },
  {
   "cell_type": "code",
   "execution_count": null,
   "metadata": {},
   "outputs": [],
   "source": [
    "# Filter rows for 'cart' and 'purchase' events\n",
    "cart_events = combined_df_clean.filter(combined_df_clean['event_type'] == 'cart')\n",
    "purchase_events = combined_df_clean.filter(combined_df_clean['event_type'] == 'purchase')\n",
    "\n",
    "# Group by 'user_session' and 'secondary_category' and count cart additions and purchases\n",
    "cart_counts_per_session_category = cart_events.groupBy('user_session', 'secondary_category').count()\n",
    "purchase_counts_per_session_category = purchase_events.groupBy('user_session', 'secondary_category').count()\n",
    "\n",
    "# Calculate the average number of cart additions and purchases per session and category\n",
    "avg_cart_per_session_category = cart_counts_per_session_category.agg(F.avg('count').alias('avg_cart_per_session_category')).collect()[0]['avg_cart_per_session_category']\n",
    "avg_purchase_per_session_category = purchase_counts_per_session_category.agg(F.avg('count').alias('avg_purchase_per_session_category')).collect()[0]['avg_purchase_per_session_category']\n",
    "\n",
    "# Calculate the ratio between average cart additions and purchases\n",
    "ratio = avg_cart_per_session_category / avg_purchase_per_session_category\n",
    "\n",
    "# Print the conclusion\n",
    "print(\"One person per User Session with the same product category would add {:.5f} products to the cart before purchasing them.\"\n",
    "      .format(ratio))"
   ]
  },
  {
   "cell_type": "markdown",
   "metadata": {},
   "source": [
    "From the chunks above, we could conclude that:\n",
    "1. One person would purchase an average of 1.310 products per User Session\n",
    "2. One person would purchase an average of 1.040 different product category per User Session\n",
    "3. One person would add an average of 1.356 product with the same product category per User Session\n",
    "4. One person would add an average of 1.362 product with the same product category per User Session\n",
    "\n",
    "The data can be used for businesses strategies, for example how many ads they would need to purchase in the ecommerce. "
   ]
  },
  {
   "cell_type": "markdown",
   "metadata": {},
   "source": [
    "## 3. Was ist die total Umsatz?\n",
    "- abhängig von Brand \n",
    "- abhängig von Main Category"
   ]
  },
  {
   "cell_type": "markdown",
   "metadata": {
    "tags": []
   },
   "source": [
    "### abhängig von Brand "
   ]
  },
  {
   "cell_type": "code",
   "execution_count": null,
   "metadata": {},
   "outputs": [],
   "source": [
    "# Filtering out rows with NaN in the 'brand' column\n",
    "grouped_data = combined_df_clean.filter(col('brand').isNotNull())\n",
    "\n",
    "# Filtering rows where 'event_type' is 'purchase' and grouping by 'month', 'brand' to calculate 'revenue' and 'purchased_product'\n",
    "grouped_data = grouped_data.filter(col('event_type') == 'purchase') \\\n",
    "    .groupBy('month', 'brand') \\\n",
    "    .agg(sum('price').alias('total_revenue'), count('event_type').alias('n_purchased_product'))\n",
    "\n",
    "grouped_data = grouped_data.withColumn('month', \n",
    "    when(col('month') == 1, 'January')\n",
    "    .when(col('month') == 2, 'February')\n",
    "    .when(col('month') == 3, 'March')\n",
    "    .when(col('month') == 4, 'April')\n",
    "    .otherwise(col('month')))\n",
    "\n",
    "# Sort the resulting DataFrame by 'total_revenue' in descending order\n",
    "grouped_data = grouped_data.orderBy(col('total_revenue').desc())\n",
    "\n",
    "# Show the resulting sorted DataFrame\n",
    "grouped_data.show()"
   ]
  },
  {
   "cell_type": "code",
   "execution_count": null,
   "metadata": {},
   "outputs": [],
   "source": [
    "# Window specification to partition by month and rank brands based on total_revenue\n",
    "window_spec = Window.partitionBy('month').orderBy(col('total_revenue').desc())\n",
    "average_revenue = grouped_data.groupBy('brand').agg(avg('total_revenue').alias('average_revenue'))\n",
    "\n",
    "# Add a rank to each brand within each month based on total revenue\n",
    "result_df_with_rank = grouped_data.withColumn('rank', row_number().over(window_spec))\n",
    "\n",
    "# Filter the top 5 brands with the highest revenue for each month\n",
    "top_5_brands_per_month = result_df_with_rank.join(average_revenue, on='brand', how='left')\n",
    "\n",
    "# Get main_categories sorted by average revenue in descending order\n",
    "# Collecting data to be used for plotting\n",
    "sorted_brand = average_revenue.orderBy(col('average_revenue').desc()).limit(5).select('brand').rdd.flatMap(lambda x: x).collect()\n",
    "months = sorted(top_5_brands_per_month.select('month').distinct().rdd.flatMap(lambda x: x).collect())\n",
    "\n",
    "# Prepare data for plotting\n",
    "data = {\n",
    "    month: top_5_brands_per_month.filter(col('month') == month).select('brand', 'total_revenue').rdd.collectAsMap()\n",
    "    for month in months\n",
    "}\n",
    "\n",
    "# Plotting bar plots for top 5 brands' revenue comparison across months\n",
    "plt.figure(figsize=(12, 6))\n",
    "bar_width = 0.15\n",
    "for i, month in enumerate(months):\n",
    "    revenues = [data[month].get(brand, 0) for brand in sorted_brand]\n",
    "    plt.bar([x + i * bar_width for x in range(len(sorted_brand))], revenues, width=bar_width, label=f\"Month {month}\")\n",
    "\n",
    "plt.xlabel('Brands')\n",
    "plt.ylabel('Revenue')\n",
    "plt.title('Top 5 Brands Revenue Comparison by Month')\n",
    "plt.xticks([x + bar_width * len(months) / 2 for x in range(len(sorted_brand))], sorted_brand)\n",
    "plt.legend()\n",
    "plt.tight_layout()\n",
    "plt.show()\n",
    "\n"
   ]
  },
  {
   "cell_type": "markdown",
   "metadata": {
    "tags": []
   },
   "source": [
    "### abhängig von Main Category"
   ]
  },
  {
   "cell_type": "code",
   "execution_count": null,
   "metadata": {},
   "outputs": [],
   "source": [
    "# Filtering out rows with NaN in the 'main_category' column\n",
    "grouped_data_category = combined_df_clean.filter(col('main_category').isNotNull())\n",
    "\n",
    "# Filtering rows where 'event_type' is 'purchase' and grouping by 'month', 'brand' to calculate 'revenue' and 'purchased_product'\n",
    "grouped_data_category = grouped_data_category.filter(col('event_type') == 'purchase') \\\n",
    "    .groupBy('month', 'main_category') \\\n",
    "    .agg(sum('price').alias('total_revenue'), count('event_type').alias('n_purchased_product'))\n",
    "\n",
    "grouped_data_category = grouped_data_category.withColumn('month', \n",
    "    when(col('month') == 1, 'January')\n",
    "    .when(col('month') == 2, 'February')\n",
    "    .when(col('month') == 3, 'March')\n",
    "    .when(col('month') == 4, 'April')\n",
    "    .otherwise(col('month')))\n",
    "\n",
    "# Sort the resulting DataFrame by 'total_revenue' in descending order\n",
    "grouped_data_category = grouped_data_category.orderBy(col('total_revenue').desc())\n",
    "\n",
    "# Show the resulting sorted DataFrame\n",
    "grouped_data_category.show()"
   ]
  },
  {
   "cell_type": "code",
   "execution_count": null,
   "metadata": {},
   "outputs": [],
   "source": [
    "# Calculating the average revenue for each main category\n",
    "average_revenue = grouped_data_category.groupBy('main_category').agg(avg('total_revenue').alias('average_revenue'))\n",
    "\n",
    "# Adding a rank to each main category within each month based on total revenue\n",
    "window_spec = Window.partitionBy('month').orderBy(col('total_revenue').desc())\n",
    "result_df_with_rank = grouped_data_category.withColumn('rank', row_number().over(window_spec))\n",
    "\n",
    "# Joining the ranked DataFrame with average revenue data\n",
    "top_5_main_categories_per_month = result_df_with_rank.join(average_revenue, on='main_category', how='left')\n",
    "\n",
    "# Getting the top 5 main categories sorted by average revenue in descending order\n",
    "sorted_main_categories = average_revenue.orderBy(col('average_revenue').desc()).limit(5).select('main_category').rdd.flatMap(lambda x: x).collect()\n",
    "\n",
    "# Collecting data for plotting\n",
    "months = sorted(top_5_main_categories_per_month.select('month').distinct().rdd.flatMap(lambda x: x).collect())\n",
    "\n",
    "# Prepare data for plotting for top 5 main categories\n",
    "data = {\n",
    "    month: top_5_main_categories_per_month.filter((col('month') == month) & (col('main_category').isin(sorted_main_categories)))\n",
    "                                          .select('main_category', 'total_revenue').rdd.collectAsMap()\n",
    "    for month in months\n",
    "}\n",
    "\n",
    "# Plotting bar plots for top 5 main_categories' revenue comparison across months\n",
    "plt.figure(figsize=(12, 6))\n",
    "bar_width = 0.15\n",
    "for i, month in enumerate(months):\n",
    "    revenues = [data[month].get(main_category, 0) for main_category in sorted_main_categories]\n",
    "    plt.bar([x + i * bar_width for x in range(len(sorted_main_categories))], revenues, width=bar_width, label=f\"Month {month}\")\n",
    "\n",
    "plt.xlabel('Categories')\n",
    "plt.ylabel('Revenue')\n",
    "plt.title('Top 5 Categories Revenue Comparison by Month (Sorted by Average Revenue)')\n",
    "plt.xticks([x + bar_width * len(months) / 2 for x in range(len(sorted_main_categories))], sorted_main_categories)\n",
    "plt.legend()\n",
    "plt.tight_layout()\n",
    "plt.show()\n"
   ]
  },
  {
   "cell_type": "markdown",
   "metadata": {},
   "source": [
    "## 4. Welche Produktkategorien werden während Corona mehr oder weniger verkauft?\n",
    "- Filtern Sie die Daten auf den Zeitraum während der Corona-Pandemie.\n",
    "- Gruppieren Sie die Daten nach Produktkategorien und zählen Sie die Verkäufe.\n",
    "- Vergleichen Sie die Verkaufszahlen vor und während der Corona-Pandemie.\n",
    "- Analysieren Sie mögliche Preissteigerungen oder -senkungen in bestimmten Kategorien.\n"
   ]
  },
  {
   "cell_type": "markdown",
   "metadata": {},
   "source": [
    "PLOTTING WITH DATETIME AS X-AXIS"
   ]
  },
  {
   "cell_type": "code",
   "execution_count": null,
   "metadata": {},
   "outputs": [],
   "source": [
    "year = 2020\n",
    "\n",
    "\n",
    "def first_day_of_week(week):\n",
    "    return datetime.datetime.strptime(f'{year}-W{int(week )- 1}-1', \"%Y-W%W-%w\").date()\n",
    "\n",
    "\n",
    "weekly_purchases = combined_df_clean \\\n",
    "    .filter(combined_df_clean['event_type'] == 'purchase') \\\n",
    "    .groupBy(weekofyear('event_time').alias('week'), 'main_category') \\\n",
    "    .count() \\\n",
    "    .orderBy('week')\n",
    "\n",
    "plot_data = weekly_purchases.collect()\n",
    "main_categories = set([row['main_category'] for row in plot_data])\n",
    "\n",
    "# Plotting with Matplotlib\n",
    "plt.figure(figsize=(10, 6))\n",
    "\n",
    "for category in main_categories:\n",
    "    category_data = [row for row in plot_data if row['main_category'] == category]\n",
    "    weeks = [first_day_of_week(row['week']) for row in category_data]\n",
    "    purchases = [row['count'] for row in category_data]\n",
    "    plt.plot(weeks, purchases, label=category)\n",
    "\n",
    "plt.xlabel('Date (First Day of Week)')\n",
    "plt.ylabel('Number of Purchases')\n",
    "plt.title('Number of Purchases Over Time by Main Category (Weekly)')\n",
    "plt.legend()\n",
    "plt.grid(True)\n",
    "plt.xticks(rotation=45)  # Rotate dates for better readability\n",
    "plt.show()"
   ]
  },
  {
   "cell_type": "markdown",
   "metadata": {},
   "source": [
    "Was man aus den verkaufszahlen der einzelnen kategorien rauslesen kann über die corona zeitspanne ist das ein paar kategorien weniger umsatz gemacht haben als die\n",
    "corona pandemie begonnen hat und ein paar mehr umsatz gemacht haben. Die construction kategorie aber eigentlich gewachsen dies liegt warscheinlich daran \n",
    "das covid masken darunter fallen können."
   ]
  },
  {
   "cell_type": "code",
   "execution_count": null,
   "metadata": {
    "tags": []
   },
   "outputs": [],
   "source": [
    "# Extract the date from event_time and group by date\n",
    "daily_avg_price = combined_df_clean \\\n",
    "    .withColumn(\"date\", to_date(\"event_time\")) \\\n",
    "    .groupBy(\"date\") \\\n",
    "    .agg(avg(\"price\").alias(\"avg_price\")) \\\n",
    "    .orderBy(\"date\")\n",
    "\n",
    "# Collect the data for plotting\n",
    "plot_data = daily_avg_price.collect()\n",
    "\n",
    "# Extracting dates and average prices\n",
    "dates = [row['date'] for row in plot_data]\n",
    "avg_prices = [row['avg_price'] for row in plot_data]\n",
    "\n",
    "# Plotting with Matplotlib\n",
    "plt.figure(figsize=(12, 6))\n",
    "plt.scatter(dates, avg_prices, alpha=0.5)\n",
    "\n",
    "plt.xlabel('Date')\n",
    "plt.ylabel('Average Price')\n",
    "plt.title('Daily Average Price Over Time')\n",
    "\n",
    "# Formatting the date to make it more readable\n",
    "plt.gca().xaxis.set_major_formatter(mdates.DateFormatter('%Y-%m-%d'))\n",
    "plt.gca().xaxis.set_major_locator(mdates.DayLocator(interval=15))  # Adjust interval as needed\n",
    "plt.xticks(rotation=45)\n",
    "\n",
    "plt.grid(True)\n",
    "plt.show()"
   ]
  },
  {
   "cell_type": "markdown",
   "metadata": {},
   "source": [
    "#### Due to the Covid-19 Pandemic, people tend to save up more money for emergencies, which leads to sellers dropping their prices.\n"
   ]
  },
  {
   "cell_type": "markdown",
   "metadata": {},
   "source": [
    "## 5. Welche Marken profitieren mehr oder weniger während der Corona-Pandemie?\n",
    "- Analysieren Sie die Verkaufszahlen nach Marken.\n",
    "- Vergleichen Sie die Verkaufszahlen vor und während der Corona-Pandemie für jede Marke.\n",
    "- Ermitteln Sie, welche Marken einen Anstieg oder Rückgang der Verkäufe verzeichnen.\n"
   ]
  },
  {
   "cell_type": "code",
   "execution_count": null,
   "metadata": {},
   "outputs": [],
   "source": [
    "# First, identify the top brands\n",
    "top_brands = combined_df_clean.filter(combined_df_clean['event_type'] == 'purchase') \\\n",
    "    .groupBy('brand').count().orderBy('count', ascending=False) \\\n",
    "    .limit(10).select('brand').rdd.flatMap(lambda x: x).collect()\n",
    "\n",
    "# Convert 'event_time' to a date format and aggregate data for top brands\n",
    "daily_brand_purchases = combined_df_clean \\\n",
    "    .filter((combined_df_clean['event_type'] == 'purchase') & (combined_df_clean['brand'].isin(top_brands))) \\\n",
    "    .withColumn('date', to_date('event_time')) \\\n",
    "    .groupBy('date', 'brand') \\\n",
    "    .count() \\\n",
    "    .orderBy('date')\n",
    "\n",
    "# Collect data for plotting\n",
    "plot_data = daily_brand_purchases.collect()\n",
    "\n",
    "# Create a color map for brands\n",
    "import matplotlib.pyplot as plt\n",
    "colors = plt.cm.tab10.colors[:len(top_brands)]\n",
    "\n",
    "# Plotting with Matplotlib\n",
    "plt.figure(figsize=(10, 6))\n",
    "\n",
    "for i, brand in enumerate(top_brands):\n",
    "    brand_data = [row for row in plot_data if row['brand'] == brand]\n",
    "    plt.plot([row['date'] for row in brand_data], [row['count'] for row in brand_data], label=brand, color=colors[i])\n",
    "\n",
    "plt.xlabel('Date')\n",
    "plt.ylabel('Number of Purchases')\n",
    "plt.title('Number of Purchases Over Time by Brand (Daily)')\n",
    "plt.legend()\n",
    "plt.grid(True)\n",
    "plt.xticks(rotation=45)  # Rotate date labels for better readability\n",
    "plt.show()\n"
   ]
  },
  {
   "cell_type": "markdown",
   "metadata": {},
   "source": [
    "wie man an den verkaufsdaten von den einzelnen marken sieht sind die verkaufszahlen generell sehr ungleichmäsig geblieben. Samsung und apple haben\n",
    "am meisten verkauft aber beide haben sehr viele und starke schwankungen gehabt in ihren verkaufszahlen. Samsung ist aber gegen ende defenitiv als verkaufs\n",
    "sieger rausgekommen da es sehr viel verkauft hat als die pandemie noch in vollem schwung war vieleicht liegt dies daran das apple keine microchips mehr hatte oder andere gründe."
   ]
  },
  {
   "cell_type": "markdown",
   "metadata": {},
   "source": [
    "# SAVE THE DATA TO DELTA TABLE OR CSV TO BE LOADED IN THE BUCKET BASED ON NEEDS"
   ]
  },
  {
   "cell_type": "code",
   "execution_count": null,
   "metadata": {},
   "outputs": [],
   "source": [
    "minio_bucket_new = 'deltaecommerce'\n",
    "\n",
    "# Convert combined_df_clean (assuming it's a DataFrame) to Delta format and save it to MinIO\n",
    "# Create a Delta table from the DataFrame and overwrite if it exists\n",
    "combined_df_clean.write.format(\"delta\").mode(\"overwrite\").save(f\"s3a://{minio_bucket_new}/combined_df_clean_analyzed\")\n"
   ]
  },
  {
   "cell_type": "code",
   "execution_count": null,
   "metadata": {
    "tags": []
   },
   "outputs": [],
   "source": [
    "# # Assuming combined_df_clean is your PySpark DataFrame\n",
    "\n",
    "# # Specify the output path where you want to save the CSV file\n",
    "# output_path = \"combined_df_clean_analyzed.csv\"\n",
    "\n",
    "# # Write the DataFrame to a CSV file\n",
    "# combined_df_clean.write.csv(output_path, header=True, mode=\"overwrite\")\n"
   ]
  }
 ],
 "metadata": {
  "kernelspec": {
   "display_name": "Python 3 (ipykernel)",
   "language": "python",
   "name": "python3"
  },
  "language_info": {
   "codemirror_mode": {
    "name": "ipython",
    "version": 3
   },
   "file_extension": ".py",
   "mimetype": "text/x-python",
   "name": "python",
   "nbconvert_exporter": "python",
   "pygments_lexer": "ipython3",
   "version": "3.10.9"
  }
 },
 "nbformat": 4,
 "nbformat_minor": 4
}
