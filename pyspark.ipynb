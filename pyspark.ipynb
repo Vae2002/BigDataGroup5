{
 "cells": [
  {
   "cell_type": "code",
   "execution_count": 1,
   "id": "9b8a0273-66fb-4604-9c61-1221d772b72c",
   "metadata": {
    "tags": []
   },
   "outputs": [],
   "source": [
    "from minio import Minio\n",
    "from minio.error import S3Error\n",
    "import pandas as pd\n",
    "import matplotlib.pyplot as plt"
   ]
  },
  {
   "cell_type": "code",
   "execution_count": 2,
   "id": "b3f11bff-65b7-4848-9a5d-2bcc2c522264",
   "metadata": {
    "tags": []
   },
   "outputs": [],
   "source": [
    "from pyspark.sql import SparkSession\n",
    "#import pyspark.errors\n",
    "from pyspark.sql.functions import col, max\n",
    "from delta import *\n",
    "\n",
    "# Stop the existing SparkContext if it exists\n",
    "try:\n",
    "    sc.stop()\n",
    "except NameError:\n",
    "    pass\n",
    "\n",
    "\n",
    "builder = SparkSession.builder.appName(\"Delta With MinIO\") \\\n",
    "    .config(\"spark.hadoop.fs.s3a.endpoint\", \"http://minio:9000\") \\\n",
    "    .config(\"spark.hadoop.fs.s3a.access.key\", \"minioadmin\") \\\n",
    "    .config(\"spark.hadoop.fs.s3a.secret.key\", \"minioadmin\") \\\n",
    "    .config(\"spark.hadoop.fs.s3a.path.style.access\", True) \\\n",
    "    .config(\"spark.hadoop.fs.s3a.impl\", \"org.apache.hadoop.fs.s3a.S3AFileSystem\") \\\n",
    "    .config(\"spark.hadoop.fs.s3a.aws.credentials.provider\", \"org.apache.hadoop.fs.s3a.SimpleAWSCredentialsProvider\") \\\n",
    "    .config(\"spark.sql.extensions\", \"io.delta.sql.DeltaSparkSessionExtension\") \\\n",
    "    .config(\"spark.sql.catalog.spark_catalog\", \"org.apache.spark.sql.delta.catalog.DeltaCatalog\")\n",
    "\n",
    "spark = configure_spark_with_delta_pip(builder).getOrCreate()"
   ]
  },
  {
   "cell_type": "code",
   "execution_count": 3,
   "id": "6e730f3c-f7f0-4f60-a867-79572cafc569",
   "metadata": {
    "tags": []
   },
   "outputs": [],
   "source": [
    "from pyspark.sql import SparkSession\n",
    "\n",
    "# Set your MinIO configurations\n",
    "minio_access_key = 'minioadmin'\n",
    "minio_secret_key = 'minioadmin'\n",
    "minio_endpoint = 'http://minio:9000'  # Example: 'play.min.io'\n",
    "minio_bucket = 'ecommerce'\n",
    "\n",
    "# Set the configurations for accessing MinIO\n",
    "spark._jsc.hadoopConfiguration().set(\"fs.s3a.access.key\", minio_access_key)\n",
    "spark._jsc.hadoopConfiguration().set(\"fs.s3a.secret.key\", minio_secret_key)\n",
    "spark._jsc.hadoopConfiguration().set(\"fs.s3a.endpoint\", minio_endpoint)\n",
    "spark._jsc.hadoopConfiguration().set(\"fs.s3a.path.style.access\", \"true\")\n"
   ]
  },
  {
   "cell_type": "code",
   "execution_count": 4,
   "id": "712942e7-5871-425c-9bfb-bebbcbbe1369",
   "metadata": {
    "tags": []
   },
   "outputs": [
    {
     "name": "stdout",
     "output_type": "stream",
     "text": [
      "+--------------------+----------+----------+-------------------+--------------------+-------+-------+---------+--------------------+\n",
      "|          event_time|event_type|product_id|        category_id|       category_code|  brand|  price|  user_id|        user_session|\n",
      "+--------------------+----------+----------+-------------------+--------------------+-------+-------+---------+--------------------+\n",
      "|2020-01-01 00:00:...|      view|   1005073|2232732093077520756|construction.tool...|samsung|1130.02|519698804|69b5d72f-fd6e-4fe...|\n",
      "|2020-01-01 00:00:...|      view|   1005192|2232732093077520756|construction.tool...|  meizu| 205.67|527767423|7f596032-ccbf-464...|\n",
      "|2020-01-01 00:00:...|      view| 100063693|2053013552427434207|       apparel.shirt| turtle| 136.43|519046195|d1e2f343-84bb-49b...|\n",
      "|2020-01-01 00:00:...|      view|   5100816|2232732103831716449|       apparel.shoes| xiaomi|  29.95|518269232|0444841c-38ef-410...|\n",
      "|2020-01-01 00:00:...|      view| 100014325|2232732103294845523|apparel.shoes.ste...|  intel| 167.20|587748686|31b7d4cf-dfac-489...|\n",
      "|2020-01-01 00:00:...|      view|  16500026|2232732108713886406|     apparel.costume|  gamma|  37.35|581037554|c161400e-630b-4b5...|\n",
      "|2020-01-01 00:00:...|      view|   1802026|2232732099754852875|appliances.person...|samsung| 576.33|581274910|44ca9bc7-3ba8-454...|\n",
      "|2020-01-01 00:00:...|      view|  11600004|2053013554834964853|appliances.kitche...|   sven|  43.48|595265136|32c08a07-f2d0-4da...|\n",
      "|2020-01-01 00:00:...|      view|   4802273|2232732079706079299|       sport.bicycle|samsung|   6.64|595414563|176fd102-7b61-445...|\n",
      "|2020-01-01 00:00:...|      view|   1005115|2232732093077520756|construction.tool...|  apple| 869.46|531140669|84c838d4-6e10-4b7...|\n",
      "|2020-01-01 00:00:...|      view|   3100055|2232732091391410500|appliances.kitche...|  braun| 117.09|558295901|e7934107-4212-4b1...|\n",
      "|2020-01-01 00:00:...|      view|  26000317|2232732082474320004|                null|   null|  11.84|592648495|7294aca4-58be-4fb...|\n",
      "|2020-01-01 00:00:...|      view|  16500038|2232732108713886406|     apparel.costume|  bwell|  56.63|526238299|7f47e97f-3833-47b...|\n",
      "|2020-01-01 00:00:...|      view|  21407348|2232732082063278200|  electronics.clocks|  casio| 122.01|578858757|bdf051a8-1594-463...|\n",
      "|2020-01-01 00:00:...|      view|   3600666|2232732092297380188|appliances.kitche...|samsung| 321.73|556820148|8748d326-2623-42b...|\n",
      "|2020-01-01 00:00:...|      view|   8700154|2232732089587859740|appliances.person...|polaris|  11.53|515160926|00963bdd-83c0-4c9...|\n",
      "|2020-01-01 00:00:...|      view|   1801883|2232732099754852875|appliances.person...|philips| 231.64|595405799|5d5a33b5-ac89-482...|\n",
      "|2020-01-01 00:00:...|      view|   7203232|2232732084546306225|furniture.living_...|   lego|  84.94|523020108|2f160b97-6d02-4ce...|\n",
      "|2020-01-01 00:00:...|      view|   1005124|2232732093077520756|construction.tool...|  apple|1453.18|532239316|253616df-2b1e-4bd...|\n",
      "|2020-01-01 00:00:...|      view| 100002825|2232732091559182664|                null|ski-doo| 377.95|561502419|f916da2a-eee7-417...|\n",
      "+--------------------+----------+----------+-------------------+--------------------+-------+-------+---------+--------------------+\n",
      "only showing top 20 rows\n",
      "\n"
     ]
    }
   ],
   "source": [
    "# Load file from MinIO bucket\n",
    "minio_file_path_jan = '2020-Jan.csv'\n",
    "minio_file_url_jan = f\"s3a://{minio_bucket}/{minio_file_path_jan}\"\n",
    "df_jan = spark.read.csv(minio_file_url_jan, header=True)\n",
    "\n",
    "# Show the loaded DataFrame\n",
    "df_jan.show()"
   ]
  },
  {
   "cell_type": "code",
   "execution_count": 5,
   "id": "54b1912d-8165-40d6-9875-f171203c0db2",
   "metadata": {
    "tags": []
   },
   "outputs": [
    {
     "name": "stdout",
     "output_type": "stream",
     "text": [
      "+--------------------+----------+----------+-------------------+--------------------+-------+-------+---------+--------------------+\n",
      "|          event_time|event_type|product_id|        category_id|       category_code|  brand|  price|  user_id|        user_session|\n",
      "+--------------------+----------+----------+-------------------+--------------------+-------+-------+---------+--------------------+\n",
      "|2020-02-01 00:00:...|      view| 100010426|2232732115290555244|       apparel.shoes|   null|  19.31|581521975|82d5664d-7980-43e...|\n",
      "|2020-02-01 00:00:...|      view| 100071077|2232732079706079299|       sport.bicycle|  crown|  11.88|596313635|3df590c0-e667-4f5...|\n",
      "|2020-02-01 00:00:...|      view|   1004665|2232732093077520756|construction.tool...|samsung| 838.23|608821035|3e271f43-db51-46b...|\n",
      "|2020-02-01 00:00:...|      view|   1002544|2232732093077520756|construction.tool...|  apple| 410.42|530488542|21f46782-fb36-4d5...|\n",
      "|2020-02-01 00:00:...|      view| 100010151|2053013563835941749|appliances.kitche...| pulser| 332.03|583795643|eddfe0e2-12f8-435...|\n",
      "|2020-02-01 00:00:...|      view|   5000108|2232732102950912587|appliances.sewing...| janome| 127.56|513854134|d2e0ec81-b785-48f...|\n",
      "|2020-02-01 00:00:...|      view|   6501012|2232732103462617687|apparel.shoes.sli...| asrock|  46.02|514092189|fcf181e8-56b3-474...|\n",
      "|2020-02-01 00:00:...|      view|  15100003|2232732107413652135|      apparel.shorts|     sv| 874.93|588332465|7f5c4c88-4a05-4c6...|\n",
      "|2020-02-01 00:00:...|      view|  15100229|2232732107413652135|      apparel.shorts|   null| 887.02|594768603|4db2a707-8548-4f6...|\n",
      "|2020-02-01 00:00:...|      view|   1005115|2232732093077520756|construction.tool...|  apple| 806.61|608822150|50d1339f-561e-41f...|\n",
      "|2020-02-01 00:00:...|      view|  15901490|2053013566142809077|construction.tool...|   null|  46.33|518459407|c2a1a5e4-7bf2-498...|\n",
      "|2020-02-01 00:00:...|      view|   1004648|2232732093077520756|construction.tool...|samsung| 563.70|608821035|3e271f43-db51-46b...|\n",
      "|2020-02-01 00:00:...|      view|  28717124|2232732097842250207|  apparel.shoes.keds|respect|  31.92|512437914|b9244c98-22a1-4c7...|\n",
      "|2020-02-01 00:00:...|      view|   1005284|2232732093077520756|construction.tool...|samsung|2187.68|513239057|83c6453a-6415-442...|\n",
      "|2020-02-01 00:00:...|      view|  17200720|2232732090980368698|furniture.living_...|   rals| 532.91|519398356|e2d8e72b-afee-41b...|\n",
      "|2020-02-01 00:00:...|      view|  10900224|2232732105912091273|appliances.kitche...|redmond|  48.63|519194270|96326c64-d2c2-4a8...|\n",
      "|2020-02-01 00:00:...|      cart|   1005100|2232732093077520756|construction.tool...|samsung| 140.28|608822162|8062ce43-662e-4b6...|\n",
      "|2020-02-01 00:00:...|      view|   5701024|2053013554415534427|electronics.video.tv|kenwood| 120.98|531481119|162a856a-f800-4ca...|\n",
      "|2020-02-01 00:00:...|      view|   1004767|2232732093077520756|construction.tool...|samsung| 226.18|561966169|0a014c51-f0f3-404...|\n",
      "|2020-02-01 00:00:...|      view|   5100337|2232732103101907535|  electronics.clocks|  apple| 308.85|559727899|9e1fe23c-2d1a-4cf...|\n",
      "+--------------------+----------+----------+-------------------+--------------------+-------+-------+---------+--------------------+\n",
      "only showing top 20 rows\n",
      "\n"
     ]
    }
   ],
   "source": [
    "# Load file from MinIO bucket\n",
    "minio_file_path_feb = '2020-Feb.csv'\n",
    "minio_file_url_feb = f\"s3a://{minio_bucket}/{minio_file_path_feb}\"\n",
    "df_feb = spark.read.csv(minio_file_url_feb, header=True)\n",
    "\n",
    "# Show the loaded DataFrame\n",
    "df_feb.show()"
   ]
  },
  {
   "cell_type": "code",
   "execution_count": 6,
   "id": "5173d0eb-cf04-4f13-a9c5-556873fdbf4d",
   "metadata": {
    "tags": []
   },
   "outputs": [
    {
     "name": "stdout",
     "output_type": "stream",
     "text": [
      "+--------------------+----------+----------+-------------------+--------------------+--------+-------+---------+--------------------+\n",
      "|          event_time|event_type|product_id|        category_id|       category_code|   brand|  price|  user_id|        user_session|\n",
      "+--------------------+----------+----------+-------------------+--------------------+--------+-------+---------+--------------------+\n",
      "|2020-03-01 00:00:...|      view|  10900348|2232732105912091273|appliances.kitche...| kitfort| 117.63|550295099|23f5ab9e-7774-416...|\n",
      "|2020-03-01 00:00:...|      view|  14300020|2232732107967300275|   apparel.underwear|   casio| 264.37|622070532|edf19213-f0dd-46e...|\n",
      "|2020-03-01 00:00:...|      view|  13200063|2232732061804790604|furniture.bedroom...|    null| 126.10|552832344|608087d8-6b69-21d...|\n",
      "|2020-03-01 00:00:...|      view| 100077498|2232732085846540487|construction.tool...|  tamina| 424.72|613391860|5ab6c3d5-edd7-4e1...|\n",
      "|2020-03-01 00:00:...|      view|   1005014|2232732093077520756|construction.tool...| samsung| 482.73|517021211|0c34308d-c455-40b...|\n",
      "|2020-03-01 00:00:...|      view|   1004757|2232732093077520756|construction.tool...|   meizu|  76.96|611868169|80871749-38db-4ba...|\n",
      "|2020-03-01 00:00:...|      view|   3700715|2232732101063475749|appliances.enviro...|   artel|  51.20|538268573|5ad92d46-bc38-4fe...|\n",
      "|2020-03-01 00:00:...|  purchase|   5100722|2232732103101907535|  electronics.clocks|  huawei| 128.68|604860058|f558a7d7-f1e4-4b8...|\n",
      "|2020-03-01 00:00:...|      view|  26205155|2232732081585127530|construction.comp...|    null| 103.48|622090375|cc8fb9ef-9ae7-41b...|\n",
      "|2020-03-01 00:00:...|      view|   4804295|2232732079706079299|       sport.bicycle|  xiaomi|  22.20|530720671|76bcc6c7-9bfc-43a...|\n",
      "|2020-03-01 00:00:...|      view|  15100119|2232732107413652135|      apparel.shorts|    null|1010.50|560360095|eca0d1af-cef8-426...|\n",
      "|2020-03-01 00:00:...|      view|  28721048|2053013556521075159|       apparel.shoes|   cover| 119.69|520028803|c7327cfb-b6a3-481...|\n",
      "|2020-03-01 00:00:...|      view| 100036058|2053013554658804075|electronics.audio...|      hp| 360.11|622086728|3fbb7dff-c6bc-466...|\n",
      "|2020-03-01 00:00:...|      view|  30000004|2232732095074009504|construction.tool...|    null| 134.34|517308267|5effd779-5eeb-48c...|\n",
      "|2020-03-01 00:00:...|      view|   2401253|2232732100769874463|appliances.person...|    null|  89.84|595972218|bde65786-cc67-452...|\n",
      "|2020-03-01 00:00:...|      view|   6701259|2053013552293216471|appliances.enviro...|gigabyte| 478.16|599757342|1141a7a0-d4b7-4c0...|\n",
      "|2020-03-01 00:00:...|      view| 100036175|2053013553056579841|computers.periphe...| sokolov|  38.61|587790209|07fc5203-a0d5-47b...|\n",
      "|2020-03-01 00:00:...|      view|   4804719|2232732079706079299|       sport.bicycle|  xiaomi|  75.93|547190131|bb74efee-77a2-44c...|\n",
      "|2020-03-01 00:00:...|      view|  10301847|2232732104888681081|       apparel.scarf|  mattel|   6.92|592023505|1967ad00-d3c8-417...|\n",
      "|2020-03-01 00:00:...|      view|  16000004|2053013556856619499|     accessories.bag| rondell|  43.73|622090611|d2241bd8-e2a5-4bd...|\n",
      "+--------------------+----------+----------+-------------------+--------------------+--------+-------+---------+--------------------+\n",
      "only showing top 20 rows\n",
      "\n"
     ]
    }
   ],
   "source": [
    "# Load file from MinIO bucket\n",
    "minio_file_path_mar = '2020-Mar.csv'\n",
    "minio_file_url_mar = f\"s3a://{minio_bucket}/{minio_file_path_mar}\"\n",
    "df_mar = spark.read.csv(minio_file_url_mar, header=True)\n",
    "\n",
    "# Show the loaded DataFrame\n",
    "df_mar.show()"
   ]
  },
  {
   "cell_type": "code",
   "execution_count": 7,
   "id": "72f62d87-8082-4d73-a38a-04ebd5605dfb",
   "metadata": {
    "tags": []
   },
   "outputs": [
    {
     "name": "stdout",
     "output_type": "stream",
     "text": [
      "+--------------------+----------+----------+-------------------+--------------------+---------+-------+---------+--------------------+\n",
      "|          event_time|event_type|product_id|        category_id|       category_code|    brand|  price|  user_id|        user_session|\n",
      "+--------------------+----------+----------+-------------------+--------------------+---------+-------+---------+--------------------+\n",
      "|2020-04-01 00:00:...|      view|   1201465|2232732101407408685|apparel.shoes.sli...|  samsung| 230.38|568984877|e2456cef-2d4f-42b...|\n",
      "|2020-04-01 00:00:...|      view|   1307156|2053013554658804075|electronics.audio...|    apple|1352.67|514955500|38f43134-de83-471...|\n",
      "|2020-04-01 00:00:...|      view|   1480477|2053013563835941749|appliances.kitche...|    apple|1184.05|633645770|16aba270-b3c2-4b2...|\n",
      "|2020-04-01 00:00:...|      view|   1307050|2053013554658804075|electronics.audio...|    apple|1724.34|564933778|05b443bd-e68a-4d7...|\n",
      "|2020-04-01 00:00:...|      view|   9500109|2232732104175649385|       apparel.scarf| defender|  25.05|530206135|e3c1fb4b-0a7e-457...|\n",
      "|2020-04-01 00:00:...|      view| 100068493|2232732093077520756|construction.tool...|  samsung| 319.41|635165435|861f2378-076f-4dd...|\n",
      "|2020-04-01 00:00:...|      view|   8901579|2232732085150286011|   computers.desktop|     null|  25.46|527795927|2956848d-5695-416...|\n",
      "|2020-04-01 00:00:...|      view|   1201295|2232732101407408685|apparel.shoes.sli...|    apple| 489.05|635165586|48d05455-e287-4c4...|\n",
      "|2020-04-01 00:00:...|      view|   3601036|2232732092297380188|appliances.kitche...|whirlpool| 434.99|610738477|6b42dbd6-279e-4a2...|\n",
      "|2020-04-01 00:00:...|      view| 100158887|2053013561587794682|  electronics.clocks|     null| 122.29|601154152|0f46540a-834f-443...|\n",
      "|2020-04-01 00:00:...|      view| 100077607|2232732101063475749|appliances.enviro...|    vitek| 100.36|633281427|667a8535-221c-416...|\n",
      "|2020-04-01 00:00:...|      view|   1004409|2232732093077520756|construction.tool...|   doogee|  64.09|513835455|c1ea0216-94d5-450...|\n",
      "|2020-04-01 00:00:...|      view|   4300443|2232732091483685190|                null|   scoole|  29.58|575438879|a53fe992-c9f6-413...|\n",
      "|2020-04-01 00:00:...|      view|   9200640|2232732104343421549|       apparel.scarf| defender|  20.19|533896443|6a220235-f4d6-498...|\n",
      "|2020-04-01 00:00:...|      view|   1005105|2232732093077520756|construction.tool...|    apple|1358.72|548207294|b8d76fd4-7b71-433...|\n",
      "|2020-04-01 00:00:...|      view|   1004727|2232732093077520756|construction.tool...|     sony| 205.90|633455198|be0025af-4d14-4ca...|\n",
      "|2020-04-01 00:00:...|      view|   1307284|2053013554658804075|electronics.audio...|       hp|1376.87|567908086|b2ea0c25-1f3c-429...|\n",
      "|2020-04-01 00:00:...|      view|  17301057|2232732098446229999|apparel.shoes.san...|     null|  31.18|543165860|7eaf3210-1d5e-4ab...|\n",
      "|2020-04-01 00:00:...|      view|  15400066|2232732107774362287|                null|    intex|  84.43|533038120|79f54d4c-e75b-46c...|\n",
      "|2020-04-01 00:00:...|      view|   6000094|2232732103546503769|       apparel.shoes| starline| 127.42|514487953|cea7a5e7-af98-45b...|\n",
      "+--------------------+----------+----------+-------------------+--------------------+---------+-------+---------+--------------------+\n",
      "only showing top 20 rows\n",
      "\n"
     ]
    }
   ],
   "source": [
    "# Load file from MinIO bucket\n",
    "minio_file_path_apr = '2020-Apr.csv'\n",
    "minio_file_url_apr = f\"s3a://{minio_bucket}/{minio_file_path_apr}\"\n",
    "df_apr = spark.read.csv(minio_file_url_apr, header=True)\n",
    "\n",
    "# Show the loaded DataFrame\n",
    "df_apr.show()"
   ]
  },
  {
   "cell_type": "markdown",
   "id": "141f293e-cd61-4c67-871f-a677d4236875",
   "metadata": {},
   "source": [
    "# CLEAN THE DATA"
   ]
  },
  {
   "cell_type": "markdown",
   "id": "a1257fa9-c8dd-4270-9003-91bb5c85ea40",
   "metadata": {
    "tags": []
   },
   "source": [
    "## REMOVE UNWANTED DATA\n",
    "\n",
    "we decided to remove the view from the column event_type because the data is very large and we don't need them for answering our business questions"
   ]
  },
  {
   "cell_type": "code",
   "execution_count": 8,
   "id": "96abed23-f67b-4644-9bcb-7382318c111a",
   "metadata": {
    "tags": []
   },
   "outputs": [],
   "source": [
    "from pyspark.sql.functions import col\n",
    "\n",
    "# Assuming 'event_type' is a column in the DataFrames df_jan, df_feb, df_mar, and df_apr\n",
    "\n",
    "# Filtering rows where 'event_type' column is not equal to 'view' for each DataFrame\n",
    "df_jan = df_jan.filter(col('event_type') != 'view')\n",
    "df_feb = df_feb.filter(col('event_type') != 'view')\n",
    "df_mar = df_mar.filter(col('event_type') != 'view')\n",
    "df_apr = df_apr.filter(col('event_type') != 'view')\n"
   ]
  },
  {
   "cell_type": "code",
   "execution_count": 9,
   "id": "dd0a08bd-293a-43ed-9297-dfdf7ec1bfc0",
   "metadata": {
    "tags": []
   },
   "outputs": [
    {
     "name": "stdout",
     "output_type": "stream",
     "text": [
      "+--------------------+----------+----------+-------------------+--------------------+---------+-------+---------+--------------------+-------------+------------------+\n",
      "|          event_time|event_type|product_id|        category_id|       category_code|    brand|  price|  user_id|        user_session|main_category|secondary_category|\n",
      "+--------------------+----------+----------+-------------------+--------------------+---------+-------+---------+--------------------+-------------+------------------+\n",
      "|2020-01-01 00:00:...|      cart|   1005124|2232732093077520756|construction.tool...|    apple|1453.18|532239316|253616df-2b1e-4bd...| construction|             tools|\n",
      "|2020-01-01 00:00:...|      cart|   1201565|2232732101407408685|apparel.shoes.sli...|    apple| 385.34|581430108|7d7687c4-b613-446...|      apparel|             shoes|\n",
      "|2020-01-01 00:00:...|      cart|  13101067|2232732106860003995|                null|     skad| 266.67|519373619|e97a30d7-2873-401...|         null|               N/A|\n",
      "|2020-01-01 00:00:...|      cart|   4801028|2232732079706079299|       sport.bicycle|   xiaomi|  14.95|574723072|2f967c6e-b6c4-497...|        sport|           bicycle|\n",
      "|2020-01-01 00:00:...|      cart|   1004226|2232732093077520756|construction.tool...|    apple| 890.11|518285678|7dad15db-dd6d-4e5...| construction|             tools|\n",
      "|2020-01-01 00:00:...|      cart|   1005115|2232732093077520756|construction.tool...|    apple| 869.46|514730269|2a5143e3-2de9-4dc...| construction|             tools|\n",
      "|2020-01-01 00:00:...|      cart|   1005116|2232732093077520756|construction.tool...|    apple| 967.85|531140669|84c838d4-6e10-4b7...| construction|             tools|\n",
      "|2020-01-01 00:00:...|      cart|   1005115|2232732093077520756|construction.tool...|    apple| 869.46|514730269|2a5143e3-2de9-4dc...| construction|             tools|\n",
      "|2020-01-01 00:01:...|      cart|   5100854|2232732103101907535|  electronics.clocks|    apple| 553.30|580128882|09a50203-a753-46c...|  electronics|            clocks|\n",
      "|2020-01-01 00:01:...|      cart|  17301397|2232732098446229999|apparel.shoes.san...|montblanc|  32.87|546383255|c0f02fdc-76f2-45a...|      apparel|             shoes|\n",
      "|2020-01-01 00:01:...|      cart|  12703498|2053013553199186187|                null| cordiant|  40.93|563209914|657edcb2-767d-458...|         null|               N/A|\n",
      "|2020-01-01 00:01:...|      cart|   1002544|2232732093077520756|construction.tool...|    apple| 445.95|565310369|7a140d1b-b90f-434...| construction|             tools|\n",
      "|2020-01-01 00:01:...|      cart|  17301397|2232732098446229999|apparel.shoes.san...|montblanc|  32.87|546383255|c0f02fdc-76f2-45a...|      apparel|             shoes|\n",
      "|2020-01-01 00:01:...|      cart|   1002525|2232732093077520756|construction.tool...|    apple| 563.72|580474456|d9b5e960-bca2-4eb...| construction|             tools|\n",
      "|2020-01-01 00:02:...|      cart|   4804718|2232732079706079299|       sport.bicycle|    apple| 341.06|595414732|dcbd99b2-efab-46f...|        sport|           bicycle|\n",
      "|2020-01-01 00:02:...|      cart|   1005264|2232732093077520756|construction.tool...|   xiaomi| 163.39|588816763|5241e291-33ff-48f...| construction|             tools|\n",
      "|2020-01-01 00:03:...|      cart|   1004767|2232732093077520756|construction.tool...|  samsung| 238.55|543679531|32ca6f22-5ee8-4da...| construction|             tools|\n",
      "|2020-01-01 00:03:...|      cart|  17301037|2232732098446229999|apparel.shoes.san...|     null|  37.19|595414503|b9864239-109c-4d4...|      apparel|             shoes|\n",
      "|2020-01-01 00:03:...|      cart|   4803976|2232732079706079299|       sport.bicycle|  samsung| 102.68|552423070|c8064466-ddab-487...|        sport|           bicycle|\n",
      "|2020-01-01 00:03:...|      cart|   1004767|2232732093077520756|construction.tool...|  samsung| 238.55|527642597|d133def5-d31c-475...| construction|             tools|\n",
      "+--------------------+----------+----------+-------------------+--------------------+---------+-------+---------+--------------------+-------------+------------------+\n",
      "only showing top 20 rows\n",
      "\n"
     ]
    }
   ],
   "source": [
    "from pyspark.sql.functions import col, split, when\n",
    "\n",
    "# Assuming df_jan is your PySpark DataFrame\n",
    "\n",
    "# Splitting 'category_code' column into 'main_category' and 'secondary_category'\n",
    "df_jan = df_jan.withColumn('main_category', split(col('category_code'), '\\.')[0]) \\\n",
    "               .withColumn('secondary_category', when(split(col('category_code'), '\\.').getItem(1).isNull(), 'N/A')\n",
    "                                                .otherwise(split(col('category_code'), '\\.')[1]))\n",
    "\n",
    "# Print the modified DataFrame\n",
    "df_jan.show()  # Displaying the modified DataFrame\n"
   ]
  },
  {
   "cell_type": "code",
   "execution_count": 10,
   "id": "90a2aaca-91d0-4b6f-8096-00770e24ca93",
   "metadata": {
    "tags": []
   },
   "outputs": [
    {
     "name": "stdout",
     "output_type": "stream",
     "text": [
      "+--------------------+----------+----------+-------------------+--------------------+---------+-------+---------+--------------------+-------------+------------------+\n",
      "|          event_time|event_type|product_id|        category_id|       category_code|    brand|  price|  user_id|        user_session|main_category|secondary_category|\n",
      "+--------------------+----------+----------+-------------------+--------------------+---------+-------+---------+--------------------+-------------+------------------+\n",
      "|2020-02-01 00:00:...|      cart|   1005100|2232732093077520756|construction.tool...|  samsung| 140.28|608822162|8062ce43-662e-4b6...| construction|             tools|\n",
      "|2020-02-01 00:00:...|      cart| 100001549|2053013558978937451|       sport.bicycle|     puma|  38.15|608821784|600f4508-f562-4b2...|        sport|           bicycle|\n",
      "|2020-02-01 00:00:...|      cart| 100065078|2232732093077520756|construction.tool...|   xiaomi| 568.61|526615078|5f0aab9f-f92e-4ef...| construction|             tools|\n",
      "|2020-02-01 00:00:...|      cart|   5701246|2053013554415534427|electronics.video.tv|     null|  24.43|563902689|76cc9152-8a9f-43e...|  electronics|             video|\n",
      "|2020-02-01 00:00:...|      cart|  14701533|2053013552570040549|electronics.video...|     null| 154.42|520953435|5f1c7752-cf92-41f...|  electronics|             video|\n",
      "|2020-02-01 00:00:...|      cart|   1004855|2232732093077520756|construction.tool...|   xiaomi| 123.30|519236281|e512f514-dc7f-4fc...| construction|             tools|\n",
      "|2020-02-01 00:00:...|      cart|   1005100|2232732093077520756|construction.tool...|  samsung| 140.28|550305600|bd7a37b6-420d-457...| construction|             tools|\n",
      "|2020-02-01 00:00:...|      cart|   1005143|2232732093077520756|construction.tool...|    apple|1311.49|530488542|21f46782-fb36-4d5...| construction|             tools|\n",
      "|2020-02-01 00:00:...|      cart|   9101354|2232732104066597479|furniture.kitchen...|   x-game|   6.17|593914457|065318cd-84d7-4b9...|    furniture|           kitchen|\n",
      "|2020-02-01 00:00:...|      cart|   1005105|2232732093077520756|construction.tool...|    apple|1208.00|515054403|a3dfe681-0132-45b...| construction|             tools|\n",
      "|2020-02-01 00:00:...|      cart|   1005105|2232732093077520756|construction.tool...|    apple|1208.00|515054403|b10c9a4f-e726-43a...| construction|             tools|\n",
      "|2020-02-01 00:00:...|      cart|   1005105|2232732093077520756|construction.tool...|    apple|1208.00|515054403|a3dfe681-0132-45b...| construction|             tools|\n",
      "|2020-02-01 00:00:...|      cart|  12702637|2053013553559896355|                null| goodyear| 234.76|515054403|c578c94e-9589-476...|         null|               N/A|\n",
      "|2020-02-01 00:00:...|      cart|  21800263|2232732110861370114|furniture.living_...|    razer|  61.26|515054403|785280ff-f4e7-473...|    furniture|       living_room|\n",
      "|2020-02-01 00:00:...|      cart|   2900512|2232732102103663163|furniture.bedroom...|  samsung| 146.70|515054403|74c80509-a13e-4ce...|    furniture|           bedroom|\n",
      "|2020-02-01 00:00:...|      cart|   2900512|2232732102103663163|furniture.bedroom...|  samsung| 146.70|515054403|74c80509-a13e-4ce...|    furniture|           bedroom|\n",
      "|2020-02-01 00:00:...|      cart|   2900844|2232732102103663163|furniture.bedroom...|panasonic|  97.79|515054403|73fe321b-7f87-420...|    furniture|           bedroom|\n",
      "|2020-02-01 00:00:...|      cart|   3800859|2053013557477376525|furniture.bathroo...|    tefal|  41.16|515054403|141a95e9-e78c-485...|    furniture|          bathroom|\n",
      "|2020-02-01 00:00:...|      cart|   4201160|2053013557695480347|appliances.enviro...|     gree| 436.68|515054403|2081c9ae-95ea-4ad...|   appliances|       environment|\n",
      "|2020-02-01 00:00:...|      cart|   6301925|2232732086928670945|electronics.camer...|    bosch|  82.34|515054403|85ffc1e9-9b25-4ed...|  electronics|            camera|\n",
      "+--------------------+----------+----------+-------------------+--------------------+---------+-------+---------+--------------------+-------------+------------------+\n",
      "only showing top 20 rows\n",
      "\n"
     ]
    }
   ],
   "source": [
    "# Splitting 'category_code' column into 'main_category' and 'secondary_category'\n",
    "df_feb = df_feb.withColumn('main_category', split(col('category_code'), '\\.')[0]) \\\n",
    "               .withColumn('secondary_category', when(split(col('category_code'), '\\.').getItem(1).isNull(), 'N/A')\n",
    "                                                .otherwise(split(col('category_code'), '\\.')[1]))\n",
    "\n",
    "# Print the modified DataFrame\n",
    "df_feb.show()  # Displaying the modified DataFrame\n"
   ]
  },
  {
   "cell_type": "code",
   "execution_count": 11,
   "id": "30f1c674-87ec-468d-a43b-7ac4bbd2785d",
   "metadata": {
    "tags": []
   },
   "outputs": [
    {
     "name": "stdout",
     "output_type": "stream",
     "text": [
      "+--------------------+----------+----------+-------------------+--------------------+---------+------+---------+--------------------+-------------+------------------+\n",
      "|          event_time|event_type|product_id|        category_id|       category_code|    brand| price|  user_id|        user_session|main_category|secondary_category|\n",
      "+--------------------+----------+----------+-------------------+--------------------+---------+------+---------+--------------------+-------------+------------------+\n",
      "|2020-03-01 00:00:...|  purchase|   5100722|2232732103101907535|  electronics.clocks|   huawei|128.68|604860058|f558a7d7-f1e4-4b8...|  electronics|            clocks|\n",
      "|2020-03-01 00:00:...|  purchase| 100082062|2232732102103663163|furniture.bedroom...|      arg| 48.88|601908129|37473d3f-b68b-4a2...|    furniture|           bedroom|\n",
      "|2020-03-01 00:00:...|      cart|   6902464|2232732078733000751|electronics.telep...|   zlatek| 49.91|531574188|48714293-b3f9-494...|  electronics|         telephone|\n",
      "|2020-03-01 00:01:...|  purchase|   5100610|2232732103101907535|  electronics.clocks|    apple|295.73|613253847|45aa30e5-2e05-4d5...|  electronics|            clocks|\n",
      "|2020-03-01 00:01:...|      cart|   1002544|2232732093077520756|construction.tool...|    apple|397.10|622090790|fb5b918c-f1f6-48d...| construction|             tools|\n",
      "|2020-03-01 00:01:...|      cart|   1004838|2232732093077520756|construction.tool...|     oppo|166.03|604474484|c28b52d6-5a19-400...| construction|             tools|\n",
      "|2020-03-01 00:01:...|  purchase|   1002544|2232732093077520756|construction.tool...|    apple|397.10|622090486|a91bed93-c586-453...| construction|             tools|\n",
      "|2020-03-01 00:01:...|      cart|  21400643|2232732082063278200|  electronics.clocks|   orient| 93.44|608549125|56ae2d30-4a21-475...|  electronics|            clocks|\n",
      "|2020-03-01 00:01:...|      cart|   4803794|2232732079706079299|       sport.bicycle|     acme| 23.14|548101693|e18561f7-742e-45b...|        sport|           bicycle|\n",
      "|2020-03-01 00:01:...|      cart|   1003316|2232732093077520756|construction.tool...|    apple|823.70|622090543|b821ee79-96fe-497...| construction|             tools|\n",
      "|2020-03-01 00:01:...|      cart| 100102090|2053013556521075159|       apparel.shoes|  respect| 82.11|513976290|003762ff-cce1-448...|      apparel|             shoes|\n",
      "|2020-03-01 00:02:...|  purchase|   1004767|2232732093077520756|construction.tool...|  samsung|241.83|621784978|50d5fceb-0eee-473...| construction|             tools|\n",
      "|2020-03-01 00:02:...|      cart| 100102090|2053013556521075159|       apparel.shoes|  respect| 82.11|513976290|003762ff-cce1-448...|      apparel|             shoes|\n",
      "|2020-03-01 00:02:...|      cart| 100102090|2053013556521075159|       apparel.shoes|  respect| 82.11|513976290|003762ff-cce1-448...|      apparel|             shoes|\n",
      "|2020-03-01 00:02:...|      cart|  16600067|2232732108780995272|       sport.trainer|rivertoys|422.15|616437533|aad023bc-c858-47a...|        sport|           trainer|\n",
      "|2020-03-01 00:02:...|      cart|   3701428|2232732101063475749|appliances.enviro...|   arnica| 69.24|516454226|ee22b80c-ed3e-3c8...|   appliances|       environment|\n",
      "|2020-03-01 00:02:...|      cart| 100041324|2232732093077520756|construction.tool...|   xiaomi|496.74|591054018|274db27d-16da-4a3...| construction|             tools|\n",
      "|2020-03-01 00:02:...|      cart|  12719307|2053013553199186187|                null|    tunga| 28.06|585155850|9ccc3b07-88d7-427...|         null|               N/A|\n",
      "|2020-03-01 00:02:...|      cart|   4803794|2232732079706079299|       sport.bicycle|     acme| 23.14|548101693|e18561f7-742e-45b...|        sport|           bicycle|\n",
      "|2020-03-01 00:02:...|      cart|  11200512|2232732105635267203|          kids.swing|   xiaomi| 51.22|547190131|bb74efee-77a2-44c...|         kids|             swing|\n",
      "+--------------------+----------+----------+-------------------+--------------------+---------+------+---------+--------------------+-------------+------------------+\n",
      "only showing top 20 rows\n",
      "\n"
     ]
    }
   ],
   "source": [
    "# Splitting 'category_code' column into 'main_category' and 'secondary_category'\n",
    "df_mar = df_mar.withColumn('main_category', split(col('category_code'), '\\.')[0]) \\\n",
    "               .withColumn('secondary_category', when(split(col('category_code'), '\\.').getItem(1).isNull(), 'N/A')\n",
    "                                                .otherwise(split(col('category_code'), '\\.')[1]))\n",
    "\n",
    "# Print the modified DataFrame\n",
    "df_mar.show()  # Displaying the modified DataFrame\n"
   ]
  },
  {
   "cell_type": "code",
   "execution_count": 12,
   "id": "f54995c6-6823-49f6-91dc-0dfc9a9f7ad4",
   "metadata": {
    "tags": []
   },
   "outputs": [
    {
     "name": "stdout",
     "output_type": "stream",
     "text": [
      "+--------------------+----------+----------+-------------------+--------------------+----------+-------+---------+--------------------+-------------+------------------+\n",
      "|          event_time|event_type|product_id|        category_id|       category_code|     brand|  price|  user_id|        user_session|main_category|secondary_category|\n",
      "+--------------------+----------+----------+-------------------+--------------------+----------+-------+---------+--------------------+-------------+------------------+\n",
      "|2020-04-01 00:00:...|      cart|   5100328|2232732103101907535|  electronics.clocks|    xiaomi| 117.12|635164513|c40d1b96-90aa-4ce...|  electronics|            clocks|\n",
      "|2020-04-01 00:00:...|      cart| 100177859|2053013551932506308|construction.tool...|  s.oliver|  60.49|633281427|667a8535-221c-416...| construction|             tools|\n",
      "|2020-04-01 00:00:...|      cart|  22700202|2232732091643068746|                null|     stels| 171.18|515979190|5526811f-230a-476...|         null|               N/A|\n",
      "|2020-04-01 00:00:...|      cart|   5100328|2232732103101907535|  electronics.clocks|    xiaomi| 117.12|635164513|c40d1b96-90aa-4ce...|  electronics|            clocks|\n",
      "|2020-04-01 00:00:...|      cart|   5100328|2232732103101907535|  electronics.clocks|    xiaomi| 117.12|635164513|c40d1b96-90aa-4ce...|  electronics|            clocks|\n",
      "|2020-04-01 00:00:...|      cart|   5100328|2232732103101907535|  electronics.clocks|    xiaomi| 117.12|635164513|c40d1b96-90aa-4ce...|  electronics|            clocks|\n",
      "|2020-04-01 00:00:...|      cart|   1801503|2232732099754852875|appliances.person...|    xiaomi| 203.09|629229484|c00a1636-dfc2-4e9...|   appliances|          personal|\n",
      "|2020-04-01 00:00:...|      cart|   5100328|2232732103101907535|  electronics.clocks|    xiaomi| 117.12|635164513|c40d1b96-90aa-4ce...|  electronics|            clocks|\n",
      "|2020-04-01 00:00:...|      cart| 100011103|2053013554658804075|electronics.audio...|      acer| 385.57|522177285|902aa3e5-957a-49e...|  electronics|             audio|\n",
      "|2020-04-01 00:00:...|      cart|   5100328|2232732103101907535|  electronics.clocks|    xiaomi| 117.12|635164513|c40d1b96-90aa-4ce...|  electronics|            clocks|\n",
      "|2020-04-01 00:00:...|  purchase| 100177859|2053013551932506308|construction.tool...|  s.oliver|  60.49|633281427|667a8535-221c-416...| construction|             tools|\n",
      "|2020-04-01 00:00:...|      cart|   7600480|2232732103982711397|furniture.kitchen...|   tp-link|  52.77|512411694|7685a5aa-42ce-4bd...|    furniture|           kitchen|\n",
      "|2020-04-01 00:00:...|      cart|   1801503|2232732099754852875|appliances.person...|    xiaomi| 203.09|629229484|c00a1636-dfc2-4e9...|   appliances|          personal|\n",
      "|2020-04-01 00:01:...|      cart|   4100369|2232732098228126185|       apparel.shoes|      sony| 540.30|635165471|c6ce1b9b-19d1-429...|      apparel|             shoes|\n",
      "|2020-04-01 00:01:...|      cart| 100022253|2053013554658804075|electronics.audio...|      asus| 257.38|566023743|833d7b44-6cdf-440...|  electronics|             audio|\n",
      "|2020-04-01 00:01:...|      cart|   1005129|2232732093077520756|construction.tool...|     apple|1338.13|619309567|9cdc3daa-ca74-4ed...| construction|             tools|\n",
      "|2020-04-01 00:01:...|      cart|   1005129|2232732093077520756|construction.tool...|     apple|1338.13|619309567|9cdc3daa-ca74-4ed...| construction|             tools|\n",
      "|2020-04-01 00:01:...|      cart|  21400996|2232732082063278200|  electronics.clocks|     casio|  80.42|633281427|667a8535-221c-416...|  electronics|            clocks|\n",
      "|2020-04-01 00:02:...|      cart| 100125468|2232732103210959441|    computers.ebooks|pocketbook| 319.16|514584035|ad1cc6c5-b018-44c...|    computers|            ebooks|\n",
      "|2020-04-01 00:02:...|  purchase|   1801503|2232732099754852875|appliances.person...|    xiaomi| 203.09|629229484|c00a1636-dfc2-4e9...|   appliances|          personal|\n",
      "+--------------------+----------+----------+-------------------+--------------------+----------+-------+---------+--------------------+-------------+------------------+\n",
      "only showing top 20 rows\n",
      "\n"
     ]
    }
   ],
   "source": [
    "# Splitting 'category_code' column into 'main_category' and 'secondary_category'\n",
    "df_apr = df_apr.withColumn('main_category', split(col('category_code'), '\\.')[0]) \\\n",
    "               .withColumn('secondary_category', when(split(col('category_code'), '\\.').getItem(1).isNull(), 'N/A')\n",
    "                                                .otherwise(split(col('category_code'), '\\.')[1]))\n",
    "\n",
    "# Print the modified DataFrame\n",
    "df_apr.show()  # Displaying the modified DataFrame\n"
   ]
  },
  {
   "cell_type": "code",
   "execution_count": 13,
   "id": "04e74cbf-643d-4c2d-a064-28a062c3f0e8",
   "metadata": {
    "tags": []
   },
   "outputs": [
    {
     "name": "stdout",
     "output_type": "stream",
     "text": [
      "+--------------------+----------+----------+-------------------+---------+-------+---------+--------------------+-------------+------------------+\n",
      "|          event_time|event_type|product_id|        category_id|    brand|  price|  user_id|        user_session|main_category|secondary_category|\n",
      "+--------------------+----------+----------+-------------------+---------+-------+---------+--------------------+-------------+------------------+\n",
      "|2020-01-01 00:00:...|      cart|   1005124|2232732093077520756|    apple|1453.18|532239316|253616df-2b1e-4bd...| construction|             tools|\n",
      "|2020-01-01 00:00:...|      cart|   1201565|2232732101407408685|    apple| 385.34|581430108|7d7687c4-b613-446...|      apparel|             shoes|\n",
      "|2020-01-01 00:00:...|      cart|  13101067|2232732106860003995|     skad| 266.67|519373619|e97a30d7-2873-401...|         null|               N/A|\n",
      "|2020-01-01 00:00:...|      cart|   4801028|2232732079706079299|   xiaomi|  14.95|574723072|2f967c6e-b6c4-497...|        sport|           bicycle|\n",
      "|2020-01-01 00:00:...|      cart|   1004226|2232732093077520756|    apple| 890.11|518285678|7dad15db-dd6d-4e5...| construction|             tools|\n",
      "|2020-01-01 00:00:...|      cart|   1005115|2232732093077520756|    apple| 869.46|514730269|2a5143e3-2de9-4dc...| construction|             tools|\n",
      "|2020-01-01 00:00:...|      cart|   1005116|2232732093077520756|    apple| 967.85|531140669|84c838d4-6e10-4b7...| construction|             tools|\n",
      "|2020-01-01 00:00:...|      cart|   1005115|2232732093077520756|    apple| 869.46|514730269|2a5143e3-2de9-4dc...| construction|             tools|\n",
      "|2020-01-01 00:01:...|      cart|   5100854|2232732103101907535|    apple| 553.30|580128882|09a50203-a753-46c...|  electronics|            clocks|\n",
      "|2020-01-01 00:01:...|      cart|  17301397|2232732098446229999|montblanc|  32.87|546383255|c0f02fdc-76f2-45a...|      apparel|             shoes|\n",
      "|2020-01-01 00:01:...|      cart|  12703498|2053013553199186187| cordiant|  40.93|563209914|657edcb2-767d-458...|         null|               N/A|\n",
      "|2020-01-01 00:01:...|      cart|   1002544|2232732093077520756|    apple| 445.95|565310369|7a140d1b-b90f-434...| construction|             tools|\n",
      "|2020-01-01 00:01:...|      cart|  17301397|2232732098446229999|montblanc|  32.87|546383255|c0f02fdc-76f2-45a...|      apparel|             shoes|\n",
      "|2020-01-01 00:01:...|      cart|   1002525|2232732093077520756|    apple| 563.72|580474456|d9b5e960-bca2-4eb...| construction|             tools|\n",
      "|2020-01-01 00:02:...|      cart|   4804718|2232732079706079299|    apple| 341.06|595414732|dcbd99b2-efab-46f...|        sport|           bicycle|\n",
      "|2020-01-01 00:02:...|      cart|   1005264|2232732093077520756|   xiaomi| 163.39|588816763|5241e291-33ff-48f...| construction|             tools|\n",
      "|2020-01-01 00:03:...|      cart|   1004767|2232732093077520756|  samsung| 238.55|543679531|32ca6f22-5ee8-4da...| construction|             tools|\n",
      "|2020-01-01 00:03:...|      cart|  17301037|2232732098446229999|     null|  37.19|595414503|b9864239-109c-4d4...|      apparel|             shoes|\n",
      "|2020-01-01 00:03:...|      cart|   4803976|2232732079706079299|  samsung| 102.68|552423070|c8064466-ddab-487...|        sport|           bicycle|\n",
      "|2020-01-01 00:03:...|      cart|   1004767|2232732093077520756|  samsung| 238.55|527642597|d133def5-d31c-475...| construction|             tools|\n",
      "+--------------------+----------+----------+-------------------+---------+-------+---------+--------------------+-------------+------------------+\n",
      "only showing top 20 rows\n",
      "\n",
      "+--------------------+----------+----------+-------------------+---------+-------+---------+--------------------+-------------+------------------+\n",
      "|          event_time|event_type|product_id|        category_id|    brand|  price|  user_id|        user_session|main_category|secondary_category|\n",
      "+--------------------+----------+----------+-------------------+---------+-------+---------+--------------------+-------------+------------------+\n",
      "|2020-02-01 00:00:...|      cart|   1005100|2232732093077520756|  samsung| 140.28|608822162|8062ce43-662e-4b6...| construction|             tools|\n",
      "|2020-02-01 00:00:...|      cart| 100001549|2053013558978937451|     puma|  38.15|608821784|600f4508-f562-4b2...|        sport|           bicycle|\n",
      "|2020-02-01 00:00:...|      cart| 100065078|2232732093077520756|   xiaomi| 568.61|526615078|5f0aab9f-f92e-4ef...| construction|             tools|\n",
      "|2020-02-01 00:00:...|      cart|   5701246|2053013554415534427|     null|  24.43|563902689|76cc9152-8a9f-43e...|  electronics|             video|\n",
      "|2020-02-01 00:00:...|      cart|  14701533|2053013552570040549|     null| 154.42|520953435|5f1c7752-cf92-41f...|  electronics|             video|\n",
      "|2020-02-01 00:00:...|      cart|   1004855|2232732093077520756|   xiaomi| 123.30|519236281|e512f514-dc7f-4fc...| construction|             tools|\n",
      "|2020-02-01 00:00:...|      cart|   1005100|2232732093077520756|  samsung| 140.28|550305600|bd7a37b6-420d-457...| construction|             tools|\n",
      "|2020-02-01 00:00:...|      cart|   1005143|2232732093077520756|    apple|1311.49|530488542|21f46782-fb36-4d5...| construction|             tools|\n",
      "|2020-02-01 00:00:...|      cart|   9101354|2232732104066597479|   x-game|   6.17|593914457|065318cd-84d7-4b9...|    furniture|           kitchen|\n",
      "|2020-02-01 00:00:...|      cart|   1005105|2232732093077520756|    apple|1208.00|515054403|a3dfe681-0132-45b...| construction|             tools|\n",
      "|2020-02-01 00:00:...|      cart|   1005105|2232732093077520756|    apple|1208.00|515054403|b10c9a4f-e726-43a...| construction|             tools|\n",
      "|2020-02-01 00:00:...|      cart|   1005105|2232732093077520756|    apple|1208.00|515054403|a3dfe681-0132-45b...| construction|             tools|\n",
      "|2020-02-01 00:00:...|      cart|  12702637|2053013553559896355| goodyear| 234.76|515054403|c578c94e-9589-476...|         null|               N/A|\n",
      "|2020-02-01 00:00:...|      cart|  21800263|2232732110861370114|    razer|  61.26|515054403|785280ff-f4e7-473...|    furniture|       living_room|\n",
      "|2020-02-01 00:00:...|      cart|   2900512|2232732102103663163|  samsung| 146.70|515054403|74c80509-a13e-4ce...|    furniture|           bedroom|\n",
      "|2020-02-01 00:00:...|      cart|   2900512|2232732102103663163|  samsung| 146.70|515054403|74c80509-a13e-4ce...|    furniture|           bedroom|\n",
      "|2020-02-01 00:00:...|      cart|   2900844|2232732102103663163|panasonic|  97.79|515054403|73fe321b-7f87-420...|    furniture|           bedroom|\n",
      "|2020-02-01 00:00:...|      cart|   3800859|2053013557477376525|    tefal|  41.16|515054403|141a95e9-e78c-485...|    furniture|          bathroom|\n",
      "|2020-02-01 00:00:...|      cart|   4201160|2053013557695480347|     gree| 436.68|515054403|2081c9ae-95ea-4ad...|   appliances|       environment|\n",
      "|2020-02-01 00:00:...|      cart|   6301925|2232732086928670945|    bosch|  82.34|515054403|85ffc1e9-9b25-4ed...|  electronics|            camera|\n",
      "+--------------------+----------+----------+-------------------+---------+-------+---------+--------------------+-------------+------------------+\n",
      "only showing top 20 rows\n",
      "\n",
      "+--------------------+----------+----------+-------------------+---------+------+---------+--------------------+-------------+------------------+\n",
      "|          event_time|event_type|product_id|        category_id|    brand| price|  user_id|        user_session|main_category|secondary_category|\n",
      "+--------------------+----------+----------+-------------------+---------+------+---------+--------------------+-------------+------------------+\n",
      "|2020-03-01 00:00:...|  purchase|   5100722|2232732103101907535|   huawei|128.68|604860058|f558a7d7-f1e4-4b8...|  electronics|            clocks|\n",
      "|2020-03-01 00:00:...|  purchase| 100082062|2232732102103663163|      arg| 48.88|601908129|37473d3f-b68b-4a2...|    furniture|           bedroom|\n",
      "|2020-03-01 00:00:...|      cart|   6902464|2232732078733000751|   zlatek| 49.91|531574188|48714293-b3f9-494...|  electronics|         telephone|\n",
      "|2020-03-01 00:01:...|  purchase|   5100610|2232732103101907535|    apple|295.73|613253847|45aa30e5-2e05-4d5...|  electronics|            clocks|\n",
      "|2020-03-01 00:01:...|      cart|   1002544|2232732093077520756|    apple|397.10|622090790|fb5b918c-f1f6-48d...| construction|             tools|\n",
      "|2020-03-01 00:01:...|      cart|   1004838|2232732093077520756|     oppo|166.03|604474484|c28b52d6-5a19-400...| construction|             tools|\n",
      "|2020-03-01 00:01:...|  purchase|   1002544|2232732093077520756|    apple|397.10|622090486|a91bed93-c586-453...| construction|             tools|\n",
      "|2020-03-01 00:01:...|      cart|  21400643|2232732082063278200|   orient| 93.44|608549125|56ae2d30-4a21-475...|  electronics|            clocks|\n",
      "|2020-03-01 00:01:...|      cart|   4803794|2232732079706079299|     acme| 23.14|548101693|e18561f7-742e-45b...|        sport|           bicycle|\n",
      "|2020-03-01 00:01:...|      cart|   1003316|2232732093077520756|    apple|823.70|622090543|b821ee79-96fe-497...| construction|             tools|\n",
      "|2020-03-01 00:01:...|      cart| 100102090|2053013556521075159|  respect| 82.11|513976290|003762ff-cce1-448...|      apparel|             shoes|\n",
      "|2020-03-01 00:02:...|  purchase|   1004767|2232732093077520756|  samsung|241.83|621784978|50d5fceb-0eee-473...| construction|             tools|\n",
      "|2020-03-01 00:02:...|      cart| 100102090|2053013556521075159|  respect| 82.11|513976290|003762ff-cce1-448...|      apparel|             shoes|\n",
      "|2020-03-01 00:02:...|      cart| 100102090|2053013556521075159|  respect| 82.11|513976290|003762ff-cce1-448...|      apparel|             shoes|\n",
      "|2020-03-01 00:02:...|      cart|  16600067|2232732108780995272|rivertoys|422.15|616437533|aad023bc-c858-47a...|        sport|           trainer|\n",
      "|2020-03-01 00:02:...|      cart|   3701428|2232732101063475749|   arnica| 69.24|516454226|ee22b80c-ed3e-3c8...|   appliances|       environment|\n",
      "|2020-03-01 00:02:...|      cart| 100041324|2232732093077520756|   xiaomi|496.74|591054018|274db27d-16da-4a3...| construction|             tools|\n",
      "|2020-03-01 00:02:...|      cart|  12719307|2053013553199186187|    tunga| 28.06|585155850|9ccc3b07-88d7-427...|         null|               N/A|\n",
      "|2020-03-01 00:02:...|      cart|   4803794|2232732079706079299|     acme| 23.14|548101693|e18561f7-742e-45b...|        sport|           bicycle|\n",
      "|2020-03-01 00:02:...|      cart|  11200512|2232732105635267203|   xiaomi| 51.22|547190131|bb74efee-77a2-44c...|         kids|             swing|\n",
      "+--------------------+----------+----------+-------------------+---------+------+---------+--------------------+-------------+------------------+\n",
      "only showing top 20 rows\n",
      "\n",
      "+--------------------+----------+----------+-------------------+----------+-------+---------+--------------------+-------------+------------------+\n",
      "|          event_time|event_type|product_id|        category_id|     brand|  price|  user_id|        user_session|main_category|secondary_category|\n",
      "+--------------------+----------+----------+-------------------+----------+-------+---------+--------------------+-------------+------------------+\n",
      "|2020-04-01 00:00:...|      cart|   5100328|2232732103101907535|    xiaomi| 117.12|635164513|c40d1b96-90aa-4ce...|  electronics|            clocks|\n",
      "|2020-04-01 00:00:...|      cart| 100177859|2053013551932506308|  s.oliver|  60.49|633281427|667a8535-221c-416...| construction|             tools|\n",
      "|2020-04-01 00:00:...|      cart|  22700202|2232732091643068746|     stels| 171.18|515979190|5526811f-230a-476...|         null|               N/A|\n",
      "|2020-04-01 00:00:...|      cart|   5100328|2232732103101907535|    xiaomi| 117.12|635164513|c40d1b96-90aa-4ce...|  electronics|            clocks|\n",
      "|2020-04-01 00:00:...|      cart|   5100328|2232732103101907535|    xiaomi| 117.12|635164513|c40d1b96-90aa-4ce...|  electronics|            clocks|\n",
      "|2020-04-01 00:00:...|      cart|   5100328|2232732103101907535|    xiaomi| 117.12|635164513|c40d1b96-90aa-4ce...|  electronics|            clocks|\n",
      "|2020-04-01 00:00:...|      cart|   1801503|2232732099754852875|    xiaomi| 203.09|629229484|c00a1636-dfc2-4e9...|   appliances|          personal|\n",
      "|2020-04-01 00:00:...|      cart|   5100328|2232732103101907535|    xiaomi| 117.12|635164513|c40d1b96-90aa-4ce...|  electronics|            clocks|\n",
      "|2020-04-01 00:00:...|      cart| 100011103|2053013554658804075|      acer| 385.57|522177285|902aa3e5-957a-49e...|  electronics|             audio|\n",
      "|2020-04-01 00:00:...|      cart|   5100328|2232732103101907535|    xiaomi| 117.12|635164513|c40d1b96-90aa-4ce...|  electronics|            clocks|\n",
      "|2020-04-01 00:00:...|  purchase| 100177859|2053013551932506308|  s.oliver|  60.49|633281427|667a8535-221c-416...| construction|             tools|\n",
      "|2020-04-01 00:00:...|      cart|   7600480|2232732103982711397|   tp-link|  52.77|512411694|7685a5aa-42ce-4bd...|    furniture|           kitchen|\n",
      "|2020-04-01 00:00:...|      cart|   1801503|2232732099754852875|    xiaomi| 203.09|629229484|c00a1636-dfc2-4e9...|   appliances|          personal|\n",
      "|2020-04-01 00:01:...|      cart|   4100369|2232732098228126185|      sony| 540.30|635165471|c6ce1b9b-19d1-429...|      apparel|             shoes|\n",
      "|2020-04-01 00:01:...|      cart| 100022253|2053013554658804075|      asus| 257.38|566023743|833d7b44-6cdf-440...|  electronics|             audio|\n",
      "|2020-04-01 00:01:...|      cart|   1005129|2232732093077520756|     apple|1338.13|619309567|9cdc3daa-ca74-4ed...| construction|             tools|\n",
      "|2020-04-01 00:01:...|      cart|   1005129|2232732093077520756|     apple|1338.13|619309567|9cdc3daa-ca74-4ed...| construction|             tools|\n",
      "|2020-04-01 00:01:...|      cart|  21400996|2232732082063278200|     casio|  80.42|633281427|667a8535-221c-416...|  electronics|            clocks|\n",
      "|2020-04-01 00:02:...|      cart| 100125468|2232732103210959441|pocketbook| 319.16|514584035|ad1cc6c5-b018-44c...|    computers|            ebooks|\n",
      "|2020-04-01 00:02:...|  purchase|   1801503|2232732099754852875|    xiaomi| 203.09|629229484|c00a1636-dfc2-4e9...|   appliances|          personal|\n",
      "+--------------------+----------+----------+-------------------+----------+-------+---------+--------------------+-------------+------------------+\n",
      "only showing top 20 rows\n",
      "\n"
     ]
    }
   ],
   "source": [
    "# Dropping 'category_code' column from each DataFrame\n",
    "df_jan = df_jan.drop('category_code')\n",
    "df_feb = df_feb.drop('category_code')\n",
    "df_mar = df_mar.drop('category_code')\n",
    "df_apr = df_apr.drop('category_code')\n",
    "\n",
    "# Print the modified DataFrames\n",
    "df_jan.show()\n",
    "df_feb.show()\n",
    "df_mar.show()\n",
    "df_apr.show()\n"
   ]
  },
  {
   "cell_type": "code",
   "execution_count": 14,
   "id": "7e6a1702-d720-4ca0-9070-c1cadaeecaad",
   "metadata": {
    "tags": []
   },
   "outputs": [
    {
     "name": "stdout",
     "output_type": "stream",
     "text": [
      "+--------------------+----------+----------+-------------------+---------+-------+---------+--------------------+-------------+------------------+\n",
      "|          event_time|event_type|product_id|        category_id|    brand|  price|  user_id|        user_session|main_category|secondary_category|\n",
      "+--------------------+----------+----------+-------------------+---------+-------+---------+--------------------+-------------+------------------+\n",
      "|2020-01-01 00:00:...|      cart|   1005124|2232732093077520756|    apple|1453.18|532239316|253616df-2b1e-4bd...| construction|             tools|\n",
      "|2020-01-01 00:00:...|      cart|   1201565|2232732101407408685|    apple| 385.34|581430108|7d7687c4-b613-446...|      apparel|             shoes|\n",
      "|2020-01-01 00:00:...|      cart|  13101067|2232732106860003995|     skad| 266.67|519373619|e97a30d7-2873-401...|         null|               N/A|\n",
      "|2020-01-01 00:00:...|      cart|   4801028|2232732079706079299|   xiaomi|  14.95|574723072|2f967c6e-b6c4-497...|        sport|           bicycle|\n",
      "|2020-01-01 00:00:...|      cart|   1004226|2232732093077520756|    apple| 890.11|518285678|7dad15db-dd6d-4e5...| construction|             tools|\n",
      "|2020-01-01 00:00:...|      cart|   1005115|2232732093077520756|    apple| 869.46|514730269|2a5143e3-2de9-4dc...| construction|             tools|\n",
      "|2020-01-01 00:00:...|      cart|   1005116|2232732093077520756|    apple| 967.85|531140669|84c838d4-6e10-4b7...| construction|             tools|\n",
      "|2020-01-01 00:00:...|      cart|   1005115|2232732093077520756|    apple| 869.46|514730269|2a5143e3-2de9-4dc...| construction|             tools|\n",
      "|2020-01-01 00:01:...|      cart|   5100854|2232732103101907535|    apple| 553.30|580128882|09a50203-a753-46c...|  electronics|            clocks|\n",
      "|2020-01-01 00:01:...|      cart|  17301397|2232732098446229999|montblanc|  32.87|546383255|c0f02fdc-76f2-45a...|      apparel|             shoes|\n",
      "|2020-01-01 00:01:...|      cart|  12703498|2053013553199186187| cordiant|  40.93|563209914|657edcb2-767d-458...|         null|               N/A|\n",
      "|2020-01-01 00:01:...|      cart|   1002544|2232732093077520756|    apple| 445.95|565310369|7a140d1b-b90f-434...| construction|             tools|\n",
      "|2020-01-01 00:01:...|      cart|  17301397|2232732098446229999|montblanc|  32.87|546383255|c0f02fdc-76f2-45a...|      apparel|             shoes|\n",
      "|2020-01-01 00:01:...|      cart|   1002525|2232732093077520756|    apple| 563.72|580474456|d9b5e960-bca2-4eb...| construction|             tools|\n",
      "|2020-01-01 00:02:...|      cart|   4804718|2232732079706079299|    apple| 341.06|595414732|dcbd99b2-efab-46f...|        sport|           bicycle|\n",
      "|2020-01-01 00:02:...|      cart|   1005264|2232732093077520756|   xiaomi| 163.39|588816763|5241e291-33ff-48f...| construction|             tools|\n",
      "|2020-01-01 00:03:...|      cart|   1004767|2232732093077520756|  samsung| 238.55|543679531|32ca6f22-5ee8-4da...| construction|             tools|\n",
      "|2020-01-01 00:03:...|      cart|  17301037|2232732098446229999|     null|  37.19|595414503|b9864239-109c-4d4...|      apparel|             shoes|\n",
      "|2020-01-01 00:03:...|      cart|   4803976|2232732079706079299|  samsung| 102.68|552423070|c8064466-ddab-487...|        sport|           bicycle|\n",
      "|2020-01-01 00:03:...|      cart|   1004767|2232732093077520756|  samsung| 238.55|527642597|d133def5-d31c-475...| construction|             tools|\n",
      "+--------------------+----------+----------+-------------------+---------+-------+---------+--------------------+-------------+------------------+\n",
      "only showing top 20 rows\n",
      "\n"
     ]
    }
   ],
   "source": [
    "from functools import reduce\n",
    "\n",
    "# Assuming df_jan, df_feb, df_mar, and df_apr are your PySpark DataFrames\n",
    "\n",
    "# Create a list of DataFrames to concatenate\n",
    "dfs_to_concat = [df_jan, df_feb, df_mar, df_apr]\n",
    "\n",
    "# Use reduce to perform vertical concatenation (union) of DataFrames\n",
    "combined_df = reduce(lambda x, y: x.union(y), dfs_to_concat)\n",
    "\n",
    "# Show the combined DataFrame\n",
    "combined_df.show()\n"
   ]
  },
  {
   "cell_type": "code",
   "execution_count": 15,
   "id": "e490a7db-9287-48bf-ad0e-91cb1779a173",
   "metadata": {
    "tags": []
   },
   "outputs": [
    {
     "name": "stdout",
     "output_type": "stream",
     "text": [
      "Size before dropping: 19,970,579,030.00\n",
      "Size after dropping: 18,304,759,846.82\n",
      "Percentage of memory saved: 8.34%\n"
     ]
    }
   ],
   "source": [
    "from pyspark.sql import functions as F\n",
    "from functools import reduce\n",
    "\n",
    "# Assuming combined_df is your PySpark DataFrame\n",
    "\n",
    "# Calculate initial DataFrame size estimation\n",
    "num_columns = len(combined_df.columns)\n",
    "num_rows = combined_df.count()\n",
    "approx_row_size = combined_df.rdd.map(lambda row: sum(len(str(cell)) for cell in row) if row else 0).mean()  # Approximate row size\n",
    "size_before = num_columns * approx_row_size * num_rows\n",
    "\n",
    "# Drop specified columns ('user_id', 'product_id', 'category_id')\n",
    "columns_to_drop = ['user_id', 'product_id', 'category_id']\n",
    "df_dropped = combined_df.drop(*columns_to_drop)\n",
    "\n",
    "# Drop rows with null values in specified columns ('user_session', 'main_category', 'secondary_category')\n",
    "columns_to_check_null = ['user_session', 'main_category', 'secondary_category']\n",
    "for column in columns_to_check_null:\n",
    "    df_dropped = df_dropped.filter(F.col(column).isNotNull())\n",
    "\n",
    "# Calculate DataFrame size after dropping columns and rows with null values\n",
    "num_rows_after = df_dropped.count()\n",
    "size_after = num_columns * approx_row_size * num_rows_after\n",
    "\n",
    "# Display memory usage analysis\n",
    "print(\"Size before dropping: {:,.2f}\".format(size_before))\n",
    "print(\"Size after dropping: {:,.2f}\".format(size_after))\n",
    "percentage_savings = ((size_before - size_after) / size_before) * 100\n",
    "print(\"Percentage of memory saved: {:.2f}%\".format(percentage_savings))\n",
    "\n"
   ]
  },
  {
   "cell_type": "code",
   "execution_count": 16,
   "id": "a6b8b306-6191-4864-b0be-09478d09b891",
   "metadata": {
    "tags": []
   },
   "outputs": [
    {
     "name": "stdout",
     "output_type": "stream",
     "text": [
      "+--------------------+----------+---------+-------+--------------------+-------------+------------------+\n",
      "|          event_time|event_type|    brand|  price|        user_session|main_category|secondary_category|\n",
      "+--------------------+----------+---------+-------+--------------------+-------------+------------------+\n",
      "|2020-01-01 00:00:...|      cart|    apple|1453.18|253616df-2b1e-4bd...| construction|             tools|\n",
      "|2020-01-01 00:00:...|      cart|    apple| 385.34|7d7687c4-b613-446...|      apparel|             shoes|\n",
      "|2020-01-01 00:00:...|      cart|   xiaomi|  14.95|2f967c6e-b6c4-497...|        sport|           bicycle|\n",
      "|2020-01-01 00:00:...|      cart|    apple| 890.11|7dad15db-dd6d-4e5...| construction|             tools|\n",
      "|2020-01-01 00:00:...|      cart|    apple| 869.46|2a5143e3-2de9-4dc...| construction|             tools|\n",
      "|2020-01-01 00:00:...|      cart|    apple| 967.85|84c838d4-6e10-4b7...| construction|             tools|\n",
      "|2020-01-01 00:00:...|      cart|    apple| 869.46|2a5143e3-2de9-4dc...| construction|             tools|\n",
      "|2020-01-01 00:01:...|      cart|    apple| 553.30|09a50203-a753-46c...|  electronics|            clocks|\n",
      "|2020-01-01 00:01:...|      cart|montblanc|  32.87|c0f02fdc-76f2-45a...|      apparel|             shoes|\n",
      "|2020-01-01 00:01:...|      cart|    apple| 445.95|7a140d1b-b90f-434...| construction|             tools|\n",
      "|2020-01-01 00:01:...|      cart|montblanc|  32.87|c0f02fdc-76f2-45a...|      apparel|             shoes|\n",
      "|2020-01-01 00:01:...|      cart|    apple| 563.72|d9b5e960-bca2-4eb...| construction|             tools|\n",
      "|2020-01-01 00:02:...|      cart|    apple| 341.06|dcbd99b2-efab-46f...|        sport|           bicycle|\n",
      "|2020-01-01 00:02:...|      cart|   xiaomi| 163.39|5241e291-33ff-48f...| construction|             tools|\n",
      "|2020-01-01 00:03:...|      cart|  samsung| 238.55|32ca6f22-5ee8-4da...| construction|             tools|\n",
      "|2020-01-01 00:03:...|      cart|     null|  37.19|b9864239-109c-4d4...|      apparel|             shoes|\n",
      "|2020-01-01 00:03:...|      cart|  samsung| 102.68|c8064466-ddab-487...|        sport|           bicycle|\n",
      "|2020-01-01 00:03:...|      cart|  samsung| 238.55|d133def5-d31c-475...| construction|             tools|\n",
      "|2020-01-01 00:03:...|      cart|    apple| 869.46|0c498362-feaf-4cd...| construction|             tools|\n",
      "|2020-01-01 00:03:...|      cart|    apple| 385.34|b28d6555-5b3f-437...|      apparel|             shoes|\n",
      "+--------------------+----------+---------+-------+--------------------+-------------+------------------+\n",
      "only showing top 20 rows\n",
      "\n"
     ]
    }
   ],
   "source": [
    "combined_df = df_dropped\n",
    "\n",
    "combined_df.show()"
   ]
  },
  {
   "cell_type": "markdown",
   "id": "0eefbf68-7de4-4fdd-b617-4a2d16ef16f7",
   "metadata": {},
   "source": [
    "In this case, since we don't have the product name, only the product id, what we do is drop the NaN. But in real world, we wouldn't delete in, and instead we bind it with the product name in another database and make a machine learning classification to determine which categories the product goes.\n",
    "\n",
    "The reason why we drop user_session NaN is because there aren't a lot of NaN there, and since we need the column, we cannot drop the whole column nor replace it with a random id because we are not sure if the missing values may be the same person."
   ]
  },
  {
   "cell_type": "code",
   "execution_count": 17,
   "id": "76c4c370-8a5b-46f0-8446-900a392357d9",
   "metadata": {
    "tags": []
   },
   "outputs": [
    {
     "name": "stdout",
     "output_type": "stream",
     "text": [
      "14473670\n"
     ]
    }
   ],
   "source": [
    "print(combined_df.count())"
   ]
  },
  {
   "cell_type": "code",
   "execution_count": 18,
   "id": "0157c878-31f1-4090-9a7e-234a443bb2cc",
   "metadata": {
    "tags": []
   },
   "outputs": [
    {
     "name": "stdout",
     "output_type": "stream",
     "text": [
      "['purchase', 'cart']\n"
     ]
    }
   ],
   "source": [
    "# Get unique values from the 'event_type' column\n",
    "unique_categories = combined_df.select(col('event_type')).distinct().rdd.map(lambda row: row[0]).collect()\n",
    "\n",
    "# Print unique values\n",
    "print(unique_categories)"
   ]
  },
  {
   "cell_type": "markdown",
   "id": "daf177b8-4071-4ec8-ad2b-40a32f752006",
   "metadata": {},
   "source": [
    "# ANALYZE THE DATA"
   ]
  },
  {
   "cell_type": "code",
   "execution_count": null,
   "id": "374b7439-06ea-4e06-8389-ea576b578f48",
   "metadata": {
    "tags": []
   },
   "outputs": [],
   "source": [
    "from pyspark.sql.functions import col\n",
    "\n",
    "# Assuming combined_df is your PySpark DataFrame\n",
    "\n",
    "# Filter rows where the 'event_type' is 'purchase'\n",
    "purchase_events = combined_df.filter(combined_df['event_type'] == 'purchase')\n",
    "\n",
    "# Group by 'user_session' and count the number of purchases per session\n",
    "purchase_counts_per_session = purchase_events.groupBy('user_session').count()\n",
    "\n",
    "# Calculate the average number of purchases per user_session\n",
    "average_purchase_per_session = purchase_counts_per_session.agg({'count': 'avg'}).collect()[0][0]\n",
    "\n",
    "# Print the average number of purchases per user_session\n",
    "print(\"Average number of purchases per user_session:\", average_purchase_per_session)"
   ]
  },
  {
   "cell_type": "code",
   "execution_count": null,
   "id": "3fc72167-fba2-4e0e-997f-afe8653c88a4",
   "metadata": {
    "tags": []
   },
   "outputs": [],
   "source": [
    "from pyspark.sql import functions as F\n",
    "\n",
    "# Assuming combined_df is your PySpark DataFrame\n",
    "\n",
    "# Filter rows where the 'event_type' is 'purchase'\n",
    "purchase_events = combined_df.filter(combined_df['event_type'] == 'purchase')\n",
    "\n",
    "# Group by 'user_session' and count the number of purchases per session\n",
    "purchase_counts_per_session = purchase_events.groupBy('user_session').count()\n",
    "\n",
    "# Calculate the average number of purchases per user_session\n",
    "average_purchase_per_session = purchase_counts_per_session.agg(F.avg('count').alias('avg_purchases')).first()['avg_purchases']\n",
    "\n",
    "# Print the average number of purchases per user_session\n",
    "print(\"Average number of purchases per user_session:\", average_purchase_per_session)"
   ]
  },
  {
   "cell_type": "code",
   "execution_count": null,
   "id": "2e132ee2-9ee1-41e3-9b20-525b791f2423",
   "metadata": {
    "tags": []
   },
   "outputs": [],
   "source": [
    "from pyspark.sql import functions as F\n",
    "\n",
    "# Filter rows for 'cart' and 'purchase' events\n",
    "cart_events = combined_df.filter(combined_df['event_type'] == 'cart')\n",
    "purchase_events = combined_df.filter(combined_df['event_type'] == 'purchase')\n",
    "\n",
    "# Group by 'user_session' and count cart additions and purchases\n",
    "cart_counts_per_session = cart_events.groupBy('user_session').count()\n",
    "purchase_counts_per_session = purchase_events.groupBy('user_session').count()\n",
    "\n",
    "# Calculate the average number of cart additions and purchases per session\n",
    "avg_cart_per_session = cart_counts_per_session.agg(F.avg('count').alias('avg_cart_per_session')).collect()[0]['avg_cart_per_session']\n",
    "avg_purchase_per_session = purchase_counts_per_session.agg(F.avg('count').alias('avg_purchase_per_session')).collect()[0]['avg_purchase_per_session']\n",
    "\n",
    "# Calculate the ratio between average cart additions and purchases\n",
    "ratio = avg_cart_per_session / avg_purchase_per_session\n",
    "\n",
    "# Print the conclusion\n",
    "print(\"One person per User Session would add {:.5f} products to the cart before purchasing them.\".format(ratio))"
   ]
  },
  {
   "cell_type": "code",
   "execution_count": null,
   "id": "e84f96c1-535b-4874-a024-4aeeb7b74a84",
   "metadata": {
    "tags": []
   },
   "outputs": [],
   "source": [
    "from pyspark.sql import functions as F\n",
    "\n",
    "# Filter rows for 'cart' and 'purchase' events\n",
    "cart_events = combined_df.filter(combined_df['event_type'] == 'cart')\n",
    "purchase_events = combined_df.filter(combined_df['event_type'] == 'purchase')\n",
    "\n",
    "# Group by 'user_session' and 'secondary_category' and count cart additions and purchases\n",
    "cart_counts_per_session_category = cart_events.groupBy('user_session', 'secondary_category').count()\n",
    "purchase_counts_per_session_category = purchase_events.groupBy('user_session', 'secondary_category').count()\n",
    "\n",
    "# Calculate the average number of cart additions and purchases per session and category\n",
    "avg_cart_per_session_category = cart_counts_per_session_category.agg(F.avg('count').alias('avg_cart_per_session_category')).collect()[0]['avg_cart_per_session_category']\n",
    "avg_purchase_per_session_category = purchase_counts_per_session_category.agg(F.avg('count').alias('avg_purchase_per_session_category')).collect()[0]['avg_purchase_per_session_category']\n",
    "\n",
    "# Calculate the ratio between average cart additions and purchases\n",
    "ratio = avg_cart_per_session_category / avg_purchase_per_session_category\n",
    "\n",
    "# Print the conclusion\n",
    "print(\"One person per User Session with the same product category would add {:.5f} products to the cart before purchasing them.\"\n",
    "      .format(ratio))"
   ]
  },
  {
   "cell_type": "markdown",
   "id": "32238454-d966-4964-8c7c-11e9e16b5a98",
   "metadata": {},
   "source": [
    "From the chunks above, we could conclude that:\n",
    "1. One person would purchase an average of 1.310 products per User Session\n",
    "2. One person would purchase an average of 1.040 different product category per User Session\n",
    "3. One person would add an average of 1.356 product with the same product category per User Session\n",
    "4. One person would add an average of 1.362 product with the same product category per User Session\n",
    "\n",
    "The data can be used for businesses strategies, for example how many ads they would need to purchase in the ecommerce. "
   ]
  },
  {
   "cell_type": "markdown",
   "id": "3910e384-e2b7-4831-bfc9-00882433d10e",
   "metadata": {},
   "source": [
    "# SAVE THE DATA TO CSV TO BE LOADED IN THE BUCKET FOR THE NEXT STEP"
   ]
  },
  {
   "cell_type": "code",
   "execution_count": null,
   "id": "58a2f09b-7528-40c6-bff4-2d6d810ffa78",
   "metadata": {},
   "outputs": [],
   "source": [
    "# # Assuming combined_df is your PySpark DataFrame\n",
    "\n",
    "# # Specify the output path where you want to save the CSV file\n",
    "# output_path = \"cleaned_ecommerce.csv\"\n",
    "\n",
    "# # Write the DataFrame to a CSV file\n",
    "# combined_df.write.csv(output_path, header=True, mode=\"overwrite\")\n"
   ]
  },
  {
   "cell_type": "code",
   "execution_count": null,
   "id": "c69ebc87-05e3-44c7-8e74-5368f730fbb2",
   "metadata": {
    "tags": []
   },
   "outputs": [],
   "source": [
    "# Set your MinIO configurations\n",
    "minio_access_key = 'minioadmin'\n",
    "minio_secret_key = 'minioadmin'\n",
    "minio_endpoint = 'http://minio:9000'  # Example: 'http://localhost:9000'\n",
    "minio_bucket_new = 'deltaecommerce'\n",
    "\n",
    "# Set the configurations for accessing MinIO\n",
    "spark._jsc.hadoopConfiguration().set(\"fs.s3a.access.key\", minio_access_key)\n",
    "spark._jsc.hadoopConfiguration().set(\"fs.s3a.secret.key\", minio_secret_key)\n",
    "spark._jsc.hadoopConfiguration().set(\"fs.s3a.endpoint\", minio_endpoint)\n",
    "spark._jsc.hadoopConfiguration().set(\"fs.s3a.path.style.access\", \"true\")\n",
    "\n",
    "# Create a Delta table from the DataFrame\n",
    "# Convert combined_df (assuming it's a DataFrame) to Delta format and save it to MinIO\n",
    "combined_df.write.format(\"delta\").save(f\"s3a://{minio_bucket_new}/combined_df\")"
   ]
  },
  {
   "cell_type": "code",
   "execution_count": null,
   "id": "a39157cc-e8ff-4a75-aa7e-338473b50656",
   "metadata": {
    "tags": []
   },
   "outputs": [],
   "source": [
    "# from pyspark.sql import SparkSession\n",
    "\n",
    "# # Assuming your cleaned data is stored in a dictionary\n",
    "# cleaned_data = {\n",
    "#     \"col1\": [1, 2, 3],\n",
    "#     \"col2\": [\"A\", \"B\", \"C\"]\n",
    "# }\n",
    "\n",
    "# # Create a SparkSession\n",
    "# spark = SparkSession.builder.appName(\"Example\").getOrCreate()\n",
    "\n",
    "# # Convert dictionary to DataFrame\n",
    "# cleaned_data_df = spark.createDataFrame([(k, v) for k, v in cleaned_data.items()], [\"col_name\", \"col_data\"])\n",
    "\n",
    "# # Save DataFrame to MinIO bucket as CSV\n",
    "# minio_endpoint = \"http://localhost:9001/browser/ecommerce\"  # Replace with your MinIO endpoint\n",
    "\n",
    "# cleaned_data_df.write.format(\"csv\") \\\n",
    "#     .option(\"header\", \"true\") \\\n",
    "#     .mode(\"overwrite\") \\\n",
    "#     .save(f\"s3a://{minio_endpoint}/{bucket_name}/cleaned.data.csv\")"
   ]
  }
 ],
 "metadata": {
  "kernelspec": {
   "display_name": "Python 3 (ipykernel)",
   "language": "python",
   "name": "python3"
  },
  "language_info": {
   "codemirror_mode": {
    "name": "ipython",
    "version": 3
   },
   "file_extension": ".py",
   "mimetype": "text/x-python",
   "name": "python",
   "nbconvert_exporter": "python",
   "pygments_lexer": "ipython3",
   "version": "3.10.9"
  }
 },
 "nbformat": 4,
 "nbformat_minor": 5
}
