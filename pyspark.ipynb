{
 "cells": [
  {
   "cell_type": "code",
   "execution_count": 1,
   "id": "9b8a0273-66fb-4604-9c61-1221d772b72c",
   "metadata": {
    "tags": []
   },
   "outputs": [],
   "source": [
    "from minio import Minio\n",
    "from minio.error import S3Error\n",
    "import pandas as pd\n",
    "import matplotlib.pyplot as plt"
   ]
  },
  {
   "cell_type": "code",
   "execution_count": 2,
   "id": "b3f11bff-65b7-4848-9a5d-2bcc2c522264",
   "metadata": {
    "tags": []
   },
   "outputs": [],
   "source": [
    "from pyspark.sql import SparkSession\n",
    "#import pyspark.errors\n",
    "from pyspark.sql.functions import col, max\n",
    "from delta import *\n",
    "\n",
    "# Stop the existing SparkContext if it exists\n",
    "try:\n",
    "    sc.stop()\n",
    "except NameError:\n",
    "    pass\n",
    "\n",
    "\n",
    "builder = SparkSession.builder.appName(\"Delta With MinIO\") \\\n",
    "    .config(\"spark.hadoop.fs.s3a.endpoint\", \"http://minio:9000\") \\\n",
    "    .config(\"spark.hadoop.fs.s3a.access.key\", \"minioadmin\") \\\n",
    "    .config(\"spark.hadoop.fs.s3a.secret.key\", \"minioadmin\") \\\n",
    "    .config(\"spark.hadoop.fs.s3a.path.style.access\", True) \\\n",
    "    .config(\"spark.hadoop.fs.s3a.impl\", \"org.apache.hadoop.fs.s3a.S3AFileSystem\") \\\n",
    "    .config(\"spark.hadoop.fs.s3a.aws.credentials.provider\", \"org.apache.hadoop.fs.s3a.SimpleAWSCredentialsProvider\") \\\n",
    "    .config(\"spark.sql.extensions\", \"io.delta.sql.DeltaSparkSessionExtension\") \\\n",
    "    .config(\"spark.sql.catalog.spark_catalog\", \"org.apache.spark.sql.delta.catalog.DeltaCatalog\")\n",
    "\n",
    "spark = configure_spark_with_delta_pip(builder).getOrCreate()"
   ]
  },
  {
   "cell_type": "code",
   "execution_count": 3,
   "id": "6e730f3c-f7f0-4f60-a867-79572cafc569",
   "metadata": {
    "tags": []
   },
   "outputs": [],
   "source": [
    "from pyspark.sql import SparkSession\n",
    "\n",
    "# Set your MinIO configurations\n",
    "minio_access_key = 'minioadmin'\n",
    "minio_secret_key = 'minioadmin'\n",
    "minio_endpoint = 'http://minio:9000'  # Example: 'play.min.io'\n",
    "minio_bucket = 'ecommerce'\n",
    "\n",
    "# Set the configurations for accessing MinIO\n",
    "spark._jsc.hadoopConfiguration().set(\"fs.s3a.access.key\", minio_access_key)\n",
    "spark._jsc.hadoopConfiguration().set(\"fs.s3a.secret.key\", minio_secret_key)\n",
    "spark._jsc.hadoopConfiguration().set(\"fs.s3a.endpoint\", minio_endpoint)\n",
    "spark._jsc.hadoopConfiguration().set(\"fs.s3a.path.style.access\", \"true\")\n"
   ]
  },
  {
   "cell_type": "code",
   "execution_count": 4,
   "id": "712942e7-5871-425c-9bfb-bebbcbbe1369",
   "metadata": {
    "tags": []
   },
   "outputs": [
    {
     "name": "stdout",
     "output_type": "stream",
     "text": [
      "+--------------------+----------+----------+-------------------+--------------------+-------+-------+---------+--------------------+\n",
      "|          event_time|event_type|product_id|        category_id|       category_code|  brand|  price|  user_id|        user_session|\n",
      "+--------------------+----------+----------+-------------------+--------------------+-------+-------+---------+--------------------+\n",
      "|2020-01-01 00:00:...|      view|   1005073|2232732093077520756|construction.tool...|samsung|1130.02|519698804|69b5d72f-fd6e-4fe...|\n",
      "|2020-01-01 00:00:...|      view|   1005192|2232732093077520756|construction.tool...|  meizu| 205.67|527767423|7f596032-ccbf-464...|\n",
      "|2020-01-01 00:00:...|      view| 100063693|2053013552427434207|       apparel.shirt| turtle| 136.43|519046195|d1e2f343-84bb-49b...|\n",
      "|2020-01-01 00:00:...|      view|   5100816|2232732103831716449|       apparel.shoes| xiaomi|  29.95|518269232|0444841c-38ef-410...|\n",
      "|2020-01-01 00:00:...|      view| 100014325|2232732103294845523|apparel.shoes.ste...|  intel| 167.20|587748686|31b7d4cf-dfac-489...|\n",
      "|2020-01-01 00:00:...|      view|  16500026|2232732108713886406|     apparel.costume|  gamma|  37.35|581037554|c161400e-630b-4b5...|\n",
      "|2020-01-01 00:00:...|      view|   1802026|2232732099754852875|appliances.person...|samsung| 576.33|581274910|44ca9bc7-3ba8-454...|\n",
      "|2020-01-01 00:00:...|      view|  11600004|2053013554834964853|appliances.kitche...|   sven|  43.48|595265136|32c08a07-f2d0-4da...|\n",
      "|2020-01-01 00:00:...|      view|   4802273|2232732079706079299|       sport.bicycle|samsung|   6.64|595414563|176fd102-7b61-445...|\n",
      "|2020-01-01 00:00:...|      view|   1005115|2232732093077520756|construction.tool...|  apple| 869.46|531140669|84c838d4-6e10-4b7...|\n",
      "|2020-01-01 00:00:...|      view|   3100055|2232732091391410500|appliances.kitche...|  braun| 117.09|558295901|e7934107-4212-4b1...|\n",
      "|2020-01-01 00:00:...|      view|  26000317|2232732082474320004|                null|   null|  11.84|592648495|7294aca4-58be-4fb...|\n",
      "|2020-01-01 00:00:...|      view|  16500038|2232732108713886406|     apparel.costume|  bwell|  56.63|526238299|7f47e97f-3833-47b...|\n",
      "|2020-01-01 00:00:...|      view|  21407348|2232732082063278200|  electronics.clocks|  casio| 122.01|578858757|bdf051a8-1594-463...|\n",
      "|2020-01-01 00:00:...|      view|   3600666|2232732092297380188|appliances.kitche...|samsung| 321.73|556820148|8748d326-2623-42b...|\n",
      "|2020-01-01 00:00:...|      view|   8700154|2232732089587859740|appliances.person...|polaris|  11.53|515160926|00963bdd-83c0-4c9...|\n",
      "|2020-01-01 00:00:...|      view|   1801883|2232732099754852875|appliances.person...|philips| 231.64|595405799|5d5a33b5-ac89-482...|\n",
      "|2020-01-01 00:00:...|      view|   7203232|2232732084546306225|furniture.living_...|   lego|  84.94|523020108|2f160b97-6d02-4ce...|\n",
      "|2020-01-01 00:00:...|      view|   1005124|2232732093077520756|construction.tool...|  apple|1453.18|532239316|253616df-2b1e-4bd...|\n",
      "|2020-01-01 00:00:...|      view| 100002825|2232732091559182664|                null|ski-doo| 377.95|561502419|f916da2a-eee7-417...|\n",
      "+--------------------+----------+----------+-------------------+--------------------+-------+-------+---------+--------------------+\n",
      "only showing top 20 rows\n",
      "\n"
     ]
    }
   ],
   "source": [
    "# Load file from MinIO bucket\n",
    "minio_file_path_jan = '2020-Jan.csv'\n",
    "minio_file_url_jan = f\"s3a://{minio_bucket}/{minio_file_path_jan}\"\n",
    "df_jan = spark.read.csv(minio_file_url_jan, header=True)\n",
    "\n",
    "# Show the loaded DataFrame\n",
    "df_jan.show()"
   ]
  },
  {
   "cell_type": "code",
   "execution_count": 5,
   "id": "54b1912d-8165-40d6-9875-f171203c0db2",
   "metadata": {
    "tags": []
   },
   "outputs": [
    {
     "name": "stdout",
     "output_type": "stream",
     "text": [
      "+--------------------+----------+----------+-------------------+--------------------+-------+-------+---------+--------------------+\n",
      "|          event_time|event_type|product_id|        category_id|       category_code|  brand|  price|  user_id|        user_session|\n",
      "+--------------------+----------+----------+-------------------+--------------------+-------+-------+---------+--------------------+\n",
      "|2020-02-01 00:00:...|      view| 100010426|2232732115290555244|       apparel.shoes|   null|  19.31|581521975|82d5664d-7980-43e...|\n",
      "|2020-02-01 00:00:...|      view| 100071077|2232732079706079299|       sport.bicycle|  crown|  11.88|596313635|3df590c0-e667-4f5...|\n",
      "|2020-02-01 00:00:...|      view|   1004665|2232732093077520756|construction.tool...|samsung| 838.23|608821035|3e271f43-db51-46b...|\n",
      "|2020-02-01 00:00:...|      view|   1002544|2232732093077520756|construction.tool...|  apple| 410.42|530488542|21f46782-fb36-4d5...|\n",
      "|2020-02-01 00:00:...|      view| 100010151|2053013563835941749|appliances.kitche...| pulser| 332.03|583795643|eddfe0e2-12f8-435...|\n",
      "|2020-02-01 00:00:...|      view|   5000108|2232732102950912587|appliances.sewing...| janome| 127.56|513854134|d2e0ec81-b785-48f...|\n",
      "|2020-02-01 00:00:...|      view|   6501012|2232732103462617687|apparel.shoes.sli...| asrock|  46.02|514092189|fcf181e8-56b3-474...|\n",
      "|2020-02-01 00:00:...|      view|  15100003|2232732107413652135|      apparel.shorts|     sv| 874.93|588332465|7f5c4c88-4a05-4c6...|\n",
      "|2020-02-01 00:00:...|      view|  15100229|2232732107413652135|      apparel.shorts|   null| 887.02|594768603|4db2a707-8548-4f6...|\n",
      "|2020-02-01 00:00:...|      view|   1005115|2232732093077520756|construction.tool...|  apple| 806.61|608822150|50d1339f-561e-41f...|\n",
      "|2020-02-01 00:00:...|      view|  15901490|2053013566142809077|construction.tool...|   null|  46.33|518459407|c2a1a5e4-7bf2-498...|\n",
      "|2020-02-01 00:00:...|      view|   1004648|2232732093077520756|construction.tool...|samsung| 563.70|608821035|3e271f43-db51-46b...|\n",
      "|2020-02-01 00:00:...|      view|  28717124|2232732097842250207|  apparel.shoes.keds|respect|  31.92|512437914|b9244c98-22a1-4c7...|\n",
      "|2020-02-01 00:00:...|      view|   1005284|2232732093077520756|construction.tool...|samsung|2187.68|513239057|83c6453a-6415-442...|\n",
      "|2020-02-01 00:00:...|      view|  17200720|2232732090980368698|furniture.living_...|   rals| 532.91|519398356|e2d8e72b-afee-41b...|\n",
      "|2020-02-01 00:00:...|      view|  10900224|2232732105912091273|appliances.kitche...|redmond|  48.63|519194270|96326c64-d2c2-4a8...|\n",
      "|2020-02-01 00:00:...|      cart|   1005100|2232732093077520756|construction.tool...|samsung| 140.28|608822162|8062ce43-662e-4b6...|\n",
      "|2020-02-01 00:00:...|      view|   5701024|2053013554415534427|electronics.video.tv|kenwood| 120.98|531481119|162a856a-f800-4ca...|\n",
      "|2020-02-01 00:00:...|      view|   1004767|2232732093077520756|construction.tool...|samsung| 226.18|561966169|0a014c51-f0f3-404...|\n",
      "|2020-02-01 00:00:...|      view|   5100337|2232732103101907535|  electronics.clocks|  apple| 308.85|559727899|9e1fe23c-2d1a-4cf...|\n",
      "+--------------------+----------+----------+-------------------+--------------------+-------+-------+---------+--------------------+\n",
      "only showing top 20 rows\n",
      "\n"
     ]
    }
   ],
   "source": [
    "# Load file from MinIO bucket\n",
    "minio_file_path_feb = '2020-Feb.csv'\n",
    "minio_file_url_feb = f\"s3a://{minio_bucket}/{minio_file_path_feb}\"\n",
    "df_feb = spark.read.csv(minio_file_url_feb, header=True)\n",
    "\n",
    "# Show the loaded DataFrame\n",
    "df_feb.show()"
   ]
  },
  {
   "cell_type": "code",
   "execution_count": 6,
   "id": "5173d0eb-cf04-4f13-a9c5-556873fdbf4d",
   "metadata": {
    "tags": []
   },
   "outputs": [
    {
     "name": "stdout",
     "output_type": "stream",
     "text": [
      "+--------------------+----------+----------+-------------------+--------------------+--------+-------+---------+--------------------+\n",
      "|          event_time|event_type|product_id|        category_id|       category_code|   brand|  price|  user_id|        user_session|\n",
      "+--------------------+----------+----------+-------------------+--------------------+--------+-------+---------+--------------------+\n",
      "|2020-03-01 00:00:...|      view|  10900348|2232732105912091273|appliances.kitche...| kitfort| 117.63|550295099|23f5ab9e-7774-416...|\n",
      "|2020-03-01 00:00:...|      view|  14300020|2232732107967300275|   apparel.underwear|   casio| 264.37|622070532|edf19213-f0dd-46e...|\n",
      "|2020-03-01 00:00:...|      view|  13200063|2232732061804790604|furniture.bedroom...|    null| 126.10|552832344|608087d8-6b69-21d...|\n",
      "|2020-03-01 00:00:...|      view| 100077498|2232732085846540487|construction.tool...|  tamina| 424.72|613391860|5ab6c3d5-edd7-4e1...|\n",
      "|2020-03-01 00:00:...|      view|   1005014|2232732093077520756|construction.tool...| samsung| 482.73|517021211|0c34308d-c455-40b...|\n",
      "|2020-03-01 00:00:...|      view|   1004757|2232732093077520756|construction.tool...|   meizu|  76.96|611868169|80871749-38db-4ba...|\n",
      "|2020-03-01 00:00:...|      view|   3700715|2232732101063475749|appliances.enviro...|   artel|  51.20|538268573|5ad92d46-bc38-4fe...|\n",
      "|2020-03-01 00:00:...|  purchase|   5100722|2232732103101907535|  electronics.clocks|  huawei| 128.68|604860058|f558a7d7-f1e4-4b8...|\n",
      "|2020-03-01 00:00:...|      view|  26205155|2232732081585127530|construction.comp...|    null| 103.48|622090375|cc8fb9ef-9ae7-41b...|\n",
      "|2020-03-01 00:00:...|      view|   4804295|2232732079706079299|       sport.bicycle|  xiaomi|  22.20|530720671|76bcc6c7-9bfc-43a...|\n",
      "|2020-03-01 00:00:...|      view|  15100119|2232732107413652135|      apparel.shorts|    null|1010.50|560360095|eca0d1af-cef8-426...|\n",
      "|2020-03-01 00:00:...|      view|  28721048|2053013556521075159|       apparel.shoes|   cover| 119.69|520028803|c7327cfb-b6a3-481...|\n",
      "|2020-03-01 00:00:...|      view| 100036058|2053013554658804075|electronics.audio...|      hp| 360.11|622086728|3fbb7dff-c6bc-466...|\n",
      "|2020-03-01 00:00:...|      view|  30000004|2232732095074009504|construction.tool...|    null| 134.34|517308267|5effd779-5eeb-48c...|\n",
      "|2020-03-01 00:00:...|      view|   2401253|2232732100769874463|appliances.person...|    null|  89.84|595972218|bde65786-cc67-452...|\n",
      "|2020-03-01 00:00:...|      view|   6701259|2053013552293216471|appliances.enviro...|gigabyte| 478.16|599757342|1141a7a0-d4b7-4c0...|\n",
      "|2020-03-01 00:00:...|      view| 100036175|2053013553056579841|computers.periphe...| sokolov|  38.61|587790209|07fc5203-a0d5-47b...|\n",
      "|2020-03-01 00:00:...|      view|   4804719|2232732079706079299|       sport.bicycle|  xiaomi|  75.93|547190131|bb74efee-77a2-44c...|\n",
      "|2020-03-01 00:00:...|      view|  10301847|2232732104888681081|       apparel.scarf|  mattel|   6.92|592023505|1967ad00-d3c8-417...|\n",
      "|2020-03-01 00:00:...|      view|  16000004|2053013556856619499|     accessories.bag| rondell|  43.73|622090611|d2241bd8-e2a5-4bd...|\n",
      "+--------------------+----------+----------+-------------------+--------------------+--------+-------+---------+--------------------+\n",
      "only showing top 20 rows\n",
      "\n"
     ]
    }
   ],
   "source": [
    "# Load file from MinIO bucket\n",
    "minio_file_path_mar = '2020-Mar.csv'\n",
    "minio_file_url_mar = f\"s3a://{minio_bucket}/{minio_file_path_mar}\"\n",
    "df_mar = spark.read.csv(minio_file_url_mar, header=True)\n",
    "\n",
    "# Show the loaded DataFrame\n",
    "df_mar.show()"
   ]
  },
  {
   "cell_type": "code",
   "execution_count": 7,
   "id": "72f62d87-8082-4d73-a38a-04ebd5605dfb",
   "metadata": {
    "tags": []
   },
   "outputs": [
    {
     "name": "stdout",
     "output_type": "stream",
     "text": [
      "+--------------------+----------+----------+-------------------+--------------------+---------+-------+---------+--------------------+\n",
      "|          event_time|event_type|product_id|        category_id|       category_code|    brand|  price|  user_id|        user_session|\n",
      "+--------------------+----------+----------+-------------------+--------------------+---------+-------+---------+--------------------+\n",
      "|2020-04-01 00:00:...|      view|   1201465|2232732101407408685|apparel.shoes.sli...|  samsung| 230.38|568984877|e2456cef-2d4f-42b...|\n",
      "|2020-04-01 00:00:...|      view|   1307156|2053013554658804075|electronics.audio...|    apple|1352.67|514955500|38f43134-de83-471...|\n",
      "|2020-04-01 00:00:...|      view|   1480477|2053013563835941749|appliances.kitche...|    apple|1184.05|633645770|16aba270-b3c2-4b2...|\n",
      "|2020-04-01 00:00:...|      view|   1307050|2053013554658804075|electronics.audio...|    apple|1724.34|564933778|05b443bd-e68a-4d7...|\n",
      "|2020-04-01 00:00:...|      view|   9500109|2232732104175649385|       apparel.scarf| defender|  25.05|530206135|e3c1fb4b-0a7e-457...|\n",
      "|2020-04-01 00:00:...|      view| 100068493|2232732093077520756|construction.tool...|  samsung| 319.41|635165435|861f2378-076f-4dd...|\n",
      "|2020-04-01 00:00:...|      view|   8901579|2232732085150286011|   computers.desktop|     null|  25.46|527795927|2956848d-5695-416...|\n",
      "|2020-04-01 00:00:...|      view|   1201295|2232732101407408685|apparel.shoes.sli...|    apple| 489.05|635165586|48d05455-e287-4c4...|\n",
      "|2020-04-01 00:00:...|      view|   3601036|2232732092297380188|appliances.kitche...|whirlpool| 434.99|610738477|6b42dbd6-279e-4a2...|\n",
      "|2020-04-01 00:00:...|      view| 100158887|2053013561587794682|  electronics.clocks|     null| 122.29|601154152|0f46540a-834f-443...|\n",
      "|2020-04-01 00:00:...|      view| 100077607|2232732101063475749|appliances.enviro...|    vitek| 100.36|633281427|667a8535-221c-416...|\n",
      "|2020-04-01 00:00:...|      view|   1004409|2232732093077520756|construction.tool...|   doogee|  64.09|513835455|c1ea0216-94d5-450...|\n",
      "|2020-04-01 00:00:...|      view|   4300443|2232732091483685190|                null|   scoole|  29.58|575438879|a53fe992-c9f6-413...|\n",
      "|2020-04-01 00:00:...|      view|   9200640|2232732104343421549|       apparel.scarf| defender|  20.19|533896443|6a220235-f4d6-498...|\n",
      "|2020-04-01 00:00:...|      view|   1005105|2232732093077520756|construction.tool...|    apple|1358.72|548207294|b8d76fd4-7b71-433...|\n",
      "|2020-04-01 00:00:...|      view|   1004727|2232732093077520756|construction.tool...|     sony| 205.90|633455198|be0025af-4d14-4ca...|\n",
      "|2020-04-01 00:00:...|      view|   1307284|2053013554658804075|electronics.audio...|       hp|1376.87|567908086|b2ea0c25-1f3c-429...|\n",
      "|2020-04-01 00:00:...|      view|  17301057|2232732098446229999|apparel.shoes.san...|     null|  31.18|543165860|7eaf3210-1d5e-4ab...|\n",
      "|2020-04-01 00:00:...|      view|  15400066|2232732107774362287|                null|    intex|  84.43|533038120|79f54d4c-e75b-46c...|\n",
      "|2020-04-01 00:00:...|      view|   6000094|2232732103546503769|       apparel.shoes| starline| 127.42|514487953|cea7a5e7-af98-45b...|\n",
      "+--------------------+----------+----------+-------------------+--------------------+---------+-------+---------+--------------------+\n",
      "only showing top 20 rows\n",
      "\n"
     ]
    }
   ],
   "source": [
    "# Load file from MinIO bucket\n",
    "minio_file_path_apr = '2020-Apr.csv'\n",
    "minio_file_url_apr = f\"s3a://{minio_bucket}/{minio_file_path_apr}\"\n",
    "df_apr = spark.read.csv(minio_file_url_apr, header=True)\n",
    "\n",
    "# Show the loaded DataFrame\n",
    "df_apr.show()"
   ]
  },
  {
   "cell_type": "markdown",
   "id": "141f293e-cd61-4c67-871f-a677d4236875",
   "metadata": {},
   "source": [
    "# CLEAN THE DATA"
   ]
  },
  {
   "cell_type": "markdown",
   "id": "a1257fa9-c8dd-4270-9003-91bb5c85ea40",
   "metadata": {
    "tags": []
   },
   "source": [
    "## REMOVE UNWANTED DATA\n",
    "\n",
    "we decided to remove the view from the column event_type because the data is very large and we don't need them for answering our business questions"
   ]
  },
  {
   "cell_type": "code",
   "execution_count": 8,
   "id": "96abed23-f67b-4644-9bcb-7382318c111a",
   "metadata": {
    "tags": []
   },
   "outputs": [],
   "source": [
    "from pyspark.sql.functions import col\n",
    "\n",
    "# Assuming 'event_type' is a column in the DataFrames df_jan, df_feb, df_mar, and df_apr\n",
    "\n",
    "# Filtering rows where 'event_type' column is not equal to 'view' for each DataFrame\n",
    "df_jan = df_jan.filter(col('event_type') != 'view')\n",
    "df_feb = df_feb.filter(col('event_type') != 'view')\n",
    "df_mar = df_mar.filter(col('event_type') != 'view')\n",
    "df_apr = df_apr.filter(col('event_type') != 'view')\n"
   ]
  },
  {
   "cell_type": "code",
   "execution_count": 9,
   "id": "dd0a08bd-293a-43ed-9297-dfdf7ec1bfc0",
   "metadata": {
    "tags": []
   },
   "outputs": [
    {
     "name": "stdout",
     "output_type": "stream",
     "text": [
      "+--------------------+----------+----------+-------------------+--------------------+---------+-------+---------+--------------------+-------------+------------------+\n",
      "|          event_time|event_type|product_id|        category_id|       category_code|    brand|  price|  user_id|        user_session|main_category|secondary_category|\n",
      "+--------------------+----------+----------+-------------------+--------------------+---------+-------+---------+--------------------+-------------+------------------+\n",
      "|2020-01-01 00:00:...|      cart|   1005124|2232732093077520756|construction.tool...|    apple|1453.18|532239316|253616df-2b1e-4bd...| construction|             tools|\n",
      "|2020-01-01 00:00:...|      cart|   1201565|2232732101407408685|apparel.shoes.sli...|    apple| 385.34|581430108|7d7687c4-b613-446...|      apparel|             shoes|\n",
      "|2020-01-01 00:00:...|      cart|  13101067|2232732106860003995|                null|     skad| 266.67|519373619|e97a30d7-2873-401...|         null|               N/A|\n",
      "|2020-01-01 00:00:...|      cart|   4801028|2232732079706079299|       sport.bicycle|   xiaomi|  14.95|574723072|2f967c6e-b6c4-497...|        sport|           bicycle|\n",
      "|2020-01-01 00:00:...|      cart|   1004226|2232732093077520756|construction.tool...|    apple| 890.11|518285678|7dad15db-dd6d-4e5...| construction|             tools|\n",
      "|2020-01-01 00:00:...|      cart|   1005115|2232732093077520756|construction.tool...|    apple| 869.46|514730269|2a5143e3-2de9-4dc...| construction|             tools|\n",
      "|2020-01-01 00:00:...|      cart|   1005116|2232732093077520756|construction.tool...|    apple| 967.85|531140669|84c838d4-6e10-4b7...| construction|             tools|\n",
      "|2020-01-01 00:00:...|      cart|   1005115|2232732093077520756|construction.tool...|    apple| 869.46|514730269|2a5143e3-2de9-4dc...| construction|             tools|\n",
      "|2020-01-01 00:01:...|      cart|   5100854|2232732103101907535|  electronics.clocks|    apple| 553.30|580128882|09a50203-a753-46c...|  electronics|            clocks|\n",
      "|2020-01-01 00:01:...|      cart|  17301397|2232732098446229999|apparel.shoes.san...|montblanc|  32.87|546383255|c0f02fdc-76f2-45a...|      apparel|             shoes|\n",
      "|2020-01-01 00:01:...|      cart|  12703498|2053013553199186187|                null| cordiant|  40.93|563209914|657edcb2-767d-458...|         null|               N/A|\n",
      "|2020-01-01 00:01:...|      cart|   1002544|2232732093077520756|construction.tool...|    apple| 445.95|565310369|7a140d1b-b90f-434...| construction|             tools|\n",
      "|2020-01-01 00:01:...|      cart|  17301397|2232732098446229999|apparel.shoes.san...|montblanc|  32.87|546383255|c0f02fdc-76f2-45a...|      apparel|             shoes|\n",
      "|2020-01-01 00:01:...|      cart|   1002525|2232732093077520756|construction.tool...|    apple| 563.72|580474456|d9b5e960-bca2-4eb...| construction|             tools|\n",
      "|2020-01-01 00:02:...|      cart|   4804718|2232732079706079299|       sport.bicycle|    apple| 341.06|595414732|dcbd99b2-efab-46f...|        sport|           bicycle|\n",
      "|2020-01-01 00:02:...|      cart|   1005264|2232732093077520756|construction.tool...|   xiaomi| 163.39|588816763|5241e291-33ff-48f...| construction|             tools|\n",
      "|2020-01-01 00:03:...|      cart|   1004767|2232732093077520756|construction.tool...|  samsung| 238.55|543679531|32ca6f22-5ee8-4da...| construction|             tools|\n",
      "|2020-01-01 00:03:...|      cart|  17301037|2232732098446229999|apparel.shoes.san...|     null|  37.19|595414503|b9864239-109c-4d4...|      apparel|             shoes|\n",
      "|2020-01-01 00:03:...|      cart|   4803976|2232732079706079299|       sport.bicycle|  samsung| 102.68|552423070|c8064466-ddab-487...|        sport|           bicycle|\n",
      "|2020-01-01 00:03:...|      cart|   1004767|2232732093077520756|construction.tool...|  samsung| 238.55|527642597|d133def5-d31c-475...| construction|             tools|\n",
      "+--------------------+----------+----------+-------------------+--------------------+---------+-------+---------+--------------------+-------------+------------------+\n",
      "only showing top 20 rows\n",
      "\n"
     ]
    }
   ],
   "source": [
    "from pyspark.sql.functions import col, split, when\n",
    "\n",
    "# Assuming df_jan is your PySpark DataFrame\n",
    "\n",
    "# Splitting 'category_code' column into 'main_category' and 'secondary_category'\n",
    "df_jan = df_jan.withColumn('main_category', split(col('category_code'), '\\.')[0]) \\\n",
    "               .withColumn('secondary_category', when(split(col('category_code'), '\\.').getItem(1).isNull(), 'N/A')\n",
    "                                                .otherwise(split(col('category_code'), '\\.')[1]))\n",
    "\n",
    "# Print the modified DataFrame\n",
    "df_jan.show()  # Displaying the modified DataFrame\n"
   ]
  },
  {
   "cell_type": "code",
   "execution_count": 10,
   "id": "90a2aaca-91d0-4b6f-8096-00770e24ca93",
   "metadata": {
    "tags": []
   },
   "outputs": [
    {
     "name": "stdout",
     "output_type": "stream",
     "text": [
      "+--------------------+----------+----------+-------------------+--------------------+---------+-------+---------+--------------------+-------------+------------------+\n",
      "|          event_time|event_type|product_id|        category_id|       category_code|    brand|  price|  user_id|        user_session|main_category|secondary_category|\n",
      "+--------------------+----------+----------+-------------------+--------------------+---------+-------+---------+--------------------+-------------+------------------+\n",
      "|2020-02-01 00:00:...|      cart|   1005100|2232732093077520756|construction.tool...|  samsung| 140.28|608822162|8062ce43-662e-4b6...| construction|             tools|\n",
      "|2020-02-01 00:00:...|      cart| 100001549|2053013558978937451|       sport.bicycle|     puma|  38.15|608821784|600f4508-f562-4b2...|        sport|           bicycle|\n",
      "|2020-02-01 00:00:...|      cart| 100065078|2232732093077520756|construction.tool...|   xiaomi| 568.61|526615078|5f0aab9f-f92e-4ef...| construction|             tools|\n",
      "|2020-02-01 00:00:...|      cart|   5701246|2053013554415534427|electronics.video.tv|     null|  24.43|563902689|76cc9152-8a9f-43e...|  electronics|             video|\n",
      "|2020-02-01 00:00:...|      cart|  14701533|2053013552570040549|electronics.video...|     null| 154.42|520953435|5f1c7752-cf92-41f...|  electronics|             video|\n",
      "|2020-02-01 00:00:...|      cart|   1004855|2232732093077520756|construction.tool...|   xiaomi| 123.30|519236281|e512f514-dc7f-4fc...| construction|             tools|\n",
      "|2020-02-01 00:00:...|      cart|   1005100|2232732093077520756|construction.tool...|  samsung| 140.28|550305600|bd7a37b6-420d-457...| construction|             tools|\n",
      "|2020-02-01 00:00:...|      cart|   1005143|2232732093077520756|construction.tool...|    apple|1311.49|530488542|21f46782-fb36-4d5...| construction|             tools|\n",
      "|2020-02-01 00:00:...|      cart|   9101354|2232732104066597479|furniture.kitchen...|   x-game|   6.17|593914457|065318cd-84d7-4b9...|    furniture|           kitchen|\n",
      "|2020-02-01 00:00:...|      cart|   1005105|2232732093077520756|construction.tool...|    apple|1208.00|515054403|a3dfe681-0132-45b...| construction|             tools|\n",
      "|2020-02-01 00:00:...|      cart|   1005105|2232732093077520756|construction.tool...|    apple|1208.00|515054403|b10c9a4f-e726-43a...| construction|             tools|\n",
      "|2020-02-01 00:00:...|      cart|   1005105|2232732093077520756|construction.tool...|    apple|1208.00|515054403|a3dfe681-0132-45b...| construction|             tools|\n",
      "|2020-02-01 00:00:...|      cart|  12702637|2053013553559896355|                null| goodyear| 234.76|515054403|c578c94e-9589-476...|         null|               N/A|\n",
      "|2020-02-01 00:00:...|      cart|  21800263|2232732110861370114|furniture.living_...|    razer|  61.26|515054403|785280ff-f4e7-473...|    furniture|       living_room|\n",
      "|2020-02-01 00:00:...|      cart|   2900512|2232732102103663163|furniture.bedroom...|  samsung| 146.70|515054403|74c80509-a13e-4ce...|    furniture|           bedroom|\n",
      "|2020-02-01 00:00:...|      cart|   2900512|2232732102103663163|furniture.bedroom...|  samsung| 146.70|515054403|74c80509-a13e-4ce...|    furniture|           bedroom|\n",
      "|2020-02-01 00:00:...|      cart|   2900844|2232732102103663163|furniture.bedroom...|panasonic|  97.79|515054403|73fe321b-7f87-420...|    furniture|           bedroom|\n",
      "|2020-02-01 00:00:...|      cart|   3800859|2053013557477376525|furniture.bathroo...|    tefal|  41.16|515054403|141a95e9-e78c-485...|    furniture|          bathroom|\n",
      "|2020-02-01 00:00:...|      cart|   4201160|2053013557695480347|appliances.enviro...|     gree| 436.68|515054403|2081c9ae-95ea-4ad...|   appliances|       environment|\n",
      "|2020-02-01 00:00:...|      cart|   6301925|2232732086928670945|electronics.camer...|    bosch|  82.34|515054403|85ffc1e9-9b25-4ed...|  electronics|            camera|\n",
      "+--------------------+----------+----------+-------------------+--------------------+---------+-------+---------+--------------------+-------------+------------------+\n",
      "only showing top 20 rows\n",
      "\n"
     ]
    }
   ],
   "source": [
    "# Splitting 'category_code' column into 'main_category' and 'secondary_category'\n",
    "df_feb = df_feb.withColumn('main_category', split(col('category_code'), '\\.')[0]) \\\n",
    "               .withColumn('secondary_category', when(split(col('category_code'), '\\.').getItem(1).isNull(), 'N/A')\n",
    "                                                .otherwise(split(col('category_code'), '\\.')[1]))\n",
    "\n",
    "# Print the modified DataFrame\n",
    "df_feb.show()  # Displaying the modified DataFrame\n"
   ]
  },
  {
   "cell_type": "code",
   "execution_count": 11,
   "id": "30f1c674-87ec-468d-a43b-7ac4bbd2785d",
   "metadata": {
    "tags": []
   },
   "outputs": [
    {
     "name": "stdout",
     "output_type": "stream",
     "text": [
      "+--------------------+----------+----------+-------------------+--------------------+---------+------+---------+--------------------+-------------+------------------+\n",
      "|          event_time|event_type|product_id|        category_id|       category_code|    brand| price|  user_id|        user_session|main_category|secondary_category|\n",
      "+--------------------+----------+----------+-------------------+--------------------+---------+------+---------+--------------------+-------------+------------------+\n",
      "|2020-03-01 00:00:...|  purchase|   5100722|2232732103101907535|  electronics.clocks|   huawei|128.68|604860058|f558a7d7-f1e4-4b8...|  electronics|            clocks|\n",
      "|2020-03-01 00:00:...|  purchase| 100082062|2232732102103663163|furniture.bedroom...|      arg| 48.88|601908129|37473d3f-b68b-4a2...|    furniture|           bedroom|\n",
      "|2020-03-01 00:00:...|      cart|   6902464|2232732078733000751|electronics.telep...|   zlatek| 49.91|531574188|48714293-b3f9-494...|  electronics|         telephone|\n",
      "|2020-03-01 00:01:...|  purchase|   5100610|2232732103101907535|  electronics.clocks|    apple|295.73|613253847|45aa30e5-2e05-4d5...|  electronics|            clocks|\n",
      "|2020-03-01 00:01:...|      cart|   1002544|2232732093077520756|construction.tool...|    apple|397.10|622090790|fb5b918c-f1f6-48d...| construction|             tools|\n",
      "|2020-03-01 00:01:...|      cart|   1004838|2232732093077520756|construction.tool...|     oppo|166.03|604474484|c28b52d6-5a19-400...| construction|             tools|\n",
      "|2020-03-01 00:01:...|  purchase|   1002544|2232732093077520756|construction.tool...|    apple|397.10|622090486|a91bed93-c586-453...| construction|             tools|\n",
      "|2020-03-01 00:01:...|      cart|  21400643|2232732082063278200|  electronics.clocks|   orient| 93.44|608549125|56ae2d30-4a21-475...|  electronics|            clocks|\n",
      "|2020-03-01 00:01:...|      cart|   4803794|2232732079706079299|       sport.bicycle|     acme| 23.14|548101693|e18561f7-742e-45b...|        sport|           bicycle|\n",
      "|2020-03-01 00:01:...|      cart|   1003316|2232732093077520756|construction.tool...|    apple|823.70|622090543|b821ee79-96fe-497...| construction|             tools|\n",
      "|2020-03-01 00:01:...|      cart| 100102090|2053013556521075159|       apparel.shoes|  respect| 82.11|513976290|003762ff-cce1-448...|      apparel|             shoes|\n",
      "|2020-03-01 00:02:...|  purchase|   1004767|2232732093077520756|construction.tool...|  samsung|241.83|621784978|50d5fceb-0eee-473...| construction|             tools|\n",
      "|2020-03-01 00:02:...|      cart| 100102090|2053013556521075159|       apparel.shoes|  respect| 82.11|513976290|003762ff-cce1-448...|      apparel|             shoes|\n",
      "|2020-03-01 00:02:...|      cart| 100102090|2053013556521075159|       apparel.shoes|  respect| 82.11|513976290|003762ff-cce1-448...|      apparel|             shoes|\n",
      "|2020-03-01 00:02:...|      cart|  16600067|2232732108780995272|       sport.trainer|rivertoys|422.15|616437533|aad023bc-c858-47a...|        sport|           trainer|\n",
      "|2020-03-01 00:02:...|      cart|   3701428|2232732101063475749|appliances.enviro...|   arnica| 69.24|516454226|ee22b80c-ed3e-3c8...|   appliances|       environment|\n",
      "|2020-03-01 00:02:...|      cart| 100041324|2232732093077520756|construction.tool...|   xiaomi|496.74|591054018|274db27d-16da-4a3...| construction|             tools|\n",
      "|2020-03-01 00:02:...|      cart|  12719307|2053013553199186187|                null|    tunga| 28.06|585155850|9ccc3b07-88d7-427...|         null|               N/A|\n",
      "|2020-03-01 00:02:...|      cart|   4803794|2232732079706079299|       sport.bicycle|     acme| 23.14|548101693|e18561f7-742e-45b...|        sport|           bicycle|\n",
      "|2020-03-01 00:02:...|      cart|  11200512|2232732105635267203|          kids.swing|   xiaomi| 51.22|547190131|bb74efee-77a2-44c...|         kids|             swing|\n",
      "+--------------------+----------+----------+-------------------+--------------------+---------+------+---------+--------------------+-------------+------------------+\n",
      "only showing top 20 rows\n",
      "\n"
     ]
    }
   ],
   "source": [
    "# Splitting 'category_code' column into 'main_category' and 'secondary_category'\n",
    "df_mar = df_mar.withColumn('main_category', split(col('category_code'), '\\.')[0]) \\\n",
    "               .withColumn('secondary_category', when(split(col('category_code'), '\\.').getItem(1).isNull(), 'N/A')\n",
    "                                                .otherwise(split(col('category_code'), '\\.')[1]))\n",
    "\n",
    "# Print the modified DataFrame\n",
    "df_mar.show()  # Displaying the modified DataFrame\n"
   ]
  },
  {
   "cell_type": "code",
   "execution_count": 12,
   "id": "f54995c6-6823-49f6-91dc-0dfc9a9f7ad4",
   "metadata": {
    "tags": []
   },
   "outputs": [
    {
     "name": "stdout",
     "output_type": "stream",
     "text": [
      "+--------------------+----------+----------+-------------------+--------------------+----------+-------+---------+--------------------+-------------+------------------+\n",
      "|          event_time|event_type|product_id|        category_id|       category_code|     brand|  price|  user_id|        user_session|main_category|secondary_category|\n",
      "+--------------------+----------+----------+-------------------+--------------------+----------+-------+---------+--------------------+-------------+------------------+\n",
      "|2020-04-01 00:00:...|      cart|   5100328|2232732103101907535|  electronics.clocks|    xiaomi| 117.12|635164513|c40d1b96-90aa-4ce...|  electronics|            clocks|\n",
      "|2020-04-01 00:00:...|      cart| 100177859|2053013551932506308|construction.tool...|  s.oliver|  60.49|633281427|667a8535-221c-416...| construction|             tools|\n",
      "|2020-04-01 00:00:...|      cart|  22700202|2232732091643068746|                null|     stels| 171.18|515979190|5526811f-230a-476...|         null|               N/A|\n",
      "|2020-04-01 00:00:...|      cart|   5100328|2232732103101907535|  electronics.clocks|    xiaomi| 117.12|635164513|c40d1b96-90aa-4ce...|  electronics|            clocks|\n",
      "|2020-04-01 00:00:...|      cart|   5100328|2232732103101907535|  electronics.clocks|    xiaomi| 117.12|635164513|c40d1b96-90aa-4ce...|  electronics|            clocks|\n",
      "|2020-04-01 00:00:...|      cart|   5100328|2232732103101907535|  electronics.clocks|    xiaomi| 117.12|635164513|c40d1b96-90aa-4ce...|  electronics|            clocks|\n",
      "|2020-04-01 00:00:...|      cart|   1801503|2232732099754852875|appliances.person...|    xiaomi| 203.09|629229484|c00a1636-dfc2-4e9...|   appliances|          personal|\n",
      "|2020-04-01 00:00:...|      cart|   5100328|2232732103101907535|  electronics.clocks|    xiaomi| 117.12|635164513|c40d1b96-90aa-4ce...|  electronics|            clocks|\n",
      "|2020-04-01 00:00:...|      cart| 100011103|2053013554658804075|electronics.audio...|      acer| 385.57|522177285|902aa3e5-957a-49e...|  electronics|             audio|\n",
      "|2020-04-01 00:00:...|      cart|   5100328|2232732103101907535|  electronics.clocks|    xiaomi| 117.12|635164513|c40d1b96-90aa-4ce...|  electronics|            clocks|\n",
      "|2020-04-01 00:00:...|  purchase| 100177859|2053013551932506308|construction.tool...|  s.oliver|  60.49|633281427|667a8535-221c-416...| construction|             tools|\n",
      "|2020-04-01 00:00:...|      cart|   7600480|2232732103982711397|furniture.kitchen...|   tp-link|  52.77|512411694|7685a5aa-42ce-4bd...|    furniture|           kitchen|\n",
      "|2020-04-01 00:00:...|      cart|   1801503|2232732099754852875|appliances.person...|    xiaomi| 203.09|629229484|c00a1636-dfc2-4e9...|   appliances|          personal|\n",
      "|2020-04-01 00:01:...|      cart|   4100369|2232732098228126185|       apparel.shoes|      sony| 540.30|635165471|c6ce1b9b-19d1-429...|      apparel|             shoes|\n",
      "|2020-04-01 00:01:...|      cart| 100022253|2053013554658804075|electronics.audio...|      asus| 257.38|566023743|833d7b44-6cdf-440...|  electronics|             audio|\n",
      "|2020-04-01 00:01:...|      cart|   1005129|2232732093077520756|construction.tool...|     apple|1338.13|619309567|9cdc3daa-ca74-4ed...| construction|             tools|\n",
      "|2020-04-01 00:01:...|      cart|   1005129|2232732093077520756|construction.tool...|     apple|1338.13|619309567|9cdc3daa-ca74-4ed...| construction|             tools|\n",
      "|2020-04-01 00:01:...|      cart|  21400996|2232732082063278200|  electronics.clocks|     casio|  80.42|633281427|667a8535-221c-416...|  electronics|            clocks|\n",
      "|2020-04-01 00:02:...|      cart| 100125468|2232732103210959441|    computers.ebooks|pocketbook| 319.16|514584035|ad1cc6c5-b018-44c...|    computers|            ebooks|\n",
      "|2020-04-01 00:02:...|  purchase|   1801503|2232732099754852875|appliances.person...|    xiaomi| 203.09|629229484|c00a1636-dfc2-4e9...|   appliances|          personal|\n",
      "+--------------------+----------+----------+-------------------+--------------------+----------+-------+---------+--------------------+-------------+------------------+\n",
      "only showing top 20 rows\n",
      "\n"
     ]
    }
   ],
   "source": [
    "# Splitting 'category_code' column into 'main_category' and 'secondary_category'\n",
    "df_apr = df_apr.withColumn('main_category', split(col('category_code'), '\\.')[0]) \\\n",
    "               .withColumn('secondary_category', when(split(col('category_code'), '\\.').getItem(1).isNull(), 'N/A')\n",
    "                                                .otherwise(split(col('category_code'), '\\.')[1]))\n",
    "\n",
    "# Print the modified DataFrame\n",
    "df_apr.show()  # Displaying the modified DataFrame\n"
   ]
  },
  {
   "cell_type": "code",
   "execution_count": 13,
   "id": "04e74cbf-643d-4c2d-a064-28a062c3f0e8",
   "metadata": {
    "tags": []
   },
   "outputs": [
    {
     "name": "stdout",
     "output_type": "stream",
     "text": [
      "+--------------------+----------+----------+-------------------+---------+-------+---------+--------------------+-------------+------------------+\n",
      "|          event_time|event_type|product_id|        category_id|    brand|  price|  user_id|        user_session|main_category|secondary_category|\n",
      "+--------------------+----------+----------+-------------------+---------+-------+---------+--------------------+-------------+------------------+\n",
      "|2020-01-01 00:00:...|      cart|   1005124|2232732093077520756|    apple|1453.18|532239316|253616df-2b1e-4bd...| construction|             tools|\n",
      "|2020-01-01 00:00:...|      cart|   1201565|2232732101407408685|    apple| 385.34|581430108|7d7687c4-b613-446...|      apparel|             shoes|\n",
      "|2020-01-01 00:00:...|      cart|  13101067|2232732106860003995|     skad| 266.67|519373619|e97a30d7-2873-401...|         null|               N/A|\n",
      "|2020-01-01 00:00:...|      cart|   4801028|2232732079706079299|   xiaomi|  14.95|574723072|2f967c6e-b6c4-497...|        sport|           bicycle|\n",
      "|2020-01-01 00:00:...|      cart|   1004226|2232732093077520756|    apple| 890.11|518285678|7dad15db-dd6d-4e5...| construction|             tools|\n",
      "|2020-01-01 00:00:...|      cart|   1005115|2232732093077520756|    apple| 869.46|514730269|2a5143e3-2de9-4dc...| construction|             tools|\n",
      "|2020-01-01 00:00:...|      cart|   1005116|2232732093077520756|    apple| 967.85|531140669|84c838d4-6e10-4b7...| construction|             tools|\n",
      "|2020-01-01 00:00:...|      cart|   1005115|2232732093077520756|    apple| 869.46|514730269|2a5143e3-2de9-4dc...| construction|             tools|\n",
      "|2020-01-01 00:01:...|      cart|   5100854|2232732103101907535|    apple| 553.30|580128882|09a50203-a753-46c...|  electronics|            clocks|\n",
      "|2020-01-01 00:01:...|      cart|  17301397|2232732098446229999|montblanc|  32.87|546383255|c0f02fdc-76f2-45a...|      apparel|             shoes|\n",
      "|2020-01-01 00:01:...|      cart|  12703498|2053013553199186187| cordiant|  40.93|563209914|657edcb2-767d-458...|         null|               N/A|\n",
      "|2020-01-01 00:01:...|      cart|   1002544|2232732093077520756|    apple| 445.95|565310369|7a140d1b-b90f-434...| construction|             tools|\n",
      "|2020-01-01 00:01:...|      cart|  17301397|2232732098446229999|montblanc|  32.87|546383255|c0f02fdc-76f2-45a...|      apparel|             shoes|\n",
      "|2020-01-01 00:01:...|      cart|   1002525|2232732093077520756|    apple| 563.72|580474456|d9b5e960-bca2-4eb...| construction|             tools|\n",
      "|2020-01-01 00:02:...|      cart|   4804718|2232732079706079299|    apple| 341.06|595414732|dcbd99b2-efab-46f...|        sport|           bicycle|\n",
      "|2020-01-01 00:02:...|      cart|   1005264|2232732093077520756|   xiaomi| 163.39|588816763|5241e291-33ff-48f...| construction|             tools|\n",
      "|2020-01-01 00:03:...|      cart|   1004767|2232732093077520756|  samsung| 238.55|543679531|32ca6f22-5ee8-4da...| construction|             tools|\n",
      "|2020-01-01 00:03:...|      cart|  17301037|2232732098446229999|     null|  37.19|595414503|b9864239-109c-4d4...|      apparel|             shoes|\n",
      "|2020-01-01 00:03:...|      cart|   4803976|2232732079706079299|  samsung| 102.68|552423070|c8064466-ddab-487...|        sport|           bicycle|\n",
      "|2020-01-01 00:03:...|      cart|   1004767|2232732093077520756|  samsung| 238.55|527642597|d133def5-d31c-475...| construction|             tools|\n",
      "+--------------------+----------+----------+-------------------+---------+-------+---------+--------------------+-------------+------------------+\n",
      "only showing top 20 rows\n",
      "\n",
      "+--------------------+----------+----------+-------------------+---------+-------+---------+--------------------+-------------+------------------+\n",
      "|          event_time|event_type|product_id|        category_id|    brand|  price|  user_id|        user_session|main_category|secondary_category|\n",
      "+--------------------+----------+----------+-------------------+---------+-------+---------+--------------------+-------------+------------------+\n",
      "|2020-02-01 00:00:...|      cart|   1005100|2232732093077520756|  samsung| 140.28|608822162|8062ce43-662e-4b6...| construction|             tools|\n",
      "|2020-02-01 00:00:...|      cart| 100001549|2053013558978937451|     puma|  38.15|608821784|600f4508-f562-4b2...|        sport|           bicycle|\n",
      "|2020-02-01 00:00:...|      cart| 100065078|2232732093077520756|   xiaomi| 568.61|526615078|5f0aab9f-f92e-4ef...| construction|             tools|\n",
      "|2020-02-01 00:00:...|      cart|   5701246|2053013554415534427|     null|  24.43|563902689|76cc9152-8a9f-43e...|  electronics|             video|\n",
      "|2020-02-01 00:00:...|      cart|  14701533|2053013552570040549|     null| 154.42|520953435|5f1c7752-cf92-41f...|  electronics|             video|\n",
      "|2020-02-01 00:00:...|      cart|   1004855|2232732093077520756|   xiaomi| 123.30|519236281|e512f514-dc7f-4fc...| construction|             tools|\n",
      "|2020-02-01 00:00:...|      cart|   1005100|2232732093077520756|  samsung| 140.28|550305600|bd7a37b6-420d-457...| construction|             tools|\n",
      "|2020-02-01 00:00:...|      cart|   1005143|2232732093077520756|    apple|1311.49|530488542|21f46782-fb36-4d5...| construction|             tools|\n",
      "|2020-02-01 00:00:...|      cart|   9101354|2232732104066597479|   x-game|   6.17|593914457|065318cd-84d7-4b9...|    furniture|           kitchen|\n",
      "|2020-02-01 00:00:...|      cart|   1005105|2232732093077520756|    apple|1208.00|515054403|a3dfe681-0132-45b...| construction|             tools|\n",
      "|2020-02-01 00:00:...|      cart|   1005105|2232732093077520756|    apple|1208.00|515054403|b10c9a4f-e726-43a...| construction|             tools|\n",
      "|2020-02-01 00:00:...|      cart|   1005105|2232732093077520756|    apple|1208.00|515054403|a3dfe681-0132-45b...| construction|             tools|\n",
      "|2020-02-01 00:00:...|      cart|  12702637|2053013553559896355| goodyear| 234.76|515054403|c578c94e-9589-476...|         null|               N/A|\n",
      "|2020-02-01 00:00:...|      cart|  21800263|2232732110861370114|    razer|  61.26|515054403|785280ff-f4e7-473...|    furniture|       living_room|\n",
      "|2020-02-01 00:00:...|      cart|   2900512|2232732102103663163|  samsung| 146.70|515054403|74c80509-a13e-4ce...|    furniture|           bedroom|\n",
      "|2020-02-01 00:00:...|      cart|   2900512|2232732102103663163|  samsung| 146.70|515054403|74c80509-a13e-4ce...|    furniture|           bedroom|\n",
      "|2020-02-01 00:00:...|      cart|   2900844|2232732102103663163|panasonic|  97.79|515054403|73fe321b-7f87-420...|    furniture|           bedroom|\n",
      "|2020-02-01 00:00:...|      cart|   3800859|2053013557477376525|    tefal|  41.16|515054403|141a95e9-e78c-485...|    furniture|          bathroom|\n",
      "|2020-02-01 00:00:...|      cart|   4201160|2053013557695480347|     gree| 436.68|515054403|2081c9ae-95ea-4ad...|   appliances|       environment|\n",
      "|2020-02-01 00:00:...|      cart|   6301925|2232732086928670945|    bosch|  82.34|515054403|85ffc1e9-9b25-4ed...|  electronics|            camera|\n",
      "+--------------------+----------+----------+-------------------+---------+-------+---------+--------------------+-------------+------------------+\n",
      "only showing top 20 rows\n",
      "\n",
      "+--------------------+----------+----------+-------------------+---------+------+---------+--------------------+-------------+------------------+\n",
      "|          event_time|event_type|product_id|        category_id|    brand| price|  user_id|        user_session|main_category|secondary_category|\n",
      "+--------------------+----------+----------+-------------------+---------+------+---------+--------------------+-------------+------------------+\n",
      "|2020-03-01 00:00:...|  purchase|   5100722|2232732103101907535|   huawei|128.68|604860058|f558a7d7-f1e4-4b8...|  electronics|            clocks|\n",
      "|2020-03-01 00:00:...|  purchase| 100082062|2232732102103663163|      arg| 48.88|601908129|37473d3f-b68b-4a2...|    furniture|           bedroom|\n",
      "|2020-03-01 00:00:...|      cart|   6902464|2232732078733000751|   zlatek| 49.91|531574188|48714293-b3f9-494...|  electronics|         telephone|\n",
      "|2020-03-01 00:01:...|  purchase|   5100610|2232732103101907535|    apple|295.73|613253847|45aa30e5-2e05-4d5...|  electronics|            clocks|\n",
      "|2020-03-01 00:01:...|      cart|   1002544|2232732093077520756|    apple|397.10|622090790|fb5b918c-f1f6-48d...| construction|             tools|\n",
      "|2020-03-01 00:01:...|      cart|   1004838|2232732093077520756|     oppo|166.03|604474484|c28b52d6-5a19-400...| construction|             tools|\n",
      "|2020-03-01 00:01:...|  purchase|   1002544|2232732093077520756|    apple|397.10|622090486|a91bed93-c586-453...| construction|             tools|\n",
      "|2020-03-01 00:01:...|      cart|  21400643|2232732082063278200|   orient| 93.44|608549125|56ae2d30-4a21-475...|  electronics|            clocks|\n",
      "|2020-03-01 00:01:...|      cart|   4803794|2232732079706079299|     acme| 23.14|548101693|e18561f7-742e-45b...|        sport|           bicycle|\n",
      "|2020-03-01 00:01:...|      cart|   1003316|2232732093077520756|    apple|823.70|622090543|b821ee79-96fe-497...| construction|             tools|\n",
      "|2020-03-01 00:01:...|      cart| 100102090|2053013556521075159|  respect| 82.11|513976290|003762ff-cce1-448...|      apparel|             shoes|\n",
      "|2020-03-01 00:02:...|  purchase|   1004767|2232732093077520756|  samsung|241.83|621784978|50d5fceb-0eee-473...| construction|             tools|\n",
      "|2020-03-01 00:02:...|      cart| 100102090|2053013556521075159|  respect| 82.11|513976290|003762ff-cce1-448...|      apparel|             shoes|\n",
      "|2020-03-01 00:02:...|      cart| 100102090|2053013556521075159|  respect| 82.11|513976290|003762ff-cce1-448...|      apparel|             shoes|\n",
      "|2020-03-01 00:02:...|      cart|  16600067|2232732108780995272|rivertoys|422.15|616437533|aad023bc-c858-47a...|        sport|           trainer|\n",
      "|2020-03-01 00:02:...|      cart|   3701428|2232732101063475749|   arnica| 69.24|516454226|ee22b80c-ed3e-3c8...|   appliances|       environment|\n",
      "|2020-03-01 00:02:...|      cart| 100041324|2232732093077520756|   xiaomi|496.74|591054018|274db27d-16da-4a3...| construction|             tools|\n",
      "|2020-03-01 00:02:...|      cart|  12719307|2053013553199186187|    tunga| 28.06|585155850|9ccc3b07-88d7-427...|         null|               N/A|\n",
      "|2020-03-01 00:02:...|      cart|   4803794|2232732079706079299|     acme| 23.14|548101693|e18561f7-742e-45b...|        sport|           bicycle|\n",
      "|2020-03-01 00:02:...|      cart|  11200512|2232732105635267203|   xiaomi| 51.22|547190131|bb74efee-77a2-44c...|         kids|             swing|\n",
      "+--------------------+----------+----------+-------------------+---------+------+---------+--------------------+-------------+------------------+\n",
      "only showing top 20 rows\n",
      "\n",
      "+--------------------+----------+----------+-------------------+----------+-------+---------+--------------------+-------------+------------------+\n",
      "|          event_time|event_type|product_id|        category_id|     brand|  price|  user_id|        user_session|main_category|secondary_category|\n",
      "+--------------------+----------+----------+-------------------+----------+-------+---------+--------------------+-------------+------------------+\n",
      "|2020-04-01 00:00:...|      cart|   5100328|2232732103101907535|    xiaomi| 117.12|635164513|c40d1b96-90aa-4ce...|  electronics|            clocks|\n",
      "|2020-04-01 00:00:...|      cart| 100177859|2053013551932506308|  s.oliver|  60.49|633281427|667a8535-221c-416...| construction|             tools|\n",
      "|2020-04-01 00:00:...|      cart|  22700202|2232732091643068746|     stels| 171.18|515979190|5526811f-230a-476...|         null|               N/A|\n",
      "|2020-04-01 00:00:...|      cart|   5100328|2232732103101907535|    xiaomi| 117.12|635164513|c40d1b96-90aa-4ce...|  electronics|            clocks|\n",
      "|2020-04-01 00:00:...|      cart|   5100328|2232732103101907535|    xiaomi| 117.12|635164513|c40d1b96-90aa-4ce...|  electronics|            clocks|\n",
      "|2020-04-01 00:00:...|      cart|   5100328|2232732103101907535|    xiaomi| 117.12|635164513|c40d1b96-90aa-4ce...|  electronics|            clocks|\n",
      "|2020-04-01 00:00:...|      cart|   1801503|2232732099754852875|    xiaomi| 203.09|629229484|c00a1636-dfc2-4e9...|   appliances|          personal|\n",
      "|2020-04-01 00:00:...|      cart|   5100328|2232732103101907535|    xiaomi| 117.12|635164513|c40d1b96-90aa-4ce...|  electronics|            clocks|\n",
      "|2020-04-01 00:00:...|      cart| 100011103|2053013554658804075|      acer| 385.57|522177285|902aa3e5-957a-49e...|  electronics|             audio|\n",
      "|2020-04-01 00:00:...|      cart|   5100328|2232732103101907535|    xiaomi| 117.12|635164513|c40d1b96-90aa-4ce...|  electronics|            clocks|\n",
      "|2020-04-01 00:00:...|  purchase| 100177859|2053013551932506308|  s.oliver|  60.49|633281427|667a8535-221c-416...| construction|             tools|\n",
      "|2020-04-01 00:00:...|      cart|   7600480|2232732103982711397|   tp-link|  52.77|512411694|7685a5aa-42ce-4bd...|    furniture|           kitchen|\n",
      "|2020-04-01 00:00:...|      cart|   1801503|2232732099754852875|    xiaomi| 203.09|629229484|c00a1636-dfc2-4e9...|   appliances|          personal|\n",
      "|2020-04-01 00:01:...|      cart|   4100369|2232732098228126185|      sony| 540.30|635165471|c6ce1b9b-19d1-429...|      apparel|             shoes|\n",
      "|2020-04-01 00:01:...|      cart| 100022253|2053013554658804075|      asus| 257.38|566023743|833d7b44-6cdf-440...|  electronics|             audio|\n",
      "|2020-04-01 00:01:...|      cart|   1005129|2232732093077520756|     apple|1338.13|619309567|9cdc3daa-ca74-4ed...| construction|             tools|\n",
      "|2020-04-01 00:01:...|      cart|   1005129|2232732093077520756|     apple|1338.13|619309567|9cdc3daa-ca74-4ed...| construction|             tools|\n",
      "|2020-04-01 00:01:...|      cart|  21400996|2232732082063278200|     casio|  80.42|633281427|667a8535-221c-416...|  electronics|            clocks|\n",
      "|2020-04-01 00:02:...|      cart| 100125468|2232732103210959441|pocketbook| 319.16|514584035|ad1cc6c5-b018-44c...|    computers|            ebooks|\n",
      "|2020-04-01 00:02:...|  purchase|   1801503|2232732099754852875|    xiaomi| 203.09|629229484|c00a1636-dfc2-4e9...|   appliances|          personal|\n",
      "+--------------------+----------+----------+-------------------+----------+-------+---------+--------------------+-------------+------------------+\n",
      "only showing top 20 rows\n",
      "\n"
     ]
    }
   ],
   "source": [
    "# Dropping 'category_code' column from each DataFrame\n",
    "df_jan = df_jan.drop('category_code')\n",
    "df_feb = df_feb.drop('category_code')\n",
    "df_mar = df_mar.drop('category_code')\n",
    "df_apr = df_apr.drop('category_code')\n",
    "\n",
    "# Print the modified DataFrames\n",
    "df_jan.show()\n",
    "df_feb.show()\n",
    "df_mar.show()\n",
    "df_apr.show()\n"
   ]
  },
  {
   "cell_type": "code",
   "execution_count": 48,
   "id": "7e6a1702-d720-4ca0-9070-c1cadaeecaad",
   "metadata": {
    "tags": []
   },
   "outputs": [
    {
     "name": "stdout",
     "output_type": "stream",
     "text": [
      "+--------------------+----------+----------+-------------------+---------+-------+---------+--------------------+-------------+------------------+\n",
      "|          event_time|event_type|product_id|        category_id|    brand|  price|  user_id|        user_session|main_category|secondary_category|\n",
      "+--------------------+----------+----------+-------------------+---------+-------+---------+--------------------+-------------+------------------+\n",
      "|2020-01-01 00:00:...|      cart|   1005124|2232732093077520756|    apple|1453.18|532239316|253616df-2b1e-4bd...| construction|             tools|\n",
      "|2020-01-01 00:00:...|      cart|   1201565|2232732101407408685|    apple| 385.34|581430108|7d7687c4-b613-446...|      apparel|             shoes|\n",
      "|2020-01-01 00:00:...|      cart|  13101067|2232732106860003995|     skad| 266.67|519373619|e97a30d7-2873-401...|         null|               N/A|\n",
      "|2020-01-01 00:00:...|      cart|   4801028|2232732079706079299|   xiaomi|  14.95|574723072|2f967c6e-b6c4-497...|        sport|           bicycle|\n",
      "|2020-01-01 00:00:...|      cart|   1004226|2232732093077520756|    apple| 890.11|518285678|7dad15db-dd6d-4e5...| construction|             tools|\n",
      "|2020-01-01 00:00:...|      cart|   1005115|2232732093077520756|    apple| 869.46|514730269|2a5143e3-2de9-4dc...| construction|             tools|\n",
      "|2020-01-01 00:00:...|      cart|   1005116|2232732093077520756|    apple| 967.85|531140669|84c838d4-6e10-4b7...| construction|             tools|\n",
      "|2020-01-01 00:00:...|      cart|   1005115|2232732093077520756|    apple| 869.46|514730269|2a5143e3-2de9-4dc...| construction|             tools|\n",
      "|2020-01-01 00:01:...|      cart|   5100854|2232732103101907535|    apple| 553.30|580128882|09a50203-a753-46c...|  electronics|            clocks|\n",
      "|2020-01-01 00:01:...|      cart|  17301397|2232732098446229999|montblanc|  32.87|546383255|c0f02fdc-76f2-45a...|      apparel|             shoes|\n",
      "|2020-01-01 00:01:...|      cart|  12703498|2053013553199186187| cordiant|  40.93|563209914|657edcb2-767d-458...|         null|               N/A|\n",
      "|2020-01-01 00:01:...|      cart|   1002544|2232732093077520756|    apple| 445.95|565310369|7a140d1b-b90f-434...| construction|             tools|\n",
      "|2020-01-01 00:01:...|      cart|  17301397|2232732098446229999|montblanc|  32.87|546383255|c0f02fdc-76f2-45a...|      apparel|             shoes|\n",
      "|2020-01-01 00:01:...|      cart|   1002525|2232732093077520756|    apple| 563.72|580474456|d9b5e960-bca2-4eb...| construction|             tools|\n",
      "|2020-01-01 00:02:...|      cart|   4804718|2232732079706079299|    apple| 341.06|595414732|dcbd99b2-efab-46f...|        sport|           bicycle|\n",
      "|2020-01-01 00:02:...|      cart|   1005264|2232732093077520756|   xiaomi| 163.39|588816763|5241e291-33ff-48f...| construction|             tools|\n",
      "|2020-01-01 00:03:...|      cart|   1004767|2232732093077520756|  samsung| 238.55|543679531|32ca6f22-5ee8-4da...| construction|             tools|\n",
      "|2020-01-01 00:03:...|      cart|  17301037|2232732098446229999|     null|  37.19|595414503|b9864239-109c-4d4...|      apparel|             shoes|\n",
      "|2020-01-01 00:03:...|      cart|   4803976|2232732079706079299|  samsung| 102.68|552423070|c8064466-ddab-487...|        sport|           bicycle|\n",
      "|2020-01-01 00:03:...|      cart|   1004767|2232732093077520756|  samsung| 238.55|527642597|d133def5-d31c-475...| construction|             tools|\n",
      "+--------------------+----------+----------+-------------------+---------+-------+---------+--------------------+-------------+------------------+\n",
      "only showing top 20 rows\n",
      "\n"
     ]
    }
   ],
   "source": [
    "from functools import reduce\n",
    "\n",
    "# Assuming df_jan, df_feb, df_mar, and df_apr are your PySpark DataFrames\n",
    "\n",
    "# Create a list of DataFrames to concatenate\n",
    "dfs_to_concat = [df_jan, df_feb, df_mar, df_apr]\n",
    "\n",
    "# Use reduce to perform vertical concatenation (union) of DataFrames\n",
    "combined_df = reduce(lambda x, y: x.union(y), dfs_to_concat)\n",
    "\n",
    "# Show the combined DataFrame\n",
    "combined_df.show()\n"
   ]
  },
  {
   "cell_type": "code",
   "execution_count": 49,
   "id": "e490a7db-9287-48bf-ad0e-91cb1779a173",
   "metadata": {
    "tags": []
   },
   "outputs": [
    {
     "ename": "Py4JJavaError",
     "evalue": "An error occurred while calling z:org.apache.spark.api.python.PythonRDD.collectAndServe.\n: org.apache.spark.SparkException: Job aborted due to stage failure: Task 15 in stage 97.0 failed 1 times, most recent failure: Lost task 15.0 in stage 97.0 (TID 3889) (df3ec5710f38 executor driver): org.apache.spark.api.python.PythonException: Traceback (most recent call last):\n  File \"/usr/local/spark/python/lib/pyspark.zip/pyspark/worker.py\", line 686, in main\n    process()\n  File \"/usr/local/spark/python/lib/pyspark.zip/pyspark/worker.py\", line 676, in process\n    out_iter = func(split_index, iterator)\n  File \"/usr/local/spark/python/pyspark/rdd.py\", line 3472, in pipeline_func\n    return func(split, prev_func(split, iterator))\n  File \"/usr/local/spark/python/pyspark/rdd.py\", line 3472, in pipeline_func\n    return func(split, prev_func(split, iterator))\n  File \"/usr/local/spark/python/pyspark/rdd.py\", line 540, in func\n    return f(iterator)\n  File \"/usr/local/spark/python/pyspark/rdd.py\", line 1532, in <lambda>\n    return self.mapPartitions(lambda i: [StatCounter(i)]).reduce(  # type: ignore[arg-type]\n  File \"/usr/local/spark/python/lib/pyspark.zip/pyspark/statcounter.py\", line 42, in __init__\n    for v in values:\n  File \"/usr/local/spark/python/lib/pyspark.zip/pyspark/util.py\", line 81, in wrapper\n    return f(*args, **kwargs)\n  File \"/tmp/ipykernel_18669/1085973062.py\", line 9, in <lambda>\n  File \"/usr/local/spark/python/lib/pyspark.zip/pyspark/sql/functions.py\", line 289, in sum\n    return _invoke_function_over_columns(\"sum\", col)\n  File \"/usr/local/spark/python/lib/pyspark.zip/pyspark/sql/functions.py\", line 93, in _invoke_function_over_columns\n    return _invoke_function(name, *(_to_java_column(col) for col in cols))\n  File \"/usr/local/spark/python/lib/pyspark.zip/pyspark/sql/functions.py\", line 93, in <genexpr>\n    return _invoke_function(name, *(_to_java_column(col) for col in cols))\n  File \"/usr/local/spark/python/lib/pyspark.zip/pyspark/sql/column.py\", line 65, in _to_java_column\n    raise TypeError(\nTypeError: Invalid argument, not a string or column: <generator object <lambda>.<locals>.<genexpr> at 0x7fcc238c12a0> of type <class 'generator'>. For column literals, use 'lit', 'array', 'struct' or 'create_map' function.\n\n\tat org.apache.spark.api.python.BasePythonRunner$ReaderIterator.handlePythonException(PythonRunner.scala:559)\n\tat org.apache.spark.api.python.PythonRunner$$anon$3.read(PythonRunner.scala:765)\n\tat org.apache.spark.api.python.PythonRunner$$anon$3.read(PythonRunner.scala:747)\n\tat org.apache.spark.api.python.BasePythonRunner$ReaderIterator.hasNext(PythonRunner.scala:512)\n\tat org.apache.spark.InterruptibleIterator.hasNext(InterruptibleIterator.scala:37)\n\tat scala.collection.Iterator.foreach(Iterator.scala:943)\n\tat scala.collection.Iterator.foreach$(Iterator.scala:943)\n\tat org.apache.spark.InterruptibleIterator.foreach(InterruptibleIterator.scala:28)\n\tat scala.collection.generic.Growable.$plus$plus$eq(Growable.scala:62)\n\tat scala.collection.generic.Growable.$plus$plus$eq$(Growable.scala:53)\n\tat scala.collection.mutable.ArrayBuffer.$plus$plus$eq(ArrayBuffer.scala:105)\n\tat scala.collection.mutable.ArrayBuffer.$plus$plus$eq(ArrayBuffer.scala:49)\n\tat scala.collection.TraversableOnce.to(TraversableOnce.scala:366)\n\tat scala.collection.TraversableOnce.to$(TraversableOnce.scala:364)\n\tat org.apache.spark.InterruptibleIterator.to(InterruptibleIterator.scala:28)\n\tat scala.collection.TraversableOnce.toBuffer(TraversableOnce.scala:358)\n\tat scala.collection.TraversableOnce.toBuffer$(TraversableOnce.scala:358)\n\tat org.apache.spark.InterruptibleIterator.toBuffer(InterruptibleIterator.scala:28)\n\tat scala.collection.TraversableOnce.toArray(TraversableOnce.scala:345)\n\tat scala.collection.TraversableOnce.toArray$(TraversableOnce.scala:339)\n\tat org.apache.spark.InterruptibleIterator.toArray(InterruptibleIterator.scala:28)\n\tat org.apache.spark.rdd.RDD.$anonfun$collect$2(RDD.scala:1021)\n\tat org.apache.spark.SparkContext.$anonfun$runJob$5(SparkContext.scala:2268)\n\tat org.apache.spark.scheduler.ResultTask.runTask(ResultTask.scala:90)\n\tat org.apache.spark.scheduler.Task.run(Task.scala:136)\n\tat org.apache.spark.executor.Executor$TaskRunner.$anonfun$run$3(Executor.scala:548)\n\tat org.apache.spark.util.Utils$.tryWithSafeFinally(Utils.scala:1504)\n\tat org.apache.spark.executor.Executor$TaskRunner.run(Executor.scala:551)\n\tat java.base/java.util.concurrent.ThreadPoolExecutor.runWorker(ThreadPoolExecutor.java:1136)\n\tat java.base/java.util.concurrent.ThreadPoolExecutor$Worker.run(ThreadPoolExecutor.java:635)\n\tat java.base/java.lang.Thread.run(Thread.java:833)\n\nDriver stacktrace:\n\tat org.apache.spark.scheduler.DAGScheduler.failJobAndIndependentStages(DAGScheduler.scala:2672)\n\tat org.apache.spark.scheduler.DAGScheduler.$anonfun$abortStage$2(DAGScheduler.scala:2608)\n\tat org.apache.spark.scheduler.DAGScheduler.$anonfun$abortStage$2$adapted(DAGScheduler.scala:2607)\n\tat scala.collection.mutable.ResizableArray.foreach(ResizableArray.scala:62)\n\tat scala.collection.mutable.ResizableArray.foreach$(ResizableArray.scala:55)\n\tat scala.collection.mutable.ArrayBuffer.foreach(ArrayBuffer.scala:49)\n\tat org.apache.spark.scheduler.DAGScheduler.abortStage(DAGScheduler.scala:2607)\n\tat org.apache.spark.scheduler.DAGScheduler.$anonfun$handleTaskSetFailed$1(DAGScheduler.scala:1182)\n\tat org.apache.spark.scheduler.DAGScheduler.$anonfun$handleTaskSetFailed$1$adapted(DAGScheduler.scala:1182)\n\tat scala.Option.foreach(Option.scala:407)\n\tat org.apache.spark.scheduler.DAGScheduler.handleTaskSetFailed(DAGScheduler.scala:1182)\n\tat org.apache.spark.scheduler.DAGSchedulerEventProcessLoop.doOnReceive(DAGScheduler.scala:2860)\n\tat org.apache.spark.scheduler.DAGSchedulerEventProcessLoop.onReceive(DAGScheduler.scala:2802)\n\tat org.apache.spark.scheduler.DAGSchedulerEventProcessLoop.onReceive(DAGScheduler.scala:2791)\n\tat org.apache.spark.util.EventLoop$$anon$1.run(EventLoop.scala:49)\n\tat org.apache.spark.scheduler.DAGScheduler.runJob(DAGScheduler.scala:952)\n\tat org.apache.spark.SparkContext.runJob(SparkContext.scala:2228)\n\tat org.apache.spark.SparkContext.runJob(SparkContext.scala:2249)\n\tat org.apache.spark.SparkContext.runJob(SparkContext.scala:2268)\n\tat org.apache.spark.SparkContext.runJob(SparkContext.scala:2293)\n\tat org.apache.spark.rdd.RDD.$anonfun$collect$1(RDD.scala:1021)\n\tat org.apache.spark.rdd.RDDOperationScope$.withScope(RDDOperationScope.scala:151)\n\tat org.apache.spark.rdd.RDDOperationScope$.withScope(RDDOperationScope.scala:112)\n\tat org.apache.spark.rdd.RDD.withScope(RDD.scala:406)\n\tat org.apache.spark.rdd.RDD.collect(RDD.scala:1020)\n\tat org.apache.spark.api.python.PythonRDD$.collectAndServe(PythonRDD.scala:180)\n\tat org.apache.spark.api.python.PythonRDD.collectAndServe(PythonRDD.scala)\n\tat java.base/jdk.internal.reflect.NativeMethodAccessorImpl.invoke0(Native Method)\n\tat java.base/jdk.internal.reflect.NativeMethodAccessorImpl.invoke(NativeMethodAccessorImpl.java:77)\n\tat java.base/jdk.internal.reflect.DelegatingMethodAccessorImpl.invoke(DelegatingMethodAccessorImpl.java:43)\n\tat java.base/java.lang.reflect.Method.invoke(Method.java:568)\n\tat py4j.reflection.MethodInvoker.invoke(MethodInvoker.java:244)\n\tat py4j.reflection.ReflectionEngine.invoke(ReflectionEngine.java:357)\n\tat py4j.Gateway.invoke(Gateway.java:282)\n\tat py4j.commands.AbstractCommand.invokeMethod(AbstractCommand.java:132)\n\tat py4j.commands.CallCommand.execute(CallCommand.java:79)\n\tat py4j.ClientServerConnection.waitForCommands(ClientServerConnection.java:182)\n\tat py4j.ClientServerConnection.run(ClientServerConnection.java:106)\n\tat java.base/java.lang.Thread.run(Thread.java:833)\nCaused by: org.apache.spark.api.python.PythonException: Traceback (most recent call last):\n  File \"/usr/local/spark/python/lib/pyspark.zip/pyspark/worker.py\", line 686, in main\n    process()\n  File \"/usr/local/spark/python/lib/pyspark.zip/pyspark/worker.py\", line 676, in process\n    out_iter = func(split_index, iterator)\n  File \"/usr/local/spark/python/pyspark/rdd.py\", line 3472, in pipeline_func\n    return func(split, prev_func(split, iterator))\n  File \"/usr/local/spark/python/pyspark/rdd.py\", line 3472, in pipeline_func\n    return func(split, prev_func(split, iterator))\n  File \"/usr/local/spark/python/pyspark/rdd.py\", line 540, in func\n    return f(iterator)\n  File \"/usr/local/spark/python/pyspark/rdd.py\", line 1532, in <lambda>\n    return self.mapPartitions(lambda i: [StatCounter(i)]).reduce(  # type: ignore[arg-type]\n  File \"/usr/local/spark/python/lib/pyspark.zip/pyspark/statcounter.py\", line 42, in __init__\n    for v in values:\n  File \"/usr/local/spark/python/lib/pyspark.zip/pyspark/util.py\", line 81, in wrapper\n    return f(*args, **kwargs)\n  File \"/tmp/ipykernel_18669/1085973062.py\", line 9, in <lambda>\n  File \"/usr/local/spark/python/lib/pyspark.zip/pyspark/sql/functions.py\", line 289, in sum\n    return _invoke_function_over_columns(\"sum\", col)\n  File \"/usr/local/spark/python/lib/pyspark.zip/pyspark/sql/functions.py\", line 93, in _invoke_function_over_columns\n    return _invoke_function(name, *(_to_java_column(col) for col in cols))\n  File \"/usr/local/spark/python/lib/pyspark.zip/pyspark/sql/functions.py\", line 93, in <genexpr>\n    return _invoke_function(name, *(_to_java_column(col) for col in cols))\n  File \"/usr/local/spark/python/lib/pyspark.zip/pyspark/sql/column.py\", line 65, in _to_java_column\n    raise TypeError(\nTypeError: Invalid argument, not a string or column: <generator object <lambda>.<locals>.<genexpr> at 0x7fcc238c12a0> of type <class 'generator'>. For column literals, use 'lit', 'array', 'struct' or 'create_map' function.\n\n\tat org.apache.spark.api.python.BasePythonRunner$ReaderIterator.handlePythonException(PythonRunner.scala:559)\n\tat org.apache.spark.api.python.PythonRunner$$anon$3.read(PythonRunner.scala:765)\n\tat org.apache.spark.api.python.PythonRunner$$anon$3.read(PythonRunner.scala:747)\n\tat org.apache.spark.api.python.BasePythonRunner$ReaderIterator.hasNext(PythonRunner.scala:512)\n\tat org.apache.spark.InterruptibleIterator.hasNext(InterruptibleIterator.scala:37)\n\tat scala.collection.Iterator.foreach(Iterator.scala:943)\n\tat scala.collection.Iterator.foreach$(Iterator.scala:943)\n\tat org.apache.spark.InterruptibleIterator.foreach(InterruptibleIterator.scala:28)\n\tat scala.collection.generic.Growable.$plus$plus$eq(Growable.scala:62)\n\tat scala.collection.generic.Growable.$plus$plus$eq$(Growable.scala:53)\n\tat scala.collection.mutable.ArrayBuffer.$plus$plus$eq(ArrayBuffer.scala:105)\n\tat scala.collection.mutable.ArrayBuffer.$plus$plus$eq(ArrayBuffer.scala:49)\n\tat scala.collection.TraversableOnce.to(TraversableOnce.scala:366)\n\tat scala.collection.TraversableOnce.to$(TraversableOnce.scala:364)\n\tat org.apache.spark.InterruptibleIterator.to(InterruptibleIterator.scala:28)\n\tat scala.collection.TraversableOnce.toBuffer(TraversableOnce.scala:358)\n\tat scala.collection.TraversableOnce.toBuffer$(TraversableOnce.scala:358)\n\tat org.apache.spark.InterruptibleIterator.toBuffer(InterruptibleIterator.scala:28)\n\tat scala.collection.TraversableOnce.toArray(TraversableOnce.scala:345)\n\tat scala.collection.TraversableOnce.toArray$(TraversableOnce.scala:339)\n\tat org.apache.spark.InterruptibleIterator.toArray(InterruptibleIterator.scala:28)\n\tat org.apache.spark.rdd.RDD.$anonfun$collect$2(RDD.scala:1021)\n\tat org.apache.spark.SparkContext.$anonfun$runJob$5(SparkContext.scala:2268)\n\tat org.apache.spark.scheduler.ResultTask.runTask(ResultTask.scala:90)\n\tat org.apache.spark.scheduler.Task.run(Task.scala:136)\n\tat org.apache.spark.executor.Executor$TaskRunner.$anonfun$run$3(Executor.scala:548)\n\tat org.apache.spark.util.Utils$.tryWithSafeFinally(Utils.scala:1504)\n\tat org.apache.spark.executor.Executor$TaskRunner.run(Executor.scala:551)\n\tat java.base/java.util.concurrent.ThreadPoolExecutor.runWorker(ThreadPoolExecutor.java:1136)\n\tat java.base/java.util.concurrent.ThreadPoolExecutor$Worker.run(ThreadPoolExecutor.java:635)\n\t... 1 more\n",
     "output_type": "error",
     "traceback": [
      "\u001b[0;31m---------------------------------------------------------------------------\u001b[0m",
      "\u001b[0;31mPy4JJavaError\u001b[0m                             Traceback (most recent call last)",
      "Cell \u001b[0;32mIn[49], line 9\u001b[0m\n\u001b[1;32m      7\u001b[0m num_columns \u001b[38;5;241m=\u001b[39m \u001b[38;5;28mlen\u001b[39m(combined_df\u001b[38;5;241m.\u001b[39mcolumns)\n\u001b[1;32m      8\u001b[0m num_rows \u001b[38;5;241m=\u001b[39m combined_df\u001b[38;5;241m.\u001b[39mcount()\n\u001b[0;32m----> 9\u001b[0m approx_row_size \u001b[38;5;241m=\u001b[39m \u001b[43mcombined_df\u001b[49m\u001b[38;5;241;43m.\u001b[39;49m\u001b[43mrdd\u001b[49m\u001b[38;5;241;43m.\u001b[39;49m\u001b[43mmap\u001b[49m\u001b[43m(\u001b[49m\u001b[38;5;28;43;01mlambda\u001b[39;49;00m\u001b[43m \u001b[49m\u001b[43mrow\u001b[49m\u001b[43m:\u001b[49m\u001b[43m \u001b[49m\u001b[38;5;28;43msum\u001b[39;49m\u001b[43m(\u001b[49m\u001b[38;5;28;43mlen\u001b[39;49m\u001b[43m(\u001b[49m\u001b[38;5;28;43mstr\u001b[39;49m\u001b[43m(\u001b[49m\u001b[43mcell\u001b[49m\u001b[43m)\u001b[49m\u001b[43m)\u001b[49m\u001b[43m \u001b[49m\u001b[38;5;28;43;01mfor\u001b[39;49;00m\u001b[43m \u001b[49m\u001b[43mcell\u001b[49m\u001b[43m \u001b[49m\u001b[38;5;129;43;01min\u001b[39;49;00m\u001b[43m \u001b[49m\u001b[43mrow\u001b[49m\u001b[43m)\u001b[49m\u001b[43m \u001b[49m\u001b[38;5;28;43;01mif\u001b[39;49;00m\u001b[43m \u001b[49m\u001b[43mrow\u001b[49m\u001b[43m \u001b[49m\u001b[38;5;28;43;01melse\u001b[39;49;00m\u001b[43m \u001b[49m\u001b[38;5;241;43m0\u001b[39;49m\u001b[43m)\u001b[49m\u001b[38;5;241;43m.\u001b[39;49m\u001b[43mmean\u001b[49m\u001b[43m(\u001b[49m\u001b[43m)\u001b[49m  \u001b[38;5;66;03m# Approximate row size\u001b[39;00m\n\u001b[1;32m     10\u001b[0m size_before \u001b[38;5;241m=\u001b[39m num_columns \u001b[38;5;241m*\u001b[39m approx_row_size \u001b[38;5;241m*\u001b[39m num_rows\n\u001b[1;32m     12\u001b[0m \u001b[38;5;66;03m# Drop specified columns ('user_id', 'product_id', 'category_id')\u001b[39;00m\n",
      "File \u001b[0;32m/usr/local/spark/python/pyspark/rdd.py:1684\u001b[0m, in \u001b[0;36mRDD.mean\u001b[0;34m(self)\u001b[0m\n\u001b[1;32m   1675\u001b[0m \u001b[38;5;28;01mdef\u001b[39;00m \u001b[38;5;21mmean\u001b[39m(\u001b[38;5;28mself\u001b[39m: \u001b[38;5;124m\"\u001b[39m\u001b[38;5;124mRDD[NumberOrArray]\u001b[39m\u001b[38;5;124m\"\u001b[39m) \u001b[38;5;241m-\u001b[39m\u001b[38;5;241m>\u001b[39m \u001b[38;5;124m\"\u001b[39m\u001b[38;5;124mNumberOrArray\u001b[39m\u001b[38;5;124m\"\u001b[39m:\n\u001b[1;32m   1676\u001b[0m \u001b[38;5;250m    \u001b[39m\u001b[38;5;124;03m\"\"\"\u001b[39;00m\n\u001b[1;32m   1677\u001b[0m \u001b[38;5;124;03m    Compute the mean of this RDD's elements.\u001b[39;00m\n\u001b[1;32m   1678\u001b[0m \n\u001b[0;32m   (...)\u001b[0m\n\u001b[1;32m   1682\u001b[0m \u001b[38;5;124;03m    2.0\u001b[39;00m\n\u001b[1;32m   1683\u001b[0m \u001b[38;5;124;03m    \"\"\"\u001b[39;00m\n\u001b[0;32m-> 1684\u001b[0m     \u001b[38;5;28;01mreturn\u001b[39;00m \u001b[38;5;28;43mself\u001b[39;49m\u001b[38;5;241;43m.\u001b[39;49m\u001b[43mstats\u001b[49m\u001b[43m(\u001b[49m\u001b[43m)\u001b[49m\u001b[38;5;241m.\u001b[39mmean()\n",
      "File \u001b[0;32m/usr/local/spark/python/pyspark/rdd.py:1532\u001b[0m, in \u001b[0;36mRDD.stats\u001b[0;34m(self)\u001b[0m\n\u001b[1;32m   1529\u001b[0m \u001b[38;5;28;01mdef\u001b[39;00m \u001b[38;5;21mredFunc\u001b[39m(left_counter: StatCounter, right_counter: StatCounter) \u001b[38;5;241m-\u001b[39m\u001b[38;5;241m>\u001b[39m StatCounter:\n\u001b[1;32m   1530\u001b[0m     \u001b[38;5;28;01mreturn\u001b[39;00m left_counter\u001b[38;5;241m.\u001b[39mmergeStats(right_counter)\n\u001b[0;32m-> 1532\u001b[0m \u001b[38;5;28;01mreturn\u001b[39;00m \u001b[38;5;28;43mself\u001b[39;49m\u001b[38;5;241;43m.\u001b[39;49m\u001b[43mmapPartitions\u001b[49m\u001b[43m(\u001b[49m\u001b[38;5;28;43;01mlambda\u001b[39;49;00m\u001b[43m \u001b[49m\u001b[43mi\u001b[49m\u001b[43m:\u001b[49m\u001b[43m \u001b[49m\u001b[43m[\u001b[49m\u001b[43mStatCounter\u001b[49m\u001b[43m(\u001b[49m\u001b[43mi\u001b[49m\u001b[43m)\u001b[49m\u001b[43m]\u001b[49m\u001b[43m)\u001b[49m\u001b[38;5;241;43m.\u001b[39;49m\u001b[43mreduce\u001b[49m\u001b[43m(\u001b[49m\u001b[43m  \u001b[49m\u001b[38;5;66;43;03m# type: ignore[arg-type]\u001b[39;49;00m\n\u001b[1;32m   1533\u001b[0m \u001b[43m    \u001b[49m\u001b[43mredFunc\u001b[49m\n\u001b[1;32m   1534\u001b[0m \u001b[43m\u001b[49m\u001b[43m)\u001b[49m\n",
      "File \u001b[0;32m/usr/local/spark/python/pyspark/rdd.py:1250\u001b[0m, in \u001b[0;36mRDD.reduce\u001b[0;34m(self, f)\u001b[0m\n\u001b[1;32m   1247\u001b[0m         \u001b[38;5;28;01mreturn\u001b[39;00m\n\u001b[1;32m   1248\u001b[0m     \u001b[38;5;28;01myield\u001b[39;00m reduce(f, iterator, initial)\n\u001b[0;32m-> 1250\u001b[0m vals \u001b[38;5;241m=\u001b[39m \u001b[38;5;28;43mself\u001b[39;49m\u001b[38;5;241;43m.\u001b[39;49m\u001b[43mmapPartitions\u001b[49m\u001b[43m(\u001b[49m\u001b[43mfunc\u001b[49m\u001b[43m)\u001b[49m\u001b[38;5;241;43m.\u001b[39;49m\u001b[43mcollect\u001b[49m\u001b[43m(\u001b[49m\u001b[43m)\u001b[49m\n\u001b[1;32m   1251\u001b[0m \u001b[38;5;28;01mif\u001b[39;00m vals:\n\u001b[1;32m   1252\u001b[0m     \u001b[38;5;28;01mreturn\u001b[39;00m reduce(f, vals)\n",
      "File \u001b[0;32m/usr/local/spark/python/pyspark/rdd.py:1197\u001b[0m, in \u001b[0;36mRDD.collect\u001b[0;34m(self)\u001b[0m\n\u001b[1;32m   1195\u001b[0m \u001b[38;5;28;01mwith\u001b[39;00m SCCallSiteSync(\u001b[38;5;28mself\u001b[39m\u001b[38;5;241m.\u001b[39mcontext):\n\u001b[1;32m   1196\u001b[0m     \u001b[38;5;28;01massert\u001b[39;00m \u001b[38;5;28mself\u001b[39m\u001b[38;5;241m.\u001b[39mctx\u001b[38;5;241m.\u001b[39m_jvm \u001b[38;5;129;01mis\u001b[39;00m \u001b[38;5;129;01mnot\u001b[39;00m \u001b[38;5;28;01mNone\u001b[39;00m\n\u001b[0;32m-> 1197\u001b[0m     sock_info \u001b[38;5;241m=\u001b[39m \u001b[38;5;28;43mself\u001b[39;49m\u001b[38;5;241;43m.\u001b[39;49m\u001b[43mctx\u001b[49m\u001b[38;5;241;43m.\u001b[39;49m\u001b[43m_jvm\u001b[49m\u001b[38;5;241;43m.\u001b[39;49m\u001b[43mPythonRDD\u001b[49m\u001b[38;5;241;43m.\u001b[39;49m\u001b[43mcollectAndServe\u001b[49m\u001b[43m(\u001b[49m\u001b[38;5;28;43mself\u001b[39;49m\u001b[38;5;241;43m.\u001b[39;49m\u001b[43m_jrdd\u001b[49m\u001b[38;5;241;43m.\u001b[39;49m\u001b[43mrdd\u001b[49m\u001b[43m(\u001b[49m\u001b[43m)\u001b[49m\u001b[43m)\u001b[49m\n\u001b[1;32m   1198\u001b[0m \u001b[38;5;28;01mreturn\u001b[39;00m \u001b[38;5;28mlist\u001b[39m(_load_from_socket(sock_info, \u001b[38;5;28mself\u001b[39m\u001b[38;5;241m.\u001b[39m_jrdd_deserializer))\n",
      "File \u001b[0;32m/usr/local/spark/python/lib/py4j-0.10.9.5-src.zip/py4j/java_gateway.py:1321\u001b[0m, in \u001b[0;36mJavaMember.__call__\u001b[0;34m(self, *args)\u001b[0m\n\u001b[1;32m   1315\u001b[0m command \u001b[38;5;241m=\u001b[39m proto\u001b[38;5;241m.\u001b[39mCALL_COMMAND_NAME \u001b[38;5;241m+\u001b[39m\\\n\u001b[1;32m   1316\u001b[0m     \u001b[38;5;28mself\u001b[39m\u001b[38;5;241m.\u001b[39mcommand_header \u001b[38;5;241m+\u001b[39m\\\n\u001b[1;32m   1317\u001b[0m     args_command \u001b[38;5;241m+\u001b[39m\\\n\u001b[1;32m   1318\u001b[0m     proto\u001b[38;5;241m.\u001b[39mEND_COMMAND_PART\n\u001b[1;32m   1320\u001b[0m answer \u001b[38;5;241m=\u001b[39m \u001b[38;5;28mself\u001b[39m\u001b[38;5;241m.\u001b[39mgateway_client\u001b[38;5;241m.\u001b[39msend_command(command)\n\u001b[0;32m-> 1321\u001b[0m return_value \u001b[38;5;241m=\u001b[39m \u001b[43mget_return_value\u001b[49m\u001b[43m(\u001b[49m\n\u001b[1;32m   1322\u001b[0m \u001b[43m    \u001b[49m\u001b[43manswer\u001b[49m\u001b[43m,\u001b[49m\u001b[43m \u001b[49m\u001b[38;5;28;43mself\u001b[39;49m\u001b[38;5;241;43m.\u001b[39;49m\u001b[43mgateway_client\u001b[49m\u001b[43m,\u001b[49m\u001b[43m \u001b[49m\u001b[38;5;28;43mself\u001b[39;49m\u001b[38;5;241;43m.\u001b[39;49m\u001b[43mtarget_id\u001b[49m\u001b[43m,\u001b[49m\u001b[43m \u001b[49m\u001b[38;5;28;43mself\u001b[39;49m\u001b[38;5;241;43m.\u001b[39;49m\u001b[43mname\u001b[49m\u001b[43m)\u001b[49m\n\u001b[1;32m   1324\u001b[0m \u001b[38;5;28;01mfor\u001b[39;00m temp_arg \u001b[38;5;129;01min\u001b[39;00m temp_args:\n\u001b[1;32m   1325\u001b[0m     temp_arg\u001b[38;5;241m.\u001b[39m_detach()\n",
      "File \u001b[0;32m/usr/local/spark/python/pyspark/sql/utils.py:190\u001b[0m, in \u001b[0;36mcapture_sql_exception.<locals>.deco\u001b[0;34m(*a, **kw)\u001b[0m\n\u001b[1;32m    188\u001b[0m \u001b[38;5;28;01mdef\u001b[39;00m \u001b[38;5;21mdeco\u001b[39m(\u001b[38;5;241m*\u001b[39ma: Any, \u001b[38;5;241m*\u001b[39m\u001b[38;5;241m*\u001b[39mkw: Any) \u001b[38;5;241m-\u001b[39m\u001b[38;5;241m>\u001b[39m Any:\n\u001b[1;32m    189\u001b[0m     \u001b[38;5;28;01mtry\u001b[39;00m:\n\u001b[0;32m--> 190\u001b[0m         \u001b[38;5;28;01mreturn\u001b[39;00m \u001b[43mf\u001b[49m\u001b[43m(\u001b[49m\u001b[38;5;241;43m*\u001b[39;49m\u001b[43ma\u001b[49m\u001b[43m,\u001b[49m\u001b[43m \u001b[49m\u001b[38;5;241;43m*\u001b[39;49m\u001b[38;5;241;43m*\u001b[39;49m\u001b[43mkw\u001b[49m\u001b[43m)\u001b[49m\n\u001b[1;32m    191\u001b[0m     \u001b[38;5;28;01mexcept\u001b[39;00m Py4JJavaError \u001b[38;5;28;01mas\u001b[39;00m e:\n\u001b[1;32m    192\u001b[0m         converted \u001b[38;5;241m=\u001b[39m convert_exception(e\u001b[38;5;241m.\u001b[39mjava_exception)\n",
      "File \u001b[0;32m/usr/local/spark/python/lib/py4j-0.10.9.5-src.zip/py4j/protocol.py:326\u001b[0m, in \u001b[0;36mget_return_value\u001b[0;34m(answer, gateway_client, target_id, name)\u001b[0m\n\u001b[1;32m    324\u001b[0m value \u001b[38;5;241m=\u001b[39m OUTPUT_CONVERTER[\u001b[38;5;28mtype\u001b[39m](answer[\u001b[38;5;241m2\u001b[39m:], gateway_client)\n\u001b[1;32m    325\u001b[0m \u001b[38;5;28;01mif\u001b[39;00m answer[\u001b[38;5;241m1\u001b[39m] \u001b[38;5;241m==\u001b[39m REFERENCE_TYPE:\n\u001b[0;32m--> 326\u001b[0m     \u001b[38;5;28;01mraise\u001b[39;00m Py4JJavaError(\n\u001b[1;32m    327\u001b[0m         \u001b[38;5;124m\"\u001b[39m\u001b[38;5;124mAn error occurred while calling \u001b[39m\u001b[38;5;132;01m{0}\u001b[39;00m\u001b[38;5;132;01m{1}\u001b[39;00m\u001b[38;5;132;01m{2}\u001b[39;00m\u001b[38;5;124m.\u001b[39m\u001b[38;5;130;01m\\n\u001b[39;00m\u001b[38;5;124m\"\u001b[39m\u001b[38;5;241m.\u001b[39m\n\u001b[1;32m    328\u001b[0m         \u001b[38;5;28mformat\u001b[39m(target_id, \u001b[38;5;124m\"\u001b[39m\u001b[38;5;124m.\u001b[39m\u001b[38;5;124m\"\u001b[39m, name), value)\n\u001b[1;32m    329\u001b[0m \u001b[38;5;28;01melse\u001b[39;00m:\n\u001b[1;32m    330\u001b[0m     \u001b[38;5;28;01mraise\u001b[39;00m Py4JError(\n\u001b[1;32m    331\u001b[0m         \u001b[38;5;124m\"\u001b[39m\u001b[38;5;124mAn error occurred while calling \u001b[39m\u001b[38;5;132;01m{0}\u001b[39;00m\u001b[38;5;132;01m{1}\u001b[39;00m\u001b[38;5;132;01m{2}\u001b[39;00m\u001b[38;5;124m. Trace:\u001b[39m\u001b[38;5;130;01m\\n\u001b[39;00m\u001b[38;5;132;01m{3}\u001b[39;00m\u001b[38;5;130;01m\\n\u001b[39;00m\u001b[38;5;124m\"\u001b[39m\u001b[38;5;241m.\u001b[39m\n\u001b[1;32m    332\u001b[0m         \u001b[38;5;28mformat\u001b[39m(target_id, \u001b[38;5;124m\"\u001b[39m\u001b[38;5;124m.\u001b[39m\u001b[38;5;124m\"\u001b[39m, name, value))\n",
      "\u001b[0;31mPy4JJavaError\u001b[0m: An error occurred while calling z:org.apache.spark.api.python.PythonRDD.collectAndServe.\n: org.apache.spark.SparkException: Job aborted due to stage failure: Task 15 in stage 97.0 failed 1 times, most recent failure: Lost task 15.0 in stage 97.0 (TID 3889) (df3ec5710f38 executor driver): org.apache.spark.api.python.PythonException: Traceback (most recent call last):\n  File \"/usr/local/spark/python/lib/pyspark.zip/pyspark/worker.py\", line 686, in main\n    process()\n  File \"/usr/local/spark/python/lib/pyspark.zip/pyspark/worker.py\", line 676, in process\n    out_iter = func(split_index, iterator)\n  File \"/usr/local/spark/python/pyspark/rdd.py\", line 3472, in pipeline_func\n    return func(split, prev_func(split, iterator))\n  File \"/usr/local/spark/python/pyspark/rdd.py\", line 3472, in pipeline_func\n    return func(split, prev_func(split, iterator))\n  File \"/usr/local/spark/python/pyspark/rdd.py\", line 540, in func\n    return f(iterator)\n  File \"/usr/local/spark/python/pyspark/rdd.py\", line 1532, in <lambda>\n    return self.mapPartitions(lambda i: [StatCounter(i)]).reduce(  # type: ignore[arg-type]\n  File \"/usr/local/spark/python/lib/pyspark.zip/pyspark/statcounter.py\", line 42, in __init__\n    for v in values:\n  File \"/usr/local/spark/python/lib/pyspark.zip/pyspark/util.py\", line 81, in wrapper\n    return f(*args, **kwargs)\n  File \"/tmp/ipykernel_18669/1085973062.py\", line 9, in <lambda>\n  File \"/usr/local/spark/python/lib/pyspark.zip/pyspark/sql/functions.py\", line 289, in sum\n    return _invoke_function_over_columns(\"sum\", col)\n  File \"/usr/local/spark/python/lib/pyspark.zip/pyspark/sql/functions.py\", line 93, in _invoke_function_over_columns\n    return _invoke_function(name, *(_to_java_column(col) for col in cols))\n  File \"/usr/local/spark/python/lib/pyspark.zip/pyspark/sql/functions.py\", line 93, in <genexpr>\n    return _invoke_function(name, *(_to_java_column(col) for col in cols))\n  File \"/usr/local/spark/python/lib/pyspark.zip/pyspark/sql/column.py\", line 65, in _to_java_column\n    raise TypeError(\nTypeError: Invalid argument, not a string or column: <generator object <lambda>.<locals>.<genexpr> at 0x7fcc238c12a0> of type <class 'generator'>. For column literals, use 'lit', 'array', 'struct' or 'create_map' function.\n\n\tat org.apache.spark.api.python.BasePythonRunner$ReaderIterator.handlePythonException(PythonRunner.scala:559)\n\tat org.apache.spark.api.python.PythonRunner$$anon$3.read(PythonRunner.scala:765)\n\tat org.apache.spark.api.python.PythonRunner$$anon$3.read(PythonRunner.scala:747)\n\tat org.apache.spark.api.python.BasePythonRunner$ReaderIterator.hasNext(PythonRunner.scala:512)\n\tat org.apache.spark.InterruptibleIterator.hasNext(InterruptibleIterator.scala:37)\n\tat scala.collection.Iterator.foreach(Iterator.scala:943)\n\tat scala.collection.Iterator.foreach$(Iterator.scala:943)\n\tat org.apache.spark.InterruptibleIterator.foreach(InterruptibleIterator.scala:28)\n\tat scala.collection.generic.Growable.$plus$plus$eq(Growable.scala:62)\n\tat scala.collection.generic.Growable.$plus$plus$eq$(Growable.scala:53)\n\tat scala.collection.mutable.ArrayBuffer.$plus$plus$eq(ArrayBuffer.scala:105)\n\tat scala.collection.mutable.ArrayBuffer.$plus$plus$eq(ArrayBuffer.scala:49)\n\tat scala.collection.TraversableOnce.to(TraversableOnce.scala:366)\n\tat scala.collection.TraversableOnce.to$(TraversableOnce.scala:364)\n\tat org.apache.spark.InterruptibleIterator.to(InterruptibleIterator.scala:28)\n\tat scala.collection.TraversableOnce.toBuffer(TraversableOnce.scala:358)\n\tat scala.collection.TraversableOnce.toBuffer$(TraversableOnce.scala:358)\n\tat org.apache.spark.InterruptibleIterator.toBuffer(InterruptibleIterator.scala:28)\n\tat scala.collection.TraversableOnce.toArray(TraversableOnce.scala:345)\n\tat scala.collection.TraversableOnce.toArray$(TraversableOnce.scala:339)\n\tat org.apache.spark.InterruptibleIterator.toArray(InterruptibleIterator.scala:28)\n\tat org.apache.spark.rdd.RDD.$anonfun$collect$2(RDD.scala:1021)\n\tat org.apache.spark.SparkContext.$anonfun$runJob$5(SparkContext.scala:2268)\n\tat org.apache.spark.scheduler.ResultTask.runTask(ResultTask.scala:90)\n\tat org.apache.spark.scheduler.Task.run(Task.scala:136)\n\tat org.apache.spark.executor.Executor$TaskRunner.$anonfun$run$3(Executor.scala:548)\n\tat org.apache.spark.util.Utils$.tryWithSafeFinally(Utils.scala:1504)\n\tat org.apache.spark.executor.Executor$TaskRunner.run(Executor.scala:551)\n\tat java.base/java.util.concurrent.ThreadPoolExecutor.runWorker(ThreadPoolExecutor.java:1136)\n\tat java.base/java.util.concurrent.ThreadPoolExecutor$Worker.run(ThreadPoolExecutor.java:635)\n\tat java.base/java.lang.Thread.run(Thread.java:833)\n\nDriver stacktrace:\n\tat org.apache.spark.scheduler.DAGScheduler.failJobAndIndependentStages(DAGScheduler.scala:2672)\n\tat org.apache.spark.scheduler.DAGScheduler.$anonfun$abortStage$2(DAGScheduler.scala:2608)\n\tat org.apache.spark.scheduler.DAGScheduler.$anonfun$abortStage$2$adapted(DAGScheduler.scala:2607)\n\tat scala.collection.mutable.ResizableArray.foreach(ResizableArray.scala:62)\n\tat scala.collection.mutable.ResizableArray.foreach$(ResizableArray.scala:55)\n\tat scala.collection.mutable.ArrayBuffer.foreach(ArrayBuffer.scala:49)\n\tat org.apache.spark.scheduler.DAGScheduler.abortStage(DAGScheduler.scala:2607)\n\tat org.apache.spark.scheduler.DAGScheduler.$anonfun$handleTaskSetFailed$1(DAGScheduler.scala:1182)\n\tat org.apache.spark.scheduler.DAGScheduler.$anonfun$handleTaskSetFailed$1$adapted(DAGScheduler.scala:1182)\n\tat scala.Option.foreach(Option.scala:407)\n\tat org.apache.spark.scheduler.DAGScheduler.handleTaskSetFailed(DAGScheduler.scala:1182)\n\tat org.apache.spark.scheduler.DAGSchedulerEventProcessLoop.doOnReceive(DAGScheduler.scala:2860)\n\tat org.apache.spark.scheduler.DAGSchedulerEventProcessLoop.onReceive(DAGScheduler.scala:2802)\n\tat org.apache.spark.scheduler.DAGSchedulerEventProcessLoop.onReceive(DAGScheduler.scala:2791)\n\tat org.apache.spark.util.EventLoop$$anon$1.run(EventLoop.scala:49)\n\tat org.apache.spark.scheduler.DAGScheduler.runJob(DAGScheduler.scala:952)\n\tat org.apache.spark.SparkContext.runJob(SparkContext.scala:2228)\n\tat org.apache.spark.SparkContext.runJob(SparkContext.scala:2249)\n\tat org.apache.spark.SparkContext.runJob(SparkContext.scala:2268)\n\tat org.apache.spark.SparkContext.runJob(SparkContext.scala:2293)\n\tat org.apache.spark.rdd.RDD.$anonfun$collect$1(RDD.scala:1021)\n\tat org.apache.spark.rdd.RDDOperationScope$.withScope(RDDOperationScope.scala:151)\n\tat org.apache.spark.rdd.RDDOperationScope$.withScope(RDDOperationScope.scala:112)\n\tat org.apache.spark.rdd.RDD.withScope(RDD.scala:406)\n\tat org.apache.spark.rdd.RDD.collect(RDD.scala:1020)\n\tat org.apache.spark.api.python.PythonRDD$.collectAndServe(PythonRDD.scala:180)\n\tat org.apache.spark.api.python.PythonRDD.collectAndServe(PythonRDD.scala)\n\tat java.base/jdk.internal.reflect.NativeMethodAccessorImpl.invoke0(Native Method)\n\tat java.base/jdk.internal.reflect.NativeMethodAccessorImpl.invoke(NativeMethodAccessorImpl.java:77)\n\tat java.base/jdk.internal.reflect.DelegatingMethodAccessorImpl.invoke(DelegatingMethodAccessorImpl.java:43)\n\tat java.base/java.lang.reflect.Method.invoke(Method.java:568)\n\tat py4j.reflection.MethodInvoker.invoke(MethodInvoker.java:244)\n\tat py4j.reflection.ReflectionEngine.invoke(ReflectionEngine.java:357)\n\tat py4j.Gateway.invoke(Gateway.java:282)\n\tat py4j.commands.AbstractCommand.invokeMethod(AbstractCommand.java:132)\n\tat py4j.commands.CallCommand.execute(CallCommand.java:79)\n\tat py4j.ClientServerConnection.waitForCommands(ClientServerConnection.java:182)\n\tat py4j.ClientServerConnection.run(ClientServerConnection.java:106)\n\tat java.base/java.lang.Thread.run(Thread.java:833)\nCaused by: org.apache.spark.api.python.PythonException: Traceback (most recent call last):\n  File \"/usr/local/spark/python/lib/pyspark.zip/pyspark/worker.py\", line 686, in main\n    process()\n  File \"/usr/local/spark/python/lib/pyspark.zip/pyspark/worker.py\", line 676, in process\n    out_iter = func(split_index, iterator)\n  File \"/usr/local/spark/python/pyspark/rdd.py\", line 3472, in pipeline_func\n    return func(split, prev_func(split, iterator))\n  File \"/usr/local/spark/python/pyspark/rdd.py\", line 3472, in pipeline_func\n    return func(split, prev_func(split, iterator))\n  File \"/usr/local/spark/python/pyspark/rdd.py\", line 540, in func\n    return f(iterator)\n  File \"/usr/local/spark/python/pyspark/rdd.py\", line 1532, in <lambda>\n    return self.mapPartitions(lambda i: [StatCounter(i)]).reduce(  # type: ignore[arg-type]\n  File \"/usr/local/spark/python/lib/pyspark.zip/pyspark/statcounter.py\", line 42, in __init__\n    for v in values:\n  File \"/usr/local/spark/python/lib/pyspark.zip/pyspark/util.py\", line 81, in wrapper\n    return f(*args, **kwargs)\n  File \"/tmp/ipykernel_18669/1085973062.py\", line 9, in <lambda>\n  File \"/usr/local/spark/python/lib/pyspark.zip/pyspark/sql/functions.py\", line 289, in sum\n    return _invoke_function_over_columns(\"sum\", col)\n  File \"/usr/local/spark/python/lib/pyspark.zip/pyspark/sql/functions.py\", line 93, in _invoke_function_over_columns\n    return _invoke_function(name, *(_to_java_column(col) for col in cols))\n  File \"/usr/local/spark/python/lib/pyspark.zip/pyspark/sql/functions.py\", line 93, in <genexpr>\n    return _invoke_function(name, *(_to_java_column(col) for col in cols))\n  File \"/usr/local/spark/python/lib/pyspark.zip/pyspark/sql/column.py\", line 65, in _to_java_column\n    raise TypeError(\nTypeError: Invalid argument, not a string or column: <generator object <lambda>.<locals>.<genexpr> at 0x7fcc238c12a0> of type <class 'generator'>. For column literals, use 'lit', 'array', 'struct' or 'create_map' function.\n\n\tat org.apache.spark.api.python.BasePythonRunner$ReaderIterator.handlePythonException(PythonRunner.scala:559)\n\tat org.apache.spark.api.python.PythonRunner$$anon$3.read(PythonRunner.scala:765)\n\tat org.apache.spark.api.python.PythonRunner$$anon$3.read(PythonRunner.scala:747)\n\tat org.apache.spark.api.python.BasePythonRunner$ReaderIterator.hasNext(PythonRunner.scala:512)\n\tat org.apache.spark.InterruptibleIterator.hasNext(InterruptibleIterator.scala:37)\n\tat scala.collection.Iterator.foreach(Iterator.scala:943)\n\tat scala.collection.Iterator.foreach$(Iterator.scala:943)\n\tat org.apache.spark.InterruptibleIterator.foreach(InterruptibleIterator.scala:28)\n\tat scala.collection.generic.Growable.$plus$plus$eq(Growable.scala:62)\n\tat scala.collection.generic.Growable.$plus$plus$eq$(Growable.scala:53)\n\tat scala.collection.mutable.ArrayBuffer.$plus$plus$eq(ArrayBuffer.scala:105)\n\tat scala.collection.mutable.ArrayBuffer.$plus$plus$eq(ArrayBuffer.scala:49)\n\tat scala.collection.TraversableOnce.to(TraversableOnce.scala:366)\n\tat scala.collection.TraversableOnce.to$(TraversableOnce.scala:364)\n\tat org.apache.spark.InterruptibleIterator.to(InterruptibleIterator.scala:28)\n\tat scala.collection.TraversableOnce.toBuffer(TraversableOnce.scala:358)\n\tat scala.collection.TraversableOnce.toBuffer$(TraversableOnce.scala:358)\n\tat org.apache.spark.InterruptibleIterator.toBuffer(InterruptibleIterator.scala:28)\n\tat scala.collection.TraversableOnce.toArray(TraversableOnce.scala:345)\n\tat scala.collection.TraversableOnce.toArray$(TraversableOnce.scala:339)\n\tat org.apache.spark.InterruptibleIterator.toArray(InterruptibleIterator.scala:28)\n\tat org.apache.spark.rdd.RDD.$anonfun$collect$2(RDD.scala:1021)\n\tat org.apache.spark.SparkContext.$anonfun$runJob$5(SparkContext.scala:2268)\n\tat org.apache.spark.scheduler.ResultTask.runTask(ResultTask.scala:90)\n\tat org.apache.spark.scheduler.Task.run(Task.scala:136)\n\tat org.apache.spark.executor.Executor$TaskRunner.$anonfun$run$3(Executor.scala:548)\n\tat org.apache.spark.util.Utils$.tryWithSafeFinally(Utils.scala:1504)\n\tat org.apache.spark.executor.Executor$TaskRunner.run(Executor.scala:551)\n\tat java.base/java.util.concurrent.ThreadPoolExecutor.runWorker(ThreadPoolExecutor.java:1136)\n\tat java.base/java.util.concurrent.ThreadPoolExecutor$Worker.run(ThreadPoolExecutor.java:635)\n\t... 1 more\n"
     ]
    }
   ],
   "source": [
    "from pyspark.sql import functions as F\n",
    "from functools import reduce\n",
    "\n",
    "# Assuming combined_df is your PySpark DataFrame\n",
    "\n",
    "# Calculate initial DataFrame size estimation\n",
    "num_columns = len(combined_df.columns)\n",
    "num_rows = combined_df.count()\n",
    "approx_row_size = combined_df.rdd.map(lambda row: sum(len(str(cell)) for cell in row) if row else 0).mean()  # Approximate row size\n",
    "size_before = num_columns * approx_row_size * num_rows\n",
    "\n",
    "# Drop specified columns ('user_id', 'product_id', 'category_id')\n",
    "columns_to_drop = ['user_id', 'product_id', 'category_id']\n",
    "df_dropped = combined_df.drop(*columns_to_drop)\n",
    "\n",
    "# Drop rows with null values in specified columns ('user_session', 'main_category', 'secondary_category')\n",
    "columns_to_check_null = ['user_session', 'main_category', 'secondary_category']\n",
    "for column in columns_to_check_null:\n",
    "    df_dropped = df_dropped.filter(F.col(column).isNotNull())\n",
    "\n",
    "# Calculate DataFrame size after dropping columns and rows with null values\n",
    "num_rows_after = df_dropped.count()\n",
    "size_after = num_columns * approx_row_size * num_rows_after\n",
    "\n",
    "# Display memory usage analysis\n",
    "print(\"Size before dropping: {:,.2f}\".format(size_before))\n",
    "print(\"Size after dropping: {:,.2f}\".format(size_after))\n",
    "percentage_savings = ((size_before - size_after) / size_before) * 100\n",
    "print(\"Percentage of memory saved: {:.2f}%\".format(percentage_savings))\n",
    "\n"
   ]
  },
  {
   "cell_type": "code",
   "execution_count": 78,
   "id": "a6b8b306-6191-4864-b0be-09478d09b891",
   "metadata": {
    "tags": []
   },
   "outputs": [
    {
     "name": "stdout",
     "output_type": "stream",
     "text": [
      "+--------------------+----------+---------+-------+--------------------+-------------+------------------+\n",
      "|          event_time|event_type|    brand|  price|        user_session|main_category|secondary_category|\n",
      "+--------------------+----------+---------+-------+--------------------+-------------+------------------+\n",
      "|2020-01-01 00:00:...|      cart|    apple|1453.18|253616df-2b1e-4bd...| construction|             tools|\n",
      "|2020-01-01 00:00:...|      cart|    apple| 385.34|7d7687c4-b613-446...|      apparel|             shoes|\n",
      "|2020-01-01 00:00:...|      cart|   xiaomi|  14.95|2f967c6e-b6c4-497...|        sport|           bicycle|\n",
      "|2020-01-01 00:00:...|      cart|    apple| 890.11|7dad15db-dd6d-4e5...| construction|             tools|\n",
      "|2020-01-01 00:00:...|      cart|    apple| 869.46|2a5143e3-2de9-4dc...| construction|             tools|\n",
      "|2020-01-01 00:00:...|      cart|    apple| 967.85|84c838d4-6e10-4b7...| construction|             tools|\n",
      "|2020-01-01 00:00:...|      cart|    apple| 869.46|2a5143e3-2de9-4dc...| construction|             tools|\n",
      "|2020-01-01 00:01:...|      cart|    apple| 553.30|09a50203-a753-46c...|  electronics|            clocks|\n",
      "|2020-01-01 00:01:...|      cart|montblanc|  32.87|c0f02fdc-76f2-45a...|      apparel|             shoes|\n",
      "|2020-01-01 00:01:...|      cart|    apple| 445.95|7a140d1b-b90f-434...| construction|             tools|\n",
      "|2020-01-01 00:01:...|      cart|montblanc|  32.87|c0f02fdc-76f2-45a...|      apparel|             shoes|\n",
      "|2020-01-01 00:01:...|      cart|    apple| 563.72|d9b5e960-bca2-4eb...| construction|             tools|\n",
      "|2020-01-01 00:02:...|      cart|    apple| 341.06|dcbd99b2-efab-46f...|        sport|           bicycle|\n",
      "|2020-01-01 00:02:...|      cart|   xiaomi| 163.39|5241e291-33ff-48f...| construction|             tools|\n",
      "|2020-01-01 00:03:...|      cart|  samsung| 238.55|32ca6f22-5ee8-4da...| construction|             tools|\n",
      "|2020-01-01 00:03:...|      cart|     null|  37.19|b9864239-109c-4d4...|      apparel|             shoes|\n",
      "|2020-01-01 00:03:...|      cart|  samsung| 102.68|c8064466-ddab-487...|        sport|           bicycle|\n",
      "|2020-01-01 00:03:...|      cart|  samsung| 238.55|d133def5-d31c-475...| construction|             tools|\n",
      "|2020-01-01 00:03:...|      cart|    apple| 869.46|0c498362-feaf-4cd...| construction|             tools|\n",
      "|2020-01-01 00:03:...|      cart|    apple| 385.34|b28d6555-5b3f-437...|      apparel|             shoes|\n",
      "+--------------------+----------+---------+-------+--------------------+-------------+------------------+\n",
      "only showing top 20 rows\n",
      "\n"
     ]
    }
   ],
   "source": [
    "combined_df_clean = df_dropped\n",
    "\n",
    "combined_df_clean.show()"
   ]
  },
  {
   "cell_type": "markdown",
   "id": "0eefbf68-7de4-4fdd-b617-4a2d16ef16f7",
   "metadata": {},
   "source": [
    "In this case, since we don't have the product name, only the product id, what we do is drop the NaN. But in real world, we wouldn't delete in, and instead we bind it with the product name in another database and make a machine learning classification to determine which categories the product goes.\n",
    "\n",
    "The reason why we drop user_session NaN is because there aren't a lot of NaN there, and since we need the column, we cannot drop the whole column nor replace it with a random id because we are not sure if the missing values may be the same person."
   ]
  },
  {
   "cell_type": "code",
   "execution_count": 79,
   "id": "76c4c370-8a5b-46f0-8446-900a392357d9",
   "metadata": {
    "tags": []
   },
   "outputs": [
    {
     "name": "stderr",
     "output_type": "stream",
     "text": [
      "ERROR:root:KeyboardInterrupt while sending command.\n",
      "Traceback (most recent call last):\n",
      "  File \"/usr/local/spark/python/lib/py4j-0.10.9.5-src.zip/py4j/java_gateway.py\", line 1038, in send_command\n",
      "    response = connection.send_command(command)\n",
      "  File \"/usr/local/spark/python/lib/py4j-0.10.9.5-src.zip/py4j/clientserver.py\", line 511, in send_command\n",
      "    answer = smart_decode(self.stream.readline()[:-1])\n",
      "  File \"/opt/conda/lib/python3.10/socket.py\", line 705, in readinto\n",
      "    return self._sock.recv_into(b)\n",
      "KeyboardInterrupt\n"
     ]
    },
    {
     "ename": "KeyboardInterrupt",
     "evalue": "",
     "output_type": "error",
     "traceback": [
      "\u001b[0;31m---------------------------------------------------------------------------\u001b[0m",
      "\u001b[0;31mKeyboardInterrupt\u001b[0m                         Traceback (most recent call last)",
      "Cell \u001b[0;32mIn[79], line 1\u001b[0m\n\u001b[0;32m----> 1\u001b[0m \u001b[38;5;28mprint\u001b[39m(\u001b[43mcombined_df_clean\u001b[49m\u001b[38;5;241;43m.\u001b[39;49m\u001b[43mcount\u001b[49m\u001b[43m(\u001b[49m\u001b[43m)\u001b[49m)\n",
      "File \u001b[0;32m/usr/local/spark/python/pyspark/sql/dataframe.py:804\u001b[0m, in \u001b[0;36mDataFrame.count\u001b[0;34m(self)\u001b[0m\n\u001b[1;32m    794\u001b[0m \u001b[38;5;28;01mdef\u001b[39;00m \u001b[38;5;21mcount\u001b[39m(\u001b[38;5;28mself\u001b[39m) \u001b[38;5;241m-\u001b[39m\u001b[38;5;241m>\u001b[39m \u001b[38;5;28mint\u001b[39m:\n\u001b[1;32m    795\u001b[0m \u001b[38;5;250m    \u001b[39m\u001b[38;5;124;03m\"\"\"Returns the number of rows in this :class:`DataFrame`.\u001b[39;00m\n\u001b[1;32m    796\u001b[0m \n\u001b[1;32m    797\u001b[0m \u001b[38;5;124;03m    .. versionadded:: 1.3.0\u001b[39;00m\n\u001b[0;32m   (...)\u001b[0m\n\u001b[1;32m    802\u001b[0m \u001b[38;5;124;03m    2\u001b[39;00m\n\u001b[1;32m    803\u001b[0m \u001b[38;5;124;03m    \"\"\"\u001b[39;00m\n\u001b[0;32m--> 804\u001b[0m     \u001b[38;5;28;01mreturn\u001b[39;00m \u001b[38;5;28mint\u001b[39m(\u001b[38;5;28;43mself\u001b[39;49m\u001b[38;5;241;43m.\u001b[39;49m\u001b[43m_jdf\u001b[49m\u001b[38;5;241;43m.\u001b[39;49m\u001b[43mcount\u001b[49m\u001b[43m(\u001b[49m\u001b[43m)\u001b[49m)\n",
      "File \u001b[0;32m/usr/local/spark/python/lib/py4j-0.10.9.5-src.zip/py4j/java_gateway.py:1320\u001b[0m, in \u001b[0;36mJavaMember.__call__\u001b[0;34m(self, *args)\u001b[0m\n\u001b[1;32m   1313\u001b[0m args_command, temp_args \u001b[38;5;241m=\u001b[39m \u001b[38;5;28mself\u001b[39m\u001b[38;5;241m.\u001b[39m_build_args(\u001b[38;5;241m*\u001b[39margs)\n\u001b[1;32m   1315\u001b[0m command \u001b[38;5;241m=\u001b[39m proto\u001b[38;5;241m.\u001b[39mCALL_COMMAND_NAME \u001b[38;5;241m+\u001b[39m\\\n\u001b[1;32m   1316\u001b[0m     \u001b[38;5;28mself\u001b[39m\u001b[38;5;241m.\u001b[39mcommand_header \u001b[38;5;241m+\u001b[39m\\\n\u001b[1;32m   1317\u001b[0m     args_command \u001b[38;5;241m+\u001b[39m\\\n\u001b[1;32m   1318\u001b[0m     proto\u001b[38;5;241m.\u001b[39mEND_COMMAND_PART\n\u001b[0;32m-> 1320\u001b[0m answer \u001b[38;5;241m=\u001b[39m \u001b[38;5;28;43mself\u001b[39;49m\u001b[38;5;241;43m.\u001b[39;49m\u001b[43mgateway_client\u001b[49m\u001b[38;5;241;43m.\u001b[39;49m\u001b[43msend_command\u001b[49m\u001b[43m(\u001b[49m\u001b[43mcommand\u001b[49m\u001b[43m)\u001b[49m\n\u001b[1;32m   1321\u001b[0m return_value \u001b[38;5;241m=\u001b[39m get_return_value(\n\u001b[1;32m   1322\u001b[0m     answer, \u001b[38;5;28mself\u001b[39m\u001b[38;5;241m.\u001b[39mgateway_client, \u001b[38;5;28mself\u001b[39m\u001b[38;5;241m.\u001b[39mtarget_id, \u001b[38;5;28mself\u001b[39m\u001b[38;5;241m.\u001b[39mname)\n\u001b[1;32m   1324\u001b[0m \u001b[38;5;28;01mfor\u001b[39;00m temp_arg \u001b[38;5;129;01min\u001b[39;00m temp_args:\n",
      "File \u001b[0;32m/usr/local/spark/python/lib/py4j-0.10.9.5-src.zip/py4j/java_gateway.py:1038\u001b[0m, in \u001b[0;36mGatewayClient.send_command\u001b[0;34m(self, command, retry, binary)\u001b[0m\n\u001b[1;32m   1036\u001b[0m connection \u001b[38;5;241m=\u001b[39m \u001b[38;5;28mself\u001b[39m\u001b[38;5;241m.\u001b[39m_get_connection()\n\u001b[1;32m   1037\u001b[0m \u001b[38;5;28;01mtry\u001b[39;00m:\n\u001b[0;32m-> 1038\u001b[0m     response \u001b[38;5;241m=\u001b[39m \u001b[43mconnection\u001b[49m\u001b[38;5;241;43m.\u001b[39;49m\u001b[43msend_command\u001b[49m\u001b[43m(\u001b[49m\u001b[43mcommand\u001b[49m\u001b[43m)\u001b[49m\n\u001b[1;32m   1039\u001b[0m     \u001b[38;5;28;01mif\u001b[39;00m binary:\n\u001b[1;32m   1040\u001b[0m         \u001b[38;5;28;01mreturn\u001b[39;00m response, \u001b[38;5;28mself\u001b[39m\u001b[38;5;241m.\u001b[39m_create_connection_guard(connection)\n",
      "File \u001b[0;32m/usr/local/spark/python/lib/py4j-0.10.9.5-src.zip/py4j/clientserver.py:511\u001b[0m, in \u001b[0;36mClientServerConnection.send_command\u001b[0;34m(self, command)\u001b[0m\n\u001b[1;32m    509\u001b[0m \u001b[38;5;28;01mtry\u001b[39;00m:\n\u001b[1;32m    510\u001b[0m     \u001b[38;5;28;01mwhile\u001b[39;00m \u001b[38;5;28;01mTrue\u001b[39;00m:\n\u001b[0;32m--> 511\u001b[0m         answer \u001b[38;5;241m=\u001b[39m smart_decode(\u001b[38;5;28;43mself\u001b[39;49m\u001b[38;5;241;43m.\u001b[39;49m\u001b[43mstream\u001b[49m\u001b[38;5;241;43m.\u001b[39;49m\u001b[43mreadline\u001b[49m\u001b[43m(\u001b[49m\u001b[43m)\u001b[49m[:\u001b[38;5;241m-\u001b[39m\u001b[38;5;241m1\u001b[39m])\n\u001b[1;32m    512\u001b[0m         logger\u001b[38;5;241m.\u001b[39mdebug(\u001b[38;5;124m\"\u001b[39m\u001b[38;5;124mAnswer received: \u001b[39m\u001b[38;5;132;01m{0}\u001b[39;00m\u001b[38;5;124m\"\u001b[39m\u001b[38;5;241m.\u001b[39mformat(answer))\n\u001b[1;32m    513\u001b[0m         \u001b[38;5;66;03m# Happens when a the other end is dead. There might be an empty\u001b[39;00m\n\u001b[1;32m    514\u001b[0m         \u001b[38;5;66;03m# answer before the socket raises an error.\u001b[39;00m\n",
      "File \u001b[0;32m/opt/conda/lib/python3.10/socket.py:705\u001b[0m, in \u001b[0;36mSocketIO.readinto\u001b[0;34m(self, b)\u001b[0m\n\u001b[1;32m    703\u001b[0m \u001b[38;5;28;01mwhile\u001b[39;00m \u001b[38;5;28;01mTrue\u001b[39;00m:\n\u001b[1;32m    704\u001b[0m     \u001b[38;5;28;01mtry\u001b[39;00m:\n\u001b[0;32m--> 705\u001b[0m         \u001b[38;5;28;01mreturn\u001b[39;00m \u001b[38;5;28;43mself\u001b[39;49m\u001b[38;5;241;43m.\u001b[39;49m\u001b[43m_sock\u001b[49m\u001b[38;5;241;43m.\u001b[39;49m\u001b[43mrecv_into\u001b[49m\u001b[43m(\u001b[49m\u001b[43mb\u001b[49m\u001b[43m)\u001b[49m\n\u001b[1;32m    706\u001b[0m     \u001b[38;5;28;01mexcept\u001b[39;00m timeout:\n\u001b[1;32m    707\u001b[0m         \u001b[38;5;28mself\u001b[39m\u001b[38;5;241m.\u001b[39m_timeout_occurred \u001b[38;5;241m=\u001b[39m \u001b[38;5;28;01mTrue\u001b[39;00m\n",
      "\u001b[0;31mKeyboardInterrupt\u001b[0m: "
     ]
    }
   ],
   "source": [
    "print(combined_df_clean.count())"
   ]
  },
  {
   "cell_type": "code",
   "execution_count": 18,
   "id": "0157c878-31f1-4090-9a7e-234a443bb2cc",
   "metadata": {
    "tags": []
   },
   "outputs": [
    {
     "name": "stdout",
     "output_type": "stream",
     "text": [
      "['purchase', 'cart']\n"
     ]
    }
   ],
   "source": [
    "# Get unique values from the 'event_type' column\n",
    "unique_categories = combined_df_clean.select(col('event_type')).distinct().rdd.map(lambda row: row[0]).collect()\n",
    "\n",
    "# Print unique values\n",
    "print(unique_categories)"
   ]
  },
  {
   "cell_type": "code",
   "execution_count": 80,
   "id": "fbc49440-fd7d-4405-b166-1526d1128742",
   "metadata": {
    "tags": []
   },
   "outputs": [],
   "source": [
    "# Create a Delta table from the DataFrame\n",
    "# Convert combined_df (assuming it's a DataFrame) to Delta format and save it to MinIO\n",
    "combined_df_clean.write.format(\"delta\").mode(\"overwrite\").save(f\"s3a://{minio_bucket}/combined_df_clean\")"
   ]
  },
  {
   "cell_type": "code",
   "execution_count": 81,
   "id": "c5f1180e-5986-4616-b4a1-81f70a49cd5f",
   "metadata": {
    "tags": []
   },
   "outputs": [
    {
     "name": "stdout",
     "output_type": "stream",
     "text": [
      "+--------------------+----------+--------+-------+--------------------+-------------+------------------+\n",
      "|          event_time|event_type|   brand|  price|        user_session|main_category|secondary_category|\n",
      "+--------------------+----------+--------+-------+--------------------+-------------+------------------+\n",
      "|2020-02-23 14:23:...|      cart|    asus| 213.24|bffe996f-2e31-4fb...|   appliances|       environment|\n",
      "|2020-02-23 14:23:...|      cart| samsung| 242.07|44f9d7ba-f889-4b5...| construction|             tools|\n",
      "|2020-02-23 14:23:...|      cart| samsung| 242.07|44f9d7ba-f889-4b5...| construction|             tools|\n",
      "|2020-02-23 14:23:...|  purchase|    asus| 354.96|df25ff14-18c3-451...|  electronics|             audio|\n",
      "|2020-02-23 14:23:...|  purchase|   apple| 712.43|4fd1585f-e458-497...| construction|             tools|\n",
      "|2020-02-23 14:23:...|      cart|    null| 350.07|eb796a50-5621-439...|      apparel|             shoes|\n",
      "|2020-02-23 14:23:...|      cart|  xiaomi| 108.09|830fb703-d847-46f...| construction|             tools|\n",
      "|2020-02-23 14:23:...|  purchase| samsung| 180.15|8e4047a4-2f90-432...| construction|             tools|\n",
      "|2020-02-23 14:23:...|      cart|dauscher|  43.73|d3533235-9eb8-4af...|    computers|        components|\n",
      "|2020-02-23 14:23:...|      cart|dauscher|  43.73|d3533235-9eb8-4af...|    computers|        components|\n",
      "|2020-02-23 14:23:...|      cart| samsung| 242.07|623bd4f6-20bc-411...| construction|             tools|\n",
      "|2020-02-23 14:23:...|  purchase| samsung| 328.92|98af0c4c-f4e6-40f...| construction|             tools|\n",
      "|2020-02-23 14:23:...|      cart|   apple|1426.91|355d778a-10aa-44f...| construction|             tools|\n",
      "|2020-02-23 14:23:...|  purchase| samsung| 147.83|ae203c4b-7644-453...| construction|             tools|\n",
      "|2020-02-23 14:23:...|      cart|   apple|1426.91|355d778a-10aa-44f...| construction|             tools|\n",
      "|2020-02-23 14:23:...|  purchase|  renova|  96.28|18a7da40-8923-4d2...|   appliances|           kitchen|\n",
      "|2020-02-23 14:23:...|      cart|   apple|1426.91|355d778a-10aa-44f...| construction|             tools|\n",
      "|2020-02-23 14:23:...|      cart|     eco|   4.63|204ef378-20e1-4a2...|   appliances|     ironing_board|\n",
      "|2020-02-23 14:23:...|      cart|      lg| 102.94|3d1f3c2a-f304-436...|   appliances|       environment|\n",
      "|2020-02-23 14:23:...|      cart|  xiaomi|  17.99|62ad93ef-11b4-46a...|    furniture|           kitchen|\n",
      "+--------------------+----------+--------+-------+--------------------+-------------+------------------+\n",
      "only showing top 20 rows\n",
      "\n"
     ]
    }
   ],
   "source": [
    "# Load the Delta table from MinIO into a DataFrame\n",
    "combined_df = spark.read.format(\"delta\").load(f\"s3a://{minio_bucket}/combined_df_clean\")\n",
    "\n",
    "# Show the DataFrame\n",
    "combined_df.show()"
   ]
  },
  {
   "cell_type": "markdown",
   "id": "daf177b8-4071-4ec8-ad2b-40a32f752006",
   "metadata": {},
   "source": [
    "# ANALYZE THE DATA"
   ]
  },
  {
   "cell_type": "code",
   "execution_count": 19,
   "id": "374b7439-06ea-4e06-8389-ea576b578f48",
   "metadata": {
    "tags": []
   },
   "outputs": [
    {
     "name": "stdout",
     "output_type": "stream",
     "text": [
      "Average number of purchases per user_session: 1.3098156705499184\n"
     ]
    }
   ],
   "source": [
    "from pyspark.sql.functions import col\n",
    "\n",
    "# Assuming combined_df is your PySpark DataFrame\n",
    "\n",
    "# Filter rows where the 'event_type' is 'purchase'\n",
    "purchase_events = combined_df.filter(combined_df['event_type'] == 'purchase')\n",
    "\n",
    "# Group by 'user_session' and count the number of purchases per session\n",
    "purchase_counts_per_session = purchase_events.groupBy('user_session').count()\n",
    "\n",
    "# Calculate the average number of purchases per user_session\n",
    "average_purchase_per_session = purchase_counts_per_session.agg({'count': 'avg'}).collect()[0][0]\n",
    "\n",
    "# Print the average number of purchases per user_session\n",
    "print(\"Average number of purchases per user_session:\", average_purchase_per_session)"
   ]
  },
  {
   "cell_type": "code",
   "execution_count": 20,
   "id": "3fc72167-fba2-4e0e-997f-afe8653c88a4",
   "metadata": {
    "tags": []
   },
   "outputs": [
    {
     "name": "stdout",
     "output_type": "stream",
     "text": [
      "Average number of purchases per user_session: 1.3098156705499184\n"
     ]
    }
   ],
   "source": [
    "from pyspark.sql import functions as F\n",
    "\n",
    "# Assuming combined_df is your PySpark DataFrame\n",
    "\n",
    "# Filter rows where the 'event_type' is 'purchase'\n",
    "purchase_events = combined_df.filter(combined_df['event_type'] == 'purchase')\n",
    "\n",
    "# Group by 'user_session' and count the number of purchases per session\n",
    "purchase_counts_per_session = purchase_events.groupBy('user_session').count()\n",
    "\n",
    "# Calculate the average number of purchases per user_session\n",
    "average_purchase_per_session = purchase_counts_per_session.agg(F.avg('count').alias('avg_purchases')).first()['avg_purchases']\n",
    "\n",
    "# Print the average number of purchases per user_session\n",
    "print(\"Average number of purchases per user_session:\", average_purchase_per_session)"
   ]
  },
  {
   "cell_type": "code",
   "execution_count": 21,
   "id": "2e132ee2-9ee1-41e3-9b20-525b791f2423",
   "metadata": {
    "tags": []
   },
   "outputs": [
    {
     "name": "stdout",
     "output_type": "stream",
     "text": [
      "One person per User Session would add 1.35620 products to the cart before purchasing them.\n"
     ]
    }
   ],
   "source": [
    "from pyspark.sql import functions as F\n",
    "\n",
    "# Filter rows for 'cart' and 'purchase' events\n",
    "cart_events = combined_df.filter(combined_df['event_type'] == 'cart')\n",
    "purchase_events = combined_df.filter(combined_df['event_type'] == 'purchase')\n",
    "\n",
    "# Group by 'user_session' and count cart additions and purchases\n",
    "cart_counts_per_session = cart_events.groupBy('user_session').count()\n",
    "purchase_counts_per_session = purchase_events.groupBy('user_session').count()\n",
    "\n",
    "# Calculate the average number of cart additions and purchases per session\n",
    "avg_cart_per_session = cart_counts_per_session.agg(F.avg('count').alias('avg_cart_per_session')).collect()[0]['avg_cart_per_session']\n",
    "avg_purchase_per_session = purchase_counts_per_session.agg(F.avg('count').alias('avg_purchase_per_session')).collect()[0]['avg_purchase_per_session']\n",
    "\n",
    "# Calculate the ratio between average cart additions and purchases\n",
    "ratio = avg_cart_per_session / avg_purchase_per_session\n",
    "\n",
    "# Print the conclusion\n",
    "print(\"One person per User Session would add {:.5f} products to the cart before purchasing them.\".format(ratio))"
   ]
  },
  {
   "cell_type": "code",
   "execution_count": 22,
   "id": "e84f96c1-535b-4874-a024-4aeeb7b74a84",
   "metadata": {
    "tags": []
   },
   "outputs": [
    {
     "name": "stdout",
     "output_type": "stream",
     "text": [
      "One person per User Session with the same product category would add 1.36161 products to the cart before purchasing them.\n"
     ]
    }
   ],
   "source": [
    "from pyspark.sql import functions as F\n",
    "\n",
    "# Filter rows for 'cart' and 'purchase' events\n",
    "cart_events = combined_df.filter(combined_df['event_type'] == 'cart')\n",
    "purchase_events = combined_df.filter(combined_df['event_type'] == 'purchase')\n",
    "\n",
    "# Group by 'user_session' and 'secondary_category' and count cart additions and purchases\n",
    "cart_counts_per_session_category = cart_events.groupBy('user_session', 'secondary_category').count()\n",
    "purchase_counts_per_session_category = purchase_events.groupBy('user_session', 'secondary_category').count()\n",
    "\n",
    "# Calculate the average number of cart additions and purchases per session and category\n",
    "avg_cart_per_session_category = cart_counts_per_session_category.agg(F.avg('count').alias('avg_cart_per_session_category')).collect()[0]['avg_cart_per_session_category']\n",
    "avg_purchase_per_session_category = purchase_counts_per_session_category.agg(F.avg('count').alias('avg_purchase_per_session_category')).collect()[0]['avg_purchase_per_session_category']\n",
    "\n",
    "# Calculate the ratio between average cart additions and purchases\n",
    "ratio = avg_cart_per_session_category / avg_purchase_per_session_category\n",
    "\n",
    "# Print the conclusion\n",
    "print(\"One person per User Session with the same product category would add {:.5f} products to the cart before purchasing them.\"\n",
    "      .format(ratio))"
   ]
  },
  {
   "cell_type": "markdown",
   "id": "32238454-d966-4964-8c7c-11e9e16b5a98",
   "metadata": {},
   "source": [
    "From the chunks above, we could conclude that:\n",
    "1. One person would purchase an average of 1.310 products per User Session\n",
    "2. One person would purchase an average of 1.040 different product category per User Session\n",
    "3. One person would add an average of 1.356 product with the same product category per User Session\n",
    "4. One person would add an average of 1.362 product with the same product category per User Session\n",
    "\n",
    "The data can be used for businesses strategies, for example how many ads they would need to purchase in the ecommerce. "
   ]
  },
  {
   "cell_type": "code",
   "execution_count": 70,
   "id": "d88d1814-ea54-4813-81ef-704b0e6e9ca5",
   "metadata": {
    "tags": []
   },
   "outputs": [
    {
     "name": "stdout",
     "output_type": "stream",
     "text": [
      "+--------+-------+--------------------+-------------------+\n",
      "|   month|  brand|       total_revenue|n_purchased_product|\n",
      "+--------+-------+--------------------+-------------------+\n",
      "|February|  apple|1.9175556765000153E8|             268971|\n",
      "|   March|  apple|1.4131533978000054E8|             190726|\n",
      "| January|  apple|1.2584414383999977E8|             170486|\n",
      "|   April|  apple| 7.428806738000008E7|              97694|\n",
      "|February|samsung| 7.426925038000016E7|             272529|\n",
      "|   March|samsung|  6.54402603399997E7|             229969|\n",
      "|   April|samsung|  5.67915984900003E7|             220305|\n",
      "| January|samsung| 5.578662706000057E7|             205407|\n",
      "|February| xiaomi|1.7702877469999924E7|             108343|\n",
      "|   March| xiaomi|1.2560349739999996E7|              69396|\n",
      "|   April| xiaomi|1.2104816439999996E7|              63382|\n",
      "| January| xiaomi|1.2004205120000008E7|              74999|\n",
      "|February| huawei|    7667155.31000001|              41163|\n",
      "|   April|     lg|   7539392.840000004|              17600|\n",
      "|   April|   acer|   6954180.020000006|              12529|\n",
      "|   March|   acer|   6432710.560000003|              11972|\n",
      "|   April| huawei|   5989082.479999996|              30754|\n",
      "|February|lucente|          5917410.99|              22638|\n",
      "|   March| huawei|   5866907.369999994|              29837|\n",
      "|   March|     lg|  5743394.9399999995|              12753|\n",
      "+--------+-------+--------------------+-------------------+\n",
      "only showing top 20 rows\n",
      "\n"
     ]
    }
   ],
   "source": [
    "from pyspark.sql.functions import *\n",
    "\n",
    "# Extracting the month from the 'event_time' column and creating 'combined_df_extracted'\n",
    "combined_df_extracted = combined_df.withColumn('month', month('event_time'))\n",
    "\n",
    "# Filtering out rows with NaN in the 'brand' column\n",
    "grouped_data = combined_df_extracted.filter(col('brand').isNotNull())\n",
    "\n",
    "# Filtering rows where 'event_type' is 'purchase' and grouping by 'month', 'brand' to calculate 'revenue' and 'purchased_product'\n",
    "grouped_data = grouped_data.filter(col('event_type') == 'purchase') \\\n",
    "    .groupBy('month', 'brand') \\\n",
    "    .agg(sum('price').alias('total_revenue'), count('event_type').alias('n_purchased_product'))\n",
    "\n",
    "grouped_data = grouped_data.withColumn('month', \n",
    "    when(col('month') == 1, 'January')\n",
    "    .when(col('month') == 2, 'February')\n",
    "    .when(col('month') == 3, 'March')\n",
    "    .when(col('month') == 4, 'April')\n",
    "    .otherwise(col('month')))\n",
    "\n",
    "# Sort the resulting DataFrame by 'total_revenue' in descending order\n",
    "grouped_data = grouped_data.orderBy(col('total_revenue').desc())\n",
    "\n",
    "# Show the resulting sorted DataFrame\n",
    "grouped_data.show()"
   ]
  },
  {
   "cell_type": "code",
   "execution_count": null,
   "id": "63b6e003-74a4-4fe0-981b-eea761685211",
   "metadata": {
    "tags": []
   },
   "outputs": [],
   "source": [
    "import matplotlib.pyplot as plt\n",
    "from pyspark.sql import SparkSession\n",
    "from pyspark.sql.window import Window\n",
    "\n",
    "# Window specification to partition by month and rank brands based on total_revenue\n",
    "window_spec = Window.partitionBy('month').orderBy(col('total_revenue').desc())\n",
    "average_revenue = grouped_data_category.groupBy('brand').agg(avg('total_revenue').alias('average_revenue'))\n",
    "\n",
    "# Add a rank to each brand within each month based on total revenue\n",
    "result_df_with_rank = grouped_data.withColumn('rank', row_number().over(window_spec))\n",
    "\n",
    "# Filter the top 5 brands with the highest revenue for each month\n",
    "top_5_brands_per_month = result_df_with_rank..join(average_revenue, on='brand', how='left')\n",
    "\n",
    "# Get main_categories sorted by average revenue in descending order\n",
    "# Collecting data to be used for plotting\n",
    "sorted_brand = average_revenue.orderBy(col('average_revenue').desc()).limit(5).select('brand').rdd.flatMap(lambda x: x).collect()\n",
    "months = sorted(top_5_brands_per_month.select('month').distinct().rdd.flatMap(lambda x: x).collect())\n",
    "\n",
    "# Prepare data for plotting\n",
    "data = {\n",
    "    month: top_5_brands_per_month.filter(col('month') == month).select('brand', 'total_revenue').rdd.collectAsMap()\n",
    "    for month in months\n",
    "}\n",
    "\n",
    "# Plotting bar plots for top 5 brands' revenue comparison across months\n",
    "plt.figure(figsize=(12, 6))\n",
    "bar_width = 0.15\n",
    "for i, month in enumerate(months):\n",
    "    revenues = [data[month].get(brand, 0) for brand in sorted_brand]\n",
    "    plt.bar([x + i * bar_width for x in range(len(sorted_brand))], revenues, width=bar_width, label=f\"Month {month}\")\n",
    "\n",
    "plt.xlabel('Brands')\n",
    "plt.ylabel('Revenue')\n",
    "plt.title('Top 5 Brands Revenue Comparison by Month')\n",
    "plt.xticks([x + bar_width * len(months) / 2 for x in range(len(sorted_brand))], sorted_brand)\n",
    "plt.legend()\n",
    "plt.tight_layout()\n",
    "plt.show()\n",
    "\n"
   ]
  },
  {
   "cell_type": "code",
   "execution_count": 71,
   "id": "d6469961-46fa-4554-9a6d-c2d88aca146e",
   "metadata": {
    "tags": []
   },
   "outputs": [
    {
     "name": "stdout",
     "output_type": "stream",
     "text": [
      "+--------+-------------+--------------------+-------------------+\n",
      "|   month|main_category|       total_revenue|n_purchased_product|\n",
      "+--------+-------------+--------------------+-------------------+\n",
      "|February| construction|2.6972798557000166E8|             617290|\n",
      "|   March| construction| 2.061913344499983E8|             470373|\n",
      "| January| construction|1.7606172534999964E8|             420131|\n",
      "|   April| construction|1.3665167039000037E8|             395514|\n",
      "|   April|   appliances|4.2755125220000036E7|             178566|\n",
      "|   March|   appliances|       3.971439611E7|             142468|\n",
      "|February|   appliances| 3.729254854000006E7|             143396|\n",
      "| January|   appliances|3.4519439849999875E7|             114786|\n",
      "|   March|  electronics| 3.039185215999997E7|              89001|\n",
      "|February|  electronics|2.8022138590000026E7|              94561|\n",
      "|   April|  electronics|2.7770856059999984E7|              84494|\n",
      "| January|  electronics|1.7871134359999992E7|              64015|\n",
      "|February|      apparel| 1.285144313000002E7|              94136|\n",
      "|   March|      apparel|1.2279459609999998E7|              82312|\n",
      "|   April|         null|1.2183027220000006E7|              76445|\n",
      "|   April|      apparel|1.1869306760000005E7|              80845|\n",
      "|   March|         null|1.1707345359999996E7|              83065|\n",
      "|February|        sport|1.1098503559999987E7|              82010|\n",
      "| January|      apparel|   9263129.000000002|              65842|\n",
      "|   March|        sport|   8421468.340000015|              61624|\n",
      "+--------+-------------+--------------------+-------------------+\n",
      "only showing top 20 rows\n",
      "\n"
     ]
    }
   ],
   "source": [
    "# Filtering out rows with NaN in the 'main_category' column\n",
    "grouped_data_category = combined_df_extracted.filter(col('main_category').isNotNull())\n",
    "\n",
    "# Filtering rows where 'event_type' is 'purchase' and grouping by 'month', 'brand' to calculate 'revenue' and 'purchased_product'\n",
    "grouped_data_category = grouped_data_category.filter(col('event_type') == 'purchase') \\\n",
    "    .groupBy('month', 'main_category') \\\n",
    "    .agg(sum('price').alias('total_revenue'), count('event_type').alias('n_purchased_product'))\n",
    "\n",
    "grouped_data_category = grouped_data_category.withColumn('month', \n",
    "    when(col('month') == 1, 'January')\n",
    "    .when(col('month') == 2, 'February')\n",
    "    .when(col('month') == 3, 'March')\n",
    "    .when(col('month') == 4, 'April')\n",
    "    .otherwise(col('month')))\n",
    "\n",
    "# Sort the resulting DataFrame by 'total_revenue' in descending order\n",
    "grouped_data_category = grouped_data_category.orderBy(col('total_revenue').desc())\n",
    "\n",
    "# Show the resulting sorted DataFrame\n",
    "grouped_data_category.show()"
   ]
  },
  {
   "cell_type": "code",
   "execution_count": 77,
   "id": "84d7c8da-045f-4aeb-bfc9-c218dfd43630",
   "metadata": {
    "tags": []
   },
   "outputs": [
    {
     "data": {
      "image/png": "[encoded data removed]",
      "text/plain": [
       "<Figure size 1200x600 with 1 Axes>"
      ]
     },
     "metadata": {},
     "output_type": "display_data"
    }
   ],
   "source": [
    "# Calculating the average revenue for each main category\n",
    "average_revenue = grouped_data_category.groupBy('main_category').agg(avg('total_revenue').alias('average_revenue'))\n",
    "\n",
    "# Adding a rank to each main category within each month based on total revenue\n",
    "window_spec = Window.partitionBy('month').orderBy(col('total_revenue').desc())\n",
    "result_df_with_rank = grouped_data_category.withColumn('rank', row_number().over(window_spec))\n",
    "\n",
    "# Joining the ranked DataFrame with average revenue data\n",
    "top_5_main_categories_per_month = result_df_with_rank.join(average_revenue, on='main_category', how='left')\n",
    "\n",
    "# Getting the top 5 main categories sorted by average revenue in descending order\n",
    "sorted_main_categories = average_revenue.orderBy(col('average_revenue').desc()).limit(5).select('main_category').rdd.flatMap(lambda x: x).collect()\n",
    "\n",
    "# Collecting data for plotting\n",
    "months = sorted(top_5_main_categories_per_month.select('month').distinct().rdd.flatMap(lambda x: x).collect())\n",
    "\n",
    "# Prepare data for plotting for top 5 main categories\n",
    "data = {\n",
    "    month: top_5_main_categories_per_month.filter((col('month') == month) & (col('main_category').isin(sorted_main_categories)))\n",
    "                                          .select('main_category', 'total_revenue').rdd.collectAsMap()\n",
    "    for month in months\n",
    "}\n",
    "\n",
    "# Plotting bar plots for top 5 main_categories' revenue comparison across months\n",
    "plt.figure(figsize=(12, 6))\n",
    "bar_width = 0.15\n",
    "for i, month in enumerate(months):\n",
    "    revenues = [data[month].get(main_category, 0) for main_category in sorted_main_categories]\n",
    "    plt.bar([x + i * bar_width for x in range(len(sorted_main_categories))], revenues, width=bar_width, label=f\"Month {month}\")\n",
    "\n",
    "plt.xlabel('Categories')\n",
    "plt.ylabel('Revenue')\n",
    "plt.title('Top 5 Categories Revenue Comparison by Month (Sorted by Average Revenue)')\n",
    "plt.xticks([x + bar_width * len(months) / 2 for x in range(len(sorted_main_categories))], sorted_main_categories)\n",
    "plt.legend()\n",
    "plt.tight_layout()\n",
    "plt.show()\n"
   ]
  },
  {
   "cell_type": "markdown",
   "id": "3910e384-e2b7-4831-bfc9-00882433d10e",
   "metadata": {},
   "source": [
    "# SAVE THE DATA TO CSV TO BE LOADED IN THE BUCKET FOR THE NEXT STEP"
   ]
  },
  {
   "cell_type": "code",
   "execution_count": 23,
   "id": "58a2f09b-7528-40c6-bff4-2d6d810ffa78",
   "metadata": {},
   "outputs": [],
   "source": [
    "# # Assuming combined_df is your PySpark DataFrame\n",
    "\n",
    "# # Specify the output path where you want to save the CSV file\n",
    "# output_path = \"cleaned_ecommerce.csv\"\n",
    "\n",
    "# # Write the DataFrame to a CSV file\n",
    "# combined_df.write.csv(output_path, header=True, mode=\"overwrite\")\n"
   ]
  },
  {
   "cell_type": "code",
   "execution_count": 25,
   "id": "c69ebc87-05e3-44c7-8e74-5368f730fbb2",
   "metadata": {
    "tags": []
   },
   "outputs": [],
   "source": [
    "minio_bucket_new = 'deltaecommerce'\n",
    "\n",
    "# Convert combined_df (assuming it's a DataFrame) to Delta format and save it to MinIO\n",
    "# Create a Delta table from the DataFrame and overwrite if it exists\n",
    "combined_df.write.format(\"delta\").mode(\"overwrite\").save(f\"s3a://{minio_bucket_new}/combined_df\")\n"
   ]
  }
 ],
 "metadata": {
  "kernelspec": {
   "display_name": "Python 3 (ipykernel)",
   "language": "python",
   "name": "python3"
  },
  "language_info": {
   "codemirror_mode": {
    "name": "ipython",
    "version": 3
   },
   "file_extension": ".py",
   "mimetype": "text/x-python",
   "name": "python",
   "nbconvert_exporter": "python",
   "pygments_lexer": "ipython3",
   "version": "3.10.9"
  }
 },
 "nbformat": 4,
 "nbformat_minor": 5
}
